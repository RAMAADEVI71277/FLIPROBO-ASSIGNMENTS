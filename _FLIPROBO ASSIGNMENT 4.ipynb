{
 "cells": [
  {
   "cell_type": "code",
   "execution_count": 258,
   "id": "3c850a48",
   "metadata": {},
   "outputs": [],
   "source": [
    "import selenium\n",
    "from selenium import webdriver\n",
    "from selenium.webdriver.common.by import By\n",
    "from selenium.common.exceptions import  StaleElementReferenceException,NoSuchElementException,ElementNotVisibleException,ElementNotInteractableException,SessionNotCreatedException,TimeoutException,InvalidSelectorException\n",
    "from selenium.webdriver.support.ui import WebDriverWait\n",
    "from selenium.webdriver.support import expected_conditions as EC\n",
    "import time\n",
    "import pandas as pd\n",
    "import warnings\n",
    "warnings.filterwarnings('ignore')"
   ]
  },
  {
   "cell_type": "markdown",
   "id": "24139ace",
   "metadata": {},
   "source": [
    "# 6. Scrape the details of top 100 songs on billiboard.com.\n",
    "Url = https:/www.billboard.com/\n",
    "    \n",
    "You have to find the following details:\n",
    "    \n",
    "A) Song name\n",
    "\n",
    "B) Artist name\n",
    "\n",
    "C) Last week rank\n",
    "\n",
    "D) Peak rank\n",
    "\n",
    "E) Weeks on board\n",
    "\n",
    "Note: - From the home page you have to click on the charts option then hot 100-page link through code."
   ]
  },
  {
   "cell_type": "code",
   "execution_count": 2,
   "id": "4a88c3c8",
   "metadata": {},
   "outputs": [],
   "source": [
    "driver=webdriver.Chrome(r'C:\\Users\\S.Ramaa Devi\\Downloads\\chromedriver_win32 (7)\\chromedriver.exe')\n",
    "driver.get('https://www.billboard.com/')"
   ]
  },
  {
   "cell_type": "code",
   "execution_count": 4,
   "id": "d1db8036",
   "metadata": {},
   "outputs": [
    {
     "name": "stdout",
     "output_type": "stream",
     "text": [
      "EXCEPTION RAISED  Message: no such element: Unable to locate element: {\"method\":\"css selector\",\"selector\":\".o-icon-button lrv-a-unstyle-button lrv-a-unstyle-link lrv-u-cursor-pointer lrv-u-flex js-MegaMenu-Trigger lrv-u-color-grey:hover lrv-a-hover-effect\"}\n",
      "  (Session info: chrome=108.0.5359.125)\n",
      "Stacktrace:\n",
      "Backtrace:\n",
      "\t(No symbol) [0x0118F243]\n",
      "\t(No symbol) [0x01117FD1]\n",
      "\t(No symbol) [0x0100D04D]\n",
      "\t(No symbol) [0x0103C0B0]\n",
      "\t(No symbol) [0x0103C22B]\n",
      "\t(No symbol) [0x0106E612]\n",
      "\t(No symbol) [0x010585D4]\n",
      "\t(No symbol) [0x0106C9EB]\n",
      "\t(No symbol) [0x01058386]\n",
      "\t(No symbol) [0x0103163C]\n",
      "\t(No symbol) [0x0103269D]\n",
      "\tGetHandleVerifier [0x01429A22+2655074]\n",
      "\tGetHandleVerifier [0x0141CA24+2601828]\n",
      "\tGetHandleVerifier [0x01238C0A+619850]\n",
      "\tGetHandleVerifier [0x01237830+614768]\n",
      "\t(No symbol) [0x011205FC]\n",
      "\t(No symbol) [0x01125968]\n",
      "\t(No symbol) [0x01125A55]\n",
      "\t(No symbol) [0x0113051B]\n",
      "\tBaseThreadInitThunk [0x75647D69+25]\n",
      "\tRtlInitializeExceptionChain [0x7706BB9B+107]\n",
      "\tRtlClearBits [0x7706BB1F+191]\n",
      "\n"
     ]
    }
   ],
   "source": [
    "try:\n",
    "    search=driver.find_element(By.CLASS_NAME,\"o-icon-button lrv-a-unstyle-button lrv-a-unstyle-link lrv-u-cursor-pointer lrv-u-flex js-MegaMenu-Trigger lrv-u-color-grey:hover lrv-a-hover-effect\")\n",
    "    search.click()\n",
    "except NoSuchElementException as e:\n",
    "    print('EXCEPTION RAISED ' ,e)\n",
    "    search=driver.find_element(By.XPATH,'//div[@class=\"lrv-u-flex lrv-u-justify-content-start lrv-u-align-items-center lrv-u-flex-grow-1 lrv-u-flex-basis-20p lrv-u-padding-l-150\"]')\n",
    "    pass\n"
   ]
  },
  {
   "cell_type": "code",
   "execution_count": 5,
   "id": "5ea9522d",
   "metadata": {},
   "outputs": [],
   "source": [
    "try:\n",
    "    search=driver.find_element(By.CLASS_NAME,\"mega-menu-item-heading lrv-u-flex lrv-u-align-items-center lrv-u-color-white u-border-b-2@desktop lrv-u-border-color-brand-primary a-become-color-white-on-expand\")\n",
    "    search.click()\n",
    "except NoSuchElementException as e:\n",
    "    pass\n",
    "    "
   ]
  },
  {
   "cell_type": "code",
   "execution_count": 6,
   "id": "c3fa6c1d",
   "metadata": {},
   "outputs": [],
   "source": [
    "try:\n",
    "    search=driver.find_element(By.CLASS_NAME,\"lrv-u-flex lrv-u-justify-content-center\")\n",
    "    search.click()\n",
    "except NoSuchElementException as e:\n",
    "    pass"
   ]
  },
  {
   "cell_type": "code",
   "execution_count": 7,
   "id": "17be12ed",
   "metadata": {},
   "outputs": [
    {
     "name": "stdout",
     "output_type": "stream",
     "text": [
      "100\n"
     ]
    },
    {
     "data": {
      "text/plain": [
       "['All I Want For Christmas Is You\\nMariah Carey\\n1\\n1\\n57',\n",
       " \"Rockin' Around The Christmas Tree\\nBrenda Lee\\n2\\n2\\n51\",\n",
       " 'Jingle Bell Rock\\nBobby Helms\\n4\\n3\\n48',\n",
       " 'A Holly Jolly Christmas\\nBurl Ives\\n5\\n4\\n31',\n",
       " 'Last Christmas\\nWham!\\n6\\n5\\n30',\n",
       " \"It's The Most Wonderful Time Of The Year\\nAndy Williams\\n8\\n5\\n32\",\n",
       " 'Kill Bill\\nSZA\\n3\\n3\\n2',\n",
       " 'Feliz Navidad\\nJose Feliciano\\n11\\n6\\n25',\n",
       " 'Anti-Hero\\nTaylor Swift\\n7\\n1\\n9',\n",
       " 'Unholy\\nSam Smith & Kim Petras\\n9\\n1\\n13',\n",
       " 'The Christmas Song (Merry Christmas To You)\\nNat King Cole\\n15\\n11\\n37',\n",
       " 'Santa Tell Me\\nAriana Grande\\n19\\n12\\n17',\n",
       " 'Sleigh Ride\\nThe Ronettes\\n16\\n10\\n21',\n",
       " 'Underneath The Tree\\nKelly Clarkson\\n20\\n12\\n20',\n",
       " 'Christmas (Baby Please Come Home)\\nDarlene Love\\n25\\n15\\n16',\n",
       " 'Deck The Halls\\nNat King Cole\\n31\\n16\\n7',\n",
       " 'Let It Snow, Let It Snow, Let It Snow\\nDean Martin\\n22\\n8\\n24',\n",
       " 'White Christmas\\nBing Crosby\\n27\\n12\\n29',\n",
       " \"Creepin'\\nMetro Boomin, The Weeknd & 21 Savage\\n13\\n5\\n3\",\n",
       " 'Rich Flex\\nDrake & 21 Savage\\n14\\n2\\n7',\n",
       " \"It's Beginning To Look A Lot Like Christmas\\nMichael Buble\\n35\\n20\\n14\",\n",
       " 'Jingle Bells\\nFrank Sinatra\\n36\\n22\\n8',\n",
       " \"I'm Good (Blue)\\nDavid Guetta & Bebe Rexha\\n26\\n7\\n17\",\n",
       " \"It's Beginning To Look A Lot Like Christmas\\nPerry Como And The Fontane Sisters With Mitchell Ayres And His Orchestra\\n23\\n12\\n17\",\n",
       " 'Here Comes Santa Claus (Right Down Santa Claus Lane)\\nGene Autry\\n39\\n25\\n14',\n",
       " 'Die For You\\nThe Weeknd\\n33\\n12\\n21',\n",
       " 'Blue Christmas\\nElvis Presley\\n41\\n27\\n7',\n",
       " 'Rudolph The Red-Nosed Reindeer\\nGene Autry\\n47\\n16\\n21',\n",
       " 'Bad Habit\\nSteve Lacy\\n28\\n1\\n25',\n",
       " 'Little Saint Nick\\nThe Beach Boys\\n-\\n30\\n3',\n",
       " \"You're A Mean One, Mr. Grinch\\nThurl Ravenscroft\\n-\\n31\\n6\",\n",
       " 'Wonderful Christmastime\\nPaul McCartney\\n-\\n28\\n7',\n",
       " \"Santa Claus Is Comin' To Town\\nJackson 5\\n48\\n33\\n5\",\n",
       " 'Run Rudolph Run\\nChuck Berry\\n46\\n10\\n16',\n",
       " 'As It Was\\nHarry Styles\\n38\\n1\\n38',\n",
       " 'Shirt\\nSZA\\n18\\n11\\n8',\n",
       " 'Under The Influence\\nChris Brown\\n45\\n14\\n15',\n",
       " 'Happy Xmas (War Is Over)\\nJohn & Yoko/The Plastic Ono Band With The Harlem Community Choir\\n-\\n38\\n3',\n",
       " 'Cuff It\\nBeyonce\\n42\\n13\\n19',\n",
       " 'Happy Holiday / The Holiday Season\\nAndy Williams\\n-\\n18\\n14',\n",
       " 'Superhero (Heroes & Villains)\\nMetro Boomin, Future & Chris Brown\\n34\\n8\\n3',\n",
       " 'Merry Christmas\\nEd Sheeran & Elton John\\n-\\n42\\n5',\n",
       " 'Nobody Gets Me\\nSZA\\n10\\n10\\n2',\n",
       " 'Please Come Home For Christmas\\nEagles\\n-\\n18\\n11',\n",
       " 'Santa Baby\\nEartha Kitt With Henri Rene And His Orchestra\\n-\\n35\\n4',\n",
       " 'You Proof\\nMorgan Wallen\\n49\\n5\\n32',\n",
       " 'This Christmas\\nDonny Hathaway\\n-\\n39\\n2',\n",
       " 'Blind\\nSZA\\n12\\n12\\n2',\n",
       " 'Linus And Lucy (Peanuts Theme)\\nVince Guaraldi Trio\\n-\\n37\\n2',\n",
       " 'Something In The Orange\\nZach Bryan\\n53\\n12\\n35',\n",
       " 'Made You Look\\nMeghan Trainor\\n50\\n24\\n9',\n",
       " 'Low\\nSZA\\n17\\n17\\n2',\n",
       " 'Super Freaky Girl\\nNicki Minaj\\n56\\n1\\n19',\n",
       " 'Golden Hour\\nJVKE\\n59\\n35\\n17',\n",
       " 'Just Wanna Rock\\nLil Uzi Vert\\n60\\n21\\n10',\n",
       " 'Tomorrow 2\\nGloRilla & Cardi B\\n57\\n9\\n13',\n",
       " 'Lift Me Up\\nRihanna\\n51\\n2\\n8',\n",
       " 'Love Language\\nSZA\\n21\\n21\\n2',\n",
       " 'Someday At Christmas\\nLizzo\\n73\\n59\\n4',\n",
       " 'Thank God\\nKane Brown With Katelyn Brown\\n63\\n22\\n15',\n",
       " 'Snooze\\nSZA\\n29\\n29\\n2',\n",
       " 'Until I Found You\\nStephen Sanchez\\n64\\n38\\n25',\n",
       " 'Seek & Destroy\\nSZA\\n24\\n24\\n2',\n",
       " 'Rock And A Hard Place\\nBailey Zimmerman\\n66\\n24\\n28',\n",
       " 'What My World Spins Around\\nJordan Davis\\n69\\n41\\n19',\n",
       " \"Victoria's Secret\\nJax\\n67\\n35\\n21\",\n",
       " 'Lavender Haze\\nTaylor Swift\\n65\\n2\\n9',\n",
       " 'Son Of A Sinner\\nJelly Roll\\n70\\n31\\n25',\n",
       " 'Wait In The Truck\\nHARDY Featuring Lainey Wilson\\n72\\n51\\n16',\n",
       " 'Used\\nSZA Featuring Don Toliver\\n30\\n30\\n2',\n",
       " 'Special\\nSZA\\n37\\n37\\n2',\n",
       " 'Escapism\\nRAYE Featuring 070 Shake\\n79\\n72\\n3',\n",
       " 'Going, Going, Gone\\nLuke Combs\\n88\\n73\\n6',\n",
       " 'Heart Like A Truck\\nLainey Wilson\\n82\\n74\\n6',\n",
       " 'Ghost In The Machine\\nSZA Featuring Phoebe Bridgers\\n40\\n40\\n2',\n",
       " 'Blue Christmas\\nKane Brown\\n84\\n76\\n3',\n",
       " \"Star Walkin' (League Of Legends Worlds Anthem)\\nLil Nas X\\n75\\n32\\n13\",\n",
       " \"Santa, Can't You Hear Me\\nKelly Clarkson & Ariana Grande\\n92\\n78\\n3\",\n",
       " 'SOS\\nSZA\\n32\\n32\\n2',\n",
       " 'Whiskey On You\\nNate Smith\\n80\\n44\\n27',\n",
       " 'Last Christmas\\nLauren Spencer-Smith\\n94\\n81\\n4',\n",
       " 'Gone Girl\\nSZA\\n43\\n43\\n2',\n",
       " 'Calm Down\\nRema & Selena Gomez\\n83\\n74\\n16',\n",
       " 'Too Many Nights\\nMetro Boomin Featuring Don Toliver & Future\\n68\\n22\\n3',\n",
       " 'Notice Me\\nSZA\\n44\\n44\\n2',\n",
       " 'Open Arms\\nSZA Featuring Travis Scott\\n54\\n54\\n2',\n",
       " 'Spin Bout U\\nDrake & 21 Savage\\n78\\n5\\n7',\n",
       " 'Smoking On My Ex Pack\\nSZA\\n52\\n52\\n2',\n",
       " 'Niagara Falls (Foot Or 2)\\nMetro Boomin, Travis Scott & 21 Savage\\n71\\n27\\n3',\n",
       " 'Circo Loco\\nDrake & 21 Savage\\n87\\n8\\n7',\n",
       " 'F2F\\nSZA\\n55\\n55\\n2',\n",
       " 'Face 2 Face\\nJuice WRLD\\n-\\n92\\n1',\n",
       " 'Kid On Christmas\\nPentatonix Featuring Meghan Trainor\\n-\\n93\\n1',\n",
       " 'Romantic Homicide\\nd4vd\\n86\\n33\\n16',\n",
       " 'Conceited\\nSZA\\n58\\n58\\n2',\n",
       " 'Down Home\\nJimmie Allen\\n-\\n88\\n5',\n",
       " 'One Thing At A Time\\nMorgan Wallen\\n81\\n37\\n3',\n",
       " 'Hold Me Closer\\nElton John & Britney Spears\\n89\\n6\\n17',\n",
       " 'Far\\nSZA\\n61\\n61\\n2',\n",
       " 'All Mine\\nBrent Faiyaz\\n95\\n42\\n20']"
      ]
     },
     "execution_count": 7,
     "metadata": {},
     "output_type": "execute_result"
    }
   ],
   "source": [
    "title=[]\n",
    "t_tag=driver.find_elements(By.XPATH,'//ul[@class=\"lrv-a-unstyle-list lrv-u-flex lrv-u-height-100p lrv-u-flex-direction-column@mobile-max\"]')\n",
    "for i in t_tag:\n",
    "    title.append(i.text)\n",
    "    \n",
    "print(len(title))   \n",
    "title"
   ]
  },
  {
   "cell_type": "code",
   "execution_count": 8,
   "id": "75319cb7",
   "metadata": {},
   "outputs": [
    {
     "data": {
      "text/plain": [
       "200"
      ]
     },
     "execution_count": 8,
     "metadata": {},
     "output_type": "execute_result"
    }
   ],
   "source": [
    "l_week_rank=[]\n",
    "l_tag=driver.find_elements(By.XPATH,'//li[@class=\"o-chart-results-list__item // a-chart-color u-width-72 u-width-55@mobile-max u-width-55@tablet-only lrv-u-flex lrv-u-flex-shrink-0 lrv-u-align-items-center lrv-u-justify-content-center lrv-u-border-b-1 u-border-b-0@mobile-max lrv-u-border-color-grey-light u-background-color-white-064@mobile-max lrv-u-flex-grow-1\"]')\n",
    "for i in l_tag:\n",
    "    l_week_rank.append(i.text)\n",
    "    \n",
    "len(l_week_rank)    "
   ]
  },
  {
   "cell_type": "code",
   "execution_count": 9,
   "id": "d3097f88",
   "metadata": {},
   "outputs": [],
   "source": [
    "l_week_rank=l_week_rank[0:100:1]"
   ]
  },
  {
   "cell_type": "code",
   "execution_count": 10,
   "id": "e4f0dbb0",
   "metadata": {},
   "outputs": [
    {
     "data": {
      "text/plain": [
       "100"
      ]
     },
     "execution_count": 10,
     "metadata": {},
     "output_type": "execute_result"
    }
   ],
   "source": [
    "len(l_week_rank)"
   ]
  },
  {
   "cell_type": "code",
   "execution_count": 11,
   "id": "cae58453",
   "metadata": {},
   "outputs": [
    {
     "data": {
      "text/plain": [
       "100"
      ]
     },
     "execution_count": 11,
     "metadata": {},
     "output_type": "execute_result"
    }
   ],
   "source": [
    "peak_rank=[]\n",
    "p_tag=driver.find_elements(By.XPATH,'//li[@class=\"o-chart-results-list__item // a-chart-bg-color a-chart-color u-width-72 u-width-55@mobile-max u-width-55@tablet-only lrv-u-flex lrv-u-flex-shrink-0 lrv-u-align-items-center lrv-u-justify-content-center lrv-u-background-color-grey-lightest lrv-u-border-b-1 u-border-b-0@mobile-max lrv-u-border-color-grey-light lrv-u-flex-grow-1\"]')\n",
    "for i in p_tag[1:101:1]:\n",
    "    peak_rank.append(i.text)\n",
    "    \n",
    "len(peak_rank)    "
   ]
  },
  {
   "cell_type": "code",
   "execution_count": 12,
   "id": "cb739acf",
   "metadata": {},
   "outputs": [
    {
     "data": {
      "text/plain": [
       "100"
      ]
     },
     "execution_count": 12,
     "metadata": {},
     "output_type": "execute_result"
    }
   ],
   "source": [
    "weeks=[]\n",
    "w_tag=driver.find_elements(By.XPATH,'//li[@class=\"o-chart-results-list__item // a-chart-color u-width-72 u-width-55@mobile-max u-width-55@tablet-only lrv-u-flex lrv-u-flex-shrink-0 lrv-u-align-items-center lrv-u-justify-content-center lrv-u-border-b-1 u-border-b-0@mobile-max lrv-u-border-color-grey-light u-background-color-white-064@mobile-max lrv-u-flex-grow-1\"]')\n",
    "for i in w_tag[1:101:1]:\n",
    "    weeks.append(i.text)\n",
    "    \n",
    "len(weeks)    "
   ]
  },
  {
   "cell_type": "code",
   "execution_count": 13,
   "id": "aee52893",
   "metadata": {},
   "outputs": [
    {
     "data": {
      "text/html": [
       "<div>\n",
       "<style scoped>\n",
       "    .dataframe tbody tr th:only-of-type {\n",
       "        vertical-align: middle;\n",
       "    }\n",
       "\n",
       "    .dataframe tbody tr th {\n",
       "        vertical-align: top;\n",
       "    }\n",
       "\n",
       "    .dataframe thead th {\n",
       "        text-align: right;\n",
       "    }\n",
       "</style>\n",
       "<table border=\"1\" class=\"dataframe\">\n",
       "  <thead>\n",
       "    <tr style=\"text-align: right;\">\n",
       "      <th></th>\n",
       "      <th>SONG TITLE WITH ARTIST</th>\n",
       "      <th>LAST_WEEK_RANK</th>\n",
       "      <th>PEAK RANK</th>\n",
       "      <th>WEEKS ON BOARD</th>\n",
       "    </tr>\n",
       "  </thead>\n",
       "  <tbody>\n",
       "    <tr>\n",
       "      <th>1</th>\n",
       "      <td>All I Want For Christmas Is You\\nMariah Carey\\...</td>\n",
       "      <td>1</td>\n",
       "      <td>1</td>\n",
       "      <td>57</td>\n",
       "    </tr>\n",
       "    <tr>\n",
       "      <th>2</th>\n",
       "      <td>Rockin' Around The Christmas Tree\\nBrenda Lee\\...</td>\n",
       "      <td>57</td>\n",
       "      <td></td>\n",
       "      <td>2</td>\n",
       "    </tr>\n",
       "    <tr>\n",
       "      <th>3</th>\n",
       "      <td>Jingle Bell Rock\\nBobby Helms\\n4\\n3\\n48</td>\n",
       "      <td>2</td>\n",
       "      <td>2</td>\n",
       "      <td>51</td>\n",
       "    </tr>\n",
       "    <tr>\n",
       "      <th>4</th>\n",
       "      <td>A Holly Jolly Christmas\\nBurl Ives\\n5\\n4\\n31</td>\n",
       "      <td>51</td>\n",
       "      <td></td>\n",
       "      <td>4</td>\n",
       "    </tr>\n",
       "    <tr>\n",
       "      <th>5</th>\n",
       "      <td>Last Christmas\\nWham!\\n6\\n5\\n30</td>\n",
       "      <td>4</td>\n",
       "      <td>3</td>\n",
       "      <td>48</td>\n",
       "    </tr>\n",
       "    <tr>\n",
       "      <th>...</th>\n",
       "      <td>...</td>\n",
       "      <td>...</td>\n",
       "      <td>...</td>\n",
       "      <td>...</td>\n",
       "    </tr>\n",
       "    <tr>\n",
       "      <th>96</th>\n",
       "      <td>Down Home\\nJimmie Allen\\n-\\n88\\n5</td>\n",
       "      <td>2</td>\n",
       "      <td></td>\n",
       "      <td>-</td>\n",
       "    </tr>\n",
       "    <tr>\n",
       "      <th>97</th>\n",
       "      <td>One Thing At A Time\\nMorgan Wallen\\n81\\n37\\n3</td>\n",
       "      <td>-</td>\n",
       "      <td>37</td>\n",
       "      <td>2</td>\n",
       "    </tr>\n",
       "    <tr>\n",
       "      <th>98</th>\n",
       "      <td>Hold Me Closer\\nElton John &amp; Britney Spears\\n8...</td>\n",
       "      <td>2</td>\n",
       "      <td></td>\n",
       "      <td>53</td>\n",
       "    </tr>\n",
       "    <tr>\n",
       "      <th>99</th>\n",
       "      <td>Far\\nSZA\\n61\\n61\\n2</td>\n",
       "      <td>53</td>\n",
       "      <td>12</td>\n",
       "      <td>35</td>\n",
       "    </tr>\n",
       "    <tr>\n",
       "      <th>100</th>\n",
       "      <td>All Mine\\nBrent Faiyaz\\n95\\n42\\n20</td>\n",
       "      <td>35</td>\n",
       "      <td></td>\n",
       "      <td>50</td>\n",
       "    </tr>\n",
       "  </tbody>\n",
       "</table>\n",
       "<p>100 rows × 4 columns</p>\n",
       "</div>"
      ],
      "text/plain": [
       "                                SONG TITLE WITH ARTIST LAST_WEEK_RANK  \\\n",
       "1    All I Want For Christmas Is You\\nMariah Carey\\...              1   \n",
       "2    Rockin' Around The Christmas Tree\\nBrenda Lee\\...             57   \n",
       "3              Jingle Bell Rock\\nBobby Helms\\n4\\n3\\n48              2   \n",
       "4         A Holly Jolly Christmas\\nBurl Ives\\n5\\n4\\n31             51   \n",
       "5                      Last Christmas\\nWham!\\n6\\n5\\n30              4   \n",
       "..                                                 ...            ...   \n",
       "96                   Down Home\\nJimmie Allen\\n-\\n88\\n5              2   \n",
       "97       One Thing At A Time\\nMorgan Wallen\\n81\\n37\\n3              -   \n",
       "98   Hold Me Closer\\nElton John & Britney Spears\\n8...              2   \n",
       "99                                 Far\\nSZA\\n61\\n61\\n2             53   \n",
       "100                 All Mine\\nBrent Faiyaz\\n95\\n42\\n20             35   \n",
       "\n",
       "    PEAK RANK WEEKS ON BOARD  \n",
       "1           1             57  \n",
       "2                          2  \n",
       "3           2             51  \n",
       "4                          4  \n",
       "5           3             48  \n",
       "..        ...            ...  \n",
       "96                         -  \n",
       "97         37              2  \n",
       "98                        53  \n",
       "99         12             35  \n",
       "100                       50  \n",
       "\n",
       "[100 rows x 4 columns]"
      ]
     },
     "execution_count": 13,
     "metadata": {},
     "output_type": "execute_result"
    }
   ],
   "source": [
    "df=pd.DataFrame(data={'SONG TITLE WITH ARTIST':title,'LAST_WEEK_RANK':l_week_rank,'PEAK RANK':peak_rank,'WEEKS ON BOARD':weeks},index=range(1,101))\n",
    "df"
   ]
  },
  {
   "cell_type": "code",
   "execution_count": 14,
   "id": "0182b20d",
   "metadata": {},
   "outputs": [],
   "source": [
    "df.to_csv('Top100_songs_on_Billboard.csv')"
   ]
  },
  {
   "cell_type": "code",
   "execution_count": 15,
   "id": "5826c330",
   "metadata": {},
   "outputs": [
    {
     "data": {
      "text/html": [
       "<div>\n",
       "<style scoped>\n",
       "    .dataframe tbody tr th:only-of-type {\n",
       "        vertical-align: middle;\n",
       "    }\n",
       "\n",
       "    .dataframe tbody tr th {\n",
       "        vertical-align: top;\n",
       "    }\n",
       "\n",
       "    .dataframe thead th {\n",
       "        text-align: right;\n",
       "    }\n",
       "</style>\n",
       "<table border=\"1\" class=\"dataframe\">\n",
       "  <thead>\n",
       "    <tr style=\"text-align: right;\">\n",
       "      <th></th>\n",
       "      <th>Unnamed: 0</th>\n",
       "      <th>SONG TITLE WITH ARTIST</th>\n",
       "      <th>LAST_WEEK_RANK</th>\n",
       "      <th>PEAK RANK</th>\n",
       "      <th>WEEKS ON BOARD</th>\n",
       "    </tr>\n",
       "  </thead>\n",
       "  <tbody>\n",
       "    <tr>\n",
       "      <th>0</th>\n",
       "      <td>1</td>\n",
       "      <td>All I Want For Christmas Is You\\nMariah Carey\\...</td>\n",
       "      <td>1</td>\n",
       "      <td>1.0</td>\n",
       "      <td>57</td>\n",
       "    </tr>\n",
       "    <tr>\n",
       "      <th>1</th>\n",
       "      <td>2</td>\n",
       "      <td>Rockin' Around The Christmas Tree\\nBrenda Lee\\...</td>\n",
       "      <td>57</td>\n",
       "      <td>NaN</td>\n",
       "      <td>2</td>\n",
       "    </tr>\n",
       "    <tr>\n",
       "      <th>2</th>\n",
       "      <td>3</td>\n",
       "      <td>Jingle Bell Rock\\nBobby Helms\\n4\\n3\\n48</td>\n",
       "      <td>2</td>\n",
       "      <td>2.0</td>\n",
       "      <td>51</td>\n",
       "    </tr>\n",
       "    <tr>\n",
       "      <th>3</th>\n",
       "      <td>4</td>\n",
       "      <td>A Holly Jolly Christmas\\nBurl Ives\\n5\\n4\\n31</td>\n",
       "      <td>51</td>\n",
       "      <td>NaN</td>\n",
       "      <td>4</td>\n",
       "    </tr>\n",
       "    <tr>\n",
       "      <th>4</th>\n",
       "      <td>5</td>\n",
       "      <td>Last Christmas\\nWham!\\n6\\n5\\n30</td>\n",
       "      <td>4</td>\n",
       "      <td>3.0</td>\n",
       "      <td>48</td>\n",
       "    </tr>\n",
       "    <tr>\n",
       "      <th>...</th>\n",
       "      <td>...</td>\n",
       "      <td>...</td>\n",
       "      <td>...</td>\n",
       "      <td>...</td>\n",
       "      <td>...</td>\n",
       "    </tr>\n",
       "    <tr>\n",
       "      <th>95</th>\n",
       "      <td>96</td>\n",
       "      <td>Down Home\\nJimmie Allen\\n-\\n88\\n5</td>\n",
       "      <td>2</td>\n",
       "      <td>NaN</td>\n",
       "      <td>-</td>\n",
       "    </tr>\n",
       "    <tr>\n",
       "      <th>96</th>\n",
       "      <td>97</td>\n",
       "      <td>One Thing At A Time\\nMorgan Wallen\\n81\\n37\\n3</td>\n",
       "      <td>-</td>\n",
       "      <td>37.0</td>\n",
       "      <td>2</td>\n",
       "    </tr>\n",
       "    <tr>\n",
       "      <th>97</th>\n",
       "      <td>98</td>\n",
       "      <td>Hold Me Closer\\nElton John &amp; Britney Spears\\n8...</td>\n",
       "      <td>2</td>\n",
       "      <td>NaN</td>\n",
       "      <td>53</td>\n",
       "    </tr>\n",
       "    <tr>\n",
       "      <th>98</th>\n",
       "      <td>99</td>\n",
       "      <td>Far\\nSZA\\n61\\n61\\n2</td>\n",
       "      <td>53</td>\n",
       "      <td>12.0</td>\n",
       "      <td>35</td>\n",
       "    </tr>\n",
       "    <tr>\n",
       "      <th>99</th>\n",
       "      <td>100</td>\n",
       "      <td>All Mine\\nBrent Faiyaz\\n95\\n42\\n20</td>\n",
       "      <td>35</td>\n",
       "      <td>NaN</td>\n",
       "      <td>50</td>\n",
       "    </tr>\n",
       "  </tbody>\n",
       "</table>\n",
       "<p>100 rows × 5 columns</p>\n",
       "</div>"
      ],
      "text/plain": [
       "    Unnamed: 0                             SONG TITLE WITH ARTIST  \\\n",
       "0            1  All I Want For Christmas Is You\\nMariah Carey\\...   \n",
       "1            2  Rockin' Around The Christmas Tree\\nBrenda Lee\\...   \n",
       "2            3            Jingle Bell Rock\\nBobby Helms\\n4\\n3\\n48   \n",
       "3            4       A Holly Jolly Christmas\\nBurl Ives\\n5\\n4\\n31   \n",
       "4            5                    Last Christmas\\nWham!\\n6\\n5\\n30   \n",
       "..         ...                                                ...   \n",
       "95          96                  Down Home\\nJimmie Allen\\n-\\n88\\n5   \n",
       "96          97      One Thing At A Time\\nMorgan Wallen\\n81\\n37\\n3   \n",
       "97          98  Hold Me Closer\\nElton John & Britney Spears\\n8...   \n",
       "98          99                                Far\\nSZA\\n61\\n61\\n2   \n",
       "99         100                 All Mine\\nBrent Faiyaz\\n95\\n42\\n20   \n",
       "\n",
       "   LAST_WEEK_RANK  PEAK RANK WEEKS ON BOARD  \n",
       "0               1        1.0             57  \n",
       "1              57        NaN              2  \n",
       "2               2        2.0             51  \n",
       "3              51        NaN              4  \n",
       "4               4        3.0             48  \n",
       "..            ...        ...            ...  \n",
       "95              2        NaN              -  \n",
       "96              -       37.0              2  \n",
       "97              2        NaN             53  \n",
       "98             53       12.0             35  \n",
       "99             35        NaN             50  \n",
       "\n",
       "[100 rows x 5 columns]"
      ]
     },
     "execution_count": 15,
     "metadata": {},
     "output_type": "execute_result"
    }
   ],
   "source": [
    "newbb=pd.read_csv('Top100_songs_on_Billboard.csv')\n",
    "newbb"
   ]
  },
  {
   "cell_type": "code",
   "execution_count": 16,
   "id": "477c0f3b",
   "metadata": {},
   "outputs": [],
   "source": [
    "driver.close()"
   ]
  },
  {
   "cell_type": "markdown",
   "id": "21537628",
   "metadata": {},
   "source": [
    "# 7. Scrape the details of Data science recruiters from naukri.com.\n",
    "Url = https://www.naukri.com/\n",
    "    \n",
    "You have to find the following details:\n",
    "    \n",
    "A) Name\n",
    "\n",
    "B) Designation\n",
    "\n",
    "C) Company\n",
    "\n",
    "D) Skills they hire for\n",
    "\n",
    "E) Location\n",
    "\n",
    "Note: - From naukri.com homepage click on the recruiters option and the on the search pane type Data science and click on search. All this should be done through code"
   ]
  },
  {
   "cell_type": "code",
   "execution_count": 17,
   "id": "b2c44cbb",
   "metadata": {},
   "outputs": [],
   "source": [
    "driver=webdriver.Chrome(r'C:\\Users\\S.Ramaa Devi\\Downloads\\chromedriver_win32 (7)\\chromedriver.exe')\n",
    "driver.get('https://www.naukri.com/hr-recruiters-consultants')"
   ]
  },
  {
   "cell_type": "code",
   "execution_count": 18,
   "id": "ec33a9cb",
   "metadata": {},
   "outputs": [],
   "source": [
    "designations=driver.find_element(By.CLASS_NAME,\"sugInp\")\n",
    "designations.send_keys('Data Science')"
   ]
  },
  {
   "cell_type": "code",
   "execution_count": 19,
   "id": "f14c9290",
   "metadata": {},
   "outputs": [],
   "source": [
    "location=driver.find_element(By.XPATH,'//input[@class=\"sugInp w135\"]')\n",
    "location.send_keys('Chennai')"
   ]
  },
  {
   "cell_type": "code",
   "execution_count": 20,
   "id": "ae800587",
   "metadata": {},
   "outputs": [],
   "source": [
    "search=driver.find_element(By.XPATH,'//button[@class=\"fl qsbSrch blueBtn\"]')\n",
    "search.click()"
   ]
  },
  {
   "cell_type": "code",
   "execution_count": 21,
   "id": "8f26ec89",
   "metadata": {},
   "outputs": [
    {
     "data": {
      "text/plain": [
       "50"
      ]
     },
     "execution_count": 21,
     "metadata": {},
     "output_type": "execute_result"
    }
   ],
   "source": [
    "name=[]\n",
    "name_tag=driver.find_elements(By.XPATH,'//span[@class=\"fl ellipsis\"]')\n",
    "for i in name_tag:\n",
    "    name.append(i.text)\n",
    "    \n",
    "len(name)    "
   ]
  },
  {
   "cell_type": "code",
   "execution_count": 22,
   "id": "a5b5a72b",
   "metadata": {},
   "outputs": [
    {
     "data": {
      "text/plain": [
       "50"
      ]
     },
     "execution_count": 22,
     "metadata": {},
     "output_type": "execute_result"
    }
   ],
   "source": [
    "desi=[]\n",
    "d_tag=driver.find_elements(By.XPATH,'//span[@class=\"ellipsis clr\"]')\n",
    "for i in d_tag:\n",
    "    desi.append(i.text)\n",
    "    \n",
    "len(desi)    "
   ]
  },
  {
   "cell_type": "code",
   "execution_count": 23,
   "id": "7f1f4596",
   "metadata": {},
   "outputs": [
    {
     "data": {
      "text/plain": [
       "50"
      ]
     },
     "execution_count": 23,
     "metadata": {},
     "output_type": "execute_result"
    }
   ],
   "source": [
    "company=[]\n",
    "c_tag=driver.find_elements(By.XPATH,'//a[@class=\"ellipsis\"]')\n",
    "for i in c_tag[1:102:2]:\n",
    "    company.append(i.text)\n",
    "    \n",
    "len(company)    "
   ]
  },
  {
   "cell_type": "code",
   "execution_count": 24,
   "id": "75507c39",
   "metadata": {},
   "outputs": [
    {
     "data": {
      "text/plain": [
       "50"
      ]
     },
     "execution_count": 24,
     "metadata": {},
     "output_type": "execute_result"
    }
   ],
   "source": [
    "skills=[]\n",
    "s_tag=driver.find_elements(By.XPATH,'//div[@class=\"hireSec highlightable\"]')\n",
    "for i in s_tag:\n",
    "    skills.append(i.text)\n",
    "    \n",
    "len(skills)    "
   ]
  },
  {
   "cell_type": "code",
   "execution_count": 25,
   "id": "ab5e8be9",
   "metadata": {},
   "outputs": [
    {
     "data": {
      "text/plain": [
       "50"
      ]
     },
     "execution_count": 25,
     "metadata": {},
     "output_type": "execute_result"
    }
   ],
   "source": [
    "loc=[]\n",
    "l_tag=driver.find_elements(By.XPATH,'//small[@class=\"ellipsis\"]')\n",
    "for i in l_tag:\n",
    "    loc.append(i.text)\n",
    "    \n",
    "len(loc)    "
   ]
  },
  {
   "cell_type": "code",
   "execution_count": 26,
   "id": "4c57da64",
   "metadata": {
    "scrolled": true
   },
   "outputs": [
    {
     "data": {
      "text/html": [
       "<div>\n",
       "<style scoped>\n",
       "    .dataframe tbody tr th:only-of-type {\n",
       "        vertical-align: middle;\n",
       "    }\n",
       "\n",
       "    .dataframe tbody tr th {\n",
       "        vertical-align: top;\n",
       "    }\n",
       "\n",
       "    .dataframe thead th {\n",
       "        text-align: right;\n",
       "    }\n",
       "</style>\n",
       "<table border=\"1\" class=\"dataframe\">\n",
       "  <thead>\n",
       "    <tr style=\"text-align: right;\">\n",
       "      <th></th>\n",
       "      <th>NAME</th>\n",
       "      <th>DESIGNATION</th>\n",
       "      <th>COMPANY NAME</th>\n",
       "      <th>SKILLS POSSESSED</th>\n",
       "      <th>LOCATION</th>\n",
       "    </tr>\n",
       "  </thead>\n",
       "  <tbody>\n",
       "    <tr>\n",
       "      <th>1</th>\n",
       "      <td>Institute for Financial Management and Resear</td>\n",
       "      <td>Programme Manager</td>\n",
       "      <td>IFMR</td>\n",
       "      <td>Data Science</td>\n",
       "      <td>Chennai</td>\n",
       "    </tr>\n",
       "    <tr>\n",
       "      <th>2</th>\n",
       "      <td>Nisanth Vidyadharan</td>\n",
       "      <td>Company Recruiter</td>\n",
       "      <td>WHIRLDATA LABS PRIVATE LIMITED</td>\n",
       "      <td>Data Science, Machine Learning, Deep Learning,...</td>\n",
       "      <td>Chennai</td>\n",
       "    </tr>\n",
       "    <tr>\n",
       "      <th>3</th>\n",
       "      <td>Kanan</td>\n",
       "      <td>senior technology instructor</td>\n",
       "      <td>NY INST</td>\n",
       "      <td>C, C++, Artificial Intelligence, Python, Php, ...</td>\n",
       "      <td>Chennai</td>\n",
       "    </tr>\n",
       "    <tr>\n",
       "      <th>4</th>\n",
       "      <td>INFOSMART SOLUTIONS</td>\n",
       "      <td>Company Recruiter</td>\n",
       "      <td>INFOSMART SOLUTIONS</td>\n",
       "      <td>R, Ms Sql Server, Asp.net, Bi</td>\n",
       "      <td>Chennai</td>\n",
       "    </tr>\n",
       "    <tr>\n",
       "      <th>5</th>\n",
       "      <td>Dr. S. Prasanna Devi</td>\n",
       "      <td>Professor and Head</td>\n",
       "      <td>SRM Institute of Science and Technology</td>\n",
       "      <td>Computer Science, Machine Learning, Deep Learn...</td>\n",
       "      <td>Chennai</td>\n",
       "    </tr>\n",
       "    <tr>\n",
       "      <th>6</th>\n",
       "      <td>Riyaz Mohamed</td>\n",
       "      <td>Company Recruiter</td>\n",
       "      <td>Conde Nast India</td>\n",
       "      <td>Not Specified</td>\n",
       "      <td>Chennai</td>\n",
       "    </tr>\n",
       "    <tr>\n",
       "      <th>7</th>\n",
       "      <td>Macherla Suresh Kumar</td>\n",
       "      <td>Chief Executive Officer</td>\n",
       "      <td>Sree Brinda Consultancy Services</td>\n",
       "      <td>MNC, CMM Level Companies in India</td>\n",
       "      <td>Chennai</td>\n",
       "    </tr>\n",
       "    <tr>\n",
       "      <th>8</th>\n",
       "      <td>Ruban</td>\n",
       "      <td>Company Recruiter</td>\n",
       "      <td>Pathfinder Enterprise Solutions Pvt Ltd</td>\n",
       "      <td>Asp.net Mvc, System Administration, Process Ma...</td>\n",
       "      <td>Chennai</td>\n",
       "    </tr>\n",
       "    <tr>\n",
       "      <th>9</th>\n",
       "      <td>Sathya</td>\n",
       "      <td>Director</td>\n",
       "      <td>Digital AI</td>\n",
       "      <td>Ai, Data Science, Machine Learning, Deep Learning</td>\n",
       "      <td>Chennai</td>\n",
       "    </tr>\n",
       "    <tr>\n",
       "      <th>10</th>\n",
       "      <td>Ayshwarya</td>\n",
       "      <td>Company Recruiter</td>\n",
       "      <td>YuMe India Private Limited.</td>\n",
       "      <td>Not Specified</td>\n",
       "      <td>Chennai</td>\n",
       "    </tr>\n",
       "    <tr>\n",
       "      <th>11</th>\n",
       "      <td>Senior Recruiter</td>\n",
       "      <td>Senior Recruiter</td>\n",
       "      <td>Asirvad Microfinance Private Ltd</td>\n",
       "      <td>Leadership Hiring, Delivery Leadership, Busine...</td>\n",
       "      <td>Chennai</td>\n",
       "    </tr>\n",
       "    <tr>\n",
       "      <th>12</th>\n",
       "      <td>Saloni Kalpesh Dagly</td>\n",
       "      <td>Company Recruiter</td>\n",
       "      <td>Matrimony.com Limited</td>\n",
       "      <td>Not Specified</td>\n",
       "      <td>Chennai</td>\n",
       "    </tr>\n",
       "    <tr>\n",
       "      <th>13</th>\n",
       "      <td>Kogila</td>\n",
       "      <td>Manager</td>\n",
       "      <td>Radiant Technology and Consultancy</td>\n",
       "      <td>Technical Support, sales, Career Counselling, ...</td>\n",
       "      <td>Chennai</td>\n",
       "    </tr>\n",
       "    <tr>\n",
       "      <th>14</th>\n",
       "      <td>Umamaheswari</td>\n",
       "      <td>Company HR</td>\n",
       "      <td>ADF Data Science Private Limited</td>\n",
       "      <td>Not Specified</td>\n",
       "      <td>Chennai</td>\n",
       "    </tr>\n",
       "    <tr>\n",
       "      <th>15</th>\n",
       "      <td>Srinivasan Alagurajan</td>\n",
       "      <td>Manager</td>\n",
       "      <td>Roni Analytics</td>\n",
       "      <td>Data Science, Data Engineering, Analytics, New...</td>\n",
       "      <td>Chennai</td>\n",
       "    </tr>\n",
       "    <tr>\n",
       "      <th>16</th>\n",
       "      <td>D Divakar</td>\n",
       "      <td>HR Manager</td>\n",
       "      <td>WHIRLDATA LABS PRIVATE LIMITED</td>\n",
       "      <td>angular, Data Science, react, flask, mysql, po...</td>\n",
       "      <td>Chennai</td>\n",
       "    </tr>\n",
       "    <tr>\n",
       "      <th>17</th>\n",
       "      <td>Sridhar</td>\n",
       "      <td>Head Recruitments</td>\n",
       "      <td>Capperson Manpower Resources</td>\n",
       "      <td>manufacturing, finance, accounts, Business Dev...</td>\n",
       "      <td>Chennai</td>\n",
       "    </tr>\n",
       "    <tr>\n",
       "      <th>18</th>\n",
       "      <td>Balaji Prabhakaran</td>\n",
       "      <td>Company Recruiter</td>\n",
       "      <td>Oportun</td>\n",
       "      <td>Technical Solution Architect, Data Scientist, ...</td>\n",
       "      <td>Chennai</td>\n",
       "    </tr>\n",
       "    <tr>\n",
       "      <th>19</th>\n",
       "      <td>Sonia Gupta</td>\n",
       "      <td>Recruitment Ninja</td>\n",
       "      <td>HyringNinja</td>\n",
       "      <td>marketing, Pharma Marketing, Surgical Sales, s...</td>\n",
       "      <td>Chennai</td>\n",
       "    </tr>\n",
       "    <tr>\n",
       "      <th>20</th>\n",
       "      <td>Laksh Barla</td>\n",
       "      <td>HR Executive</td>\n",
       "      <td>SYSVINE TECHNOLOGIES PRIVATE LIMITED</td>\n",
       "      <td>Devops, Ruby Rails, Java, Spring, Net, Angular...</td>\n",
       "      <td>Chennai</td>\n",
       "    </tr>\n",
       "    <tr>\n",
       "      <th>21</th>\n",
       "      <td>Adhilakshmi</td>\n",
       "      <td>Senior IT Recruiter</td>\n",
       "      <td>Avyayh</td>\n",
       "      <td>Product based and service based companies</td>\n",
       "      <td>Chennai</td>\n",
       "    </tr>\n",
       "    <tr>\n",
       "      <th>22</th>\n",
       "      <td>Gautham Rajan</td>\n",
       "      <td>Senior HR Executive</td>\n",
       "      <td>SYSVINE TECHNOLOGIES PRIVATE LIMITED</td>\n",
       "      <td>Java, Core Java, Python, Qe, Automation Testin...</td>\n",
       "      <td>Chennai</td>\n",
       "    </tr>\n",
       "    <tr>\n",
       "      <th>23</th>\n",
       "      <td>Elanchezhiyan KG</td>\n",
       "      <td>Executive HR</td>\n",
       "      <td>Ducen IT Private Limited</td>\n",
       "      <td>Microsoft, Analytics, Business Intelligence, M...</td>\n",
       "      <td>Chennai</td>\n",
       "    </tr>\n",
       "    <tr>\n",
       "      <th>24</th>\n",
       "      <td>United Techno</td>\n",
       "      <td>Company Recruiter</td>\n",
       "      <td>United Techno Info Systems P Limited</td>\n",
       "      <td>Not Specified</td>\n",
       "      <td>Chennai</td>\n",
       "    </tr>\n",
       "    <tr>\n",
       "      <th>25</th>\n",
       "      <td>Subha R</td>\n",
       "      <td>Recruitment Consultant</td>\n",
       "      <td>Saaki, Argus and Averil Consulting</td>\n",
       "      <td>Not Specified</td>\n",
       "      <td>Chennai</td>\n",
       "    </tr>\n",
       "    <tr>\n",
       "      <th>26</th>\n",
       "      <td>Besant Technologies</td>\n",
       "      <td>Assistant Manager</td>\n",
       "      <td>Besant Technologies</td>\n",
       "      <td>Training, Education</td>\n",
       "      <td>Chennai</td>\n",
       "    </tr>\n",
       "    <tr>\n",
       "      <th>27</th>\n",
       "      <td>Sathish R</td>\n",
       "      <td>Lead HR</td>\n",
       "      <td>POSITIVENAICK ANALYTICS PRIVATE LIMITED</td>\n",
       "      <td>angularjs, angular4, angular 4, python, vuejs,...</td>\n",
       "      <td>Chennai</td>\n",
       "    </tr>\n",
       "    <tr>\n",
       "      <th>28</th>\n",
       "      <td>Satheesh Kumar</td>\n",
       "      <td>Manager Human Resources</td>\n",
       "      <td>Technology Frontiers (India) Pvt Ltd</td>\n",
       "      <td>Not Specified</td>\n",
       "      <td>Chennai</td>\n",
       "    </tr>\n",
       "    <tr>\n",
       "      <th>29</th>\n",
       "      <td>Santhoshkumar</td>\n",
       "      <td>Human Resources Recruitment</td>\n",
       "      <td>Renault Nissan Technology &amp;amp; Business...</td>\n",
       "      <td>General Ledger Accounting, Accounts Payable, A...</td>\n",
       "      <td>Chennai</td>\n",
       "    </tr>\n",
       "    <tr>\n",
       "      <th>30</th>\n",
       "      <td>Barathiraja</td>\n",
       "      <td>HR Recruiter</td>\n",
       "      <td>Intellect Design Arena Limited</td>\n",
       "      <td>java, Business Analyst, Dotnet, Software Testi...</td>\n",
       "      <td>Chennai</td>\n",
       "    </tr>\n",
       "    <tr>\n",
       "      <th>31</th>\n",
       "      <td>Vignesh Athipathy</td>\n",
       "      <td>Director</td>\n",
       "      <td>eforengage pvt ltd</td>\n",
       "      <td>Artificial Intelligence, Machine Learning, Dat...</td>\n",
       "      <td>Chennai</td>\n",
       "    </tr>\n",
       "    <tr>\n",
       "      <th>32</th>\n",
       "      <td>Yuvarraj Kesavan</td>\n",
       "      <td>Company HR</td>\n",
       "      <td>CSS Corp Pvt Ltd</td>\n",
       "      <td>Not Specified</td>\n",
       "      <td>Chennai</td>\n",
       "    </tr>\n",
       "    <tr>\n",
       "      <th>33</th>\n",
       "      <td>HR</td>\n",
       "      <td>Company HR</td>\n",
       "      <td>KBS Technologies Private Limited</td>\n",
       "      <td>Not Specified</td>\n",
       "      <td>Chennai</td>\n",
       "    </tr>\n",
       "    <tr>\n",
       "      <th>34</th>\n",
       "      <td>Praviya</td>\n",
       "      <td>HR Executive</td>\n",
       "      <td>Hcl Technologies Limited</td>\n",
       "      <td>Not Specified</td>\n",
       "      <td>Chennai</td>\n",
       "    </tr>\n",
       "    <tr>\n",
       "      <th>35</th>\n",
       "      <td>Netmeds.com</td>\n",
       "      <td>HR</td>\n",
       "      <td>NETMEDS MARKETPLACE LIMITED</td>\n",
       "      <td>Not Specified</td>\n",
       "      <td>Chennai</td>\n",
       "    </tr>\n",
       "    <tr>\n",
       "      <th>36</th>\n",
       "      <td>Jeyapriya Jeyaraj</td>\n",
       "      <td>Company Recruiter</td>\n",
       "      <td>Amiga technologies</td>\n",
       "      <td>Software Development, javascript, c++, java, A...</td>\n",
       "      <td>Chennai</td>\n",
       "    </tr>\n",
       "    <tr>\n",
       "      <th>37</th>\n",
       "      <td>Thiripurasundari D</td>\n",
       "      <td>Company Recruiter</td>\n",
       "      <td>T2 Innovations</td>\n",
       "      <td>Not Specified</td>\n",
       "      <td>Chennai</td>\n",
       "    </tr>\n",
       "    <tr>\n",
       "      <th>38</th>\n",
       "      <td>Hassan Mohamed Haja</td>\n",
       "      <td>Company Recruiter</td>\n",
       "      <td>BIO LUMINUEX HEALTH CARE PRIVATE LIMITED</td>\n",
       "      <td>Software Development, Embedded Systems, Artifi...</td>\n",
       "      <td>Chennai</td>\n",
       "    </tr>\n",
       "    <tr>\n",
       "      <th>39</th>\n",
       "      <td>Revathy Shanmugam</td>\n",
       "      <td>Sr Staffing Consultant</td>\n",
       "      <td>Upgrade HR Consulting pvt. Ltd.</td>\n",
       "      <td>Not Specified</td>\n",
       "      <td>Chennai</td>\n",
       "    </tr>\n",
       "    <tr>\n",
       "      <th>40</th>\n",
       "      <td>EMBLAZE Recruiter</td>\n",
       "      <td>Recruitment Consultant</td>\n",
       "      <td>Emblaze Training &amp;amp; Services</td>\n",
       "      <td>Not Specified</td>\n",
       "      <td>Chennai</td>\n",
       "    </tr>\n",
       "    <tr>\n",
       "      <th>41</th>\n",
       "      <td>PREM</td>\n",
       "      <td>Recruitment Consultant</td>\n",
       "      <td>Emblaze Training &amp;amp; Services</td>\n",
       "      <td>Not Specified</td>\n",
       "      <td>Chennai</td>\n",
       "    </tr>\n",
       "    <tr>\n",
       "      <th>42</th>\n",
       "      <td>Cyril Prince</td>\n",
       "      <td>Specialist staffing</td>\n",
       "      <td>Shell India Private Limited</td>\n",
       "      <td>Accounts Receivable, AR Analyst, Billing, cash...</td>\n",
       "      <td>Chennai</td>\n",
       "    </tr>\n",
       "    <tr>\n",
       "      <th>43</th>\n",
       "      <td>S.Delhibabu</td>\n",
       "      <td>Team Leader Client Relationship Manager</td>\n",
       "      <td>Pan Asia HR Solutions Pvt Ltd</td>\n",
       "      <td>Tier1 Tier2 Companies, Product Development Com...</td>\n",
       "      <td>Chennai</td>\n",
       "    </tr>\n",
       "    <tr>\n",
       "      <th>44</th>\n",
       "      <td>CAIA</td>\n",
       "      <td>Company Recruiter</td>\n",
       "      <td>Inflexion Analytix Private Limited</td>\n",
       "      <td>Not Specified</td>\n",
       "      <td>Chennai</td>\n",
       "    </tr>\n",
       "    <tr>\n",
       "      <th>45</th>\n",
       "      <td>Vinita</td>\n",
       "      <td>Sr Manager HR</td>\n",
       "      <td>PSIOG DIGITAL (P) LTD.</td>\n",
       "      <td>Not Specified</td>\n",
       "      <td>Chennai</td>\n",
       "    </tr>\n",
       "    <tr>\n",
       "      <th>46</th>\n",
       "      <td>Venkatesan</td>\n",
       "      <td>System Administrator</td>\n",
       "      <td>Institute of Analytics Pvt Ltd</td>\n",
       "      <td>Not Specified</td>\n",
       "      <td>Chennai</td>\n",
       "    </tr>\n",
       "    <tr>\n",
       "      <th>47</th>\n",
       "      <td>Pavithra</td>\n",
       "      <td>Team Enabler - Recruitment</td>\n",
       "      <td>People First Consultants Pvt Ltd.,</td>\n",
       "      <td>Not Specified</td>\n",
       "      <td>Chennai</td>\n",
       "    </tr>\n",
       "    <tr>\n",
       "      <th>48</th>\n",
       "      <td>SONAL</td>\n",
       "      <td>Recruitment Consultant</td>\n",
       "      <td>Emblaze Training &amp;amp; Services</td>\n",
       "      <td>Not Specified</td>\n",
       "      <td>Chennai</td>\n",
       "    </tr>\n",
       "    <tr>\n",
       "      <th>49</th>\n",
       "      <td>Pari Govindarajan</td>\n",
       "      <td>Director</td>\n",
       "      <td>Thenesys (OPC) Private Limited</td>\n",
       "      <td>Not Specified</td>\n",
       "      <td>Chennai</td>\n",
       "    </tr>\n",
       "    <tr>\n",
       "      <th>50</th>\n",
       "      <td>Siva Kumar</td>\n",
       "      <td>Senior HR Recruiter</td>\n",
       "      <td>Reset HR</td>\n",
       "      <td>Islamic Corporate, Islamic Banking, Product Ma...</td>\n",
       "      <td>Chennai</td>\n",
       "    </tr>\n",
       "  </tbody>\n",
       "</table>\n",
       "</div>"
      ],
      "text/plain": [
       "                                             NAME  \\\n",
       "1   Institute for Financial Management and Resear   \n",
       "2                             Nisanth Vidyadharan   \n",
       "3                                           Kanan   \n",
       "4                             INFOSMART SOLUTIONS   \n",
       "5                            Dr. S. Prasanna Devi   \n",
       "6                                   Riyaz Mohamed   \n",
       "7                           Macherla Suresh Kumar   \n",
       "8                                           Ruban   \n",
       "9                                          Sathya   \n",
       "10                                      Ayshwarya   \n",
       "11                               Senior Recruiter   \n",
       "12                           Saloni Kalpesh Dagly   \n",
       "13                                         Kogila   \n",
       "14                                   Umamaheswari   \n",
       "15                          Srinivasan Alagurajan   \n",
       "16                                      D Divakar   \n",
       "17                                        Sridhar   \n",
       "18                             Balaji Prabhakaran   \n",
       "19                                    Sonia Gupta   \n",
       "20                                    Laksh Barla   \n",
       "21                                    Adhilakshmi   \n",
       "22                                  Gautham Rajan   \n",
       "23                               Elanchezhiyan KG   \n",
       "24                                  United Techno   \n",
       "25                                        Subha R   \n",
       "26                            Besant Technologies   \n",
       "27                                      Sathish R   \n",
       "28                                 Satheesh Kumar   \n",
       "29                                  Santhoshkumar   \n",
       "30                                    Barathiraja   \n",
       "31                              Vignesh Athipathy   \n",
       "32                               Yuvarraj Kesavan   \n",
       "33                                             HR   \n",
       "34                                        Praviya   \n",
       "35                                    Netmeds.com   \n",
       "36                              Jeyapriya Jeyaraj   \n",
       "37                             Thiripurasundari D   \n",
       "38                            Hassan Mohamed Haja   \n",
       "39                              Revathy Shanmugam   \n",
       "40                              EMBLAZE Recruiter   \n",
       "41                                           PREM   \n",
       "42                                   Cyril Prince   \n",
       "43                                    S.Delhibabu   \n",
       "44                                           CAIA   \n",
       "45                                         Vinita   \n",
       "46                                     Venkatesan   \n",
       "47                                       Pavithra   \n",
       "48                                          SONAL   \n",
       "49                              Pari Govindarajan   \n",
       "50                                     Siva Kumar   \n",
       "\n",
       "                                DESIGNATION  \\\n",
       "1                         Programme Manager   \n",
       "2                         Company Recruiter   \n",
       "3              senior technology instructor   \n",
       "4                         Company Recruiter   \n",
       "5                        Professor and Head   \n",
       "6                         Company Recruiter   \n",
       "7                   Chief Executive Officer   \n",
       "8                         Company Recruiter   \n",
       "9                                  Director   \n",
       "10                        Company Recruiter   \n",
       "11                         Senior Recruiter   \n",
       "12                        Company Recruiter   \n",
       "13                                  Manager   \n",
       "14                               Company HR   \n",
       "15                                  Manager   \n",
       "16                               HR Manager   \n",
       "17                        Head Recruitments   \n",
       "18                        Company Recruiter   \n",
       "19                        Recruitment Ninja   \n",
       "20                             HR Executive   \n",
       "21                      Senior IT Recruiter   \n",
       "22                      Senior HR Executive   \n",
       "23                             Executive HR   \n",
       "24                        Company Recruiter   \n",
       "25                   Recruitment Consultant   \n",
       "26                        Assistant Manager   \n",
       "27                                  Lead HR   \n",
       "28                  Manager Human Resources   \n",
       "29              Human Resources Recruitment   \n",
       "30                             HR Recruiter   \n",
       "31                                 Director   \n",
       "32                               Company HR   \n",
       "33                               Company HR   \n",
       "34                             HR Executive   \n",
       "35                                       HR   \n",
       "36                        Company Recruiter   \n",
       "37                        Company Recruiter   \n",
       "38                        Company Recruiter   \n",
       "39                   Sr Staffing Consultant   \n",
       "40                   Recruitment Consultant   \n",
       "41                   Recruitment Consultant   \n",
       "42                      Specialist staffing   \n",
       "43  Team Leader Client Relationship Manager   \n",
       "44                        Company Recruiter   \n",
       "45                            Sr Manager HR   \n",
       "46                     System Administrator   \n",
       "47               Team Enabler - Recruitment   \n",
       "48                   Recruitment Consultant   \n",
       "49                                 Director   \n",
       "50                      Senior HR Recruiter   \n",
       "\n",
       "                                   COMPANY NAME  \\\n",
       "1                                          IFMR   \n",
       "2                WHIRLDATA LABS PRIVATE LIMITED   \n",
       "3                                       NY INST   \n",
       "4                           INFOSMART SOLUTIONS   \n",
       "5       SRM Institute of Science and Technology   \n",
       "6                              Conde Nast India   \n",
       "7              Sree Brinda Consultancy Services   \n",
       "8       Pathfinder Enterprise Solutions Pvt Ltd   \n",
       "9                                    Digital AI   \n",
       "10                  YuMe India Private Limited.   \n",
       "11             Asirvad Microfinance Private Ltd   \n",
       "12                        Matrimony.com Limited   \n",
       "13           Radiant Technology and Consultancy   \n",
       "14             ADF Data Science Private Limited   \n",
       "15                               Roni Analytics   \n",
       "16               WHIRLDATA LABS PRIVATE LIMITED   \n",
       "17                 Capperson Manpower Resources   \n",
       "18                                      Oportun   \n",
       "19                                  HyringNinja   \n",
       "20         SYSVINE TECHNOLOGIES PRIVATE LIMITED   \n",
       "21                                       Avyayh   \n",
       "22         SYSVINE TECHNOLOGIES PRIVATE LIMITED   \n",
       "23                     Ducen IT Private Limited   \n",
       "24         United Techno Info Systems P Limited   \n",
       "25           Saaki, Argus and Averil Consulting   \n",
       "26                          Besant Technologies   \n",
       "27      POSITIVENAICK ANALYTICS PRIVATE LIMITED   \n",
       "28         Technology Frontiers (India) Pvt Ltd   \n",
       "29  Renault Nissan Technology &amp; Business...   \n",
       "30               Intellect Design Arena Limited   \n",
       "31                           eforengage pvt ltd   \n",
       "32                             CSS Corp Pvt Ltd   \n",
       "33             KBS Technologies Private Limited   \n",
       "34                     Hcl Technologies Limited   \n",
       "35                  NETMEDS MARKETPLACE LIMITED   \n",
       "36                           Amiga technologies   \n",
       "37                               T2 Innovations   \n",
       "38     BIO LUMINUEX HEALTH CARE PRIVATE LIMITED   \n",
       "39              Upgrade HR Consulting pvt. Ltd.   \n",
       "40              Emblaze Training &amp; Services   \n",
       "41              Emblaze Training &amp; Services   \n",
       "42                  Shell India Private Limited   \n",
       "43                Pan Asia HR Solutions Pvt Ltd   \n",
       "44           Inflexion Analytix Private Limited   \n",
       "45                       PSIOG DIGITAL (P) LTD.   \n",
       "46               Institute of Analytics Pvt Ltd   \n",
       "47           People First Consultants Pvt Ltd.,   \n",
       "48              Emblaze Training &amp; Services   \n",
       "49               Thenesys (OPC) Private Limited   \n",
       "50                                     Reset HR   \n",
       "\n",
       "                                     SKILLS POSSESSED LOCATION  \n",
       "1                                        Data Science  Chennai  \n",
       "2   Data Science, Machine Learning, Deep Learning,...  Chennai  \n",
       "3   C, C++, Artificial Intelligence, Python, Php, ...  Chennai  \n",
       "4                       R, Ms Sql Server, Asp.net, Bi  Chennai  \n",
       "5   Computer Science, Machine Learning, Deep Learn...  Chennai  \n",
       "6                                       Not Specified  Chennai  \n",
       "7                   MNC, CMM Level Companies in India  Chennai  \n",
       "8   Asp.net Mvc, System Administration, Process Ma...  Chennai  \n",
       "9   Ai, Data Science, Machine Learning, Deep Learning  Chennai  \n",
       "10                                      Not Specified  Chennai  \n",
       "11  Leadership Hiring, Delivery Leadership, Busine...  Chennai  \n",
       "12                                      Not Specified  Chennai  \n",
       "13  Technical Support, sales, Career Counselling, ...  Chennai  \n",
       "14                                      Not Specified  Chennai  \n",
       "15  Data Science, Data Engineering, Analytics, New...  Chennai  \n",
       "16  angular, Data Science, react, flask, mysql, po...  Chennai  \n",
       "17  manufacturing, finance, accounts, Business Dev...  Chennai  \n",
       "18  Technical Solution Architect, Data Scientist, ...  Chennai  \n",
       "19  marketing, Pharma Marketing, Surgical Sales, s...  Chennai  \n",
       "20  Devops, Ruby Rails, Java, Spring, Net, Angular...  Chennai  \n",
       "21          Product based and service based companies  Chennai  \n",
       "22  Java, Core Java, Python, Qe, Automation Testin...  Chennai  \n",
       "23  Microsoft, Analytics, Business Intelligence, M...  Chennai  \n",
       "24                                      Not Specified  Chennai  \n",
       "25                                      Not Specified  Chennai  \n",
       "26                                Training, Education  Chennai  \n",
       "27  angularjs, angular4, angular 4, python, vuejs,...  Chennai  \n",
       "28                                      Not Specified  Chennai  \n",
       "29  General Ledger Accounting, Accounts Payable, A...  Chennai  \n",
       "30  java, Business Analyst, Dotnet, Software Testi...  Chennai  \n",
       "31  Artificial Intelligence, Machine Learning, Dat...  Chennai  \n",
       "32                                      Not Specified  Chennai  \n",
       "33                                      Not Specified  Chennai  \n",
       "34                                      Not Specified  Chennai  \n",
       "35                                      Not Specified  Chennai  \n",
       "36  Software Development, javascript, c++, java, A...  Chennai  \n",
       "37                                      Not Specified  Chennai  \n",
       "38  Software Development, Embedded Systems, Artifi...  Chennai  \n",
       "39                                      Not Specified  Chennai  \n",
       "40                                      Not Specified  Chennai  \n",
       "41                                      Not Specified  Chennai  \n",
       "42  Accounts Receivable, AR Analyst, Billing, cash...  Chennai  \n",
       "43  Tier1 Tier2 Companies, Product Development Com...  Chennai  \n",
       "44                                      Not Specified  Chennai  \n",
       "45                                      Not Specified  Chennai  \n",
       "46                                      Not Specified  Chennai  \n",
       "47                                      Not Specified  Chennai  \n",
       "48                                      Not Specified  Chennai  \n",
       "49                                      Not Specified  Chennai  \n",
       "50  Islamic Corporate, Islamic Banking, Product Ma...  Chennai  "
      ]
     },
     "execution_count": 26,
     "metadata": {},
     "output_type": "execute_result"
    }
   ],
   "source": [
    "df=pd.DataFrame(data={'NAME':name,'DESIGNATION':desi,'COMPANY NAME':company,'SKILLS POSSESSED':skills,'LOCATION':loc},index=range(1,51))\n",
    "df\n"
   ]
  },
  {
   "cell_type": "code",
   "execution_count": 27,
   "id": "b904e941",
   "metadata": {},
   "outputs": [],
   "source": [
    "df.to_csv('Data_Science_Recruiters_naukri.csv')"
   ]
  },
  {
   "cell_type": "code",
   "execution_count": 28,
   "id": "a7728f6b",
   "metadata": {},
   "outputs": [
    {
     "data": {
      "text/html": [
       "<div>\n",
       "<style scoped>\n",
       "    .dataframe tbody tr th:only-of-type {\n",
       "        vertical-align: middle;\n",
       "    }\n",
       "\n",
       "    .dataframe tbody tr th {\n",
       "        vertical-align: top;\n",
       "    }\n",
       "\n",
       "    .dataframe thead th {\n",
       "        text-align: right;\n",
       "    }\n",
       "</style>\n",
       "<table border=\"1\" class=\"dataframe\">\n",
       "  <thead>\n",
       "    <tr style=\"text-align: right;\">\n",
       "      <th></th>\n",
       "      <th>Unnamed: 0</th>\n",
       "      <th>NAME</th>\n",
       "      <th>DESIGNATION</th>\n",
       "      <th>COMPANY NAME</th>\n",
       "      <th>SKILLS POSSESSED</th>\n",
       "      <th>LOCATION</th>\n",
       "    </tr>\n",
       "  </thead>\n",
       "  <tbody>\n",
       "    <tr>\n",
       "      <th>0</th>\n",
       "      <td>1</td>\n",
       "      <td>Institute for Financial Management and Resear</td>\n",
       "      <td>Programme Manager</td>\n",
       "      <td>IFMR</td>\n",
       "      <td>Data Science</td>\n",
       "      <td>Chennai</td>\n",
       "    </tr>\n",
       "    <tr>\n",
       "      <th>1</th>\n",
       "      <td>2</td>\n",
       "      <td>Nisanth Vidyadharan</td>\n",
       "      <td>Company Recruiter</td>\n",
       "      <td>WHIRLDATA LABS PRIVATE LIMITED</td>\n",
       "      <td>Data Science, Machine Learning, Deep Learning,...</td>\n",
       "      <td>Chennai</td>\n",
       "    </tr>\n",
       "    <tr>\n",
       "      <th>2</th>\n",
       "      <td>3</td>\n",
       "      <td>Kanan</td>\n",
       "      <td>senior technology instructor</td>\n",
       "      <td>NY INST</td>\n",
       "      <td>C, C++, Artificial Intelligence, Python, Php, ...</td>\n",
       "      <td>Chennai</td>\n",
       "    </tr>\n",
       "    <tr>\n",
       "      <th>3</th>\n",
       "      <td>4</td>\n",
       "      <td>INFOSMART SOLUTIONS</td>\n",
       "      <td>Company Recruiter</td>\n",
       "      <td>INFOSMART SOLUTIONS</td>\n",
       "      <td>R, Ms Sql Server, Asp.net, Bi</td>\n",
       "      <td>Chennai</td>\n",
       "    </tr>\n",
       "    <tr>\n",
       "      <th>4</th>\n",
       "      <td>5</td>\n",
       "      <td>Dr. S. Prasanna Devi</td>\n",
       "      <td>Professor and Head</td>\n",
       "      <td>SRM Institute of Science and Technology</td>\n",
       "      <td>Computer Science, Machine Learning, Deep Learn...</td>\n",
       "      <td>Chennai</td>\n",
       "    </tr>\n",
       "    <tr>\n",
       "      <th>5</th>\n",
       "      <td>6</td>\n",
       "      <td>Riyaz Mohamed</td>\n",
       "      <td>Company Recruiter</td>\n",
       "      <td>Conde Nast India</td>\n",
       "      <td>Not Specified</td>\n",
       "      <td>Chennai</td>\n",
       "    </tr>\n",
       "    <tr>\n",
       "      <th>6</th>\n",
       "      <td>7</td>\n",
       "      <td>Macherla Suresh Kumar</td>\n",
       "      <td>Chief Executive Officer</td>\n",
       "      <td>Sree Brinda Consultancy Services</td>\n",
       "      <td>MNC, CMM Level Companies in India</td>\n",
       "      <td>Chennai</td>\n",
       "    </tr>\n",
       "    <tr>\n",
       "      <th>7</th>\n",
       "      <td>8</td>\n",
       "      <td>Ruban</td>\n",
       "      <td>Company Recruiter</td>\n",
       "      <td>Pathfinder Enterprise Solutions Pvt Ltd</td>\n",
       "      <td>Asp.net Mvc, System Administration, Process Ma...</td>\n",
       "      <td>Chennai</td>\n",
       "    </tr>\n",
       "    <tr>\n",
       "      <th>8</th>\n",
       "      <td>9</td>\n",
       "      <td>Sathya</td>\n",
       "      <td>Director</td>\n",
       "      <td>Digital AI</td>\n",
       "      <td>Ai, Data Science, Machine Learning, Deep Learning</td>\n",
       "      <td>Chennai</td>\n",
       "    </tr>\n",
       "    <tr>\n",
       "      <th>9</th>\n",
       "      <td>10</td>\n",
       "      <td>Ayshwarya</td>\n",
       "      <td>Company Recruiter</td>\n",
       "      <td>YuMe India Private Limited.</td>\n",
       "      <td>Not Specified</td>\n",
       "      <td>Chennai</td>\n",
       "    </tr>\n",
       "    <tr>\n",
       "      <th>10</th>\n",
       "      <td>11</td>\n",
       "      <td>Senior Recruiter</td>\n",
       "      <td>Senior Recruiter</td>\n",
       "      <td>Asirvad Microfinance Private Ltd</td>\n",
       "      <td>Leadership Hiring, Delivery Leadership, Busine...</td>\n",
       "      <td>Chennai</td>\n",
       "    </tr>\n",
       "    <tr>\n",
       "      <th>11</th>\n",
       "      <td>12</td>\n",
       "      <td>Saloni Kalpesh Dagly</td>\n",
       "      <td>Company Recruiter</td>\n",
       "      <td>Matrimony.com Limited</td>\n",
       "      <td>Not Specified</td>\n",
       "      <td>Chennai</td>\n",
       "    </tr>\n",
       "    <tr>\n",
       "      <th>12</th>\n",
       "      <td>13</td>\n",
       "      <td>Kogila</td>\n",
       "      <td>Manager</td>\n",
       "      <td>Radiant Technology and Consultancy</td>\n",
       "      <td>Technical Support, sales, Career Counselling, ...</td>\n",
       "      <td>Chennai</td>\n",
       "    </tr>\n",
       "    <tr>\n",
       "      <th>13</th>\n",
       "      <td>14</td>\n",
       "      <td>Umamaheswari</td>\n",
       "      <td>Company HR</td>\n",
       "      <td>ADF Data Science Private Limited</td>\n",
       "      <td>Not Specified</td>\n",
       "      <td>Chennai</td>\n",
       "    </tr>\n",
       "    <tr>\n",
       "      <th>14</th>\n",
       "      <td>15</td>\n",
       "      <td>Srinivasan Alagurajan</td>\n",
       "      <td>Manager</td>\n",
       "      <td>Roni Analytics</td>\n",
       "      <td>Data Science, Data Engineering, Analytics, New...</td>\n",
       "      <td>Chennai</td>\n",
       "    </tr>\n",
       "    <tr>\n",
       "      <th>15</th>\n",
       "      <td>16</td>\n",
       "      <td>D Divakar</td>\n",
       "      <td>HR Manager</td>\n",
       "      <td>WHIRLDATA LABS PRIVATE LIMITED</td>\n",
       "      <td>angular, Data Science, react, flask, mysql, po...</td>\n",
       "      <td>Chennai</td>\n",
       "    </tr>\n",
       "    <tr>\n",
       "      <th>16</th>\n",
       "      <td>17</td>\n",
       "      <td>Sridhar</td>\n",
       "      <td>Head Recruitments</td>\n",
       "      <td>Capperson Manpower Resources</td>\n",
       "      <td>manufacturing, finance, accounts, Business Dev...</td>\n",
       "      <td>Chennai</td>\n",
       "    </tr>\n",
       "    <tr>\n",
       "      <th>17</th>\n",
       "      <td>18</td>\n",
       "      <td>Balaji Prabhakaran</td>\n",
       "      <td>Company Recruiter</td>\n",
       "      <td>Oportun</td>\n",
       "      <td>Technical Solution Architect, Data Scientist, ...</td>\n",
       "      <td>Chennai</td>\n",
       "    </tr>\n",
       "    <tr>\n",
       "      <th>18</th>\n",
       "      <td>19</td>\n",
       "      <td>Sonia Gupta</td>\n",
       "      <td>Recruitment Ninja</td>\n",
       "      <td>HyringNinja</td>\n",
       "      <td>marketing, Pharma Marketing, Surgical Sales, s...</td>\n",
       "      <td>Chennai</td>\n",
       "    </tr>\n",
       "    <tr>\n",
       "      <th>19</th>\n",
       "      <td>20</td>\n",
       "      <td>Laksh Barla</td>\n",
       "      <td>HR Executive</td>\n",
       "      <td>SYSVINE TECHNOLOGIES PRIVATE LIMITED</td>\n",
       "      <td>Devops, Ruby Rails, Java, Spring, Net, Angular...</td>\n",
       "      <td>Chennai</td>\n",
       "    </tr>\n",
       "    <tr>\n",
       "      <th>20</th>\n",
       "      <td>21</td>\n",
       "      <td>Adhilakshmi</td>\n",
       "      <td>Senior IT Recruiter</td>\n",
       "      <td>Avyayh</td>\n",
       "      <td>Product based and service based companies</td>\n",
       "      <td>Chennai</td>\n",
       "    </tr>\n",
       "    <tr>\n",
       "      <th>21</th>\n",
       "      <td>22</td>\n",
       "      <td>Gautham Rajan</td>\n",
       "      <td>Senior HR Executive</td>\n",
       "      <td>SYSVINE TECHNOLOGIES PRIVATE LIMITED</td>\n",
       "      <td>Java, Core Java, Python, Qe, Automation Testin...</td>\n",
       "      <td>Chennai</td>\n",
       "    </tr>\n",
       "    <tr>\n",
       "      <th>22</th>\n",
       "      <td>23</td>\n",
       "      <td>Elanchezhiyan KG</td>\n",
       "      <td>Executive HR</td>\n",
       "      <td>Ducen IT Private Limited</td>\n",
       "      <td>Microsoft, Analytics, Business Intelligence, M...</td>\n",
       "      <td>Chennai</td>\n",
       "    </tr>\n",
       "    <tr>\n",
       "      <th>23</th>\n",
       "      <td>24</td>\n",
       "      <td>United Techno</td>\n",
       "      <td>Company Recruiter</td>\n",
       "      <td>United Techno Info Systems P Limited</td>\n",
       "      <td>Not Specified</td>\n",
       "      <td>Chennai</td>\n",
       "    </tr>\n",
       "    <tr>\n",
       "      <th>24</th>\n",
       "      <td>25</td>\n",
       "      <td>Subha R</td>\n",
       "      <td>Recruitment Consultant</td>\n",
       "      <td>Saaki, Argus and Averil Consulting</td>\n",
       "      <td>Not Specified</td>\n",
       "      <td>Chennai</td>\n",
       "    </tr>\n",
       "    <tr>\n",
       "      <th>25</th>\n",
       "      <td>26</td>\n",
       "      <td>Besant Technologies</td>\n",
       "      <td>Assistant Manager</td>\n",
       "      <td>Besant Technologies</td>\n",
       "      <td>Training, Education</td>\n",
       "      <td>Chennai</td>\n",
       "    </tr>\n",
       "    <tr>\n",
       "      <th>26</th>\n",
       "      <td>27</td>\n",
       "      <td>Sathish R</td>\n",
       "      <td>Lead HR</td>\n",
       "      <td>POSITIVENAICK ANALYTICS PRIVATE LIMITED</td>\n",
       "      <td>angularjs, angular4, angular 4, python, vuejs,...</td>\n",
       "      <td>Chennai</td>\n",
       "    </tr>\n",
       "    <tr>\n",
       "      <th>27</th>\n",
       "      <td>28</td>\n",
       "      <td>Satheesh Kumar</td>\n",
       "      <td>Manager Human Resources</td>\n",
       "      <td>Technology Frontiers (India) Pvt Ltd</td>\n",
       "      <td>Not Specified</td>\n",
       "      <td>Chennai</td>\n",
       "    </tr>\n",
       "    <tr>\n",
       "      <th>28</th>\n",
       "      <td>29</td>\n",
       "      <td>Santhoshkumar</td>\n",
       "      <td>Human Resources Recruitment</td>\n",
       "      <td>Renault Nissan Technology &amp;amp; Business...</td>\n",
       "      <td>General Ledger Accounting, Accounts Payable, A...</td>\n",
       "      <td>Chennai</td>\n",
       "    </tr>\n",
       "    <tr>\n",
       "      <th>29</th>\n",
       "      <td>30</td>\n",
       "      <td>Barathiraja</td>\n",
       "      <td>HR Recruiter</td>\n",
       "      <td>Intellect Design Arena Limited</td>\n",
       "      <td>java, Business Analyst, Dotnet, Software Testi...</td>\n",
       "      <td>Chennai</td>\n",
       "    </tr>\n",
       "    <tr>\n",
       "      <th>30</th>\n",
       "      <td>31</td>\n",
       "      <td>Vignesh Athipathy</td>\n",
       "      <td>Director</td>\n",
       "      <td>eforengage pvt ltd</td>\n",
       "      <td>Artificial Intelligence, Machine Learning, Dat...</td>\n",
       "      <td>Chennai</td>\n",
       "    </tr>\n",
       "    <tr>\n",
       "      <th>31</th>\n",
       "      <td>32</td>\n",
       "      <td>Yuvarraj Kesavan</td>\n",
       "      <td>Company HR</td>\n",
       "      <td>CSS Corp Pvt Ltd</td>\n",
       "      <td>Not Specified</td>\n",
       "      <td>Chennai</td>\n",
       "    </tr>\n",
       "    <tr>\n",
       "      <th>32</th>\n",
       "      <td>33</td>\n",
       "      <td>HR</td>\n",
       "      <td>Company HR</td>\n",
       "      <td>KBS Technologies Private Limited</td>\n",
       "      <td>Not Specified</td>\n",
       "      <td>Chennai</td>\n",
       "    </tr>\n",
       "    <tr>\n",
       "      <th>33</th>\n",
       "      <td>34</td>\n",
       "      <td>Praviya</td>\n",
       "      <td>HR Executive</td>\n",
       "      <td>Hcl Technologies Limited</td>\n",
       "      <td>Not Specified</td>\n",
       "      <td>Chennai</td>\n",
       "    </tr>\n",
       "    <tr>\n",
       "      <th>34</th>\n",
       "      <td>35</td>\n",
       "      <td>Netmeds.com</td>\n",
       "      <td>HR</td>\n",
       "      <td>NETMEDS MARKETPLACE LIMITED</td>\n",
       "      <td>Not Specified</td>\n",
       "      <td>Chennai</td>\n",
       "    </tr>\n",
       "    <tr>\n",
       "      <th>35</th>\n",
       "      <td>36</td>\n",
       "      <td>Jeyapriya Jeyaraj</td>\n",
       "      <td>Company Recruiter</td>\n",
       "      <td>Amiga technologies</td>\n",
       "      <td>Software Development, javascript, c++, java, A...</td>\n",
       "      <td>Chennai</td>\n",
       "    </tr>\n",
       "    <tr>\n",
       "      <th>36</th>\n",
       "      <td>37</td>\n",
       "      <td>Thiripurasundari D</td>\n",
       "      <td>Company Recruiter</td>\n",
       "      <td>T2 Innovations</td>\n",
       "      <td>Not Specified</td>\n",
       "      <td>Chennai</td>\n",
       "    </tr>\n",
       "    <tr>\n",
       "      <th>37</th>\n",
       "      <td>38</td>\n",
       "      <td>Hassan Mohamed Haja</td>\n",
       "      <td>Company Recruiter</td>\n",
       "      <td>BIO LUMINUEX HEALTH CARE PRIVATE LIMITED</td>\n",
       "      <td>Software Development, Embedded Systems, Artifi...</td>\n",
       "      <td>Chennai</td>\n",
       "    </tr>\n",
       "    <tr>\n",
       "      <th>38</th>\n",
       "      <td>39</td>\n",
       "      <td>Revathy Shanmugam</td>\n",
       "      <td>Sr Staffing Consultant</td>\n",
       "      <td>Upgrade HR Consulting pvt. Ltd.</td>\n",
       "      <td>Not Specified</td>\n",
       "      <td>Chennai</td>\n",
       "    </tr>\n",
       "    <tr>\n",
       "      <th>39</th>\n",
       "      <td>40</td>\n",
       "      <td>EMBLAZE Recruiter</td>\n",
       "      <td>Recruitment Consultant</td>\n",
       "      <td>Emblaze Training &amp;amp; Services</td>\n",
       "      <td>Not Specified</td>\n",
       "      <td>Chennai</td>\n",
       "    </tr>\n",
       "    <tr>\n",
       "      <th>40</th>\n",
       "      <td>41</td>\n",
       "      <td>PREM</td>\n",
       "      <td>Recruitment Consultant</td>\n",
       "      <td>Emblaze Training &amp;amp; Services</td>\n",
       "      <td>Not Specified</td>\n",
       "      <td>Chennai</td>\n",
       "    </tr>\n",
       "    <tr>\n",
       "      <th>41</th>\n",
       "      <td>42</td>\n",
       "      <td>Cyril Prince</td>\n",
       "      <td>Specialist staffing</td>\n",
       "      <td>Shell India Private Limited</td>\n",
       "      <td>Accounts Receivable, AR Analyst, Billing, cash...</td>\n",
       "      <td>Chennai</td>\n",
       "    </tr>\n",
       "    <tr>\n",
       "      <th>42</th>\n",
       "      <td>43</td>\n",
       "      <td>S.Delhibabu</td>\n",
       "      <td>Team Leader Client Relationship Manager</td>\n",
       "      <td>Pan Asia HR Solutions Pvt Ltd</td>\n",
       "      <td>Tier1 Tier2 Companies, Product Development Com...</td>\n",
       "      <td>Chennai</td>\n",
       "    </tr>\n",
       "    <tr>\n",
       "      <th>43</th>\n",
       "      <td>44</td>\n",
       "      <td>CAIA</td>\n",
       "      <td>Company Recruiter</td>\n",
       "      <td>Inflexion Analytix Private Limited</td>\n",
       "      <td>Not Specified</td>\n",
       "      <td>Chennai</td>\n",
       "    </tr>\n",
       "    <tr>\n",
       "      <th>44</th>\n",
       "      <td>45</td>\n",
       "      <td>Vinita</td>\n",
       "      <td>Sr Manager HR</td>\n",
       "      <td>PSIOG DIGITAL (P) LTD.</td>\n",
       "      <td>Not Specified</td>\n",
       "      <td>Chennai</td>\n",
       "    </tr>\n",
       "    <tr>\n",
       "      <th>45</th>\n",
       "      <td>46</td>\n",
       "      <td>Venkatesan</td>\n",
       "      <td>System Administrator</td>\n",
       "      <td>Institute of Analytics Pvt Ltd</td>\n",
       "      <td>Not Specified</td>\n",
       "      <td>Chennai</td>\n",
       "    </tr>\n",
       "    <tr>\n",
       "      <th>46</th>\n",
       "      <td>47</td>\n",
       "      <td>Pavithra</td>\n",
       "      <td>Team Enabler - Recruitment</td>\n",
       "      <td>People First Consultants Pvt Ltd.,</td>\n",
       "      <td>Not Specified</td>\n",
       "      <td>Chennai</td>\n",
       "    </tr>\n",
       "    <tr>\n",
       "      <th>47</th>\n",
       "      <td>48</td>\n",
       "      <td>SONAL</td>\n",
       "      <td>Recruitment Consultant</td>\n",
       "      <td>Emblaze Training &amp;amp; Services</td>\n",
       "      <td>Not Specified</td>\n",
       "      <td>Chennai</td>\n",
       "    </tr>\n",
       "    <tr>\n",
       "      <th>48</th>\n",
       "      <td>49</td>\n",
       "      <td>Pari Govindarajan</td>\n",
       "      <td>Director</td>\n",
       "      <td>Thenesys (OPC) Private Limited</td>\n",
       "      <td>Not Specified</td>\n",
       "      <td>Chennai</td>\n",
       "    </tr>\n",
       "    <tr>\n",
       "      <th>49</th>\n",
       "      <td>50</td>\n",
       "      <td>Siva Kumar</td>\n",
       "      <td>Senior HR Recruiter</td>\n",
       "      <td>Reset HR</td>\n",
       "      <td>Islamic Corporate, Islamic Banking, Product Ma...</td>\n",
       "      <td>Chennai</td>\n",
       "    </tr>\n",
       "  </tbody>\n",
       "</table>\n",
       "</div>"
      ],
      "text/plain": [
       "    Unnamed: 0                                           NAME  \\\n",
       "0            1  Institute for Financial Management and Resear   \n",
       "1            2                            Nisanth Vidyadharan   \n",
       "2            3                                          Kanan   \n",
       "3            4                            INFOSMART SOLUTIONS   \n",
       "4            5                           Dr. S. Prasanna Devi   \n",
       "5            6                                  Riyaz Mohamed   \n",
       "6            7                          Macherla Suresh Kumar   \n",
       "7            8                                          Ruban   \n",
       "8            9                                         Sathya   \n",
       "9           10                                      Ayshwarya   \n",
       "10          11                               Senior Recruiter   \n",
       "11          12                           Saloni Kalpesh Dagly   \n",
       "12          13                                         Kogila   \n",
       "13          14                                   Umamaheswari   \n",
       "14          15                          Srinivasan Alagurajan   \n",
       "15          16                                      D Divakar   \n",
       "16          17                                        Sridhar   \n",
       "17          18                             Balaji Prabhakaran   \n",
       "18          19                                    Sonia Gupta   \n",
       "19          20                                    Laksh Barla   \n",
       "20          21                                    Adhilakshmi   \n",
       "21          22                                  Gautham Rajan   \n",
       "22          23                               Elanchezhiyan KG   \n",
       "23          24                                  United Techno   \n",
       "24          25                                        Subha R   \n",
       "25          26                            Besant Technologies   \n",
       "26          27                                      Sathish R   \n",
       "27          28                                 Satheesh Kumar   \n",
       "28          29                                  Santhoshkumar   \n",
       "29          30                                    Barathiraja   \n",
       "30          31                              Vignesh Athipathy   \n",
       "31          32                               Yuvarraj Kesavan   \n",
       "32          33                                             HR   \n",
       "33          34                                        Praviya   \n",
       "34          35                                    Netmeds.com   \n",
       "35          36                              Jeyapriya Jeyaraj   \n",
       "36          37                             Thiripurasundari D   \n",
       "37          38                            Hassan Mohamed Haja   \n",
       "38          39                              Revathy Shanmugam   \n",
       "39          40                              EMBLAZE Recruiter   \n",
       "40          41                                           PREM   \n",
       "41          42                                   Cyril Prince   \n",
       "42          43                                    S.Delhibabu   \n",
       "43          44                                           CAIA   \n",
       "44          45                                         Vinita   \n",
       "45          46                                     Venkatesan   \n",
       "46          47                                       Pavithra   \n",
       "47          48                                          SONAL   \n",
       "48          49                              Pari Govindarajan   \n",
       "49          50                                     Siva Kumar   \n",
       "\n",
       "                                DESIGNATION  \\\n",
       "0                         Programme Manager   \n",
       "1                         Company Recruiter   \n",
       "2              senior technology instructor   \n",
       "3                         Company Recruiter   \n",
       "4                        Professor and Head   \n",
       "5                         Company Recruiter   \n",
       "6                   Chief Executive Officer   \n",
       "7                         Company Recruiter   \n",
       "8                                  Director   \n",
       "9                         Company Recruiter   \n",
       "10                         Senior Recruiter   \n",
       "11                        Company Recruiter   \n",
       "12                                  Manager   \n",
       "13                               Company HR   \n",
       "14                                  Manager   \n",
       "15                               HR Manager   \n",
       "16                        Head Recruitments   \n",
       "17                        Company Recruiter   \n",
       "18                        Recruitment Ninja   \n",
       "19                             HR Executive   \n",
       "20                      Senior IT Recruiter   \n",
       "21                      Senior HR Executive   \n",
       "22                             Executive HR   \n",
       "23                        Company Recruiter   \n",
       "24                   Recruitment Consultant   \n",
       "25                        Assistant Manager   \n",
       "26                                  Lead HR   \n",
       "27                  Manager Human Resources   \n",
       "28              Human Resources Recruitment   \n",
       "29                             HR Recruiter   \n",
       "30                                 Director   \n",
       "31                               Company HR   \n",
       "32                               Company HR   \n",
       "33                             HR Executive   \n",
       "34                                       HR   \n",
       "35                        Company Recruiter   \n",
       "36                        Company Recruiter   \n",
       "37                        Company Recruiter   \n",
       "38                   Sr Staffing Consultant   \n",
       "39                   Recruitment Consultant   \n",
       "40                   Recruitment Consultant   \n",
       "41                      Specialist staffing   \n",
       "42  Team Leader Client Relationship Manager   \n",
       "43                        Company Recruiter   \n",
       "44                            Sr Manager HR   \n",
       "45                     System Administrator   \n",
       "46               Team Enabler - Recruitment   \n",
       "47                   Recruitment Consultant   \n",
       "48                                 Director   \n",
       "49                      Senior HR Recruiter   \n",
       "\n",
       "                                   COMPANY NAME  \\\n",
       "0                                          IFMR   \n",
       "1                WHIRLDATA LABS PRIVATE LIMITED   \n",
       "2                                       NY INST   \n",
       "3                           INFOSMART SOLUTIONS   \n",
       "4       SRM Institute of Science and Technology   \n",
       "5                              Conde Nast India   \n",
       "6              Sree Brinda Consultancy Services   \n",
       "7       Pathfinder Enterprise Solutions Pvt Ltd   \n",
       "8                                    Digital AI   \n",
       "9                   YuMe India Private Limited.   \n",
       "10             Asirvad Microfinance Private Ltd   \n",
       "11                        Matrimony.com Limited   \n",
       "12           Radiant Technology and Consultancy   \n",
       "13             ADF Data Science Private Limited   \n",
       "14                               Roni Analytics   \n",
       "15               WHIRLDATA LABS PRIVATE LIMITED   \n",
       "16                 Capperson Manpower Resources   \n",
       "17                                      Oportun   \n",
       "18                                  HyringNinja   \n",
       "19         SYSVINE TECHNOLOGIES PRIVATE LIMITED   \n",
       "20                                       Avyayh   \n",
       "21         SYSVINE TECHNOLOGIES PRIVATE LIMITED   \n",
       "22                     Ducen IT Private Limited   \n",
       "23         United Techno Info Systems P Limited   \n",
       "24           Saaki, Argus and Averil Consulting   \n",
       "25                          Besant Technologies   \n",
       "26      POSITIVENAICK ANALYTICS PRIVATE LIMITED   \n",
       "27         Technology Frontiers (India) Pvt Ltd   \n",
       "28  Renault Nissan Technology &amp; Business...   \n",
       "29               Intellect Design Arena Limited   \n",
       "30                           eforengage pvt ltd   \n",
       "31                             CSS Corp Pvt Ltd   \n",
       "32             KBS Technologies Private Limited   \n",
       "33                     Hcl Technologies Limited   \n",
       "34                  NETMEDS MARKETPLACE LIMITED   \n",
       "35                           Amiga technologies   \n",
       "36                               T2 Innovations   \n",
       "37     BIO LUMINUEX HEALTH CARE PRIVATE LIMITED   \n",
       "38              Upgrade HR Consulting pvt. Ltd.   \n",
       "39              Emblaze Training &amp; Services   \n",
       "40              Emblaze Training &amp; Services   \n",
       "41                  Shell India Private Limited   \n",
       "42                Pan Asia HR Solutions Pvt Ltd   \n",
       "43           Inflexion Analytix Private Limited   \n",
       "44                       PSIOG DIGITAL (P) LTD.   \n",
       "45               Institute of Analytics Pvt Ltd   \n",
       "46           People First Consultants Pvt Ltd.,   \n",
       "47              Emblaze Training &amp; Services   \n",
       "48               Thenesys (OPC) Private Limited   \n",
       "49                                     Reset HR   \n",
       "\n",
       "                                     SKILLS POSSESSED LOCATION  \n",
       "0                                        Data Science  Chennai  \n",
       "1   Data Science, Machine Learning, Deep Learning,...  Chennai  \n",
       "2   C, C++, Artificial Intelligence, Python, Php, ...  Chennai  \n",
       "3                       R, Ms Sql Server, Asp.net, Bi  Chennai  \n",
       "4   Computer Science, Machine Learning, Deep Learn...  Chennai  \n",
       "5                                       Not Specified  Chennai  \n",
       "6                   MNC, CMM Level Companies in India  Chennai  \n",
       "7   Asp.net Mvc, System Administration, Process Ma...  Chennai  \n",
       "8   Ai, Data Science, Machine Learning, Deep Learning  Chennai  \n",
       "9                                       Not Specified  Chennai  \n",
       "10  Leadership Hiring, Delivery Leadership, Busine...  Chennai  \n",
       "11                                      Not Specified  Chennai  \n",
       "12  Technical Support, sales, Career Counselling, ...  Chennai  \n",
       "13                                      Not Specified  Chennai  \n",
       "14  Data Science, Data Engineering, Analytics, New...  Chennai  \n",
       "15  angular, Data Science, react, flask, mysql, po...  Chennai  \n",
       "16  manufacturing, finance, accounts, Business Dev...  Chennai  \n",
       "17  Technical Solution Architect, Data Scientist, ...  Chennai  \n",
       "18  marketing, Pharma Marketing, Surgical Sales, s...  Chennai  \n",
       "19  Devops, Ruby Rails, Java, Spring, Net, Angular...  Chennai  \n",
       "20          Product based and service based companies  Chennai  \n",
       "21  Java, Core Java, Python, Qe, Automation Testin...  Chennai  \n",
       "22  Microsoft, Analytics, Business Intelligence, M...  Chennai  \n",
       "23                                      Not Specified  Chennai  \n",
       "24                                      Not Specified  Chennai  \n",
       "25                                Training, Education  Chennai  \n",
       "26  angularjs, angular4, angular 4, python, vuejs,...  Chennai  \n",
       "27                                      Not Specified  Chennai  \n",
       "28  General Ledger Accounting, Accounts Payable, A...  Chennai  \n",
       "29  java, Business Analyst, Dotnet, Software Testi...  Chennai  \n",
       "30  Artificial Intelligence, Machine Learning, Dat...  Chennai  \n",
       "31                                      Not Specified  Chennai  \n",
       "32                                      Not Specified  Chennai  \n",
       "33                                      Not Specified  Chennai  \n",
       "34                                      Not Specified  Chennai  \n",
       "35  Software Development, javascript, c++, java, A...  Chennai  \n",
       "36                                      Not Specified  Chennai  \n",
       "37  Software Development, Embedded Systems, Artifi...  Chennai  \n",
       "38                                      Not Specified  Chennai  \n",
       "39                                      Not Specified  Chennai  \n",
       "40                                      Not Specified  Chennai  \n",
       "41  Accounts Receivable, AR Analyst, Billing, cash...  Chennai  \n",
       "42  Tier1 Tier2 Companies, Product Development Com...  Chennai  \n",
       "43                                      Not Specified  Chennai  \n",
       "44                                      Not Specified  Chennai  \n",
       "45                                      Not Specified  Chennai  \n",
       "46                                      Not Specified  Chennai  \n",
       "47                                      Not Specified  Chennai  \n",
       "48                                      Not Specified  Chennai  \n",
       "49  Islamic Corporate, Islamic Banking, Product Ma...  Chennai  "
      ]
     },
     "execution_count": 28,
     "metadata": {},
     "output_type": "execute_result"
    }
   ],
   "source": [
    "newrecru=pd.read_csv('Data_Science_Recruiters_naukri.csv')\n",
    "newrecru"
   ]
  },
  {
   "cell_type": "code",
   "execution_count": 29,
   "id": "8f16f161",
   "metadata": {},
   "outputs": [],
   "source": [
    "driver.close()"
   ]
  },
  {
   "cell_type": "markdown",
   "id": "e6778418",
   "metadata": {},
   "source": [
    "# 8. Scrape the details of Highest selling novels.\n",
    "\n",
    "Url = https://www.theguardian.com/news/datablog/2012/aug/09/best-selling-books-all-time-fifty-shades-grey-compare/\n",
    "\n",
    "You have to find the following details:\n",
    "    \n",
    "A) Book name\n",
    "\n",
    "B) Author name\n",
    "\n",
    "C) Volumes sold\n",
    "\n",
    "D) Publisher\n",
    "\n",
    "E) Genre"
   ]
  },
  {
   "cell_type": "code",
   "execution_count": 30,
   "id": "9d896302",
   "metadata": {},
   "outputs": [],
   "source": [
    "driver=webdriver.Chrome(r'C:\\Users\\S.Ramaa Devi\\Downloads\\chromedriver_win32 (7)\\chromedriver.exe')\n",
    "driver.get('https://www.theguardian.com/news/datablog/2012/aug/09/best-selling-books-all-time-fifty-shades-grey-compare/')"
   ]
  },
  {
   "cell_type": "code",
   "execution_count": 31,
   "id": "77ec2e7b",
   "metadata": {},
   "outputs": [
    {
     "data": {
      "text/plain": [
       "100"
      ]
     },
     "execution_count": 31,
     "metadata": {},
     "output_type": "execute_result"
    }
   ],
   "source": [
    "book_name=[]\n",
    "b_tag=driver.find_elements(By.XPATH,'//td[@class=\"left\"]')\n",
    "for i in b_tag[1:501:5]:\n",
    "    book_name.append(i.text)\n",
    "    \n",
    "len(book_name)    "
   ]
  },
  {
   "cell_type": "code",
   "execution_count": 32,
   "id": "4d499e3c",
   "metadata": {},
   "outputs": [
    {
     "data": {
      "text/plain": [
       "['Da Vinci Code,The',\n",
       " 'Harry Potter and the Deathly Hallows',\n",
       " \"Harry Potter and the Philosopher's Stone\",\n",
       " 'Harry Potter and the Order of the Phoenix',\n",
       " 'Fifty Shades of Grey',\n",
       " 'Harry Potter and the Goblet of Fire',\n",
       " 'Harry Potter and the Chamber of Secrets',\n",
       " 'Harry Potter and the Prisoner of Azkaban',\n",
       " 'Angels and Demons',\n",
       " \"Harry Potter and the Half-blood Prince:Children's Edition\"]"
      ]
     },
     "execution_count": 32,
     "metadata": {},
     "output_type": "execute_result"
    }
   ],
   "source": [
    "book_name[0:10]"
   ]
  },
  {
   "cell_type": "code",
   "execution_count": 33,
   "id": "fc90632d",
   "metadata": {},
   "outputs": [
    {
     "name": "stdout",
     "output_type": "stream",
     "text": [
      "100\n",
      "['Brown, Dan', 'Rowling, J.K.', 'Rowling, J.K.', 'Rowling, J.K.']\n"
     ]
    }
   ],
   "source": [
    "author=[]\n",
    "a_tag=driver.find_elements(By.XPATH,'//td[@class=\"left\"]')\n",
    "for i in a_tag[2:501:5]:\n",
    "    author.append(i.text)\n",
    "    \n",
    "print(len(author))\n",
    "print(author[0:4])    "
   ]
  },
  {
   "cell_type": "code",
   "execution_count": 34,
   "id": "ec29e238",
   "metadata": {},
   "outputs": [
    {
     "name": "stdout",
     "output_type": "stream",
     "text": [
      "100\n",
      "['5,094,805', '4,475,152', '4,200,654', '4,179,479']\n"
     ]
    }
   ],
   "source": [
    "volume=[]\n",
    "v_tag=driver.find_elements(By.XPATH,'//td[@class=\"left\"]')\n",
    "for i in v_tag[3:501:5]:\n",
    "    volume.append(i.text)\n",
    "    \n",
    "print(len(volume))\n",
    "print(volume[0:4])"
   ]
  },
  {
   "cell_type": "code",
   "execution_count": 35,
   "id": "be5d5876",
   "metadata": {},
   "outputs": [
    {
     "name": "stdout",
     "output_type": "stream",
     "text": [
      "100\n",
      "['Transworld', 'Bloomsbury', 'Bloomsbury', 'Bloomsbury']\n"
     ]
    }
   ],
   "source": [
    "publisher=[]\n",
    "p_tag=driver.find_elements(By.XPATH,'//td[@class=\"left\"]')\n",
    "for i in p_tag[4:501:5]:\n",
    "    publisher.append(i.text)\n",
    "    \n",
    "print(len(publisher))\n",
    "print(publisher[0:4])"
   ]
  },
  {
   "cell_type": "code",
   "execution_count": 36,
   "id": "08949603",
   "metadata": {},
   "outputs": [
    {
     "name": "stdout",
     "output_type": "stream",
     "text": [
      "100\n",
      "['Crime, Thriller & Adventure', \"Children's Fiction\", \"Children's Fiction\", \"Children's Fiction\"]\n"
     ]
    }
   ],
   "source": [
    "genre=[]\n",
    "g_tag=driver.find_elements(By.XPATH,'//td[@class=\"last left\"]')\n",
    "for i in g_tag:\n",
    "    genre.append(i.text)\n",
    "    \n",
    "print(len(genre))\n",
    "print(genre[0:4])"
   ]
  },
  {
   "cell_type": "code",
   "execution_count": 37,
   "id": "5f4075f3",
   "metadata": {},
   "outputs": [
    {
     "data": {
      "text/html": [
       "<div>\n",
       "<style scoped>\n",
       "    .dataframe tbody tr th:only-of-type {\n",
       "        vertical-align: middle;\n",
       "    }\n",
       "\n",
       "    .dataframe tbody tr th {\n",
       "        vertical-align: top;\n",
       "    }\n",
       "\n",
       "    .dataframe thead th {\n",
       "        text-align: right;\n",
       "    }\n",
       "</style>\n",
       "<table border=\"1\" class=\"dataframe\">\n",
       "  <thead>\n",
       "    <tr style=\"text-align: right;\">\n",
       "      <th></th>\n",
       "      <th>BOOK_NAME</th>\n",
       "      <th>AUTHOR_NAME</th>\n",
       "      <th>VOLUMES_SOLD</th>\n",
       "      <th>PUBLISHER</th>\n",
       "      <th>GENRE</th>\n",
       "    </tr>\n",
       "  </thead>\n",
       "  <tbody>\n",
       "    <tr>\n",
       "      <th>1</th>\n",
       "      <td>Da Vinci Code,The</td>\n",
       "      <td>Brown, Dan</td>\n",
       "      <td>5,094,805</td>\n",
       "      <td>Transworld</td>\n",
       "      <td>Crime, Thriller &amp; Adventure</td>\n",
       "    </tr>\n",
       "    <tr>\n",
       "      <th>2</th>\n",
       "      <td>Harry Potter and the Deathly Hallows</td>\n",
       "      <td>Rowling, J.K.</td>\n",
       "      <td>4,475,152</td>\n",
       "      <td>Bloomsbury</td>\n",
       "      <td>Children's Fiction</td>\n",
       "    </tr>\n",
       "    <tr>\n",
       "      <th>3</th>\n",
       "      <td>Harry Potter and the Philosopher's Stone</td>\n",
       "      <td>Rowling, J.K.</td>\n",
       "      <td>4,200,654</td>\n",
       "      <td>Bloomsbury</td>\n",
       "      <td>Children's Fiction</td>\n",
       "    </tr>\n",
       "    <tr>\n",
       "      <th>4</th>\n",
       "      <td>Harry Potter and the Order of the Phoenix</td>\n",
       "      <td>Rowling, J.K.</td>\n",
       "      <td>4,179,479</td>\n",
       "      <td>Bloomsbury</td>\n",
       "      <td>Children's Fiction</td>\n",
       "    </tr>\n",
       "    <tr>\n",
       "      <th>5</th>\n",
       "      <td>Fifty Shades of Grey</td>\n",
       "      <td>James, E. L.</td>\n",
       "      <td>3,758,936</td>\n",
       "      <td>Random House</td>\n",
       "      <td>Romance &amp; Sagas</td>\n",
       "    </tr>\n",
       "    <tr>\n",
       "      <th>...</th>\n",
       "      <td>...</td>\n",
       "      <td>...</td>\n",
       "      <td>...</td>\n",
       "      <td>...</td>\n",
       "      <td>...</td>\n",
       "    </tr>\n",
       "    <tr>\n",
       "      <th>96</th>\n",
       "      <td>Ghost,The</td>\n",
       "      <td>Harris, Robert</td>\n",
       "      <td>807,311</td>\n",
       "      <td>Random House</td>\n",
       "      <td>General &amp; Literary Fiction</td>\n",
       "    </tr>\n",
       "    <tr>\n",
       "      <th>97</th>\n",
       "      <td>Happy Days with the Naked Chef</td>\n",
       "      <td>Oliver, Jamie</td>\n",
       "      <td>794,201</td>\n",
       "      <td>Penguin</td>\n",
       "      <td>Food &amp; Drink: General</td>\n",
       "    </tr>\n",
       "    <tr>\n",
       "      <th>98</th>\n",
       "      <td>Hunger Games,The:Hunger Games Trilogy</td>\n",
       "      <td>Collins, Suzanne</td>\n",
       "      <td>792,187</td>\n",
       "      <td>Scholastic Ltd.</td>\n",
       "      <td>Young Adult Fiction</td>\n",
       "    </tr>\n",
       "    <tr>\n",
       "      <th>99</th>\n",
       "      <td>Lost Boy,The:A Foster Child's Search for the L...</td>\n",
       "      <td>Pelzer, Dave</td>\n",
       "      <td>791,507</td>\n",
       "      <td>Orion</td>\n",
       "      <td>Biography: General</td>\n",
       "    </tr>\n",
       "    <tr>\n",
       "      <th>100</th>\n",
       "      <td>Jamie's Ministry of Food:Anyone Can Learn to C...</td>\n",
       "      <td>Oliver, Jamie</td>\n",
       "      <td>791,095</td>\n",
       "      <td>Penguin</td>\n",
       "      <td>Food &amp; Drink: General</td>\n",
       "    </tr>\n",
       "  </tbody>\n",
       "</table>\n",
       "<p>100 rows × 5 columns</p>\n",
       "</div>"
      ],
      "text/plain": [
       "                                             BOOK_NAME       AUTHOR_NAME  \\\n",
       "1                                    Da Vinci Code,The        Brown, Dan   \n",
       "2                 Harry Potter and the Deathly Hallows     Rowling, J.K.   \n",
       "3             Harry Potter and the Philosopher's Stone     Rowling, J.K.   \n",
       "4            Harry Potter and the Order of the Phoenix     Rowling, J.K.   \n",
       "5                                 Fifty Shades of Grey      James, E. L.   \n",
       "..                                                 ...               ...   \n",
       "96                                           Ghost,The    Harris, Robert   \n",
       "97                      Happy Days with the Naked Chef     Oliver, Jamie   \n",
       "98               Hunger Games,The:Hunger Games Trilogy  Collins, Suzanne   \n",
       "99   Lost Boy,The:A Foster Child's Search for the L...      Pelzer, Dave   \n",
       "100  Jamie's Ministry of Food:Anyone Can Learn to C...     Oliver, Jamie   \n",
       "\n",
       "    VOLUMES_SOLD        PUBLISHER                        GENRE  \n",
       "1      5,094,805       Transworld  Crime, Thriller & Adventure  \n",
       "2      4,475,152       Bloomsbury           Children's Fiction  \n",
       "3      4,200,654       Bloomsbury           Children's Fiction  \n",
       "4      4,179,479       Bloomsbury           Children's Fiction  \n",
       "5      3,758,936     Random House              Romance & Sagas  \n",
       "..           ...              ...                          ...  \n",
       "96       807,311     Random House   General & Literary Fiction  \n",
       "97       794,201          Penguin        Food & Drink: General  \n",
       "98       792,187  Scholastic Ltd.          Young Adult Fiction  \n",
       "99       791,507            Orion           Biography: General  \n",
       "100      791,095          Penguin        Food & Drink: General  \n",
       "\n",
       "[100 rows x 5 columns]"
      ]
     },
     "execution_count": 37,
     "metadata": {},
     "output_type": "execute_result"
    }
   ],
   "source": [
    "df=pd.DataFrame(data={'BOOK_NAME':book_name,'AUTHOR_NAME':author,'VOLUMES_SOLD':volume,'PUBLISHER':publisher,'GENRE':genre},index=range(1,101))\n",
    "df"
   ]
  },
  {
   "cell_type": "code",
   "execution_count": 38,
   "id": "1c462e12",
   "metadata": {},
   "outputs": [],
   "source": [
    "df.to_csv('Top100_best_selling_books_alltime.csv')"
   ]
  },
  {
   "cell_type": "code",
   "execution_count": 39,
   "id": "d73e857a",
   "metadata": {},
   "outputs": [
    {
     "data": {
      "text/html": [
       "<div>\n",
       "<style scoped>\n",
       "    .dataframe tbody tr th:only-of-type {\n",
       "        vertical-align: middle;\n",
       "    }\n",
       "\n",
       "    .dataframe tbody tr th {\n",
       "        vertical-align: top;\n",
       "    }\n",
       "\n",
       "    .dataframe thead th {\n",
       "        text-align: right;\n",
       "    }\n",
       "</style>\n",
       "<table border=\"1\" class=\"dataframe\">\n",
       "  <thead>\n",
       "    <tr style=\"text-align: right;\">\n",
       "      <th></th>\n",
       "      <th>Unnamed: 0</th>\n",
       "      <th>BOOK_NAME</th>\n",
       "      <th>AUTHOR_NAME</th>\n",
       "      <th>VOLUMES_SOLD</th>\n",
       "      <th>PUBLISHER</th>\n",
       "      <th>GENRE</th>\n",
       "    </tr>\n",
       "  </thead>\n",
       "  <tbody>\n",
       "    <tr>\n",
       "      <th>0</th>\n",
       "      <td>1</td>\n",
       "      <td>Da Vinci Code,The</td>\n",
       "      <td>Brown, Dan</td>\n",
       "      <td>5,094,805</td>\n",
       "      <td>Transworld</td>\n",
       "      <td>Crime, Thriller &amp; Adventure</td>\n",
       "    </tr>\n",
       "    <tr>\n",
       "      <th>1</th>\n",
       "      <td>2</td>\n",
       "      <td>Harry Potter and the Deathly Hallows</td>\n",
       "      <td>Rowling, J.K.</td>\n",
       "      <td>4,475,152</td>\n",
       "      <td>Bloomsbury</td>\n",
       "      <td>Children's Fiction</td>\n",
       "    </tr>\n",
       "    <tr>\n",
       "      <th>2</th>\n",
       "      <td>3</td>\n",
       "      <td>Harry Potter and the Philosopher's Stone</td>\n",
       "      <td>Rowling, J.K.</td>\n",
       "      <td>4,200,654</td>\n",
       "      <td>Bloomsbury</td>\n",
       "      <td>Children's Fiction</td>\n",
       "    </tr>\n",
       "    <tr>\n",
       "      <th>3</th>\n",
       "      <td>4</td>\n",
       "      <td>Harry Potter and the Order of the Phoenix</td>\n",
       "      <td>Rowling, J.K.</td>\n",
       "      <td>4,179,479</td>\n",
       "      <td>Bloomsbury</td>\n",
       "      <td>Children's Fiction</td>\n",
       "    </tr>\n",
       "    <tr>\n",
       "      <th>4</th>\n",
       "      <td>5</td>\n",
       "      <td>Fifty Shades of Grey</td>\n",
       "      <td>James, E. L.</td>\n",
       "      <td>3,758,936</td>\n",
       "      <td>Random House</td>\n",
       "      <td>Romance &amp; Sagas</td>\n",
       "    </tr>\n",
       "    <tr>\n",
       "      <th>...</th>\n",
       "      <td>...</td>\n",
       "      <td>...</td>\n",
       "      <td>...</td>\n",
       "      <td>...</td>\n",
       "      <td>...</td>\n",
       "      <td>...</td>\n",
       "    </tr>\n",
       "    <tr>\n",
       "      <th>95</th>\n",
       "      <td>96</td>\n",
       "      <td>Ghost,The</td>\n",
       "      <td>Harris, Robert</td>\n",
       "      <td>807,311</td>\n",
       "      <td>Random House</td>\n",
       "      <td>General &amp; Literary Fiction</td>\n",
       "    </tr>\n",
       "    <tr>\n",
       "      <th>96</th>\n",
       "      <td>97</td>\n",
       "      <td>Happy Days with the Naked Chef</td>\n",
       "      <td>Oliver, Jamie</td>\n",
       "      <td>794,201</td>\n",
       "      <td>Penguin</td>\n",
       "      <td>Food &amp; Drink: General</td>\n",
       "    </tr>\n",
       "    <tr>\n",
       "      <th>97</th>\n",
       "      <td>98</td>\n",
       "      <td>Hunger Games,The:Hunger Games Trilogy</td>\n",
       "      <td>Collins, Suzanne</td>\n",
       "      <td>792,187</td>\n",
       "      <td>Scholastic Ltd.</td>\n",
       "      <td>Young Adult Fiction</td>\n",
       "    </tr>\n",
       "    <tr>\n",
       "      <th>98</th>\n",
       "      <td>99</td>\n",
       "      <td>Lost Boy,The:A Foster Child's Search for the L...</td>\n",
       "      <td>Pelzer, Dave</td>\n",
       "      <td>791,507</td>\n",
       "      <td>Orion</td>\n",
       "      <td>Biography: General</td>\n",
       "    </tr>\n",
       "    <tr>\n",
       "      <th>99</th>\n",
       "      <td>100</td>\n",
       "      <td>Jamie's Ministry of Food:Anyone Can Learn to C...</td>\n",
       "      <td>Oliver, Jamie</td>\n",
       "      <td>791,095</td>\n",
       "      <td>Penguin</td>\n",
       "      <td>Food &amp; Drink: General</td>\n",
       "    </tr>\n",
       "  </tbody>\n",
       "</table>\n",
       "<p>100 rows × 6 columns</p>\n",
       "</div>"
      ],
      "text/plain": [
       "    Unnamed: 0                                          BOOK_NAME  \\\n",
       "0            1                                  Da Vinci Code,The   \n",
       "1            2               Harry Potter and the Deathly Hallows   \n",
       "2            3           Harry Potter and the Philosopher's Stone   \n",
       "3            4          Harry Potter and the Order of the Phoenix   \n",
       "4            5                               Fifty Shades of Grey   \n",
       "..         ...                                                ...   \n",
       "95          96                                          Ghost,The   \n",
       "96          97                     Happy Days with the Naked Chef   \n",
       "97          98              Hunger Games,The:Hunger Games Trilogy   \n",
       "98          99  Lost Boy,The:A Foster Child's Search for the L...   \n",
       "99         100  Jamie's Ministry of Food:Anyone Can Learn to C...   \n",
       "\n",
       "         AUTHOR_NAME VOLUMES_SOLD        PUBLISHER  \\\n",
       "0         Brown, Dan    5,094,805       Transworld   \n",
       "1      Rowling, J.K.    4,475,152       Bloomsbury   \n",
       "2      Rowling, J.K.    4,200,654       Bloomsbury   \n",
       "3      Rowling, J.K.    4,179,479       Bloomsbury   \n",
       "4       James, E. L.    3,758,936     Random House   \n",
       "..               ...          ...              ...   \n",
       "95    Harris, Robert      807,311     Random House   \n",
       "96     Oliver, Jamie      794,201          Penguin   \n",
       "97  Collins, Suzanne      792,187  Scholastic Ltd.   \n",
       "98      Pelzer, Dave      791,507            Orion   \n",
       "99     Oliver, Jamie      791,095          Penguin   \n",
       "\n",
       "                          GENRE  \n",
       "0   Crime, Thriller & Adventure  \n",
       "1            Children's Fiction  \n",
       "2            Children's Fiction  \n",
       "3            Children's Fiction  \n",
       "4               Romance & Sagas  \n",
       "..                          ...  \n",
       "95   General & Literary Fiction  \n",
       "96        Food & Drink: General  \n",
       "97          Young Adult Fiction  \n",
       "98           Biography: General  \n",
       "99        Food & Drink: General  \n",
       "\n",
       "[100 rows x 6 columns]"
      ]
     },
     "execution_count": 39,
     "metadata": {},
     "output_type": "execute_result"
    }
   ],
   "source": [
    "newbook=pd.read_csv('Top100_best_selling_books_alltime.csv')\n",
    "newbook"
   ]
  },
  {
   "cell_type": "code",
   "execution_count": 40,
   "id": "72d4259f",
   "metadata": {},
   "outputs": [],
   "source": [
    "driver.close()"
   ]
  },
  {
   "cell_type": "markdown",
   "id": "d838561f",
   "metadata": {},
   "source": [
    "# 9. Scrape the details most watched tv series of all time from imdb.com.\n",
    "Url = https://www.imdb.com/list/ls095964455/\n",
    "    \n",
    "You have to find the following details:\n",
    "    \n",
    "A) Name\n",
    "\n",
    "B) Year span\n",
    "\n",
    "C) Genre\n",
    "\n",
    "D) Run time\n",
    "\n",
    "E) Ratings\n",
    "\n",
    "F) Votes"
   ]
  },
  {
   "cell_type": "code",
   "execution_count": 41,
   "id": "1d7cc264",
   "metadata": {},
   "outputs": [],
   "source": [
    "driver=webdriver.Chrome(r'C:\\Users\\S.Ramaa Devi\\Downloads\\chromedriver_win32 (7)\\chromedriver.exe')\n",
    "driver.get('https://www.imdb.com/list/ls095964455/')"
   ]
  },
  {
   "cell_type": "code",
   "execution_count": 42,
   "id": "fcf8c97a",
   "metadata": {},
   "outputs": [
    {
     "data": {
      "text/plain": [
       "100"
      ]
     },
     "execution_count": 42,
     "metadata": {},
     "output_type": "execute_result"
    }
   ],
   "source": [
    "name=[]\n",
    "n_tag=driver.find_elements(By.XPATH,'//h3[@class=\"lister-item-header\"]')\n",
    "for i in n_tag:\n",
    "    name.append(i.text.split('|')[0])\n",
    "    \n",
    "len(name)    "
   ]
  },
  {
   "cell_type": "code",
   "execution_count": 43,
   "id": "ee0221c2",
   "metadata": {},
   "outputs": [
    {
     "data": {
      "text/plain": [
       "100"
      ]
     },
     "execution_count": 43,
     "metadata": {},
     "output_type": "execute_result"
    }
   ],
   "source": [
    "year=[]\n",
    "y_tag=driver.find_elements(By.XPATH,'//span[@class=\"lister-item-year text-muted unbold\"]')\n",
    "for i in y_tag:\n",
    "    year.append(i.text)\n",
    "    \n",
    "len(year)    "
   ]
  },
  {
   "cell_type": "code",
   "execution_count": 44,
   "id": "ef66b468",
   "metadata": {},
   "outputs": [
    {
     "data": {
      "text/plain": [
       "['(2011–2019)', '(2016– )', '(2010–2022)', '(2017–2020)']"
      ]
     },
     "execution_count": 44,
     "metadata": {},
     "output_type": "execute_result"
    }
   ],
   "source": [
    " year[0:4]"
   ]
  },
  {
   "cell_type": "code",
   "execution_count": 45,
   "id": "cd5db7bb",
   "metadata": {},
   "outputs": [
    {
     "data": {
      "text/plain": [
       "100"
      ]
     },
     "execution_count": 45,
     "metadata": {},
     "output_type": "execute_result"
    }
   ],
   "source": [
    "genre=[]\n",
    "g_tag=driver.find_elements(By.XPATH,'//span[@class=\"genre\"]')\n",
    "for i in g_tag:\n",
    "    genre.append(i.text)\n",
    "    \n",
    "len(genre)    "
   ]
  },
  {
   "cell_type": "code",
   "execution_count": 46,
   "id": "eb4c6f2d",
   "metadata": {},
   "outputs": [
    {
     "data": {
      "text/plain": [
       "['Action, Adventure, Drama',\n",
       " 'Drama, Fantasy, Horror',\n",
       " 'Drama, Horror, Thriller',\n",
       " 'Drama, Mystery, Thriller']"
      ]
     },
     "execution_count": 46,
     "metadata": {},
     "output_type": "execute_result"
    }
   ],
   "source": [
    "genre[0:4]"
   ]
  },
  {
   "cell_type": "code",
   "execution_count": 47,
   "id": "cf440cee",
   "metadata": {},
   "outputs": [
    {
     "data": {
      "text/plain": [
       "100"
      ]
     },
     "execution_count": 47,
     "metadata": {},
     "output_type": "execute_result"
    }
   ],
   "source": [
    "runtime=[]\n",
    "r_tag=driver.find_elements(By.XPATH,'//span[@class=\"runtime\"]')\n",
    "for i in r_tag:\n",
    "    runtime.append(i.text)\n",
    "    \n",
    "len(runtime)    "
   ]
  },
  {
   "cell_type": "code",
   "execution_count": 48,
   "id": "3975e074",
   "metadata": {},
   "outputs": [
    {
     "data": {
      "text/plain": [
       "['57 min', '51 min', '44 min', '60 min']"
      ]
     },
     "execution_count": 48,
     "metadata": {},
     "output_type": "execute_result"
    }
   ],
   "source": [
    "runtime[0:4]"
   ]
  },
  {
   "cell_type": "code",
   "execution_count": 49,
   "id": "dbbd69bb",
   "metadata": {},
   "outputs": [
    {
     "data": {
      "text/plain": [
       "100"
      ]
     },
     "execution_count": 49,
     "metadata": {},
     "output_type": "execute_result"
    }
   ],
   "source": [
    "ratings=[]\n",
    "ra_tag=driver.find_elements(By.XPATH,'//div[@class=\"ipl-rating-star small\"]')\n",
    "for i in ra_tag:\n",
    "    ratings.append(i.text)\n",
    "    \n",
    "len(ratings)    "
   ]
  },
  {
   "cell_type": "code",
   "execution_count": 50,
   "id": "770aa654",
   "metadata": {},
   "outputs": [
    {
     "data": {
      "text/plain": [
       "['9.2', '8.7', '8.1', '7.5']"
      ]
     },
     "execution_count": 50,
     "metadata": {},
     "output_type": "execute_result"
    }
   ],
   "source": [
    "ratings[0:4]"
   ]
  },
  {
   "cell_type": "code",
   "execution_count": 51,
   "id": "4cbb8771",
   "metadata": {},
   "outputs": [
    {
     "data": {
      "text/plain": [
       "100"
      ]
     },
     "execution_count": 51,
     "metadata": {},
     "output_type": "execute_result"
    }
   ],
   "source": [
    "votes=[]\n",
    "v_tag=driver.find_elements(By.XPATH,'//span[@name=\"nv\"]')\n",
    "for i in v_tag:\n",
    "    votes.append(i.text)\n",
    "    \n",
    "len(votes)    "
   ]
  },
  {
   "cell_type": "code",
   "execution_count": 52,
   "id": "26afdf31",
   "metadata": {},
   "outputs": [
    {
     "data": {
      "text/plain": [
       "['2,099,490', '1,189,740', '993,873', '294,124']"
      ]
     },
     "execution_count": 52,
     "metadata": {},
     "output_type": "execute_result"
    }
   ],
   "source": [
    "votes[0:4]"
   ]
  },
  {
   "cell_type": "code",
   "execution_count": 53,
   "id": "1b363f13",
   "metadata": {},
   "outputs": [
    {
     "name": "stdout",
     "output_type": "stream",
     "text": [
      "100 100 100 100 100 100\n"
     ]
    }
   ],
   "source": [
    "print(len(name),len(year),len(genre),len(runtime),len(ratings),len(votes))"
   ]
  },
  {
   "cell_type": "code",
   "execution_count": 54,
   "id": "5f580809",
   "metadata": {},
   "outputs": [
    {
     "data": {
      "text/html": [
       "<div>\n",
       "<style scoped>\n",
       "    .dataframe tbody tr th:only-of-type {\n",
       "        vertical-align: middle;\n",
       "    }\n",
       "\n",
       "    .dataframe tbody tr th {\n",
       "        vertical-align: top;\n",
       "    }\n",
       "\n",
       "    .dataframe thead th {\n",
       "        text-align: right;\n",
       "    }\n",
       "</style>\n",
       "<table border=\"1\" class=\"dataframe\">\n",
       "  <thead>\n",
       "    <tr style=\"text-align: right;\">\n",
       "      <th></th>\n",
       "      <th>SHOW_NAME</th>\n",
       "      <th>YEAR_SPAN</th>\n",
       "      <th>GENRE</th>\n",
       "      <th>RUNTIME</th>\n",
       "      <th>RATINGS</th>\n",
       "      <th>VOTES</th>\n",
       "    </tr>\n",
       "  </thead>\n",
       "  <tbody>\n",
       "    <tr>\n",
       "      <th>1</th>\n",
       "      <td>1. Game of Thrones (2011–2019)</td>\n",
       "      <td>(2011–2019)</td>\n",
       "      <td>Action, Adventure, Drama</td>\n",
       "      <td>57 min</td>\n",
       "      <td>9.2</td>\n",
       "      <td>2,099,490</td>\n",
       "    </tr>\n",
       "    <tr>\n",
       "      <th>2</th>\n",
       "      <td>2. Stranger Things (2016– )</td>\n",
       "      <td>(2016– )</td>\n",
       "      <td>Drama, Fantasy, Horror</td>\n",
       "      <td>51 min</td>\n",
       "      <td>8.7</td>\n",
       "      <td>1,189,740</td>\n",
       "    </tr>\n",
       "    <tr>\n",
       "      <th>3</th>\n",
       "      <td>3. The Walking Dead (2010–2022)</td>\n",
       "      <td>(2010–2022)</td>\n",
       "      <td>Drama, Horror, Thriller</td>\n",
       "      <td>44 min</td>\n",
       "      <td>8.1</td>\n",
       "      <td>993,873</td>\n",
       "    </tr>\n",
       "    <tr>\n",
       "      <th>4</th>\n",
       "      <td>4. 13 Reasons Why (2017–2020)</td>\n",
       "      <td>(2017–2020)</td>\n",
       "      <td>Drama, Mystery, Thriller</td>\n",
       "      <td>60 min</td>\n",
       "      <td>7.5</td>\n",
       "      <td>294,124</td>\n",
       "    </tr>\n",
       "    <tr>\n",
       "      <th>5</th>\n",
       "      <td>5. The 100 (2014–2020)</td>\n",
       "      <td>(2014–2020)</td>\n",
       "      <td>Drama, Mystery, Sci-Fi</td>\n",
       "      <td>43 min</td>\n",
       "      <td>7.6</td>\n",
       "      <td>253,247</td>\n",
       "    </tr>\n",
       "    <tr>\n",
       "      <th>...</th>\n",
       "      <td>...</td>\n",
       "      <td>...</td>\n",
       "      <td>...</td>\n",
       "      <td>...</td>\n",
       "      <td>...</td>\n",
       "      <td>...</td>\n",
       "    </tr>\n",
       "    <tr>\n",
       "      <th>96</th>\n",
       "      <td>96. Reign (2013–2017)</td>\n",
       "      <td>(2013–2017)</td>\n",
       "      <td>Drama</td>\n",
       "      <td>42 min</td>\n",
       "      <td>7.4</td>\n",
       "      <td>50,362</td>\n",
       "    </tr>\n",
       "    <tr>\n",
       "      <th>97</th>\n",
       "      <td>97. A Series of Unfortunate Events (2017–2019)</td>\n",
       "      <td>(2017–2019)</td>\n",
       "      <td>Adventure, Comedy, Drama</td>\n",
       "      <td>50 min</td>\n",
       "      <td>7.8</td>\n",
       "      <td>61,951</td>\n",
       "    </tr>\n",
       "    <tr>\n",
       "      <th>98</th>\n",
       "      <td>98. Criminal Minds (2005– )</td>\n",
       "      <td>(2005– )</td>\n",
       "      <td>Crime, Drama, Mystery</td>\n",
       "      <td>42 min</td>\n",
       "      <td>8.1</td>\n",
       "      <td>199,844</td>\n",
       "    </tr>\n",
       "    <tr>\n",
       "      <th>99</th>\n",
       "      <td>99. Scream: The TV Series (2015–2019)</td>\n",
       "      <td>(2015–2019)</td>\n",
       "      <td>Comedy, Crime, Drama</td>\n",
       "      <td>45 min</td>\n",
       "      <td>7.1</td>\n",
       "      <td>41,701</td>\n",
       "    </tr>\n",
       "    <tr>\n",
       "      <th>100</th>\n",
       "      <td>100. The Haunting of Hill House (2018)</td>\n",
       "      <td>(2018)</td>\n",
       "      <td>Drama, Horror, Mystery</td>\n",
       "      <td>572 min</td>\n",
       "      <td>8.6</td>\n",
       "      <td>246,857</td>\n",
       "    </tr>\n",
       "  </tbody>\n",
       "</table>\n",
       "<p>100 rows × 6 columns</p>\n",
       "</div>"
      ],
      "text/plain": [
       "                                          SHOW_NAME    YEAR_SPAN  \\\n",
       "1                    1. Game of Thrones (2011–2019)  (2011–2019)   \n",
       "2                       2. Stranger Things (2016– )     (2016– )   \n",
       "3                   3. The Walking Dead (2010–2022)  (2010–2022)   \n",
       "4                     4. 13 Reasons Why (2017–2020)  (2017–2020)   \n",
       "5                            5. The 100 (2014–2020)  (2014–2020)   \n",
       "..                                              ...          ...   \n",
       "96                            96. Reign (2013–2017)  (2013–2017)   \n",
       "97   97. A Series of Unfortunate Events (2017–2019)  (2017–2019)   \n",
       "98                      98. Criminal Minds (2005– )     (2005– )   \n",
       "99            99. Scream: The TV Series (2015–2019)  (2015–2019)   \n",
       "100          100. The Haunting of Hill House (2018)       (2018)   \n",
       "\n",
       "                        GENRE  RUNTIME RATINGS      VOTES  \n",
       "1    Action, Adventure, Drama   57 min     9.2  2,099,490  \n",
       "2      Drama, Fantasy, Horror   51 min     8.7  1,189,740  \n",
       "3     Drama, Horror, Thriller   44 min     8.1    993,873  \n",
       "4    Drama, Mystery, Thriller   60 min     7.5    294,124  \n",
       "5      Drama, Mystery, Sci-Fi   43 min     7.6    253,247  \n",
       "..                        ...      ...     ...        ...  \n",
       "96                      Drama   42 min     7.4     50,362  \n",
       "97   Adventure, Comedy, Drama   50 min     7.8     61,951  \n",
       "98      Crime, Drama, Mystery   42 min     8.1    199,844  \n",
       "99       Comedy, Crime, Drama   45 min     7.1     41,701  \n",
       "100    Drama, Horror, Mystery  572 min     8.6    246,857  \n",
       "\n",
       "[100 rows x 6 columns]"
      ]
     },
     "execution_count": 54,
     "metadata": {},
     "output_type": "execute_result"
    }
   ],
   "source": [
    "df=pd.DataFrame(data={'SHOW_NAME':name,'YEAR_SPAN':year,'GENRE':genre,'RUNTIME':runtime,'RATINGS':ratings,'VOTES':votes},index=range(1,101))\n",
    "df"
   ]
  },
  {
   "cell_type": "code",
   "execution_count": 55,
   "id": "8df84306",
   "metadata": {},
   "outputs": [],
   "source": [
    "df.to_csv('Most_watched_100_TV_shows')"
   ]
  },
  {
   "cell_type": "code",
   "execution_count": 56,
   "id": "e3089e41",
   "metadata": {},
   "outputs": [
    {
     "data": {
      "text/html": [
       "<div>\n",
       "<style scoped>\n",
       "    .dataframe tbody tr th:only-of-type {\n",
       "        vertical-align: middle;\n",
       "    }\n",
       "\n",
       "    .dataframe tbody tr th {\n",
       "        vertical-align: top;\n",
       "    }\n",
       "\n",
       "    .dataframe thead th {\n",
       "        text-align: right;\n",
       "    }\n",
       "</style>\n",
       "<table border=\"1\" class=\"dataframe\">\n",
       "  <thead>\n",
       "    <tr style=\"text-align: right;\">\n",
       "      <th></th>\n",
       "      <th>Unnamed: 0</th>\n",
       "      <th>SHOW_NAME</th>\n",
       "      <th>YEAR_SPAN</th>\n",
       "      <th>GENRE</th>\n",
       "      <th>RUNTIME</th>\n",
       "      <th>RATINGS</th>\n",
       "      <th>VOTES</th>\n",
       "    </tr>\n",
       "  </thead>\n",
       "  <tbody>\n",
       "    <tr>\n",
       "      <th>0</th>\n",
       "      <td>1</td>\n",
       "      <td>1. Game of Thrones (2011–2019)</td>\n",
       "      <td>(2011–2019)</td>\n",
       "      <td>Action, Adventure, Drama</td>\n",
       "      <td>57 min</td>\n",
       "      <td>9.2</td>\n",
       "      <td>2,099,490</td>\n",
       "    </tr>\n",
       "    <tr>\n",
       "      <th>1</th>\n",
       "      <td>2</td>\n",
       "      <td>2. Stranger Things (2016– )</td>\n",
       "      <td>(2016– )</td>\n",
       "      <td>Drama, Fantasy, Horror</td>\n",
       "      <td>51 min</td>\n",
       "      <td>8.7</td>\n",
       "      <td>1,189,740</td>\n",
       "    </tr>\n",
       "    <tr>\n",
       "      <th>2</th>\n",
       "      <td>3</td>\n",
       "      <td>3. The Walking Dead (2010–2022)</td>\n",
       "      <td>(2010–2022)</td>\n",
       "      <td>Drama, Horror, Thriller</td>\n",
       "      <td>44 min</td>\n",
       "      <td>8.1</td>\n",
       "      <td>993,873</td>\n",
       "    </tr>\n",
       "    <tr>\n",
       "      <th>3</th>\n",
       "      <td>4</td>\n",
       "      <td>4. 13 Reasons Why (2017–2020)</td>\n",
       "      <td>(2017–2020)</td>\n",
       "      <td>Drama, Mystery, Thriller</td>\n",
       "      <td>60 min</td>\n",
       "      <td>7.5</td>\n",
       "      <td>294,124</td>\n",
       "    </tr>\n",
       "    <tr>\n",
       "      <th>4</th>\n",
       "      <td>5</td>\n",
       "      <td>5. The 100 (2014–2020)</td>\n",
       "      <td>(2014–2020)</td>\n",
       "      <td>Drama, Mystery, Sci-Fi</td>\n",
       "      <td>43 min</td>\n",
       "      <td>7.6</td>\n",
       "      <td>253,247</td>\n",
       "    </tr>\n",
       "    <tr>\n",
       "      <th>...</th>\n",
       "      <td>...</td>\n",
       "      <td>...</td>\n",
       "      <td>...</td>\n",
       "      <td>...</td>\n",
       "      <td>...</td>\n",
       "      <td>...</td>\n",
       "      <td>...</td>\n",
       "    </tr>\n",
       "    <tr>\n",
       "      <th>95</th>\n",
       "      <td>96</td>\n",
       "      <td>96. Reign (2013–2017)</td>\n",
       "      <td>(2013–2017)</td>\n",
       "      <td>Drama</td>\n",
       "      <td>42 min</td>\n",
       "      <td>7.4</td>\n",
       "      <td>50,362</td>\n",
       "    </tr>\n",
       "    <tr>\n",
       "      <th>96</th>\n",
       "      <td>97</td>\n",
       "      <td>97. A Series of Unfortunate Events (2017–2019)</td>\n",
       "      <td>(2017–2019)</td>\n",
       "      <td>Adventure, Comedy, Drama</td>\n",
       "      <td>50 min</td>\n",
       "      <td>7.8</td>\n",
       "      <td>61,951</td>\n",
       "    </tr>\n",
       "    <tr>\n",
       "      <th>97</th>\n",
       "      <td>98</td>\n",
       "      <td>98. Criminal Minds (2005– )</td>\n",
       "      <td>(2005– )</td>\n",
       "      <td>Crime, Drama, Mystery</td>\n",
       "      <td>42 min</td>\n",
       "      <td>8.1</td>\n",
       "      <td>199,844</td>\n",
       "    </tr>\n",
       "    <tr>\n",
       "      <th>98</th>\n",
       "      <td>99</td>\n",
       "      <td>99. Scream: The TV Series (2015–2019)</td>\n",
       "      <td>(2015–2019)</td>\n",
       "      <td>Comedy, Crime, Drama</td>\n",
       "      <td>45 min</td>\n",
       "      <td>7.1</td>\n",
       "      <td>41,701</td>\n",
       "    </tr>\n",
       "    <tr>\n",
       "      <th>99</th>\n",
       "      <td>100</td>\n",
       "      <td>100. The Haunting of Hill House (2018)</td>\n",
       "      <td>(2018)</td>\n",
       "      <td>Drama, Horror, Mystery</td>\n",
       "      <td>572 min</td>\n",
       "      <td>8.6</td>\n",
       "      <td>246,857</td>\n",
       "    </tr>\n",
       "  </tbody>\n",
       "</table>\n",
       "<p>100 rows × 7 columns</p>\n",
       "</div>"
      ],
      "text/plain": [
       "    Unnamed: 0                                       SHOW_NAME    YEAR_SPAN  \\\n",
       "0            1                  1. Game of Thrones (2011–2019)  (2011–2019)   \n",
       "1            2                     2. Stranger Things (2016– )     (2016– )   \n",
       "2            3                 3. The Walking Dead (2010–2022)  (2010–2022)   \n",
       "3            4                   4. 13 Reasons Why (2017–2020)  (2017–2020)   \n",
       "4            5                          5. The 100 (2014–2020)  (2014–2020)   \n",
       "..         ...                                             ...          ...   \n",
       "95          96                           96. Reign (2013–2017)  (2013–2017)   \n",
       "96          97  97. A Series of Unfortunate Events (2017–2019)  (2017–2019)   \n",
       "97          98                     98. Criminal Minds (2005– )     (2005– )   \n",
       "98          99           99. Scream: The TV Series (2015–2019)  (2015–2019)   \n",
       "99         100          100. The Haunting of Hill House (2018)       (2018)   \n",
       "\n",
       "                       GENRE  RUNTIME  RATINGS      VOTES  \n",
       "0   Action, Adventure, Drama   57 min      9.2  2,099,490  \n",
       "1     Drama, Fantasy, Horror   51 min      8.7  1,189,740  \n",
       "2    Drama, Horror, Thriller   44 min      8.1    993,873  \n",
       "3   Drama, Mystery, Thriller   60 min      7.5    294,124  \n",
       "4     Drama, Mystery, Sci-Fi   43 min      7.6    253,247  \n",
       "..                       ...      ...      ...        ...  \n",
       "95                     Drama   42 min      7.4     50,362  \n",
       "96  Adventure, Comedy, Drama   50 min      7.8     61,951  \n",
       "97     Crime, Drama, Mystery   42 min      8.1    199,844  \n",
       "98      Comedy, Crime, Drama   45 min      7.1     41,701  \n",
       "99    Drama, Horror, Mystery  572 min      8.6    246,857  \n",
       "\n",
       "[100 rows x 7 columns]"
      ]
     },
     "execution_count": 56,
     "metadata": {},
     "output_type": "execute_result"
    }
   ],
   "source": [
    "newtv=pd.read_csv('Most_watched_100_TV_shows')\n",
    "newtv"
   ]
  },
  {
   "cell_type": "code",
   "execution_count": 57,
   "id": "1defe308",
   "metadata": {},
   "outputs": [],
   "source": [
    "driver.close()"
   ]
  },
  {
   "cell_type": "markdown",
   "id": "62b1427f",
   "metadata": {},
   "source": [
    "# 10. Details of Datasets from UCI machine learning repositories.\n",
    "Url = https://archive.ics.uci.edu/\n",
    "    \n",
    "You have to find the following details:\n",
    "    \n",
    "A) Dataset name\n",
    "\n",
    "B) Data type\n",
    "\n",
    "C) Task\n",
    "\n",
    "D) Attribute type\n",
    "\n",
    "E) No of instances\n",
    "\n",
    "F) No of attribute\n",
    "\n",
    "G) Year\n",
    "\n",
    "Note: - from the home page you have to go to the ShowAllDataset page through code."
   ]
  },
  {
   "cell_type": "code",
   "execution_count": 58,
   "id": "201a1bd6",
   "metadata": {},
   "outputs": [],
   "source": [
    "driver=webdriver.Chrome(r'C:\\Users\\S.Ramaa Devi\\Downloads\\chromedriver_win32 (7)\\chromedriver.exe')\n",
    "driver.get('https://archive.ics.uci.edu/')"
   ]
  },
  {
   "cell_type": "code",
   "execution_count": 59,
   "id": "bed33ec7",
   "metadata": {},
   "outputs": [],
   "source": [
    "search=driver.find_element(By.XPATH,'/html/body/table[1]/tbody/tr/td[2]/span[2]/a')\n",
    "search.click()"
   ]
  },
  {
   "cell_type": "code",
   "execution_count": 60,
   "id": "600b5a89",
   "metadata": {},
   "outputs": [
    {
     "name": "stdout",
     "output_type": "stream",
     "text": [
      "623\n",
      "['Abalone', 'Adult', 'Annealing', 'Anonymous Microsoft Web Data']\n"
     ]
    }
   ],
   "source": [
    "name=[]\n",
    "n_tag=driver.find_elements(By.XPATH,'//p[@class=\"normal\"]')\n",
    "for i in n_tag[8:4364:7]:\n",
    "    name.append(i.text)\n",
    "    \n",
    "print(len(name))\n",
    "print(name[0:4])"
   ]
  },
  {
   "cell_type": "code",
   "execution_count": 61,
   "id": "ba71fa0b",
   "metadata": {},
   "outputs": [
    {
     "name": "stdout",
     "output_type": "stream",
     "text": [
      "623\n",
      "['Multivariate ', 'Multivariate ', 'Multivariate ', ' ']\n"
     ]
    }
   ],
   "source": [
    "d_type=[]\n",
    " \n",
    "try:\n",
    "    t_tag=driver.find_elements(By.XPATH,'//p[@class=\"normal\"]')\n",
    "    for i in t_tag[9:4364:7]:\n",
    "        d_type.append(i.text)\n",
    "except NoSuchElementException as e:\n",
    "    d_type.append('-')\n",
    "    \n",
    "print(len(d_type))\n",
    "print(d_type[0:4])"
   ]
  },
  {
   "cell_type": "code",
   "execution_count": 62,
   "id": "08390040",
   "metadata": {},
   "outputs": [
    {
     "name": "stdout",
     "output_type": "stream",
     "text": [
      "622\n",
      "['Classification ', 'Classification ', 'Classification ', 'Recommender-Systems ']\n"
     ]
    }
   ],
   "source": [
    "d_task=[]\n",
    " \n",
    "try:\n",
    "    ta_tag=driver.find_elements(By.XPATH,'//p[@class=\"normal\"]')\n",
    "    for i in ta_tag[10:4364:7]:\n",
    "        d_task.append(i.text)\n",
    "except NoSuchElementException as e:\n",
    "    d_task.append('-')\n",
    "    \n",
    "print(len(d_task))\n",
    "print(d_task[0:4])"
   ]
  },
  {
   "cell_type": "code",
   "execution_count": 63,
   "id": "6f082eb6",
   "metadata": {},
   "outputs": [
    {
     "name": "stdout",
     "output_type": "stream",
     "text": [
      "622\n",
      "['Categorical, Integer, Real ', 'Categorical, Integer ', 'Categorical, Integer, Real ', 'Categorical ']\n"
     ]
    }
   ],
   "source": [
    "a_type=[]\n",
    " \n",
    "try:\n",
    "    a_tag=driver.find_elements(By.XPATH,'//p[@class=\"normal\"]')\n",
    "    for i in a_tag[11:4364:7]:\n",
    "        a_type.append(i.text)\n",
    "except NoSuchElementException as e:\n",
    "    a_type.append('-')\n",
    "    \n",
    "print(len(a_type))\n",
    "print(a_type[0:4])"
   ]
  },
  {
   "cell_type": "code",
   "execution_count": 65,
   "id": "66a23fd3",
   "metadata": {},
   "outputs": [
    {
     "name": "stdout",
     "output_type": "stream",
     "text": [
      "622\n",
      "['4177 ', '48842 ', '798 ', '37711 ']\n"
     ]
    }
   ],
   "source": [
    "instance=[]\n",
    " \n",
    "try:\n",
    "    in_tag=driver.find_elements(By.XPATH,'//p[@class=\"normal\"]')\n",
    "    for i in in_tag[12:4364:7]:\n",
    "        instance.append(i.text)\n",
    "except NoSuchElementException as e:\n",
    "    instance.append('-')\n",
    "    \n",
    "print(len(instance))\n",
    "print(instance[0:4])"
   ]
  },
  {
   "cell_type": "code",
   "execution_count": 66,
   "id": "ff4c2593",
   "metadata": {},
   "outputs": [
    {
     "name": "stdout",
     "output_type": "stream",
     "text": [
      "622\n",
      "['8 ', '14 ', '38 ', '294 ']\n"
     ]
    }
   ],
   "source": [
    "att=[]\n",
    " \n",
    "try:\n",
    "    att_tag=driver.find_elements(By.XPATH,'//p[@class=\"normal\"]')\n",
    "    for i in att_tag[13:4364:7]:\n",
    "        att.append(i.text)\n",
    "except NoSuchElementException as e:\n",
    "    att.append('-')\n",
    "    \n",
    "print(len(att))\n",
    "print(att[0:4])"
   ]
  },
  {
   "cell_type": "code",
   "execution_count": 67,
   "id": "67aacfe0",
   "metadata": {},
   "outputs": [
    {
     "name": "stdout",
     "output_type": "stream",
     "text": [
      "622\n",
      "['1995 ', '1996 ', ' ', '1998 ']\n"
     ]
    }
   ],
   "source": [
    "year=[]\n",
    " \n",
    "try:\n",
    "    y_tag=driver.find_elements(By.XPATH,'//p[@class=\"normal\"]')\n",
    "    for i in y_tag[14:4364:7]:\n",
    "        year.append(i.text)\n",
    "except NoSuchElementException as e:\n",
    "    year.append('-')\n",
    "    \n",
    "print(len(year))\n",
    "print(year[0:4])"
   ]
  },
  {
   "cell_type": "code",
   "execution_count": 68,
   "id": "83283ead",
   "metadata": {},
   "outputs": [
    {
     "name": "stdout",
     "output_type": "stream",
     "text": [
      "623 623 622 622 622 622 622\n"
     ]
    }
   ],
   "source": [
    "print(len(name),len(d_type),len(d_task),len(a_type),len(instance),len(att),len(year))"
   ]
  },
  {
   "cell_type": "code",
   "execution_count": 71,
   "id": "78f8d5ba",
   "metadata": {},
   "outputs": [
    {
     "data": {
      "text/html": [
       "<div>\n",
       "<style scoped>\n",
       "    .dataframe tbody tr th:only-of-type {\n",
       "        vertical-align: middle;\n",
       "    }\n",
       "\n",
       "    .dataframe tbody tr th {\n",
       "        vertical-align: top;\n",
       "    }\n",
       "\n",
       "    .dataframe thead th {\n",
       "        text-align: right;\n",
       "    }\n",
       "</style>\n",
       "<table border=\"1\" class=\"dataframe\">\n",
       "  <thead>\n",
       "    <tr style=\"text-align: right;\">\n",
       "      <th></th>\n",
       "      <th>DATASET NAME</th>\n",
       "      <th>DATA TYPE</th>\n",
       "      <th>TASK</th>\n",
       "      <th>ATTRIBUTE TYPE</th>\n",
       "      <th>NO OF INSTANCES</th>\n",
       "      <th>NO OF ATTRIBUTE</th>\n",
       "      <th>YEAR</th>\n",
       "    </tr>\n",
       "  </thead>\n",
       "  <tbody>\n",
       "    <tr>\n",
       "      <th>0</th>\n",
       "      <td>Abalone</td>\n",
       "      <td>Multivariate</td>\n",
       "      <td>Classification</td>\n",
       "      <td>Categorical, Integer, Real</td>\n",
       "      <td>4177</td>\n",
       "      <td>8</td>\n",
       "      <td>1995</td>\n",
       "    </tr>\n",
       "    <tr>\n",
       "      <th>1</th>\n",
       "      <td>Adult</td>\n",
       "      <td>Multivariate</td>\n",
       "      <td>Classification</td>\n",
       "      <td>Categorical, Integer</td>\n",
       "      <td>48842</td>\n",
       "      <td>14</td>\n",
       "      <td>1996</td>\n",
       "    </tr>\n",
       "    <tr>\n",
       "      <th>2</th>\n",
       "      <td>Annealing</td>\n",
       "      <td>Multivariate</td>\n",
       "      <td>Classification</td>\n",
       "      <td>Categorical, Integer, Real</td>\n",
       "      <td>798</td>\n",
       "      <td>38</td>\n",
       "      <td></td>\n",
       "    </tr>\n",
       "    <tr>\n",
       "      <th>3</th>\n",
       "      <td>Anonymous Microsoft Web Data</td>\n",
       "      <td></td>\n",
       "      <td>Recommender-Systems</td>\n",
       "      <td>Categorical</td>\n",
       "      <td>37711</td>\n",
       "      <td>294</td>\n",
       "      <td>1998</td>\n",
       "    </tr>\n",
       "    <tr>\n",
       "      <th>4</th>\n",
       "      <td>Arrhythmia</td>\n",
       "      <td>Multivariate</td>\n",
       "      <td>Classification</td>\n",
       "      <td>Categorical, Integer, Real</td>\n",
       "      <td>452</td>\n",
       "      <td>279</td>\n",
       "      <td>1998</td>\n",
       "    </tr>\n",
       "    <tr>\n",
       "      <th>...</th>\n",
       "      <td>...</td>\n",
       "      <td>...</td>\n",
       "      <td>...</td>\n",
       "      <td>...</td>\n",
       "      <td>...</td>\n",
       "      <td>...</td>\n",
       "      <td>...</td>\n",
       "    </tr>\n",
       "    <tr>\n",
       "      <th>617</th>\n",
       "      <td>Influenza outbreak event prediction via Twitte...</td>\n",
       "      <td>Multivariate</td>\n",
       "      <td>Classification</td>\n",
       "      <td>Integer, Real</td>\n",
       "      <td>75840</td>\n",
       "      <td>525</td>\n",
       "      <td>2020</td>\n",
       "    </tr>\n",
       "    <tr>\n",
       "      <th>618</th>\n",
       "      <td>Turkish Music Emotion Dataset</td>\n",
       "      <td>Multivariate</td>\n",
       "      <td>Classification</td>\n",
       "      <td>Integer, Real</td>\n",
       "      <td>400</td>\n",
       "      <td>50</td>\n",
       "      <td>2020</td>\n",
       "    </tr>\n",
       "    <tr>\n",
       "      <th>619</th>\n",
       "      <td>Maternal Health Risk Data Set</td>\n",
       "      <td></td>\n",
       "      <td>Classification</td>\n",
       "      <td></td>\n",
       "      <td>1014</td>\n",
       "      <td>7</td>\n",
       "      <td>2020</td>\n",
       "    </tr>\n",
       "    <tr>\n",
       "      <th>620</th>\n",
       "      <td>Room Occupancy Estimation</td>\n",
       "      <td>Multivariate, Time-Series</td>\n",
       "      <td>Classification</td>\n",
       "      <td>Real</td>\n",
       "      <td>10129</td>\n",
       "      <td>16</td>\n",
       "      <td>2021</td>\n",
       "    </tr>\n",
       "    <tr>\n",
       "      <th>621</th>\n",
       "      <td>Image Recognition Task Execution Times in Mobi...</td>\n",
       "      <td>Univariate</td>\n",
       "      <td>Regression</td>\n",
       "      <td>Real</td>\n",
       "      <td>4000</td>\n",
       "      <td>2</td>\n",
       "      <td>2021</td>\n",
       "    </tr>\n",
       "  </tbody>\n",
       "</table>\n",
       "<p>622 rows × 7 columns</p>\n",
       "</div>"
      ],
      "text/plain": [
       "                                          DATASET NAME  \\\n",
       "0                                              Abalone   \n",
       "1                                                Adult   \n",
       "2                                            Annealing   \n",
       "3                         Anonymous Microsoft Web Data   \n",
       "4                                           Arrhythmia   \n",
       "..                                                 ...   \n",
       "617  Influenza outbreak event prediction via Twitte...   \n",
       "618                      Turkish Music Emotion Dataset   \n",
       "619                      Maternal Health Risk Data Set   \n",
       "620                          Room Occupancy Estimation   \n",
       "621  Image Recognition Task Execution Times in Mobi...   \n",
       "\n",
       "                      DATA TYPE                  TASK  \\\n",
       "0                 Multivariate        Classification    \n",
       "1                 Multivariate        Classification    \n",
       "2                 Multivariate        Classification    \n",
       "3                                Recommender-Systems    \n",
       "4                 Multivariate        Classification    \n",
       "..                          ...                   ...   \n",
       "617               Multivariate        Classification    \n",
       "618               Multivariate        Classification    \n",
       "619                                   Classification    \n",
       "620  Multivariate, Time-Series        Classification    \n",
       "621                 Univariate            Regression    \n",
       "\n",
       "                  ATTRIBUTE TYPE NO OF INSTANCES NO OF ATTRIBUTE   YEAR  \n",
       "0    Categorical, Integer, Real            4177               8   1995   \n",
       "1          Categorical, Integer           48842              14   1996   \n",
       "2    Categorical, Integer, Real             798              38          \n",
       "3                   Categorical           37711             294   1998   \n",
       "4    Categorical, Integer, Real             452             279   1998   \n",
       "..                           ...             ...             ...    ...  \n",
       "617               Integer, Real           75840             525   2020   \n",
       "618               Integer, Real             400              50   2020   \n",
       "619                                        1014               7   2020   \n",
       "620                        Real           10129              16   2021   \n",
       "621                        Real            4000               2   2021   \n",
       "\n",
       "[622 rows x 7 columns]"
      ]
     },
     "execution_count": 71,
     "metadata": {},
     "output_type": "execute_result"
    }
   ],
   "source": [
    "df=pd.DataFrame({'DATASET NAME':name[0:-1],'DATA TYPE':d_type[0:-1],'TASK':d_task,'ATTRIBUTE TYPE':a_type,'NO OF INSTANCES':instance,'NO OF ATTRIBUTE':att,'YEAR':year})\n",
    "df"
   ]
  },
  {
   "cell_type": "code",
   "execution_count": 72,
   "id": "06f42996",
   "metadata": {},
   "outputs": [],
   "source": [
    "df.to_csv('Datasets_from_UCI_machine_learning_repositories.csv')"
   ]
  },
  {
   "cell_type": "code",
   "execution_count": 73,
   "id": "e346233c",
   "metadata": {},
   "outputs": [
    {
     "data": {
      "text/html": [
       "<div>\n",
       "<style scoped>\n",
       "    .dataframe tbody tr th:only-of-type {\n",
       "        vertical-align: middle;\n",
       "    }\n",
       "\n",
       "    .dataframe tbody tr th {\n",
       "        vertical-align: top;\n",
       "    }\n",
       "\n",
       "    .dataframe thead th {\n",
       "        text-align: right;\n",
       "    }\n",
       "</style>\n",
       "<table border=\"1\" class=\"dataframe\">\n",
       "  <thead>\n",
       "    <tr style=\"text-align: right;\">\n",
       "      <th></th>\n",
       "      <th>Unnamed: 0</th>\n",
       "      <th>DATASET NAME</th>\n",
       "      <th>DATA TYPE</th>\n",
       "      <th>TASK</th>\n",
       "      <th>ATTRIBUTE TYPE</th>\n",
       "      <th>NO OF INSTANCES</th>\n",
       "      <th>NO OF ATTRIBUTE</th>\n",
       "      <th>YEAR</th>\n",
       "    </tr>\n",
       "  </thead>\n",
       "  <tbody>\n",
       "    <tr>\n",
       "      <th>0</th>\n",
       "      <td>0</td>\n",
       "      <td>Abalone</td>\n",
       "      <td>Multivariate</td>\n",
       "      <td>Classification</td>\n",
       "      <td>Categorical, Integer, Real</td>\n",
       "      <td>4177</td>\n",
       "      <td>8</td>\n",
       "      <td>1995</td>\n",
       "    </tr>\n",
       "    <tr>\n",
       "      <th>1</th>\n",
       "      <td>1</td>\n",
       "      <td>Adult</td>\n",
       "      <td>Multivariate</td>\n",
       "      <td>Classification</td>\n",
       "      <td>Categorical, Integer</td>\n",
       "      <td>48842</td>\n",
       "      <td>14</td>\n",
       "      <td>1996</td>\n",
       "    </tr>\n",
       "    <tr>\n",
       "      <th>2</th>\n",
       "      <td>2</td>\n",
       "      <td>Annealing</td>\n",
       "      <td>Multivariate</td>\n",
       "      <td>Classification</td>\n",
       "      <td>Categorical, Integer, Real</td>\n",
       "      <td>798</td>\n",
       "      <td>38</td>\n",
       "      <td></td>\n",
       "    </tr>\n",
       "    <tr>\n",
       "      <th>3</th>\n",
       "      <td>3</td>\n",
       "      <td>Anonymous Microsoft Web Data</td>\n",
       "      <td></td>\n",
       "      <td>Recommender-Systems</td>\n",
       "      <td>Categorical</td>\n",
       "      <td>37711</td>\n",
       "      <td>294</td>\n",
       "      <td>1998</td>\n",
       "    </tr>\n",
       "    <tr>\n",
       "      <th>4</th>\n",
       "      <td>4</td>\n",
       "      <td>Arrhythmia</td>\n",
       "      <td>Multivariate</td>\n",
       "      <td>Classification</td>\n",
       "      <td>Categorical, Integer, Real</td>\n",
       "      <td>452</td>\n",
       "      <td>279</td>\n",
       "      <td>1998</td>\n",
       "    </tr>\n",
       "    <tr>\n",
       "      <th>...</th>\n",
       "      <td>...</td>\n",
       "      <td>...</td>\n",
       "      <td>...</td>\n",
       "      <td>...</td>\n",
       "      <td>...</td>\n",
       "      <td>...</td>\n",
       "      <td>...</td>\n",
       "      <td>...</td>\n",
       "    </tr>\n",
       "    <tr>\n",
       "      <th>617</th>\n",
       "      <td>617</td>\n",
       "      <td>Influenza outbreak event prediction via Twitte...</td>\n",
       "      <td>Multivariate</td>\n",
       "      <td>Classification</td>\n",
       "      <td>Integer, Real</td>\n",
       "      <td>75840</td>\n",
       "      <td>525</td>\n",
       "      <td>2020</td>\n",
       "    </tr>\n",
       "    <tr>\n",
       "      <th>618</th>\n",
       "      <td>618</td>\n",
       "      <td>Turkish Music Emotion Dataset</td>\n",
       "      <td>Multivariate</td>\n",
       "      <td>Classification</td>\n",
       "      <td>Integer, Real</td>\n",
       "      <td>400</td>\n",
       "      <td>50</td>\n",
       "      <td>2020</td>\n",
       "    </tr>\n",
       "    <tr>\n",
       "      <th>619</th>\n",
       "      <td>619</td>\n",
       "      <td>Maternal Health Risk Data Set</td>\n",
       "      <td></td>\n",
       "      <td>Classification</td>\n",
       "      <td></td>\n",
       "      <td>1014</td>\n",
       "      <td>7</td>\n",
       "      <td>2020</td>\n",
       "    </tr>\n",
       "    <tr>\n",
       "      <th>620</th>\n",
       "      <td>620</td>\n",
       "      <td>Room Occupancy Estimation</td>\n",
       "      <td>Multivariate, Time-Series</td>\n",
       "      <td>Classification</td>\n",
       "      <td>Real</td>\n",
       "      <td>10129</td>\n",
       "      <td>16</td>\n",
       "      <td>2021</td>\n",
       "    </tr>\n",
       "    <tr>\n",
       "      <th>621</th>\n",
       "      <td>621</td>\n",
       "      <td>Image Recognition Task Execution Times in Mobi...</td>\n",
       "      <td>Univariate</td>\n",
       "      <td>Regression</td>\n",
       "      <td>Real</td>\n",
       "      <td>4000</td>\n",
       "      <td>2</td>\n",
       "      <td>2021</td>\n",
       "    </tr>\n",
       "  </tbody>\n",
       "</table>\n",
       "<p>622 rows × 8 columns</p>\n",
       "</div>"
      ],
      "text/plain": [
       "     Unnamed: 0                                       DATASET NAME  \\\n",
       "0             0                                            Abalone   \n",
       "1             1                                              Adult   \n",
       "2             2                                          Annealing   \n",
       "3             3                       Anonymous Microsoft Web Data   \n",
       "4             4                                         Arrhythmia   \n",
       "..          ...                                                ...   \n",
       "617         617  Influenza outbreak event prediction via Twitte...   \n",
       "618         618                      Turkish Music Emotion Dataset   \n",
       "619         619                      Maternal Health Risk Data Set   \n",
       "620         620                          Room Occupancy Estimation   \n",
       "621         621  Image Recognition Task Execution Times in Mobi...   \n",
       "\n",
       "                      DATA TYPE                  TASK  \\\n",
       "0                 Multivariate        Classification    \n",
       "1                 Multivariate        Classification    \n",
       "2                 Multivariate        Classification    \n",
       "3                                Recommender-Systems    \n",
       "4                 Multivariate        Classification    \n",
       "..                          ...                   ...   \n",
       "617               Multivariate        Classification    \n",
       "618               Multivariate        Classification    \n",
       "619                                   Classification    \n",
       "620  Multivariate, Time-Series        Classification    \n",
       "621                 Univariate            Regression    \n",
       "\n",
       "                  ATTRIBUTE TYPE NO OF INSTANCES NO OF ATTRIBUTE   YEAR  \n",
       "0    Categorical, Integer, Real            4177               8   1995   \n",
       "1          Categorical, Integer           48842              14   1996   \n",
       "2    Categorical, Integer, Real             798              38          \n",
       "3                   Categorical           37711             294   1998   \n",
       "4    Categorical, Integer, Real             452             279   1998   \n",
       "..                           ...             ...             ...    ...  \n",
       "617               Integer, Real           75840             525   2020   \n",
       "618               Integer, Real             400              50   2020   \n",
       "619                                        1014               7   2020   \n",
       "620                        Real           10129              16   2021   \n",
       "621                        Real            4000               2   2021   \n",
       "\n",
       "[622 rows x 8 columns]"
      ]
     },
     "execution_count": 73,
     "metadata": {},
     "output_type": "execute_result"
    }
   ],
   "source": [
    "newuci=pd.read_csv('Datasets_from_UCI_machine_learning_repositories.csv')\n",
    "newuci"
   ]
  },
  {
   "cell_type": "markdown",
   "id": "cfe294ee",
   "metadata": {},
   "source": [
    "# 4. Scrape the details of State-wise GDP of India from statisticstime.com.\n",
    "Url = http://statisticstimes.com/\n",
    "You have to find following details:\n",
    "    \n",
    "A) Rank\n",
    "\n",
    "B) State\n",
    "\n",
    "C) GSDP(18-19)- at current prices\n",
    "\n",
    "D) GSDP(19-20)- at current prices\n",
    "\n",
    "E) Share(18-19)\n",
    "\n",
    "F) GDP($ billion)\n",
    "\n",
    "Note: - From statisticstimes home page you have to reach to economy page through code."
   ]
  },
  {
   "cell_type": "code",
   "execution_count": 74,
   "id": "b67c21c5",
   "metadata": {},
   "outputs": [],
   "source": [
    "driver=webdriver.Chrome(r'C:\\Users\\S.Ramaa Devi\\Downloads\\chromedriver_win32 (7)\\chromedriver.exe')\n",
    "driver.get('http://statisticstimes.com/')"
   ]
  },
  {
   "cell_type": "code",
   "execution_count": 79,
   "id": "43bec68d",
   "metadata": {},
   "outputs": [
    {
     "name": "stdout",
     "output_type": "stream",
     "text": [
      "exception raised Message: element not interactable\n",
      "  (Session info: chrome=108.0.5359.125)\n",
      "Stacktrace:\n",
      "Backtrace:\n",
      "\t(No symbol) [0x0118F243]\n",
      "\t(No symbol) [0x01117FD1]\n",
      "\t(No symbol) [0x0100CF10]\n",
      "\t(No symbol) [0x0103D003]\n",
      "\t(No symbol) [0x010332A6]\n",
      "\t(No symbol) [0x0105858C]\n",
      "\t(No symbol) [0x01032BFF]\n",
      "\t(No symbol) [0x01058804]\n",
      "\t(No symbol) [0x0106C9EB]\n",
      "\t(No symbol) [0x01058386]\n",
      "\t(No symbol) [0x0103163C]\n",
      "\t(No symbol) [0x0103269D]\n",
      "\tGetHandleVerifier [0x01429A22+2655074]\n",
      "\tGetHandleVerifier [0x0141CA24+2601828]\n",
      "\tGetHandleVerifier [0x01238C0A+619850]\n",
      "\tGetHandleVerifier [0x01237830+614768]\n",
      "\t(No symbol) [0x011205FC]\n",
      "\t(No symbol) [0x01125968]\n",
      "\t(No symbol) [0x01125A55]\n",
      "\t(No symbol) [0x0113051B]\n",
      "\tBaseThreadInitThunk [0x75647D69+25]\n",
      "\tRtlInitializeExceptionChain [0x7706BB9B+107]\n",
      "\tRtlClearBits [0x7706BB1F+191]\n",
      "\n"
     ]
    },
    {
     "ename": "InvalidSelectorException",
     "evalue": "Message: invalid selector: An invalid or illegal selector was specified\n  (Session info: chrome=108.0.5359.125)\nStacktrace:\nBacktrace:\n\t(No symbol) [0x0118F243]\n\t(No symbol) [0x01117FD1]\n\t(No symbol) [0x0100D04D]\n\t(No symbol) [0x0100FD34]\n\t(No symbol) [0x0100FBE5]\n\t(No symbol) [0x0100FE80]\n\t(No symbol) [0x0103BD55]\n\t(No symbol) [0x0103C22B]\n\t(No symbol) [0x0106E612]\n\t(No symbol) [0x010585D4]\n\t(No symbol) [0x0106C9EB]\n\t(No symbol) [0x01058386]\n\t(No symbol) [0x0103163C]\n\t(No symbol) [0x0103269D]\n\tGetHandleVerifier [0x01429A22+2655074]\n\tGetHandleVerifier [0x0141CA24+2601828]\n\tGetHandleVerifier [0x01238C0A+619850]\n\tGetHandleVerifier [0x01237830+614768]\n\t(No symbol) [0x011205FC]\n\t(No symbol) [0x01125968]\n\t(No symbol) [0x01125A55]\n\t(No symbol) [0x0113051B]\n\tBaseThreadInitThunk [0x75647D69+25]\n\tRtlInitializeExceptionChain [0x7706BB9B+107]\n\tRtlClearBits [0x7706BB1F+191]\n",
     "output_type": "error",
     "traceback": [
      "\u001b[1;31m---------------------------------------------------------------------------\u001b[0m",
      "\u001b[1;31mElementNotInteractableException\u001b[0m           Traceback (most recent call last)",
      "Input \u001b[1;32mIn [79]\u001b[0m, in \u001b[0;36m<cell line: 1>\u001b[1;34m()\u001b[0m\n\u001b[0;32m      2\u001b[0m     search\u001b[38;5;241m=\u001b[39mdriver\u001b[38;5;241m.\u001b[39mfind_element(By\u001b[38;5;241m.\u001b[39mXPATH,\u001b[38;5;124m'\u001b[39m\u001b[38;5;124m/html/body/div[2]/div[1]/div[2]/div[2]/div/a[3]\u001b[39m\u001b[38;5;124m'\u001b[39m)\n\u001b[1;32m----> 3\u001b[0m     \u001b[43msearch\u001b[49m\u001b[38;5;241;43m.\u001b[39;49m\u001b[43mclick\u001b[49m\u001b[43m(\u001b[49m\u001b[43m)\u001b[49m\n\u001b[0;32m      4\u001b[0m \u001b[38;5;28;01mexcept\u001b[39;00m ElementNotInteractableException \u001b[38;5;28;01mas\u001b[39;00m e:\n",
      "File \u001b[1;32m~\\AppData\\Roaming\\Python\\Python39\\site-packages\\selenium\\webdriver\\remote\\webelement.py:93\u001b[0m, in \u001b[0;36mWebElement.click\u001b[1;34m(self)\u001b[0m\n\u001b[0;32m     92\u001b[0m \u001b[38;5;124;03m\"\"\"Clicks the element.\"\"\"\u001b[39;00m\n\u001b[1;32m---> 93\u001b[0m \u001b[38;5;28;43mself\u001b[39;49m\u001b[38;5;241;43m.\u001b[39;49m\u001b[43m_execute\u001b[49m\u001b[43m(\u001b[49m\u001b[43mCommand\u001b[49m\u001b[38;5;241;43m.\u001b[39;49m\u001b[43mCLICK_ELEMENT\u001b[49m\u001b[43m)\u001b[49m\n",
      "File \u001b[1;32m~\\AppData\\Roaming\\Python\\Python39\\site-packages\\selenium\\webdriver\\remote\\webelement.py:410\u001b[0m, in \u001b[0;36mWebElement._execute\u001b[1;34m(self, command, params)\u001b[0m\n\u001b[0;32m    409\u001b[0m params[\u001b[38;5;124m\"\u001b[39m\u001b[38;5;124mid\u001b[39m\u001b[38;5;124m\"\u001b[39m] \u001b[38;5;241m=\u001b[39m \u001b[38;5;28mself\u001b[39m\u001b[38;5;241m.\u001b[39m_id\n\u001b[1;32m--> 410\u001b[0m \u001b[38;5;28;01mreturn\u001b[39;00m \u001b[38;5;28;43mself\u001b[39;49m\u001b[38;5;241;43m.\u001b[39;49m\u001b[43m_parent\u001b[49m\u001b[38;5;241;43m.\u001b[39;49m\u001b[43mexecute\u001b[49m\u001b[43m(\u001b[49m\u001b[43mcommand\u001b[49m\u001b[43m,\u001b[49m\u001b[43m \u001b[49m\u001b[43mparams\u001b[49m\u001b[43m)\u001b[49m\n",
      "File \u001b[1;32m~\\AppData\\Roaming\\Python\\Python39\\site-packages\\selenium\\webdriver\\remote\\webdriver.py:444\u001b[0m, in \u001b[0;36mWebDriver.execute\u001b[1;34m(self, driver_command, params)\u001b[0m\n\u001b[0;32m    443\u001b[0m \u001b[38;5;28;01mif\u001b[39;00m response:\n\u001b[1;32m--> 444\u001b[0m     \u001b[38;5;28;43mself\u001b[39;49m\u001b[38;5;241;43m.\u001b[39;49m\u001b[43merror_handler\u001b[49m\u001b[38;5;241;43m.\u001b[39;49m\u001b[43mcheck_response\u001b[49m\u001b[43m(\u001b[49m\u001b[43mresponse\u001b[49m\u001b[43m)\u001b[49m\n\u001b[0;32m    445\u001b[0m     response[\u001b[38;5;124m\"\u001b[39m\u001b[38;5;124mvalue\u001b[39m\u001b[38;5;124m\"\u001b[39m] \u001b[38;5;241m=\u001b[39m \u001b[38;5;28mself\u001b[39m\u001b[38;5;241m.\u001b[39m_unwrap_value(response\u001b[38;5;241m.\u001b[39mget(\u001b[38;5;124m\"\u001b[39m\u001b[38;5;124mvalue\u001b[39m\u001b[38;5;124m\"\u001b[39m, \u001b[38;5;28;01mNone\u001b[39;00m))\n",
      "File \u001b[1;32m~\\AppData\\Roaming\\Python\\Python39\\site-packages\\selenium\\webdriver\\remote\\errorhandler.py:249\u001b[0m, in \u001b[0;36mErrorHandler.check_response\u001b[1;34m(self, response)\u001b[0m\n\u001b[0;32m    248\u001b[0m     \u001b[38;5;28;01mraise\u001b[39;00m exception_class(message, screen, stacktrace, alert_text)  \u001b[38;5;66;03m# type: ignore[call-arg]  # mypy is not smart enough here\u001b[39;00m\n\u001b[1;32m--> 249\u001b[0m \u001b[38;5;28;01mraise\u001b[39;00m exception_class(message, screen, stacktrace)\n",
      "\u001b[1;31mElementNotInteractableException\u001b[0m: Message: element not interactable\n  (Session info: chrome=108.0.5359.125)\nStacktrace:\nBacktrace:\n\t(No symbol) [0x0118F243]\n\t(No symbol) [0x01117FD1]\n\t(No symbol) [0x0100CF10]\n\t(No symbol) [0x0103D003]\n\t(No symbol) [0x010332A6]\n\t(No symbol) [0x0105858C]\n\t(No symbol) [0x01032BFF]\n\t(No symbol) [0x01058804]\n\t(No symbol) [0x0106C9EB]\n\t(No symbol) [0x01058386]\n\t(No symbol) [0x0103163C]\n\t(No symbol) [0x0103269D]\n\tGetHandleVerifier [0x01429A22+2655074]\n\tGetHandleVerifier [0x0141CA24+2601828]\n\tGetHandleVerifier [0x01238C0A+619850]\n\tGetHandleVerifier [0x01237830+614768]\n\t(No symbol) [0x011205FC]\n\t(No symbol) [0x01125968]\n\t(No symbol) [0x01125A55]\n\t(No symbol) [0x0113051B]\n\tBaseThreadInitThunk [0x75647D69+25]\n\tRtlInitializeExceptionChain [0x7706BB9B+107]\n\tRtlClearBits [0x7706BB1F+191]\n",
      "\nDuring handling of the above exception, another exception occurred:\n",
      "\u001b[1;31mInvalidSelectorException\u001b[0m                  Traceback (most recent call last)",
      "Input \u001b[1;32mIn [79]\u001b[0m, in \u001b[0;36m<cell line: 1>\u001b[1;34m()\u001b[0m\n\u001b[0;32m      4\u001b[0m \u001b[38;5;28;01mexcept\u001b[39;00m ElementNotInteractableException \u001b[38;5;28;01mas\u001b[39;00m e:\n\u001b[0;32m      5\u001b[0m     \u001b[38;5;28mprint\u001b[39m(\u001b[38;5;124m'\u001b[39m\u001b[38;5;124mexception raised\u001b[39m\u001b[38;5;124m'\u001b[39m ,e)\n\u001b[1;32m----> 6\u001b[0m     search\u001b[38;5;241m=\u001b[39m\u001b[43mdriver\u001b[49m\u001b[38;5;241;43m.\u001b[39;49m\u001b[43mfind_element\u001b[49m\u001b[43m(\u001b[49m\u001b[43mBy\u001b[49m\u001b[38;5;241;43m.\u001b[39;49m\u001b[43mCLASS_NAME\u001b[49m\u001b[43m,\u001b[49m\u001b[38;5;124;43m'\u001b[39;49m\u001b[38;5;124;43m//button[@class=\u001b[39;49m\u001b[38;5;124;43m\"\u001b[39;49m\u001b[38;5;124;43mdropbtn\u001b[39;49m\u001b[38;5;124;43m\"\u001b[39;49m\u001b[38;5;124;43m]\u001b[39;49m\u001b[38;5;124;43m'\u001b[39;49m\u001b[43m)\u001b[49m\n\u001b[0;32m      7\u001b[0m     search\u001b[38;5;241m.\u001b[39mclick()\n\u001b[0;32m      8\u001b[0m \u001b[38;5;28;01mexcept\u001b[39;00m ElementNotInteractableException \u001b[38;5;28;01mas\u001b[39;00m e:\n",
      "File \u001b[1;32m~\\AppData\\Roaming\\Python\\Python39\\site-packages\\selenium\\webdriver\\remote\\webdriver.py:861\u001b[0m, in \u001b[0;36mWebDriver.find_element\u001b[1;34m(self, by, value)\u001b[0m\n\u001b[0;32m    858\u001b[0m     by \u001b[38;5;241m=\u001b[39m By\u001b[38;5;241m.\u001b[39mCSS_SELECTOR\n\u001b[0;32m    859\u001b[0m     value \u001b[38;5;241m=\u001b[39m \u001b[38;5;124m'\u001b[39m\u001b[38;5;124m[name=\u001b[39m\u001b[38;5;124m\"\u001b[39m\u001b[38;5;132;01m%s\u001b[39;00m\u001b[38;5;124m\"\u001b[39m\u001b[38;5;124m]\u001b[39m\u001b[38;5;124m'\u001b[39m \u001b[38;5;241m%\u001b[39m value\n\u001b[1;32m--> 861\u001b[0m \u001b[38;5;28;01mreturn\u001b[39;00m \u001b[38;5;28;43mself\u001b[39;49m\u001b[38;5;241;43m.\u001b[39;49m\u001b[43mexecute\u001b[49m\u001b[43m(\u001b[49m\u001b[43mCommand\u001b[49m\u001b[38;5;241;43m.\u001b[39;49m\u001b[43mFIND_ELEMENT\u001b[49m\u001b[43m,\u001b[49m\u001b[43m \u001b[49m\u001b[43m{\u001b[49m\u001b[38;5;124;43m\"\u001b[39;49m\u001b[38;5;124;43musing\u001b[39;49m\u001b[38;5;124;43m\"\u001b[39;49m\u001b[43m:\u001b[49m\u001b[43m \u001b[49m\u001b[43mby\u001b[49m\u001b[43m,\u001b[49m\u001b[43m \u001b[49m\u001b[38;5;124;43m\"\u001b[39;49m\u001b[38;5;124;43mvalue\u001b[39;49m\u001b[38;5;124;43m\"\u001b[39;49m\u001b[43m:\u001b[49m\u001b[43m \u001b[49m\u001b[43mvalue\u001b[49m\u001b[43m}\u001b[49m\u001b[43m)\u001b[49m[\u001b[38;5;124m\"\u001b[39m\u001b[38;5;124mvalue\u001b[39m\u001b[38;5;124m\"\u001b[39m]\n",
      "File \u001b[1;32m~\\AppData\\Roaming\\Python\\Python39\\site-packages\\selenium\\webdriver\\remote\\webdriver.py:444\u001b[0m, in \u001b[0;36mWebDriver.execute\u001b[1;34m(self, driver_command, params)\u001b[0m\n\u001b[0;32m    442\u001b[0m response \u001b[38;5;241m=\u001b[39m \u001b[38;5;28mself\u001b[39m\u001b[38;5;241m.\u001b[39mcommand_executor\u001b[38;5;241m.\u001b[39mexecute(driver_command, params)\n\u001b[0;32m    443\u001b[0m \u001b[38;5;28;01mif\u001b[39;00m response:\n\u001b[1;32m--> 444\u001b[0m     \u001b[38;5;28;43mself\u001b[39;49m\u001b[38;5;241;43m.\u001b[39;49m\u001b[43merror_handler\u001b[49m\u001b[38;5;241;43m.\u001b[39;49m\u001b[43mcheck_response\u001b[49m\u001b[43m(\u001b[49m\u001b[43mresponse\u001b[49m\u001b[43m)\u001b[49m\n\u001b[0;32m    445\u001b[0m     response[\u001b[38;5;124m\"\u001b[39m\u001b[38;5;124mvalue\u001b[39m\u001b[38;5;124m\"\u001b[39m] \u001b[38;5;241m=\u001b[39m \u001b[38;5;28mself\u001b[39m\u001b[38;5;241m.\u001b[39m_unwrap_value(response\u001b[38;5;241m.\u001b[39mget(\u001b[38;5;124m\"\u001b[39m\u001b[38;5;124mvalue\u001b[39m\u001b[38;5;124m\"\u001b[39m, \u001b[38;5;28;01mNone\u001b[39;00m))\n\u001b[0;32m    446\u001b[0m     \u001b[38;5;28;01mreturn\u001b[39;00m response\n",
      "File \u001b[1;32m~\\AppData\\Roaming\\Python\\Python39\\site-packages\\selenium\\webdriver\\remote\\errorhandler.py:249\u001b[0m, in \u001b[0;36mErrorHandler.check_response\u001b[1;34m(self, response)\u001b[0m\n\u001b[0;32m    247\u001b[0m         alert_text \u001b[38;5;241m=\u001b[39m value[\u001b[38;5;124m\"\u001b[39m\u001b[38;5;124malert\u001b[39m\u001b[38;5;124m\"\u001b[39m]\u001b[38;5;241m.\u001b[39mget(\u001b[38;5;124m\"\u001b[39m\u001b[38;5;124mtext\u001b[39m\u001b[38;5;124m\"\u001b[39m)\n\u001b[0;32m    248\u001b[0m     \u001b[38;5;28;01mraise\u001b[39;00m exception_class(message, screen, stacktrace, alert_text)  \u001b[38;5;66;03m# type: ignore[call-arg]  # mypy is not smart enough here\u001b[39;00m\n\u001b[1;32m--> 249\u001b[0m \u001b[38;5;28;01mraise\u001b[39;00m exception_class(message, screen, stacktrace)\n",
      "\u001b[1;31mInvalidSelectorException\u001b[0m: Message: invalid selector: An invalid or illegal selector was specified\n  (Session info: chrome=108.0.5359.125)\nStacktrace:\nBacktrace:\n\t(No symbol) [0x0118F243]\n\t(No symbol) [0x01117FD1]\n\t(No symbol) [0x0100D04D]\n\t(No symbol) [0x0100FD34]\n\t(No symbol) [0x0100FBE5]\n\t(No symbol) [0x0100FE80]\n\t(No symbol) [0x0103BD55]\n\t(No symbol) [0x0103C22B]\n\t(No symbol) [0x0106E612]\n\t(No symbol) [0x010585D4]\n\t(No symbol) [0x0106C9EB]\n\t(No symbol) [0x01058386]\n\t(No symbol) [0x0103163C]\n\t(No symbol) [0x0103269D]\n\tGetHandleVerifier [0x01429A22+2655074]\n\tGetHandleVerifier [0x0141CA24+2601828]\n\tGetHandleVerifier [0x01238C0A+619850]\n\tGetHandleVerifier [0x01237830+614768]\n\t(No symbol) [0x011205FC]\n\t(No symbol) [0x01125968]\n\t(No symbol) [0x01125A55]\n\t(No symbol) [0x0113051B]\n\tBaseThreadInitThunk [0x75647D69+25]\n\tRtlInitializeExceptionChain [0x7706BB9B+107]\n\tRtlClearBits [0x7706BB1F+191]\n"
     ]
    }
   ],
   "source": [
    "try:\n",
    "    search=driver.find_element(By.XPATH,'/html/body/div[2]/div[1]/div[2]/div[2]/div/a[3]')\n",
    "    search.click()\n",
    "except ElementNotInteractableException as e:\n",
    "    print('exception raised' ,e)\n",
    "    search=driver.find_element(By.CLASS_NAME,'//button[@class=\"dropbtn\"]')\n",
    "    search.click()\n",
    "except InvalidSelectorException as e:\n",
    "    pass"
   ]
  },
  {
   "cell_type": "code",
   "execution_count": 80,
   "id": "a146c188",
   "metadata": {},
   "outputs": [],
   "source": [
    "search=driver.find_element(By.XPATH,'/html/body/div[2]/div[2]/div[2]/ul/li[1]/a')\n",
    "search.click()"
   ]
  },
  {
   "cell_type": "code",
   "execution_count": 81,
   "id": "128a4040",
   "metadata": {},
   "outputs": [
    {
     "name": "stdout",
     "output_type": "stream",
     "text": [
      "68\n",
      "['1', '2', '3', '4']\n"
     ]
    }
   ],
   "source": [
    "rank=[]\n",
    "r_tag=driver.find_elements(By.XPATH,'//td[@class=\"data1\"]')\n",
    "for i in r_tag:\n",
    "    rank.append(i.text)\n",
    "    \n",
    "print(len(rank))\n",
    "print(rank[0:4])"
   ]
  },
  {
   "cell_type": "code",
   "execution_count": 82,
   "id": "def3121b",
   "metadata": {},
   "outputs": [
    {
     "name": "stdout",
     "output_type": "stream",
     "text": [
      "68\n",
      "['Maharashtra', 'Tamil Nadu', 'Uttar Pradesh', 'Gujarat']\n"
     ]
    }
   ],
   "source": [
    "state=[]\n",
    "s_tag=driver.find_elements(By.XPATH,'//td[@class=\"name\"]')\n",
    "for i in s_tag:\n",
    "    state.append(i.text)\n",
    "    \n",
    "print(len(state))\n",
    "print(state[0:4])"
   ]
  },
  {
   "cell_type": "code",
   "execution_count": 83,
   "id": "3c75d238",
   "metadata": {},
   "outputs": [
    {
     "name": "stdout",
     "output_type": "stream",
     "text": [
      "66\n",
      "['2,632,792', '1,630,208', '1,584,764', '1,502,899']\n"
     ]
    }
   ],
   "source": [
    "gsdp_18_19=[]\n",
    "g_tag=driver.find_elements(By.XPATH,'//td[@class=\"data sorting_1\"]')\n",
    "for i in g_tag:\n",
    "    gsdp_18_19.append(i.text)\n",
    "    \n",
    "print(len(gsdp_18_19))\n",
    "print(gsdp_18_19[0:4])"
   ]
  },
  {
   "cell_type": "code",
   "execution_count": 84,
   "id": "b3d076fa",
   "metadata": {},
   "outputs": [
    {
     "name": "stdout",
     "output_type": "stream",
     "text": [
      "34\n",
      "['-', '1,845,853', '1,687,818', '-']\n"
     ]
    }
   ],
   "source": [
    "gsdp_19_20=[]\n",
    "g1_tag=driver.find_elements(By.XPATH,'//td[@class=\"data\"]')\n",
    "for i in g1_tag[0:166:5]:\n",
    "    gsdp_19_20.append(i.text)\n",
    "    \n",
    "print(len(gsdp_19_20))\n",
    "print(gsdp_19_20[0:4])"
   ]
  },
  {
   "cell_type": "code",
   "execution_count": 85,
   "id": "8c98c05b",
   "metadata": {},
   "outputs": [
    {
     "name": "stdout",
     "output_type": "stream",
     "text": [
      "33\n",
      "['13.94%', '8.63%', '8.39%', '7.96%']\n"
     ]
    }
   ],
   "source": [
    "share_18_19=[]\n",
    "s_tag=driver.find_elements(By.XPATH,'//td[@class=\"data\"]')\n",
    "for i in s_tag[1:166:5]:\n",
    "    share_18_19.append(i.text)\n",
    "    \n",
    "print(len(share_18_19))\n",
    "print(share_18_19[0:4])"
   ]
  },
  {
   "cell_type": "code",
   "execution_count": 86,
   "id": "7dabd060",
   "metadata": {},
   "outputs": [
    {
     "name": "stdout",
     "output_type": "stream",
     "text": [
      "33\n",
      "['399.921', '247.629', '240.726', '228.290']\n"
     ]
    }
   ],
   "source": [
    "gdp=[]\n",
    "gd_tag=driver.find_elements(By.XPATH,'//td[@class=\"data\"]')\n",
    "for i in gd_tag[2:166:5]:\n",
    "    gdp.append(i.text)\n",
    "    \n",
    "print(len(gdp))\n",
    "print(gdp[0:4])"
   ]
  },
  {
   "cell_type": "code",
   "execution_count": 87,
   "id": "c27f0254",
   "metadata": {},
   "outputs": [
    {
     "name": "stdout",
     "output_type": "stream",
     "text": [
      "68 68 66 34 33 33\n"
     ]
    }
   ],
   "source": [
    "print(len(rank),len(state),len(gsdp_18_19),len(gsdp_19_20),len(share_18_19),len(gdp))"
   ]
  },
  {
   "cell_type": "code",
   "execution_count": 93,
   "id": "8453c153",
   "metadata": {},
   "outputs": [
    {
     "data": {
      "text/html": [
       "<div>\n",
       "<style scoped>\n",
       "    .dataframe tbody tr th:only-of-type {\n",
       "        vertical-align: middle;\n",
       "    }\n",
       "\n",
       "    .dataframe tbody tr th {\n",
       "        vertical-align: top;\n",
       "    }\n",
       "\n",
       "    .dataframe thead th {\n",
       "        text-align: right;\n",
       "    }\n",
       "</style>\n",
       "<table border=\"1\" class=\"dataframe\">\n",
       "  <thead>\n",
       "    <tr style=\"text-align: right;\">\n",
       "      <th></th>\n",
       "      <th>RANK</th>\n",
       "      <th>STATE</th>\n",
       "      <th>GSDP(18-19)-current prices</th>\n",
       "      <th>GSDP(19-20)-current prices</th>\n",
       "      <th>SHARE(18-19)</th>\n",
       "      <th>GDP($billion)</th>\n",
       "    </tr>\n",
       "  </thead>\n",
       "  <tbody>\n",
       "    <tr>\n",
       "      <th>0</th>\n",
       "      <td>1</td>\n",
       "      <td>Maharashtra</td>\n",
       "      <td>2,632,792</td>\n",
       "      <td>-</td>\n",
       "      <td>13.94%</td>\n",
       "      <td>399.921</td>\n",
       "    </tr>\n",
       "    <tr>\n",
       "      <th>1</th>\n",
       "      <td>2</td>\n",
       "      <td>Tamil Nadu</td>\n",
       "      <td>1,630,208</td>\n",
       "      <td>1,845,853</td>\n",
       "      <td>8.63%</td>\n",
       "      <td>247.629</td>\n",
       "    </tr>\n",
       "    <tr>\n",
       "      <th>2</th>\n",
       "      <td>3</td>\n",
       "      <td>Uttar Pradesh</td>\n",
       "      <td>1,584,764</td>\n",
       "      <td>1,687,818</td>\n",
       "      <td>8.39%</td>\n",
       "      <td>240.726</td>\n",
       "    </tr>\n",
       "    <tr>\n",
       "      <th>3</th>\n",
       "      <td>4</td>\n",
       "      <td>Gujarat</td>\n",
       "      <td>1,502,899</td>\n",
       "      <td>-</td>\n",
       "      <td>7.96%</td>\n",
       "      <td>228.290</td>\n",
       "    </tr>\n",
       "    <tr>\n",
       "      <th>4</th>\n",
       "      <td>5</td>\n",
       "      <td>Karnataka</td>\n",
       "      <td>1,493,127</td>\n",
       "      <td>1,631,977</td>\n",
       "      <td>7.91%</td>\n",
       "      <td>226.806</td>\n",
       "    </tr>\n",
       "    <tr>\n",
       "      <th>5</th>\n",
       "      <td>6</td>\n",
       "      <td>West Bengal</td>\n",
       "      <td>1,089,898</td>\n",
       "      <td>1,253,832</td>\n",
       "      <td>5.77%</td>\n",
       "      <td>165.556</td>\n",
       "    </tr>\n",
       "    <tr>\n",
       "      <th>6</th>\n",
       "      <td>7</td>\n",
       "      <td>Rajasthan</td>\n",
       "      <td>942,586</td>\n",
       "      <td>1,020,989</td>\n",
       "      <td>4.99%</td>\n",
       "      <td>143.179</td>\n",
       "    </tr>\n",
       "    <tr>\n",
       "      <th>7</th>\n",
       "      <td>8</td>\n",
       "      <td>Andhra Pradesh</td>\n",
       "      <td>862,957</td>\n",
       "      <td>972,782</td>\n",
       "      <td>4.57%</td>\n",
       "      <td>131.083</td>\n",
       "    </tr>\n",
       "    <tr>\n",
       "      <th>8</th>\n",
       "      <td>9</td>\n",
       "      <td>Telangana</td>\n",
       "      <td>861,031</td>\n",
       "      <td>969,604</td>\n",
       "      <td>4.56%</td>\n",
       "      <td>130.791</td>\n",
       "    </tr>\n",
       "    <tr>\n",
       "      <th>9</th>\n",
       "      <td>10</td>\n",
       "      <td>Madhya Pradesh</td>\n",
       "      <td>809,592</td>\n",
       "      <td>906,672</td>\n",
       "      <td>4.29%</td>\n",
       "      <td>122.977</td>\n",
       "    </tr>\n",
       "    <tr>\n",
       "      <th>10</th>\n",
       "      <td>11</td>\n",
       "      <td>Kerala</td>\n",
       "      <td>781,653</td>\n",
       "      <td>-</td>\n",
       "      <td>4.14%</td>\n",
       "      <td>118.733</td>\n",
       "    </tr>\n",
       "    <tr>\n",
       "      <th>11</th>\n",
       "      <td>12</td>\n",
       "      <td>Delhi</td>\n",
       "      <td>774,870</td>\n",
       "      <td>856,112</td>\n",
       "      <td>4.10%</td>\n",
       "      <td>117.703</td>\n",
       "    </tr>\n",
       "    <tr>\n",
       "      <th>12</th>\n",
       "      <td>13</td>\n",
       "      <td>Haryana</td>\n",
       "      <td>734,163</td>\n",
       "      <td>831,610</td>\n",
       "      <td>3.89%</td>\n",
       "      <td>111.519</td>\n",
       "    </tr>\n",
       "    <tr>\n",
       "      <th>13</th>\n",
       "      <td>14</td>\n",
       "      <td>Bihar</td>\n",
       "      <td>530,363</td>\n",
       "      <td>611,804</td>\n",
       "      <td>2.81%</td>\n",
       "      <td>80.562</td>\n",
       "    </tr>\n",
       "    <tr>\n",
       "      <th>14</th>\n",
       "      <td>15</td>\n",
       "      <td>Punjab</td>\n",
       "      <td>526,376</td>\n",
       "      <td>574,760</td>\n",
       "      <td>2.79%</td>\n",
       "      <td>79.957</td>\n",
       "    </tr>\n",
       "    <tr>\n",
       "      <th>15</th>\n",
       "      <td>16</td>\n",
       "      <td>Odisha</td>\n",
       "      <td>487,805</td>\n",
       "      <td>521,275</td>\n",
       "      <td>2.58%</td>\n",
       "      <td>74.098</td>\n",
       "    </tr>\n",
       "    <tr>\n",
       "      <th>16</th>\n",
       "      <td>17</td>\n",
       "      <td>Assam</td>\n",
       "      <td>315,881</td>\n",
       "      <td>-</td>\n",
       "      <td>1.67%</td>\n",
       "      <td>47.982</td>\n",
       "    </tr>\n",
       "    <tr>\n",
       "      <th>17</th>\n",
       "      <td>18</td>\n",
       "      <td>Chhattisgarh</td>\n",
       "      <td>304,063</td>\n",
       "      <td>329,180</td>\n",
       "      <td>1.61%</td>\n",
       "      <td>46.187</td>\n",
       "    </tr>\n",
       "    <tr>\n",
       "      <th>18</th>\n",
       "      <td>19</td>\n",
       "      <td>Jharkhand</td>\n",
       "      <td>297,204</td>\n",
       "      <td>328,598</td>\n",
       "      <td>1.57%</td>\n",
       "      <td>45.145</td>\n",
       "    </tr>\n",
       "    <tr>\n",
       "      <th>19</th>\n",
       "      <td>20</td>\n",
       "      <td>Uttarakhand</td>\n",
       "      <td>245,895</td>\n",
       "      <td>-</td>\n",
       "      <td>1.30%</td>\n",
       "      <td>37.351</td>\n",
       "    </tr>\n",
       "    <tr>\n",
       "      <th>20</th>\n",
       "      <td>21</td>\n",
       "      <td>Jammu &amp; Kashmir</td>\n",
       "      <td>155,956</td>\n",
       "      <td>-</td>\n",
       "      <td>0.83%</td>\n",
       "      <td>23.690</td>\n",
       "    </tr>\n",
       "    <tr>\n",
       "      <th>21</th>\n",
       "      <td>22</td>\n",
       "      <td>Himachal Pradesh</td>\n",
       "      <td>153,845</td>\n",
       "      <td>165,472</td>\n",
       "      <td>0.81%</td>\n",
       "      <td>23.369</td>\n",
       "    </tr>\n",
       "    <tr>\n",
       "      <th>22</th>\n",
       "      <td>23</td>\n",
       "      <td>Goa</td>\n",
       "      <td>73,170</td>\n",
       "      <td>80,449</td>\n",
       "      <td>0.39%</td>\n",
       "      <td>11.115</td>\n",
       "    </tr>\n",
       "    <tr>\n",
       "      <th>23</th>\n",
       "      <td>24</td>\n",
       "      <td>Tripura</td>\n",
       "      <td>49,845</td>\n",
       "      <td>55,984</td>\n",
       "      <td>0.26%</td>\n",
       "      <td>7.571</td>\n",
       "    </tr>\n",
       "    <tr>\n",
       "      <th>24</th>\n",
       "      <td>25</td>\n",
       "      <td>Chandigarh</td>\n",
       "      <td>42,114</td>\n",
       "      <td>-</td>\n",
       "      <td>0.22%</td>\n",
       "      <td>6.397</td>\n",
       "    </tr>\n",
       "    <tr>\n",
       "      <th>25</th>\n",
       "      <td>26</td>\n",
       "      <td>Puducherry</td>\n",
       "      <td>34,433</td>\n",
       "      <td>38,253</td>\n",
       "      <td>0.18%</td>\n",
       "      <td>5.230</td>\n",
       "    </tr>\n",
       "    <tr>\n",
       "      <th>26</th>\n",
       "      <td>27</td>\n",
       "      <td>Meghalaya</td>\n",
       "      <td>33,481</td>\n",
       "      <td>36,572</td>\n",
       "      <td>0.18%</td>\n",
       "      <td>5.086</td>\n",
       "    </tr>\n",
       "    <tr>\n",
       "      <th>27</th>\n",
       "      <td>28</td>\n",
       "      <td>Sikkim</td>\n",
       "      <td>28,723</td>\n",
       "      <td>32,496</td>\n",
       "      <td>0.15%</td>\n",
       "      <td>4.363</td>\n",
       "    </tr>\n",
       "    <tr>\n",
       "      <th>28</th>\n",
       "      <td>29</td>\n",
       "      <td>Manipur</td>\n",
       "      <td>27,870</td>\n",
       "      <td>31,790</td>\n",
       "      <td>0.15%</td>\n",
       "      <td>4.233</td>\n",
       "    </tr>\n",
       "    <tr>\n",
       "      <th>29</th>\n",
       "      <td>30</td>\n",
       "      <td>Nagaland</td>\n",
       "      <td>27,283</td>\n",
       "      <td>-</td>\n",
       "      <td>0.14%</td>\n",
       "      <td>4.144</td>\n",
       "    </tr>\n",
       "    <tr>\n",
       "      <th>30</th>\n",
       "      <td>31</td>\n",
       "      <td>Arunachal Pradesh</td>\n",
       "      <td>24,603</td>\n",
       "      <td>-</td>\n",
       "      <td>0.13%</td>\n",
       "      <td>3.737</td>\n",
       "    </tr>\n",
       "    <tr>\n",
       "      <th>31</th>\n",
       "      <td>32</td>\n",
       "      <td>Mizoram</td>\n",
       "      <td>22,287</td>\n",
       "      <td>26,503</td>\n",
       "      <td>0.12%</td>\n",
       "      <td>3.385</td>\n",
       "    </tr>\n",
       "    <tr>\n",
       "      <th>32</th>\n",
       "      <td>33</td>\n",
       "      <td>Andaman &amp; Nicobar Islands</td>\n",
       "      <td>-</td>\n",
       "      <td>-</td>\n",
       "      <td>-</td>\n",
       "      <td>-</td>\n",
       "    </tr>\n",
       "  </tbody>\n",
       "</table>\n",
       "</div>"
      ],
      "text/plain": [
       "   RANK                      STATE GSDP(18-19)-current prices  \\\n",
       "0     1                Maharashtra                  2,632,792   \n",
       "1     2                 Tamil Nadu                  1,630,208   \n",
       "2     3              Uttar Pradesh                  1,584,764   \n",
       "3     4                    Gujarat                  1,502,899   \n",
       "4     5                  Karnataka                  1,493,127   \n",
       "5     6                West Bengal                  1,089,898   \n",
       "6     7                  Rajasthan                    942,586   \n",
       "7     8             Andhra Pradesh                    862,957   \n",
       "8     9                  Telangana                    861,031   \n",
       "9    10             Madhya Pradesh                    809,592   \n",
       "10   11                     Kerala                    781,653   \n",
       "11   12                      Delhi                    774,870   \n",
       "12   13                    Haryana                    734,163   \n",
       "13   14                      Bihar                    530,363   \n",
       "14   15                     Punjab                    526,376   \n",
       "15   16                     Odisha                    487,805   \n",
       "16   17                      Assam                    315,881   \n",
       "17   18               Chhattisgarh                    304,063   \n",
       "18   19                  Jharkhand                    297,204   \n",
       "19   20                Uttarakhand                    245,895   \n",
       "20   21            Jammu & Kashmir                    155,956   \n",
       "21   22           Himachal Pradesh                    153,845   \n",
       "22   23                        Goa                     73,170   \n",
       "23   24                    Tripura                     49,845   \n",
       "24   25                 Chandigarh                     42,114   \n",
       "25   26                 Puducherry                     34,433   \n",
       "26   27                  Meghalaya                     33,481   \n",
       "27   28                     Sikkim                     28,723   \n",
       "28   29                    Manipur                     27,870   \n",
       "29   30                   Nagaland                     27,283   \n",
       "30   31          Arunachal Pradesh                     24,603   \n",
       "31   32                    Mizoram                     22,287   \n",
       "32   33  Andaman & Nicobar Islands                          -   \n",
       "\n",
       "   GSDP(19-20)-current prices SHARE(18-19) GDP($billion)  \n",
       "0                           -       13.94%       399.921  \n",
       "1                   1,845,853        8.63%       247.629  \n",
       "2                   1,687,818        8.39%       240.726  \n",
       "3                           -        7.96%       228.290  \n",
       "4                   1,631,977        7.91%       226.806  \n",
       "5                   1,253,832        5.77%       165.556  \n",
       "6                   1,020,989        4.99%       143.179  \n",
       "7                     972,782        4.57%       131.083  \n",
       "8                     969,604        4.56%       130.791  \n",
       "9                     906,672        4.29%       122.977  \n",
       "10                          -        4.14%       118.733  \n",
       "11                    856,112        4.10%       117.703  \n",
       "12                    831,610        3.89%       111.519  \n",
       "13                    611,804        2.81%        80.562  \n",
       "14                    574,760        2.79%        79.957  \n",
       "15                    521,275        2.58%        74.098  \n",
       "16                          -        1.67%        47.982  \n",
       "17                    329,180        1.61%        46.187  \n",
       "18                    328,598        1.57%        45.145  \n",
       "19                          -        1.30%        37.351  \n",
       "20                          -        0.83%        23.690  \n",
       "21                    165,472        0.81%        23.369  \n",
       "22                     80,449        0.39%        11.115  \n",
       "23                     55,984        0.26%         7.571  \n",
       "24                          -        0.22%         6.397  \n",
       "25                     38,253        0.18%         5.230  \n",
       "26                     36,572        0.18%         5.086  \n",
       "27                     32,496        0.15%         4.363  \n",
       "28                     31,790        0.15%         4.233  \n",
       "29                          -        0.14%         4.144  \n",
       "30                          -        0.13%         3.737  \n",
       "31                     26,503        0.12%         3.385  \n",
       "32                          -            -             -  "
      ]
     },
     "execution_count": 93,
     "metadata": {},
     "output_type": "execute_result"
    }
   ],
   "source": [
    "df=pd.DataFrame(data={'RANK':rank[0:33],'STATE':state[0:33],'GSDP(18-19)-current prices':gsdp_18_19[0:33],'GSDP(19-20)-current prices':gsdp_19_20[0:33],'SHARE(18-19)':share_18_19,'GDP($billion)':gdp})\n",
    "df"
   ]
  },
  {
   "cell_type": "code",
   "execution_count": 94,
   "id": "b5e79f10",
   "metadata": {},
   "outputs": [],
   "source": [
    "driver.close()"
   ]
  },
  {
   "cell_type": "markdown",
   "id": "72923716",
   "metadata": {},
   "source": [
    "# 3. Scrape the details of selenium exception from guru99.com.\n",
    "Url = https://www.guru99.com/\n",
    "    \n",
    "You need to find following details:\n",
    "    \n",
    "A) Name\n",
    "\n",
    "B) Description\n",
    "\n",
    "Note: - From guru99 home page you have to reach to selenium exception handling page through code."
   ]
  },
  {
   "cell_type": "code",
   "execution_count": 122,
   "id": "43e11756",
   "metadata": {},
   "outputs": [],
   "source": [
    "driver=webdriver.Chrome(r'C:\\Users\\S.Ramaa Devi\\Downloads\\chromedriver_win32 (7)\\chromedriver.exe')\n",
    "driver.get('https://www.guru99.com/')"
   ]
  },
  {
   "cell_type": "code",
   "execution_count": 98,
   "id": "e3e853e3",
   "metadata": {},
   "outputs": [
    {
     "name": "stdout",
     "output_type": "stream",
     "text": [
      "exception raised  Message: element not interactable\n",
      "  (Session info: chrome=108.0.5359.125)\n",
      "Stacktrace:\n",
      "Backtrace:\n",
      "\t(No symbol) [0x0118F243]\n",
      "\t(No symbol) [0x01117FD1]\n",
      "\t(No symbol) [0x0100CF10]\n",
      "\t(No symbol) [0x0103D003]\n",
      "\t(No symbol) [0x010332A6]\n",
      "\t(No symbol) [0x0105858C]\n",
      "\t(No symbol) [0x01032BFF]\n",
      "\t(No symbol) [0x01058804]\n",
      "\t(No symbol) [0x0106C9EB]\n",
      "\t(No symbol) [0x01058386]\n",
      "\t(No symbol) [0x0103163C]\n",
      "\t(No symbol) [0x0103269D]\n",
      "\tGetHandleVerifier [0x01429A22+2655074]\n",
      "\tGetHandleVerifier [0x0141CA24+2601828]\n",
      "\tGetHandleVerifier [0x01238C0A+619850]\n",
      "\tGetHandleVerifier [0x01237830+614768]\n",
      "\t(No symbol) [0x011205FC]\n",
      "\t(No symbol) [0x01125968]\n",
      "\t(No symbol) [0x01125A55]\n",
      "\t(No symbol) [0x0113051B]\n",
      "\tBaseThreadInitThunk [0x75647D69+25]\n",
      "\tRtlInitializeExceptionChain [0x7706BB9B+107]\n",
      "\tRtlClearBits [0x7706BB1F+191]\n",
      "\n"
     ]
    }
   ],
   "source": [
    "try:\n",
    "    search=driver.find_element(By.XPATH,'//span[@class=\"kadence-svg-iconset\"]')\n",
    "    search.click()\n",
    "except ElementNotInteractableException as e:\n",
    "    print('exception raised ' ,e)\n",
    "    pass"
   ]
  },
  {
   "cell_type": "code",
   "execution_count": 99,
   "id": "73014871",
   "metadata": {},
   "outputs": [],
   "source": [
    "search=driver.find_element(By.XPATH,'//div[@class=\"drawer-nav-drop-wrap\"]')\n",
    "search.click()"
   ]
  },
  {
   "cell_type": "code",
   "execution_count": 103,
   "id": "1764830d",
   "metadata": {},
   "outputs": [],
   "source": [
    "try:\n",
    "    search=driver.find_element(By.XPATH,'//li[@class=\"menu-item menu-item-type-custom menu-item-object-custom menu-item-4622\"]')\n",
    "    search.click()\n",
    "except ElementNotInteractableException as e:\n",
    "    pass"
   ]
  },
  {
   "cell_type": "code",
   "execution_count": 104,
   "id": "9dc82523",
   "metadata": {},
   "outputs": [],
   "source": [
    "search=driver.find_element(By.XPATH,'/html/body/div[1]/div/div/div/main/div/article/div/div/table[5]/tbody/tr[34]/td[1]/a')\n",
    "search.click()"
   ]
  },
  {
   "cell_type": "code",
   "execution_count": 123,
   "id": "2d445ee9",
   "metadata": {},
   "outputs": [
    {
     "data": {
      "text/plain": [
       "['1. ElementNotVisibleException:']"
      ]
     },
     "execution_count": 123,
     "metadata": {},
     "output_type": "execute_result"
    }
   ],
   "source": [
    "types=[]\n",
    "type1=driver.find_element(By.XPATH,'//*[@id=\"post-1953\"]/div/div/p[1]/strong')\n",
    "types.append(type1.text)\n",
    "types "
   ]
  },
  {
   "cell_type": "code",
   "execution_count": 124,
   "id": "18d25a5a",
   "metadata": {},
   "outputs": [
    {
     "data": {
      "text/plain": [
       "['1. ElementNotVisibleException:', '2. ElementNotSelectableException:']"
      ]
     },
     "execution_count": 124,
     "metadata": {},
     "output_type": "execute_result"
    }
   ],
   "source": [
    "type2=driver.find_element(By.XPATH,'//*[@id=\"post-1953\"]/div/div/p[2]/strong')\n",
    "types.append(type2.text)\n",
    "types "
   ]
  },
  {
   "cell_type": "code",
   "execution_count": 125,
   "id": "c0770a7c",
   "metadata": {},
   "outputs": [
    {
     "data": {
      "text/plain": [
       "3"
      ]
     },
     "execution_count": 125,
     "metadata": {},
     "output_type": "execute_result"
    }
   ],
   "source": [
    "type3=driver.find_element(By.XPATH,'//*[@id=\"post-1953\"]/div/div/p[3]/strong')\n",
    "types.append(type3.text)\n",
    "len(types) "
   ]
  },
  {
   "cell_type": "code",
   "execution_count": 126,
   "id": "cef120a6",
   "metadata": {},
   "outputs": [
    {
     "data": {
      "text/plain": [
       "4"
      ]
     },
     "execution_count": 126,
     "metadata": {},
     "output_type": "execute_result"
    }
   ],
   "source": [
    "type4=driver.find_element(By.XPATH,'//*[@id=\"post-1953\"]/div/div/p[4]/strong')\n",
    "types.append(type4.text)\n",
    "len(types) "
   ]
  },
  {
   "cell_type": "code",
   "execution_count": 127,
   "id": "789e9700",
   "metadata": {},
   "outputs": [
    {
     "data": {
      "text/plain": [
       "5"
      ]
     },
     "execution_count": 127,
     "metadata": {},
     "output_type": "execute_result"
    }
   ],
   "source": [
    "type5=driver.find_element(By.XPATH,'//*[@id=\"post-1953\"]/div/div/p[5]/strong')\n",
    "types.append(type5.text)\n",
    "len(types) "
   ]
  },
  {
   "cell_type": "code",
   "execution_count": 128,
   "id": "0fc22354",
   "metadata": {},
   "outputs": [
    {
     "data": {
      "text/plain": [
       "6"
      ]
     },
     "execution_count": 128,
     "metadata": {},
     "output_type": "execute_result"
    }
   ],
   "source": [
    "type6=driver.find_element(By.XPATH,'//*[@id=\"post-1953\"]/div/div/p[6]/strong')\n",
    "types.append(type6.text)\n",
    "len(types) "
   ]
  },
  {
   "cell_type": "code",
   "execution_count": 129,
   "id": "668134d5",
   "metadata": {},
   "outputs": [
    {
     "data": {
      "text/plain": [
       "7"
      ]
     },
     "execution_count": 129,
     "metadata": {},
     "output_type": "execute_result"
    }
   ],
   "source": [
    "type7=driver.find_element(By.XPATH,'//*[@id=\"post-1953\"]/div/div/p[7]/strong')\n",
    "types.append(type7.text)\n",
    "len(types) "
   ]
  },
  {
   "cell_type": "code",
   "execution_count": 130,
   "id": "324219e4",
   "metadata": {},
   "outputs": [
    {
     "data": {
      "text/plain": [
       "8"
      ]
     },
     "execution_count": 130,
     "metadata": {},
     "output_type": "execute_result"
    }
   ],
   "source": [
    "type8=driver.find_element(By.XPATH,'//*[@id=\"post-1953\"]/div/div/p[8]/strong')\n",
    "types.append(type8.text)\n",
    "len(types) "
   ]
  },
  {
   "cell_type": "code",
   "execution_count": 131,
   "id": "20f40e41",
   "metadata": {},
   "outputs": [
    {
     "data": {
      "text/plain": [
       "9"
      ]
     },
     "execution_count": 131,
     "metadata": {},
     "output_type": "execute_result"
    }
   ],
   "source": [
    "type9=driver.find_element(By.XPATH,'//*[@id=\"post-1953\"]/div/div/p[9]/strong')\n",
    "types.append(type9.text)\n",
    "len(types) "
   ]
  },
  {
   "cell_type": "code",
   "execution_count": 132,
   "id": "87b72df7",
   "metadata": {},
   "outputs": [
    {
     "data": {
      "text/plain": [
       "['1. ElementNotVisibleException:',\n",
       " '2. ElementNotSelectableException:',\n",
       " '3. NoSuchElementException:',\n",
       " '4. NoSuchFrameException:',\n",
       " '5. NoAlertPresentException:',\n",
       " '6. NoSuchWindowException:',\n",
       " '7. StaleElementReferenceException:',\n",
       " '8. SessionNotFoundException:',\n",
       " '9. TimeoutException:']"
      ]
     },
     "execution_count": 132,
     "metadata": {},
     "output_type": "execute_result"
    }
   ],
   "source": [
    "types"
   ]
  },
  {
   "cell_type": "code",
   "execution_count": 133,
   "id": "952c8ecf",
   "metadata": {},
   "outputs": [
    {
     "data": {
      "text/plain": [
       "10"
      ]
     },
     "execution_count": 133,
     "metadata": {},
     "output_type": "execute_result"
    }
   ],
   "source": [
    "type10=driver.find_element(By.XPATH,'//*[@id=\"post-1953\"]/div/div/p[10]/strong')\n",
    "types.append(type10.text)\n",
    "len(types) "
   ]
  },
  {
   "cell_type": "code",
   "execution_count": 134,
   "id": "17f1affe",
   "metadata": {},
   "outputs": [
    {
     "data": {
      "text/plain": [
       "11"
      ]
     },
     "execution_count": 134,
     "metadata": {},
     "output_type": "execute_result"
    }
   ],
   "source": [
    "type11=driver.find_element(By.XPATH,'//*[@id=\"post-1953\"]/div/div/p[11]/strong')\n",
    "types.append(type11.text)\n",
    "len(types) "
   ]
  },
  {
   "cell_type": "code",
   "execution_count": 135,
   "id": "feed2458",
   "metadata": {},
   "outputs": [
    {
     "data": {
      "text/plain": [
       "12"
      ]
     },
     "execution_count": 135,
     "metadata": {},
     "output_type": "execute_result"
    }
   ],
   "source": [
    "type12=driver.find_element(By.XPATH,'//*[@id=\"post-1953\"]/div/div/p[12]/strong')\n",
    "types.append(type12.text)\n",
    "len(types) "
   ]
  },
  {
   "cell_type": "code",
   "execution_count": 136,
   "id": "cb854325",
   "metadata": {},
   "outputs": [
    {
     "data": {
      "text/plain": [
       "13"
      ]
     },
     "execution_count": 136,
     "metadata": {},
     "output_type": "execute_result"
    }
   ],
   "source": [
    "type13=driver.find_element(By.XPATH,'//*[@id=\"post-1953\"]/div/div/p[13]/strong')\n",
    "types.append(type13.text)\n",
    "len(types) "
   ]
  },
  {
   "cell_type": "code",
   "execution_count": 137,
   "id": "23f49484",
   "metadata": {},
   "outputs": [
    {
     "data": {
      "text/plain": [
       "14"
      ]
     },
     "execution_count": 137,
     "metadata": {},
     "output_type": "execute_result"
    }
   ],
   "source": [
    "type14=driver.find_element(By.XPATH,'//*[@id=\"post-1953\"]/div/div/p[14]/strong')\n",
    "types.append(type14.text)\n",
    "len(types) "
   ]
  },
  {
   "cell_type": "code",
   "execution_count": 138,
   "id": "f38e8a89",
   "metadata": {},
   "outputs": [
    {
     "data": {
      "text/plain": [
       "15"
      ]
     },
     "execution_count": 138,
     "metadata": {},
     "output_type": "execute_result"
    }
   ],
   "source": [
    "type15=driver.find_element(By.XPATH,'//*[@id=\"post-1953\"]/div/div/p[15]/strong')\n",
    "types.append(type15.text)\n",
    "len(types) "
   ]
  },
  {
   "cell_type": "code",
   "execution_count": 139,
   "id": "25974e13",
   "metadata": {},
   "outputs": [
    {
     "data": {
      "text/plain": [
       "16"
      ]
     },
     "execution_count": 139,
     "metadata": {},
     "output_type": "execute_result"
    }
   ],
   "source": [
    "type16=driver.find_element(By.XPATH,'//*[@id=\"post-1953\"]/div/div/p[16]/strong')\n",
    "types.append(type16.text)\n",
    "len(types) "
   ]
  },
  {
   "cell_type": "code",
   "execution_count": 140,
   "id": "b4c2a2db",
   "metadata": {},
   "outputs": [
    {
     "data": {
      "text/plain": [
       "17"
      ]
     },
     "execution_count": 140,
     "metadata": {},
     "output_type": "execute_result"
    }
   ],
   "source": [
    "type17=driver.find_element(By.XPATH,'//*[@id=\"post-1953\"]/div/div/p[17]/strong')\n",
    "types.append(type17.text)\n",
    "len(types) "
   ]
  },
  {
   "cell_type": "code",
   "execution_count": 141,
   "id": "11eb6e28",
   "metadata": {},
   "outputs": [
    {
     "data": {
      "text/plain": [
       "18"
      ]
     },
     "execution_count": 141,
     "metadata": {},
     "output_type": "execute_result"
    }
   ],
   "source": [
    "type18=driver.find_element(By.XPATH,'//*[@id=\"post-1953\"]/div/div/p[18]/strong')\n",
    "types.append(type18.text)\n",
    "len(types) "
   ]
  },
  {
   "cell_type": "code",
   "execution_count": 142,
   "id": "c4e5c0a5",
   "metadata": {},
   "outputs": [
    {
     "data": {
      "text/plain": [
       "19"
      ]
     },
     "execution_count": 142,
     "metadata": {},
     "output_type": "execute_result"
    }
   ],
   "source": [
    "type19=driver.find_element(By.XPATH,'//*[@id=\"post-1953\"]/div/div/p[19]/strong')\n",
    "types.append(type19.text)\n",
    "len(types) "
   ]
  },
  {
   "cell_type": "code",
   "execution_count": 143,
   "id": "c91de256",
   "metadata": {},
   "outputs": [
    {
     "data": {
      "text/plain": [
       "20"
      ]
     },
     "execution_count": 143,
     "metadata": {},
     "output_type": "execute_result"
    }
   ],
   "source": [
    "type20=driver.find_element(By.XPATH,'//*[@id=\"post-1953\"]/div/div/p[20]/strong')\n",
    "types.append(type20.text)\n",
    "len(types) "
   ]
  },
  {
   "cell_type": "code",
   "execution_count": 144,
   "id": "3345181b",
   "metadata": {},
   "outputs": [
    {
     "data": {
      "text/plain": [
       "21"
      ]
     },
     "execution_count": 144,
     "metadata": {},
     "output_type": "execute_result"
    }
   ],
   "source": [
    "type21=driver.find_element(By.XPATH,'//*[@id=\"post-1953\"]/div/div/p[21]/strong')\n",
    "types.append(type21.text)\n",
    "len(types) "
   ]
  },
  {
   "cell_type": "code",
   "execution_count": 145,
   "id": "b4b24561",
   "metadata": {},
   "outputs": [
    {
     "data": {
      "text/plain": [
       "22"
      ]
     },
     "execution_count": 145,
     "metadata": {},
     "output_type": "execute_result"
    }
   ],
   "source": [
    "type22=driver.find_element(By.XPATH,'//*[@id=\"post-1953\"]/div/div/p[22]/strong')\n",
    "types.append(type22.text)\n",
    "len(types) "
   ]
  },
  {
   "cell_type": "code",
   "execution_count": 146,
   "id": "d3efb28e",
   "metadata": {},
   "outputs": [
    {
     "data": {
      "text/plain": [
       "23"
      ]
     },
     "execution_count": 146,
     "metadata": {},
     "output_type": "execute_result"
    }
   ],
   "source": [
    "type23=driver.find_element(By.XPATH,'//*[@id=\"post-1953\"]/div/div/p[23]/strong')\n",
    "types.append(type23.text)\n",
    "len(types) "
   ]
  },
  {
   "cell_type": "code",
   "execution_count": 147,
   "id": "510614a2",
   "metadata": {},
   "outputs": [
    {
     "data": {
      "text/plain": [
       "24"
      ]
     },
     "execution_count": 147,
     "metadata": {},
     "output_type": "execute_result"
    }
   ],
   "source": [
    "type24=driver.find_element(By.XPATH,'//*[@id=\"post-1953\"]/div/div/p[24]/strong')\n",
    "types.append(type24.text)\n",
    "len(types) "
   ]
  },
  {
   "cell_type": "code",
   "execution_count": 148,
   "id": "2d13eb3e",
   "metadata": {},
   "outputs": [
    {
     "data": {
      "text/plain": [
       "25"
      ]
     },
     "execution_count": 148,
     "metadata": {},
     "output_type": "execute_result"
    }
   ],
   "source": [
    "type25=driver.find_element(By.XPATH,'//*[@id=\"post-1953\"]/div/div/p[25]/strong')\n",
    "types.append(type25.text)\n",
    "len(types) "
   ]
  },
  {
   "cell_type": "code",
   "execution_count": 149,
   "id": "362507c6",
   "metadata": {},
   "outputs": [
    {
     "data": {
      "text/plain": [
       "26"
      ]
     },
     "execution_count": 149,
     "metadata": {},
     "output_type": "execute_result"
    }
   ],
   "source": [
    "type26=driver.find_element(By.XPATH,'//*[@id=\"post-1953\"]/div/div/p[26]/strong')\n",
    "types.append(type26.text)\n",
    "len(types) "
   ]
  },
  {
   "cell_type": "code",
   "execution_count": 150,
   "id": "a17bda6a",
   "metadata": {},
   "outputs": [
    {
     "data": {
      "text/plain": [
       "27"
      ]
     },
     "execution_count": 150,
     "metadata": {},
     "output_type": "execute_result"
    }
   ],
   "source": [
    "type27=driver.find_element(By.XPATH,'//*[@id=\"post-1953\"]/div/div/p[27]/strong')\n",
    "types.append(type27.text)\n",
    "len(types) "
   ]
  },
  {
   "cell_type": "code",
   "execution_count": 151,
   "id": "fc045d32",
   "metadata": {},
   "outputs": [
    {
     "data": {
      "text/plain": [
       "28"
      ]
     },
     "execution_count": 151,
     "metadata": {},
     "output_type": "execute_result"
    }
   ],
   "source": [
    "type28=driver.find_element(By.XPATH,'//*[@id=\"post-1953\"]/div/div/p[28]/strong')\n",
    "types.append(type28.text)\n",
    "len(types) "
   ]
  },
  {
   "cell_type": "code",
   "execution_count": 152,
   "id": "85f059f9",
   "metadata": {},
   "outputs": [
    {
     "data": {
      "text/plain": [
       "29"
      ]
     },
     "execution_count": 152,
     "metadata": {},
     "output_type": "execute_result"
    }
   ],
   "source": [
    "type29=driver.find_element(By.XPATH,'//*[@id=\"post-1953\"]/div/div/p[29]/strong')\n",
    "types.append(type29.text)\n",
    "len(types) "
   ]
  },
  {
   "cell_type": "code",
   "execution_count": 153,
   "id": "753afb5c",
   "metadata": {},
   "outputs": [
    {
     "data": {
      "text/plain": [
       "30"
      ]
     },
     "execution_count": 153,
     "metadata": {},
     "output_type": "execute_result"
    }
   ],
   "source": [
    "type30=driver.find_element(By.XPATH,'//*[@id=\"post-1953\"]/div/div/p[30]/strong')\n",
    "types.append(type30.text)\n",
    "len(types) "
   ]
  },
  {
   "cell_type": "code",
   "execution_count": 154,
   "id": "35479633",
   "metadata": {},
   "outputs": [
    {
     "data": {
      "text/plain": [
       "31"
      ]
     },
     "execution_count": 154,
     "metadata": {},
     "output_type": "execute_result"
    }
   ],
   "source": [
    "type31=driver.find_element(By.XPATH,'//*[@id=\"post-1953\"]/div/div/p[31]/strong')\n",
    "types.append(type31.text)\n",
    "len(types) "
   ]
  },
  {
   "cell_type": "code",
   "execution_count": 155,
   "id": "4920c20a",
   "metadata": {},
   "outputs": [
    {
     "data": {
      "text/plain": [
       "32"
      ]
     },
     "execution_count": 155,
     "metadata": {},
     "output_type": "execute_result"
    }
   ],
   "source": [
    "type32=driver.find_element(By.XPATH,'//*[@id=\"post-1953\"]/div/div/p[32]/strong')\n",
    "types.append(type32.text)\n",
    "len(types) "
   ]
  },
  {
   "cell_type": "code",
   "execution_count": 156,
   "id": "ed433c87",
   "metadata": {},
   "outputs": [
    {
     "data": {
      "text/plain": [
       "33"
      ]
     },
     "execution_count": 156,
     "metadata": {},
     "output_type": "execute_result"
    }
   ],
   "source": [
    "type33=driver.find_element(By.XPATH,'//*[@id=\"post-1953\"]/div/div/p[33]/strong')\n",
    "types.append(type33.text)\n",
    "len(types) "
   ]
  },
  {
   "cell_type": "code",
   "execution_count": 157,
   "id": "e9db834a",
   "metadata": {},
   "outputs": [
    {
     "data": {
      "text/plain": [
       "34"
      ]
     },
     "execution_count": 157,
     "metadata": {},
     "output_type": "execute_result"
    }
   ],
   "source": [
    "type34=driver.find_element(By.XPATH,'//*[@id=\"post-1953\"]/div/div/p[34]/strong')\n",
    "types.append(type34.text)\n",
    "len(types) "
   ]
  },
  {
   "cell_type": "code",
   "execution_count": 158,
   "id": "e32bd79c",
   "metadata": {},
   "outputs": [
    {
     "data": {
      "text/plain": [
       "35"
      ]
     },
     "execution_count": 158,
     "metadata": {},
     "output_type": "execute_result"
    }
   ],
   "source": [
    "type35=driver.find_element(By.XPATH,'//*[@id=\"post-1953\"]/div/div/p[35]/strong')\n",
    "types.append(type35.text)\n",
    "len(types) "
   ]
  },
  {
   "cell_type": "code",
   "execution_count": 159,
   "id": "e9836b4d",
   "metadata": {},
   "outputs": [
    {
     "data": {
      "text/plain": [
       "36"
      ]
     },
     "execution_count": 159,
     "metadata": {},
     "output_type": "execute_result"
    }
   ],
   "source": [
    "type36=driver.find_element(By.XPATH,'//*[@id=\"post-1953\"]/div/div/p[36]/strong')\n",
    "types.append(type36.text)\n",
    "len(types) "
   ]
  },
  {
   "cell_type": "code",
   "execution_count": 160,
   "id": "00d591e5",
   "metadata": {},
   "outputs": [
    {
     "data": {
      "text/plain": [
       "37"
      ]
     },
     "execution_count": 160,
     "metadata": {},
     "output_type": "execute_result"
    }
   ],
   "source": [
    "type37=driver.find_element(By.XPATH,'//*[@id=\"post-1953\"]/div/div/p[37]/strong')\n",
    "types.append(type37.text)\n",
    "len(types) "
   ]
  },
  {
   "cell_type": "code",
   "execution_count": 161,
   "id": "35a606a1",
   "metadata": {},
   "outputs": [
    {
     "data": {
      "text/plain": [
       "38"
      ]
     },
     "execution_count": 161,
     "metadata": {},
     "output_type": "execute_result"
    }
   ],
   "source": [
    "type38=driver.find_element(By.XPATH,'//*[@id=\"post-1953\"]/div/div/p[38]/strong')\n",
    "types.append(type38.text)\n",
    "len(types) "
   ]
  },
  {
   "cell_type": "code",
   "execution_count": 162,
   "id": "ebfb5d3f",
   "metadata": {},
   "outputs": [
    {
     "data": {
      "text/plain": [
       "39"
      ]
     },
     "execution_count": 162,
     "metadata": {},
     "output_type": "execute_result"
    }
   ],
   "source": [
    "type39=driver.find_element(By.XPATH,'//*[@id=\"post-1953\"]/div/div/p[39]/strong')\n",
    "types.append(type39.text)\n",
    "len(types) "
   ]
  },
  {
   "cell_type": "code",
   "execution_count": 163,
   "id": "f0ff9f23",
   "metadata": {},
   "outputs": [
    {
     "data": {
      "text/plain": [
       "40"
      ]
     },
     "execution_count": 163,
     "metadata": {},
     "output_type": "execute_result"
    }
   ],
   "source": [
    "type40=driver.find_element(By.XPATH,'//*[@id=\"post-1953\"]/div/div/p[40]/strong')\n",
    "types.append(type40.text)\n",
    "len(types) "
   ]
  },
  {
   "cell_type": "code",
   "execution_count": 164,
   "id": "a54bfa7d",
   "metadata": {},
   "outputs": [
    {
     "data": {
      "text/plain": [
       "41"
      ]
     },
     "execution_count": 164,
     "metadata": {},
     "output_type": "execute_result"
    }
   ],
   "source": [
    "type41=driver.find_element(By.XPATH,'//*[@id=\"post-1953\"]/div/div/p[41]/strong')\n",
    "types.append(type41.text)\n",
    "len(types) "
   ]
  },
  {
   "cell_type": "code",
   "execution_count": 179,
   "id": "a21f01bf",
   "metadata": {},
   "outputs": [],
   "source": [
    "d=[]"
   ]
  },
  {
   "cell_type": "code",
   "execution_count": 180,
   "id": "369892a0",
   "metadata": {},
   "outputs": [
    {
     "data": {
      "text/plain": [
       "1"
      ]
     },
     "execution_count": 180,
     "metadata": {},
     "output_type": "execute_result"
    }
   ],
   "source": [
    "desc1=driver.find_element(By.XPATH,'//*[@id=\"post-1953\"]/div/div/p[1]')\n",
    "d.append(desc1.text)\n",
    "len(d)"
   ]
  },
  {
   "cell_type": "code",
   "execution_count": 181,
   "id": "97bef052",
   "metadata": {},
   "outputs": [
    {
     "data": {
      "text/plain": [
       "['1. ElementNotVisibleException: This type of Selenium exception occurs when an existing element in DOM has a feature set as hidden.']"
      ]
     },
     "execution_count": 181,
     "metadata": {},
     "output_type": "execute_result"
    }
   ],
   "source": [
    "d"
   ]
  },
  {
   "cell_type": "code",
   "execution_count": 182,
   "id": "840d24a3",
   "metadata": {},
   "outputs": [
    {
     "data": {
      "text/plain": [
       "2"
      ]
     },
     "execution_count": 182,
     "metadata": {},
     "output_type": "execute_result"
    }
   ],
   "source": [
    "desc2=driver.find_element(By.XPATH,'//*[@id=\"post-1953\"]/div/div/p[2]')\n",
    "d.append(desc2.text)\n",
    "len(d)"
   ]
  },
  {
   "cell_type": "code",
   "execution_count": 183,
   "id": "2a7ba6a9",
   "metadata": {},
   "outputs": [
    {
     "data": {
      "text/plain": [
       "3"
      ]
     },
     "execution_count": 183,
     "metadata": {},
     "output_type": "execute_result"
    }
   ],
   "source": [
    "desc3=driver.find_element(By.XPATH,'//*[@id=\"post-1953\"]/div/div/p[3]')\n",
    "d.append(desc3.text)\n",
    "len(d)"
   ]
  },
  {
   "cell_type": "code",
   "execution_count": 184,
   "id": "52b278a3",
   "metadata": {},
   "outputs": [
    {
     "data": {
      "text/plain": [
       "4"
      ]
     },
     "execution_count": 184,
     "metadata": {},
     "output_type": "execute_result"
    }
   ],
   "source": [
    "desc4=driver.find_element(By.XPATH,'//*[@id=\"post-1953\"]/div/div/p[4]')\n",
    "d.append(desc4.text)\n",
    "len(d)"
   ]
  },
  {
   "cell_type": "code",
   "execution_count": 189,
   "id": "7f88adb1",
   "metadata": {},
   "outputs": [
    {
     "data": {
      "text/plain": [
       "5"
      ]
     },
     "execution_count": 189,
     "metadata": {},
     "output_type": "execute_result"
    }
   ],
   "source": [
    "desc5=driver.find_element(By.XPATH,'//*[@id=\"post-1953\"]/div/div/p[5]')\n",
    "d.append(desc5.text)\n",
    "len(d)"
   ]
  },
  {
   "cell_type": "code",
   "execution_count": 190,
   "id": "82c5d25c",
   "metadata": {},
   "outputs": [
    {
     "data": {
      "text/plain": [
       "6"
      ]
     },
     "execution_count": 190,
     "metadata": {},
     "output_type": "execute_result"
    }
   ],
   "source": [
    "desc6=driver.find_element(By.XPATH,'//*[@id=\"post-1953\"]/div/div/p[6]')\n",
    "d.append(desc6.text)\n",
    "len(d)"
   ]
  },
  {
   "cell_type": "code",
   "execution_count": 191,
   "id": "5c7fa516",
   "metadata": {},
   "outputs": [
    {
     "data": {
      "text/plain": [
       "7"
      ]
     },
     "execution_count": 191,
     "metadata": {},
     "output_type": "execute_result"
    }
   ],
   "source": [
    "desc7=driver.find_element(By.XPATH,'//*[@id=\"post-1953\"]/div/div/p[7]')\n",
    "d.append(desc7.text)\n",
    "len(d)"
   ]
  },
  {
   "cell_type": "code",
   "execution_count": 192,
   "id": "ca6f19d9",
   "metadata": {},
   "outputs": [
    {
     "data": {
      "text/plain": [
       "8"
      ]
     },
     "execution_count": 192,
     "metadata": {},
     "output_type": "execute_result"
    }
   ],
   "source": [
    "desc8=driver.find_element(By.XPATH,'//*[@id=\"post-1953\"]/div/div/p[8]')\n",
    "d.append(desc8.text)\n",
    "len(d)"
   ]
  },
  {
   "cell_type": "code",
   "execution_count": 193,
   "id": "35d510d5",
   "metadata": {},
   "outputs": [
    {
     "data": {
      "text/plain": [
       "9"
      ]
     },
     "execution_count": 193,
     "metadata": {},
     "output_type": "execute_result"
    }
   ],
   "source": [
    "desc9=driver.find_element(By.XPATH,'//*[@id=\"post-1953\"]/div/div/p[9]')\n",
    "d.append(desc9.text)\n",
    "len(d)"
   ]
  },
  {
   "cell_type": "code",
   "execution_count": 194,
   "id": "7d9994a8",
   "metadata": {},
   "outputs": [
    {
     "data": {
      "text/plain": [
       "10"
      ]
     },
     "execution_count": 194,
     "metadata": {},
     "output_type": "execute_result"
    }
   ],
   "source": [
    "desc10=driver.find_element(By.XPATH,'//*[@id=\"post-1953\"]/div/div/p[10]')\n",
    "d.append(desc10.text)\n",
    "len(d)"
   ]
  },
  {
   "cell_type": "code",
   "execution_count": 195,
   "id": "abcc80a6",
   "metadata": {},
   "outputs": [
    {
     "data": {
      "text/plain": [
       "11"
      ]
     },
     "execution_count": 195,
     "metadata": {},
     "output_type": "execute_result"
    }
   ],
   "source": [
    "desc11=driver.find_element(By.XPATH,'//*[@id=\"post-1953\"]/div/div/p[11]')\n",
    "d.append(desc11.text)\n",
    "len(d)"
   ]
  },
  {
   "cell_type": "code",
   "execution_count": 196,
   "id": "e442681c",
   "metadata": {},
   "outputs": [
    {
     "data": {
      "text/plain": [
       "12"
      ]
     },
     "execution_count": 196,
     "metadata": {},
     "output_type": "execute_result"
    }
   ],
   "source": [
    "desc12=driver.find_element(By.XPATH,'//*[@id=\"post-1953\"]/div/div/p[12]')\n",
    "d.append(desc12.text)\n",
    "len(d)"
   ]
  },
  {
   "cell_type": "code",
   "execution_count": 197,
   "id": "2a329427",
   "metadata": {},
   "outputs": [
    {
     "data": {
      "text/plain": [
       "13"
      ]
     },
     "execution_count": 197,
     "metadata": {},
     "output_type": "execute_result"
    }
   ],
   "source": [
    "desc13=driver.find_element(By.XPATH,'//*[@id=\"post-1953\"]/div/div/p[13]')\n",
    "d.append(desc13.text)\n",
    "len(d)"
   ]
  },
  {
   "cell_type": "code",
   "execution_count": 198,
   "id": "a3208ef6",
   "metadata": {},
   "outputs": [
    {
     "data": {
      "text/plain": [
       "14"
      ]
     },
     "execution_count": 198,
     "metadata": {},
     "output_type": "execute_result"
    }
   ],
   "source": [
    "desc14=driver.find_element(By.XPATH,'//*[@id=\"post-1953\"]/div/div/p[14]')\n",
    "d.append(desc14.text)\n",
    "len(d)"
   ]
  },
  {
   "cell_type": "code",
   "execution_count": 199,
   "id": "cd3ae835",
   "metadata": {},
   "outputs": [
    {
     "data": {
      "text/plain": [
       "15"
      ]
     },
     "execution_count": 199,
     "metadata": {},
     "output_type": "execute_result"
    }
   ],
   "source": [
    "desc15=driver.find_element(By.XPATH,'//*[@id=\"post-1953\"]/div/div/p[15]')\n",
    "d.append(desc15.text)\n",
    "len(d)"
   ]
  },
  {
   "cell_type": "code",
   "execution_count": 200,
   "id": "851ccd86",
   "metadata": {},
   "outputs": [
    {
     "data": {
      "text/plain": [
       "16"
      ]
     },
     "execution_count": 200,
     "metadata": {},
     "output_type": "execute_result"
    }
   ],
   "source": [
    "desc16=driver.find_element(By.XPATH,'//*[@id=\"post-1953\"]/div/div/p[16]')\n",
    "d.append(desc16.text)\n",
    "len(d)"
   ]
  },
  {
   "cell_type": "code",
   "execution_count": 201,
   "id": "1ca15c84",
   "metadata": {},
   "outputs": [
    {
     "data": {
      "text/plain": [
       "17"
      ]
     },
     "execution_count": 201,
     "metadata": {},
     "output_type": "execute_result"
    }
   ],
   "source": [
    "desc17=driver.find_element(By.XPATH,'//*[@id=\"post-1953\"]/div/div/p[17]')\n",
    "d.append(desc17.text)\n",
    "len(d)"
   ]
  },
  {
   "cell_type": "code",
   "execution_count": 202,
   "id": "78351a13",
   "metadata": {},
   "outputs": [
    {
     "data": {
      "text/plain": [
       "18"
      ]
     },
     "execution_count": 202,
     "metadata": {},
     "output_type": "execute_result"
    }
   ],
   "source": [
    "desc18=driver.find_element(By.XPATH,'//*[@id=\"post-1953\"]/div/div/p[18]')\n",
    "d.append(desc18.text)\n",
    "len(d)"
   ]
  },
  {
   "cell_type": "code",
   "execution_count": 203,
   "id": "cb45f6a5",
   "metadata": {},
   "outputs": [
    {
     "data": {
      "text/plain": [
       "19"
      ]
     },
     "execution_count": 203,
     "metadata": {},
     "output_type": "execute_result"
    }
   ],
   "source": [
    "desc19=driver.find_element(By.XPATH,'//*[@id=\"post-1953\"]/div/div/p[19]')\n",
    "d.append(desc19.text)\n",
    "len(d)"
   ]
  },
  {
   "cell_type": "code",
   "execution_count": 204,
   "id": "3425395b",
   "metadata": {},
   "outputs": [
    {
     "data": {
      "text/plain": [
       "20"
      ]
     },
     "execution_count": 204,
     "metadata": {},
     "output_type": "execute_result"
    }
   ],
   "source": [
    "desc20=driver.find_element(By.XPATH,'//*[@id=\"post-1953\"]/div/div/p[20]')\n",
    "d.append(desc20.text)\n",
    "len(d)"
   ]
  },
  {
   "cell_type": "code",
   "execution_count": 205,
   "id": "05a01d2e",
   "metadata": {},
   "outputs": [
    {
     "data": {
      "text/plain": [
       "21"
      ]
     },
     "execution_count": 205,
     "metadata": {},
     "output_type": "execute_result"
    }
   ],
   "source": [
    "desc21=driver.find_element(By.XPATH,'//*[@id=\"post-1953\"]/div/div/p[21]')\n",
    "d.append(desc21.text)\n",
    "len(d)"
   ]
  },
  {
   "cell_type": "code",
   "execution_count": 206,
   "id": "27d829dd",
   "metadata": {},
   "outputs": [
    {
     "data": {
      "text/plain": [
       "22"
      ]
     },
     "execution_count": 206,
     "metadata": {},
     "output_type": "execute_result"
    }
   ],
   "source": [
    "desc22=driver.find_element(By.XPATH,'//*[@id=\"post-1953\"]/div/div/p[22]')\n",
    "d.append(desc22.text)\n",
    "len(d)"
   ]
  },
  {
   "cell_type": "code",
   "execution_count": 207,
   "id": "bb9b47da",
   "metadata": {},
   "outputs": [
    {
     "data": {
      "text/plain": [
       "23"
      ]
     },
     "execution_count": 207,
     "metadata": {},
     "output_type": "execute_result"
    }
   ],
   "source": [
    "desc23=driver.find_element(By.XPATH,'//*[@id=\"post-1953\"]/div/div/p[23]')\n",
    "d.append(desc23.text)\n",
    "len(d)"
   ]
  },
  {
   "cell_type": "code",
   "execution_count": 209,
   "id": "f53d036c",
   "metadata": {},
   "outputs": [
    {
     "data": {
      "text/plain": [
       "24"
      ]
     },
     "execution_count": 209,
     "metadata": {},
     "output_type": "execute_result"
    }
   ],
   "source": [
    "desc24=driver.find_element(By.XPATH,'//*[@id=\"post-1953\"]/div/div/p[24]')\n",
    "d.append(desc24.text)\n",
    "len(d)"
   ]
  },
  {
   "cell_type": "code",
   "execution_count": 210,
   "id": "5ba57742",
   "metadata": {},
   "outputs": [
    {
     "data": {
      "text/plain": [
       "25"
      ]
     },
     "execution_count": 210,
     "metadata": {},
     "output_type": "execute_result"
    }
   ],
   "source": [
    "desc25=driver.find_element(By.XPATH,'//*[@id=\"post-1953\"]/div/div/p[25]')\n",
    "d.append(desc25.text)\n",
    "len(d)"
   ]
  },
  {
   "cell_type": "code",
   "execution_count": 211,
   "id": "72e11f75",
   "metadata": {},
   "outputs": [
    {
     "data": {
      "text/plain": [
       "26"
      ]
     },
     "execution_count": 211,
     "metadata": {},
     "output_type": "execute_result"
    }
   ],
   "source": [
    "desc26=driver.find_element(By.XPATH,'//*[@id=\"post-1953\"]/div/div/p[26]')\n",
    "d.append(desc26.text)\n",
    "len(d)"
   ]
  },
  {
   "cell_type": "code",
   "execution_count": 212,
   "id": "f643adb1",
   "metadata": {},
   "outputs": [
    {
     "data": {
      "text/plain": [
       "27"
      ]
     },
     "execution_count": 212,
     "metadata": {},
     "output_type": "execute_result"
    }
   ],
   "source": [
    "desc27=driver.find_element(By.XPATH,'//*[@id=\"post-1953\"]/div/div/p[27]')\n",
    "d.append(desc27.text)\n",
    "len(d)"
   ]
  },
  {
   "cell_type": "code",
   "execution_count": 213,
   "id": "f390feb1",
   "metadata": {},
   "outputs": [
    {
     "data": {
      "text/plain": [
       "28"
      ]
     },
     "execution_count": 213,
     "metadata": {},
     "output_type": "execute_result"
    }
   ],
   "source": [
    "desc28=driver.find_element(By.XPATH,'//*[@id=\"post-1953\"]/div/div/p[28]')\n",
    "d.append(desc28.text)\n",
    "len(d)"
   ]
  },
  {
   "cell_type": "code",
   "execution_count": 214,
   "id": "09158e74",
   "metadata": {},
   "outputs": [
    {
     "data": {
      "text/plain": [
       "29"
      ]
     },
     "execution_count": 214,
     "metadata": {},
     "output_type": "execute_result"
    }
   ],
   "source": [
    "desc29=driver.find_element(By.XPATH,'//*[@id=\"post-1953\"]/div/div/p[29]')\n",
    "d.append(desc29.text)\n",
    "len(d)"
   ]
  },
  {
   "cell_type": "code",
   "execution_count": 215,
   "id": "bd46d88a",
   "metadata": {},
   "outputs": [
    {
     "data": {
      "text/plain": [
       "30"
      ]
     },
     "execution_count": 215,
     "metadata": {},
     "output_type": "execute_result"
    }
   ],
   "source": [
    "desc30=driver.find_element(By.XPATH,'//*[@id=\"post-1953\"]/div/div/p[30]')\n",
    "d.append(desc30.text)\n",
    "len(d)"
   ]
  },
  {
   "cell_type": "code",
   "execution_count": 216,
   "id": "553db405",
   "metadata": {},
   "outputs": [
    {
     "data": {
      "text/plain": [
       "31"
      ]
     },
     "execution_count": 216,
     "metadata": {},
     "output_type": "execute_result"
    }
   ],
   "source": [
    "desc31=driver.find_element(By.XPATH,'//*[@id=\"post-1953\"]/div/div/p[31]')\n",
    "d.append(desc31.text)\n",
    "len(d)"
   ]
  },
  {
   "cell_type": "code",
   "execution_count": 217,
   "id": "9d69b8d8",
   "metadata": {},
   "outputs": [
    {
     "data": {
      "text/plain": [
       "32"
      ]
     },
     "execution_count": 217,
     "metadata": {},
     "output_type": "execute_result"
    }
   ],
   "source": [
    "desc32=driver.find_element(By.XPATH,'//*[@id=\"post-1953\"]/div/div/p[32]')\n",
    "d.append(desc32.text)\n",
    "len(d)"
   ]
  },
  {
   "cell_type": "code",
   "execution_count": 218,
   "id": "4ccf2fe5",
   "metadata": {},
   "outputs": [
    {
     "data": {
      "text/plain": [
       "33"
      ]
     },
     "execution_count": 218,
     "metadata": {},
     "output_type": "execute_result"
    }
   ],
   "source": [
    "desc33=driver.find_element(By.XPATH,'//*[@id=\"post-1953\"]/div/div/p[33]')\n",
    "d.append(desc33.text)\n",
    "len(d)"
   ]
  },
  {
   "cell_type": "code",
   "execution_count": 219,
   "id": "93d5f9f9",
   "metadata": {},
   "outputs": [
    {
     "data": {
      "text/plain": [
       "34"
      ]
     },
     "execution_count": 219,
     "metadata": {},
     "output_type": "execute_result"
    }
   ],
   "source": [
    "desc34=driver.find_element(By.XPATH,'//*[@id=\"post-1953\"]/div/div/p[34]')\n",
    "d.append(desc34.text)\n",
    "len(d)"
   ]
  },
  {
   "cell_type": "code",
   "execution_count": 220,
   "id": "f950a27a",
   "metadata": {},
   "outputs": [
    {
     "data": {
      "text/plain": [
       "35"
      ]
     },
     "execution_count": 220,
     "metadata": {},
     "output_type": "execute_result"
    }
   ],
   "source": [
    "desc35=driver.find_element(By.XPATH,'//*[@id=\"post-1953\"]/div/div/p[35]')\n",
    "d.append(desc35.text)\n",
    "len(d)"
   ]
  },
  {
   "cell_type": "code",
   "execution_count": 221,
   "id": "661b5f7a",
   "metadata": {},
   "outputs": [
    {
     "data": {
      "text/plain": [
       "36"
      ]
     },
     "execution_count": 221,
     "metadata": {},
     "output_type": "execute_result"
    }
   ],
   "source": [
    "desc36=driver.find_element(By.XPATH,'//*[@id=\"post-1953\"]/div/div/p[36]')\n",
    "d.append(desc36.text)\n",
    "len(d)"
   ]
  },
  {
   "cell_type": "code",
   "execution_count": 222,
   "id": "d5e00d99",
   "metadata": {},
   "outputs": [
    {
     "data": {
      "text/plain": [
       "37"
      ]
     },
     "execution_count": 222,
     "metadata": {},
     "output_type": "execute_result"
    }
   ],
   "source": [
    "desc37=driver.find_element(By.XPATH,'//*[@id=\"post-1953\"]/div/div/p[37]')\n",
    "d.append(desc37.text)\n",
    "len(d)"
   ]
  },
  {
   "cell_type": "code",
   "execution_count": 223,
   "id": "36f1152e",
   "metadata": {},
   "outputs": [
    {
     "data": {
      "text/plain": [
       "38"
      ]
     },
     "execution_count": 223,
     "metadata": {},
     "output_type": "execute_result"
    }
   ],
   "source": [
    "desc38=driver.find_element(By.XPATH,'//*[@id=\"post-1953\"]/div/div/p[38]')\n",
    "d.append(desc38.text)\n",
    "len(d)"
   ]
  },
  {
   "cell_type": "code",
   "execution_count": 224,
   "id": "bda2dfab",
   "metadata": {},
   "outputs": [
    {
     "data": {
      "text/plain": [
       "39"
      ]
     },
     "execution_count": 224,
     "metadata": {},
     "output_type": "execute_result"
    }
   ],
   "source": [
    "desc39=driver.find_element(By.XPATH,'//*[@id=\"post-1953\"]/div/div/p[39]')\n",
    "d.append(desc39.text)\n",
    "len(d)"
   ]
  },
  {
   "cell_type": "code",
   "execution_count": 225,
   "id": "efe2d90f",
   "metadata": {},
   "outputs": [
    {
     "data": {
      "text/plain": [
       "40"
      ]
     },
     "execution_count": 225,
     "metadata": {},
     "output_type": "execute_result"
    }
   ],
   "source": [
    "desc40=driver.find_element(By.XPATH,'//*[@id=\"post-1953\"]/div/div/p[40]')\n",
    "d.append(desc40.text)\n",
    "len(d)"
   ]
  },
  {
   "cell_type": "code",
   "execution_count": 226,
   "id": "668a9c48",
   "metadata": {},
   "outputs": [
    {
     "data": {
      "text/plain": [
       "41"
      ]
     },
     "execution_count": 226,
     "metadata": {},
     "output_type": "execute_result"
    }
   ],
   "source": [
    "desc41=driver.find_element(By.XPATH,'//*[@id=\"post-1953\"]/div/div/p[41]')\n",
    "d.append(desc41.text)\n",
    "len(d)"
   ]
  },
  {
   "cell_type": "code",
   "execution_count": 227,
   "id": "9dd6dffc",
   "metadata": {},
   "outputs": [
    {
     "data": {
      "text/html": [
       "<div>\n",
       "<style scoped>\n",
       "    .dataframe tbody tr th:only-of-type {\n",
       "        vertical-align: middle;\n",
       "    }\n",
       "\n",
       "    .dataframe tbody tr th {\n",
       "        vertical-align: top;\n",
       "    }\n",
       "\n",
       "    .dataframe thead th {\n",
       "        text-align: right;\n",
       "    }\n",
       "</style>\n",
       "<table border=\"1\" class=\"dataframe\">\n",
       "  <thead>\n",
       "    <tr style=\"text-align: right;\">\n",
       "      <th></th>\n",
       "      <th>EXCEPTION NAME</th>\n",
       "      <th>DESCRIPTION</th>\n",
       "    </tr>\n",
       "  </thead>\n",
       "  <tbody>\n",
       "    <tr>\n",
       "      <th>1</th>\n",
       "      <td>1. ElementNotVisibleException:</td>\n",
       "      <td>1. ElementNotVisibleException: This type of Se...</td>\n",
       "    </tr>\n",
       "    <tr>\n",
       "      <th>2</th>\n",
       "      <td>2. ElementNotSelectableException:</td>\n",
       "      <td>2. ElementNotSelectableException: This Seleniu...</td>\n",
       "    </tr>\n",
       "    <tr>\n",
       "      <th>3</th>\n",
       "      <td>3. NoSuchElementException:</td>\n",
       "      <td>3. NoSuchElementException: This Exception occu...</td>\n",
       "    </tr>\n",
       "    <tr>\n",
       "      <th>4</th>\n",
       "      <td>4. NoSuchFrameException:</td>\n",
       "      <td>4. NoSuchFrameException: This Exception occurs...</td>\n",
       "    </tr>\n",
       "    <tr>\n",
       "      <th>5</th>\n",
       "      <td>5. NoAlertPresentException:</td>\n",
       "      <td>5. NoAlertPresentException: This Exception occ...</td>\n",
       "    </tr>\n",
       "    <tr>\n",
       "      <th>6</th>\n",
       "      <td>6. NoSuchWindowException:</td>\n",
       "      <td>6. NoSuchWindowException: This Exception occur...</td>\n",
       "    </tr>\n",
       "    <tr>\n",
       "      <th>7</th>\n",
       "      <td>7. StaleElementReferenceException:</td>\n",
       "      <td>7. StaleElementReferenceException: This Seleni...</td>\n",
       "    </tr>\n",
       "    <tr>\n",
       "      <th>8</th>\n",
       "      <td>8. SessionNotFoundException:</td>\n",
       "      <td>8. SessionNotFoundException: The WebDriver is ...</td>\n",
       "    </tr>\n",
       "    <tr>\n",
       "      <th>9</th>\n",
       "      <td>9. TimeoutException:</td>\n",
       "      <td>9. TimeoutException: Thrown when there is not ...</td>\n",
       "    </tr>\n",
       "    <tr>\n",
       "      <th>10</th>\n",
       "      <td>10. WebDriverException:</td>\n",
       "      <td>10. WebDriverException: This Exception takes p...</td>\n",
       "    </tr>\n",
       "    <tr>\n",
       "      <th>11</th>\n",
       "      <td>11. ConnectionClosedException:</td>\n",
       "      <td>11. ConnectionClosedException: This type of Ex...</td>\n",
       "    </tr>\n",
       "    <tr>\n",
       "      <th>12</th>\n",
       "      <td>12. ElementClickInterceptedException:</td>\n",
       "      <td>12. ElementClickInterceptedException: The comm...</td>\n",
       "    </tr>\n",
       "    <tr>\n",
       "      <th>13</th>\n",
       "      <td>13. ElementNotInteractableException:</td>\n",
       "      <td>13. ElementNotInteractableException: This Sele...</td>\n",
       "    </tr>\n",
       "    <tr>\n",
       "      <th>14</th>\n",
       "      <td>14. ErrorInResponseException:</td>\n",
       "      <td>14. ErrorInResponseException: This happens whi...</td>\n",
       "    </tr>\n",
       "    <tr>\n",
       "      <th>15</th>\n",
       "      <td>15. ErrorHandler.UnknownServerException:</td>\n",
       "      <td>15. ErrorHandler.UnknownServerException: Excep...</td>\n",
       "    </tr>\n",
       "    <tr>\n",
       "      <th>16</th>\n",
       "      <td>16. ImeActivationFailedException:</td>\n",
       "      <td>16. ImeActivationFailedException: This expecta...</td>\n",
       "    </tr>\n",
       "    <tr>\n",
       "      <th>17</th>\n",
       "      <td>17. ImeNotAvailableException:</td>\n",
       "      <td>17. ImeNotAvailableException: It takes place w...</td>\n",
       "    </tr>\n",
       "    <tr>\n",
       "      <th>18</th>\n",
       "      <td>18. InsecureCertificateException:</td>\n",
       "      <td>18. InsecureCertificateException: Navigation m...</td>\n",
       "    </tr>\n",
       "    <tr>\n",
       "      <th>19</th>\n",
       "      <td>19. InvalidArgumentException:</td>\n",
       "      <td>19. InvalidArgumentException: It occurs when a...</td>\n",
       "    </tr>\n",
       "    <tr>\n",
       "      <th>20</th>\n",
       "      <td>20. InvalidCookieDomainException:</td>\n",
       "      <td>20. InvalidCookieDomainException: This happens...</td>\n",
       "    </tr>\n",
       "    <tr>\n",
       "      <th>21</th>\n",
       "      <td>21. InvalidCoordinatesException:</td>\n",
       "      <td>21. InvalidCoordinatesException: This type of ...</td>\n",
       "    </tr>\n",
       "    <tr>\n",
       "      <th>22</th>\n",
       "      <td>22. InvalidElementStateException:</td>\n",
       "      <td>22. InvalidElementStateException: It occurs wh...</td>\n",
       "    </tr>\n",
       "    <tr>\n",
       "      <th>23</th>\n",
       "      <td>23. InvalidSessionIdException:</td>\n",
       "      <td>23. InvalidSessionIdException: This Exception ...</td>\n",
       "    </tr>\n",
       "    <tr>\n",
       "      <th>24</th>\n",
       "      <td>24. InvalidSwitchToTargetException:</td>\n",
       "      <td>24. InvalidSwitchToTargetException: This occur...</td>\n",
       "    </tr>\n",
       "    <tr>\n",
       "      <th>25</th>\n",
       "      <td>25. JavascriptException:</td>\n",
       "      <td>25. JavascriptException: This issue occurs whi...</td>\n",
       "    </tr>\n",
       "    <tr>\n",
       "      <th>26</th>\n",
       "      <td>26. JsonException:</td>\n",
       "      <td>26. JsonException: It occurs when you afford t...</td>\n",
       "    </tr>\n",
       "    <tr>\n",
       "      <th>27</th>\n",
       "      <td>27. NoSuchAttributeException:</td>\n",
       "      <td>27. NoSuchAttributeException: This kind of Exc...</td>\n",
       "    </tr>\n",
       "    <tr>\n",
       "      <th>28</th>\n",
       "      <td>28. MoveTargetOutOfBoundsException:</td>\n",
       "      <td>28. MoveTargetOutOfBoundsException: It takes p...</td>\n",
       "    </tr>\n",
       "    <tr>\n",
       "      <th>29</th>\n",
       "      <td>29. NoSuchContextException:</td>\n",
       "      <td>29. NoSuchContextException: ContextAware does ...</td>\n",
       "    </tr>\n",
       "    <tr>\n",
       "      <th>30</th>\n",
       "      <td>30. NoSuchCookieException:</td>\n",
       "      <td>30. NoSuchCookieException: This Exception occu...</td>\n",
       "    </tr>\n",
       "    <tr>\n",
       "      <th>31</th>\n",
       "      <td>31. NotFoundException:</td>\n",
       "      <td>31. NotFoundException: This Exception is a sub...</td>\n",
       "    </tr>\n",
       "    <tr>\n",
       "      <th>32</th>\n",
       "      <td>32. RemoteDriverServerException:</td>\n",
       "      <td>32. RemoteDriverServerException: This Selenium...</td>\n",
       "    </tr>\n",
       "    <tr>\n",
       "      <th>33</th>\n",
       "      <td>33. ScreenshotException:</td>\n",
       "      <td>33. ScreenshotException: It is not possible to...</td>\n",
       "    </tr>\n",
       "    <tr>\n",
       "      <th>34</th>\n",
       "      <td>34. SessionNotCreatedException:</td>\n",
       "      <td>34. SessionNotCreatedException: It happens whe...</td>\n",
       "    </tr>\n",
       "    <tr>\n",
       "      <th>35</th>\n",
       "      <td>35. UnableToSetCookieException:</td>\n",
       "      <td>35. UnableToSetCookieException: This occurs if...</td>\n",
       "    </tr>\n",
       "    <tr>\n",
       "      <th>36</th>\n",
       "      <td>36. UnexpectedTagNameException:</td>\n",
       "      <td>36. UnexpectedTagNameException: Happens if a s...</td>\n",
       "    </tr>\n",
       "    <tr>\n",
       "      <th>37</th>\n",
       "      <td>37. UnhandledAlertException:</td>\n",
       "      <td>37. UnhandledAlertException: This expectation ...</td>\n",
       "    </tr>\n",
       "    <tr>\n",
       "      <th>38</th>\n",
       "      <td>38. UnexpectedAlertPresentException:</td>\n",
       "      <td>38. UnexpectedAlertPresentException: It occurs...</td>\n",
       "    </tr>\n",
       "    <tr>\n",
       "      <th>39</th>\n",
       "      <td>39. UnknownMethodException:</td>\n",
       "      <td>39. UnknownMethodException: This Exception hap...</td>\n",
       "    </tr>\n",
       "    <tr>\n",
       "      <th>40</th>\n",
       "      <td>40. UnreachableBrowserException:</td>\n",
       "      <td>40. UnreachableBrowserException: This Exceptio...</td>\n",
       "    </tr>\n",
       "    <tr>\n",
       "      <th>41</th>\n",
       "      <td>41. UnsupportedCommandException:</td>\n",
       "      <td>41. UnsupportedCommandException: This occurs w...</td>\n",
       "    </tr>\n",
       "  </tbody>\n",
       "</table>\n",
       "</div>"
      ],
      "text/plain": [
       "                              EXCEPTION NAME  \\\n",
       "1             1. ElementNotVisibleException:   \n",
       "2          2. ElementNotSelectableException:   \n",
       "3                 3. NoSuchElementException:   \n",
       "4                   4. NoSuchFrameException:   \n",
       "5                5. NoAlertPresentException:   \n",
       "6                  6. NoSuchWindowException:   \n",
       "7         7. StaleElementReferenceException:   \n",
       "8               8. SessionNotFoundException:   \n",
       "9                       9. TimeoutException:   \n",
       "10                   10. WebDriverException:   \n",
       "11            11. ConnectionClosedException:   \n",
       "12     12. ElementClickInterceptedException:   \n",
       "13      13. ElementNotInteractableException:   \n",
       "14             14. ErrorInResponseException:   \n",
       "15  15. ErrorHandler.UnknownServerException:   \n",
       "16         16. ImeActivationFailedException:   \n",
       "17             17. ImeNotAvailableException:   \n",
       "18         18. InsecureCertificateException:   \n",
       "19             19. InvalidArgumentException:   \n",
       "20         20. InvalidCookieDomainException:   \n",
       "21          21. InvalidCoordinatesException:   \n",
       "22         22. InvalidElementStateException:   \n",
       "23            23. InvalidSessionIdException:   \n",
       "24       24. InvalidSwitchToTargetException:   \n",
       "25                  25. JavascriptException:   \n",
       "26                        26. JsonException:   \n",
       "27             27. NoSuchAttributeException:   \n",
       "28       28. MoveTargetOutOfBoundsException:   \n",
       "29               29. NoSuchContextException:   \n",
       "30                30. NoSuchCookieException:   \n",
       "31                    31. NotFoundException:   \n",
       "32          32. RemoteDriverServerException:   \n",
       "33                  33. ScreenshotException:   \n",
       "34           34. SessionNotCreatedException:   \n",
       "35           35. UnableToSetCookieException:   \n",
       "36           36. UnexpectedTagNameException:   \n",
       "37              37. UnhandledAlertException:   \n",
       "38      38. UnexpectedAlertPresentException:   \n",
       "39               39. UnknownMethodException:   \n",
       "40          40. UnreachableBrowserException:   \n",
       "41          41. UnsupportedCommandException:   \n",
       "\n",
       "                                          DESCRIPTION  \n",
       "1   1. ElementNotVisibleException: This type of Se...  \n",
       "2   2. ElementNotSelectableException: This Seleniu...  \n",
       "3   3. NoSuchElementException: This Exception occu...  \n",
       "4   4. NoSuchFrameException: This Exception occurs...  \n",
       "5   5. NoAlertPresentException: This Exception occ...  \n",
       "6   6. NoSuchWindowException: This Exception occur...  \n",
       "7   7. StaleElementReferenceException: This Seleni...  \n",
       "8   8. SessionNotFoundException: The WebDriver is ...  \n",
       "9   9. TimeoutException: Thrown when there is not ...  \n",
       "10  10. WebDriverException: This Exception takes p...  \n",
       "11  11. ConnectionClosedException: This type of Ex...  \n",
       "12  12. ElementClickInterceptedException: The comm...  \n",
       "13  13. ElementNotInteractableException: This Sele...  \n",
       "14  14. ErrorInResponseException: This happens whi...  \n",
       "15  15. ErrorHandler.UnknownServerException: Excep...  \n",
       "16  16. ImeActivationFailedException: This expecta...  \n",
       "17  17. ImeNotAvailableException: It takes place w...  \n",
       "18  18. InsecureCertificateException: Navigation m...  \n",
       "19  19. InvalidArgumentException: It occurs when a...  \n",
       "20  20. InvalidCookieDomainException: This happens...  \n",
       "21  21. InvalidCoordinatesException: This type of ...  \n",
       "22  22. InvalidElementStateException: It occurs wh...  \n",
       "23  23. InvalidSessionIdException: This Exception ...  \n",
       "24  24. InvalidSwitchToTargetException: This occur...  \n",
       "25  25. JavascriptException: This issue occurs whi...  \n",
       "26  26. JsonException: It occurs when you afford t...  \n",
       "27  27. NoSuchAttributeException: This kind of Exc...  \n",
       "28  28. MoveTargetOutOfBoundsException: It takes p...  \n",
       "29  29. NoSuchContextException: ContextAware does ...  \n",
       "30  30. NoSuchCookieException: This Exception occu...  \n",
       "31  31. NotFoundException: This Exception is a sub...  \n",
       "32  32. RemoteDriverServerException: This Selenium...  \n",
       "33  33. ScreenshotException: It is not possible to...  \n",
       "34  34. SessionNotCreatedException: It happens whe...  \n",
       "35  35. UnableToSetCookieException: This occurs if...  \n",
       "36  36. UnexpectedTagNameException: Happens if a s...  \n",
       "37  37. UnhandledAlertException: This expectation ...  \n",
       "38  38. UnexpectedAlertPresentException: It occurs...  \n",
       "39  39. UnknownMethodException: This Exception hap...  \n",
       "40  40. UnreachableBrowserException: This Exceptio...  \n",
       "41  41. UnsupportedCommandException: This occurs w...  "
      ]
     },
     "execution_count": 227,
     "metadata": {},
     "output_type": "execute_result"
    }
   ],
   "source": [
    "df=pd.DataFrame(data={'EXCEPTION NAME':types,'DESCRIPTION':d},index=range(1,42))\n",
    "df"
   ]
  },
  {
   "cell_type": "code",
   "execution_count": 228,
   "id": "cb7cb578",
   "metadata": {},
   "outputs": [],
   "source": [
    "df.to_csv('TYPES_OF_EXCEPTION_HANDLING.csv')"
   ]
  },
  {
   "cell_type": "code",
   "execution_count": 229,
   "id": "41751d99",
   "metadata": {},
   "outputs": [
    {
     "data": {
      "text/html": [
       "<div>\n",
       "<style scoped>\n",
       "    .dataframe tbody tr th:only-of-type {\n",
       "        vertical-align: middle;\n",
       "    }\n",
       "\n",
       "    .dataframe tbody tr th {\n",
       "        vertical-align: top;\n",
       "    }\n",
       "\n",
       "    .dataframe thead th {\n",
       "        text-align: right;\n",
       "    }\n",
       "</style>\n",
       "<table border=\"1\" class=\"dataframe\">\n",
       "  <thead>\n",
       "    <tr style=\"text-align: right;\">\n",
       "      <th></th>\n",
       "      <th>Unnamed: 0</th>\n",
       "      <th>EXCEPTION NAME</th>\n",
       "      <th>DESCRIPTION</th>\n",
       "    </tr>\n",
       "  </thead>\n",
       "  <tbody>\n",
       "    <tr>\n",
       "      <th>0</th>\n",
       "      <td>1</td>\n",
       "      <td>1. ElementNotVisibleException:</td>\n",
       "      <td>1. ElementNotVisibleException: This type of Se...</td>\n",
       "    </tr>\n",
       "    <tr>\n",
       "      <th>1</th>\n",
       "      <td>2</td>\n",
       "      <td>2. ElementNotSelectableException:</td>\n",
       "      <td>2. ElementNotSelectableException: This Seleniu...</td>\n",
       "    </tr>\n",
       "    <tr>\n",
       "      <th>2</th>\n",
       "      <td>3</td>\n",
       "      <td>3. NoSuchElementException:</td>\n",
       "      <td>3. NoSuchElementException: This Exception occu...</td>\n",
       "    </tr>\n",
       "    <tr>\n",
       "      <th>3</th>\n",
       "      <td>4</td>\n",
       "      <td>4. NoSuchFrameException:</td>\n",
       "      <td>4. NoSuchFrameException: This Exception occurs...</td>\n",
       "    </tr>\n",
       "    <tr>\n",
       "      <th>4</th>\n",
       "      <td>5</td>\n",
       "      <td>5. NoAlertPresentException:</td>\n",
       "      <td>5. NoAlertPresentException: This Exception occ...</td>\n",
       "    </tr>\n",
       "    <tr>\n",
       "      <th>5</th>\n",
       "      <td>6</td>\n",
       "      <td>6. NoSuchWindowException:</td>\n",
       "      <td>6. NoSuchWindowException: This Exception occur...</td>\n",
       "    </tr>\n",
       "    <tr>\n",
       "      <th>6</th>\n",
       "      <td>7</td>\n",
       "      <td>7. StaleElementReferenceException:</td>\n",
       "      <td>7. StaleElementReferenceException: This Seleni...</td>\n",
       "    </tr>\n",
       "    <tr>\n",
       "      <th>7</th>\n",
       "      <td>8</td>\n",
       "      <td>8. SessionNotFoundException:</td>\n",
       "      <td>8. SessionNotFoundException: The WebDriver is ...</td>\n",
       "    </tr>\n",
       "    <tr>\n",
       "      <th>8</th>\n",
       "      <td>9</td>\n",
       "      <td>9. TimeoutException:</td>\n",
       "      <td>9. TimeoutException: Thrown when there is not ...</td>\n",
       "    </tr>\n",
       "    <tr>\n",
       "      <th>9</th>\n",
       "      <td>10</td>\n",
       "      <td>10. WebDriverException:</td>\n",
       "      <td>10. WebDriverException: This Exception takes p...</td>\n",
       "    </tr>\n",
       "    <tr>\n",
       "      <th>10</th>\n",
       "      <td>11</td>\n",
       "      <td>11. ConnectionClosedException:</td>\n",
       "      <td>11. ConnectionClosedException: This type of Ex...</td>\n",
       "    </tr>\n",
       "    <tr>\n",
       "      <th>11</th>\n",
       "      <td>12</td>\n",
       "      <td>12. ElementClickInterceptedException:</td>\n",
       "      <td>12. ElementClickInterceptedException: The comm...</td>\n",
       "    </tr>\n",
       "    <tr>\n",
       "      <th>12</th>\n",
       "      <td>13</td>\n",
       "      <td>13. ElementNotInteractableException:</td>\n",
       "      <td>13. ElementNotInteractableException: This Sele...</td>\n",
       "    </tr>\n",
       "    <tr>\n",
       "      <th>13</th>\n",
       "      <td>14</td>\n",
       "      <td>14. ErrorInResponseException:</td>\n",
       "      <td>14. ErrorInResponseException: This happens whi...</td>\n",
       "    </tr>\n",
       "    <tr>\n",
       "      <th>14</th>\n",
       "      <td>15</td>\n",
       "      <td>15. ErrorHandler.UnknownServerException:</td>\n",
       "      <td>15. ErrorHandler.UnknownServerException: Excep...</td>\n",
       "    </tr>\n",
       "    <tr>\n",
       "      <th>15</th>\n",
       "      <td>16</td>\n",
       "      <td>16. ImeActivationFailedException:</td>\n",
       "      <td>16. ImeActivationFailedException: This expecta...</td>\n",
       "    </tr>\n",
       "    <tr>\n",
       "      <th>16</th>\n",
       "      <td>17</td>\n",
       "      <td>17. ImeNotAvailableException:</td>\n",
       "      <td>17. ImeNotAvailableException: It takes place w...</td>\n",
       "    </tr>\n",
       "    <tr>\n",
       "      <th>17</th>\n",
       "      <td>18</td>\n",
       "      <td>18. InsecureCertificateException:</td>\n",
       "      <td>18. InsecureCertificateException: Navigation m...</td>\n",
       "    </tr>\n",
       "    <tr>\n",
       "      <th>18</th>\n",
       "      <td>19</td>\n",
       "      <td>19. InvalidArgumentException:</td>\n",
       "      <td>19. InvalidArgumentException: It occurs when a...</td>\n",
       "    </tr>\n",
       "    <tr>\n",
       "      <th>19</th>\n",
       "      <td>20</td>\n",
       "      <td>20. InvalidCookieDomainException:</td>\n",
       "      <td>20. InvalidCookieDomainException: This happens...</td>\n",
       "    </tr>\n",
       "    <tr>\n",
       "      <th>20</th>\n",
       "      <td>21</td>\n",
       "      <td>21. InvalidCoordinatesException:</td>\n",
       "      <td>21. InvalidCoordinatesException: This type of ...</td>\n",
       "    </tr>\n",
       "    <tr>\n",
       "      <th>21</th>\n",
       "      <td>22</td>\n",
       "      <td>22. InvalidElementStateException:</td>\n",
       "      <td>22. InvalidElementStateException: It occurs wh...</td>\n",
       "    </tr>\n",
       "    <tr>\n",
       "      <th>22</th>\n",
       "      <td>23</td>\n",
       "      <td>23. InvalidSessionIdException:</td>\n",
       "      <td>23. InvalidSessionIdException: This Exception ...</td>\n",
       "    </tr>\n",
       "    <tr>\n",
       "      <th>23</th>\n",
       "      <td>24</td>\n",
       "      <td>24. InvalidSwitchToTargetException:</td>\n",
       "      <td>24. InvalidSwitchToTargetException: This occur...</td>\n",
       "    </tr>\n",
       "    <tr>\n",
       "      <th>24</th>\n",
       "      <td>25</td>\n",
       "      <td>25. JavascriptException:</td>\n",
       "      <td>25. JavascriptException: This issue occurs whi...</td>\n",
       "    </tr>\n",
       "    <tr>\n",
       "      <th>25</th>\n",
       "      <td>26</td>\n",
       "      <td>26. JsonException:</td>\n",
       "      <td>26. JsonException: It occurs when you afford t...</td>\n",
       "    </tr>\n",
       "    <tr>\n",
       "      <th>26</th>\n",
       "      <td>27</td>\n",
       "      <td>27. NoSuchAttributeException:</td>\n",
       "      <td>27. NoSuchAttributeException: This kind of Exc...</td>\n",
       "    </tr>\n",
       "    <tr>\n",
       "      <th>27</th>\n",
       "      <td>28</td>\n",
       "      <td>28. MoveTargetOutOfBoundsException:</td>\n",
       "      <td>28. MoveTargetOutOfBoundsException: It takes p...</td>\n",
       "    </tr>\n",
       "    <tr>\n",
       "      <th>28</th>\n",
       "      <td>29</td>\n",
       "      <td>29. NoSuchContextException:</td>\n",
       "      <td>29. NoSuchContextException: ContextAware does ...</td>\n",
       "    </tr>\n",
       "    <tr>\n",
       "      <th>29</th>\n",
       "      <td>30</td>\n",
       "      <td>30. NoSuchCookieException:</td>\n",
       "      <td>30. NoSuchCookieException: This Exception occu...</td>\n",
       "    </tr>\n",
       "    <tr>\n",
       "      <th>30</th>\n",
       "      <td>31</td>\n",
       "      <td>31. NotFoundException:</td>\n",
       "      <td>31. NotFoundException: This Exception is a sub...</td>\n",
       "    </tr>\n",
       "    <tr>\n",
       "      <th>31</th>\n",
       "      <td>32</td>\n",
       "      <td>32. RemoteDriverServerException:</td>\n",
       "      <td>32. RemoteDriverServerException: This Selenium...</td>\n",
       "    </tr>\n",
       "    <tr>\n",
       "      <th>32</th>\n",
       "      <td>33</td>\n",
       "      <td>33. ScreenshotException:</td>\n",
       "      <td>33. ScreenshotException: It is not possible to...</td>\n",
       "    </tr>\n",
       "    <tr>\n",
       "      <th>33</th>\n",
       "      <td>34</td>\n",
       "      <td>34. SessionNotCreatedException:</td>\n",
       "      <td>34. SessionNotCreatedException: It happens whe...</td>\n",
       "    </tr>\n",
       "    <tr>\n",
       "      <th>34</th>\n",
       "      <td>35</td>\n",
       "      <td>35. UnableToSetCookieException:</td>\n",
       "      <td>35. UnableToSetCookieException: This occurs if...</td>\n",
       "    </tr>\n",
       "    <tr>\n",
       "      <th>35</th>\n",
       "      <td>36</td>\n",
       "      <td>36. UnexpectedTagNameException:</td>\n",
       "      <td>36. UnexpectedTagNameException: Happens if a s...</td>\n",
       "    </tr>\n",
       "    <tr>\n",
       "      <th>36</th>\n",
       "      <td>37</td>\n",
       "      <td>37. UnhandledAlertException:</td>\n",
       "      <td>37. UnhandledAlertException: This expectation ...</td>\n",
       "    </tr>\n",
       "    <tr>\n",
       "      <th>37</th>\n",
       "      <td>38</td>\n",
       "      <td>38. UnexpectedAlertPresentException:</td>\n",
       "      <td>38. UnexpectedAlertPresentException: It occurs...</td>\n",
       "    </tr>\n",
       "    <tr>\n",
       "      <th>38</th>\n",
       "      <td>39</td>\n",
       "      <td>39. UnknownMethodException:</td>\n",
       "      <td>39. UnknownMethodException: This Exception hap...</td>\n",
       "    </tr>\n",
       "    <tr>\n",
       "      <th>39</th>\n",
       "      <td>40</td>\n",
       "      <td>40. UnreachableBrowserException:</td>\n",
       "      <td>40. UnreachableBrowserException: This Exceptio...</td>\n",
       "    </tr>\n",
       "    <tr>\n",
       "      <th>40</th>\n",
       "      <td>41</td>\n",
       "      <td>41. UnsupportedCommandException:</td>\n",
       "      <td>41. UnsupportedCommandException: This occurs w...</td>\n",
       "    </tr>\n",
       "  </tbody>\n",
       "</table>\n",
       "</div>"
      ],
      "text/plain": [
       "    Unnamed: 0                            EXCEPTION NAME  \\\n",
       "0            1            1. ElementNotVisibleException:   \n",
       "1            2         2. ElementNotSelectableException:   \n",
       "2            3                3. NoSuchElementException:   \n",
       "3            4                  4. NoSuchFrameException:   \n",
       "4            5               5. NoAlertPresentException:   \n",
       "5            6                 6. NoSuchWindowException:   \n",
       "6            7        7. StaleElementReferenceException:   \n",
       "7            8              8. SessionNotFoundException:   \n",
       "8            9                      9. TimeoutException:   \n",
       "9           10                   10. WebDriverException:   \n",
       "10          11            11. ConnectionClosedException:   \n",
       "11          12     12. ElementClickInterceptedException:   \n",
       "12          13      13. ElementNotInteractableException:   \n",
       "13          14             14. ErrorInResponseException:   \n",
       "14          15  15. ErrorHandler.UnknownServerException:   \n",
       "15          16         16. ImeActivationFailedException:   \n",
       "16          17             17. ImeNotAvailableException:   \n",
       "17          18         18. InsecureCertificateException:   \n",
       "18          19             19. InvalidArgumentException:   \n",
       "19          20         20. InvalidCookieDomainException:   \n",
       "20          21          21. InvalidCoordinatesException:   \n",
       "21          22         22. InvalidElementStateException:   \n",
       "22          23            23. InvalidSessionIdException:   \n",
       "23          24       24. InvalidSwitchToTargetException:   \n",
       "24          25                  25. JavascriptException:   \n",
       "25          26                        26. JsonException:   \n",
       "26          27             27. NoSuchAttributeException:   \n",
       "27          28       28. MoveTargetOutOfBoundsException:   \n",
       "28          29               29. NoSuchContextException:   \n",
       "29          30                30. NoSuchCookieException:   \n",
       "30          31                    31. NotFoundException:   \n",
       "31          32          32. RemoteDriverServerException:   \n",
       "32          33                  33. ScreenshotException:   \n",
       "33          34           34. SessionNotCreatedException:   \n",
       "34          35           35. UnableToSetCookieException:   \n",
       "35          36           36. UnexpectedTagNameException:   \n",
       "36          37              37. UnhandledAlertException:   \n",
       "37          38      38. UnexpectedAlertPresentException:   \n",
       "38          39               39. UnknownMethodException:   \n",
       "39          40          40. UnreachableBrowserException:   \n",
       "40          41          41. UnsupportedCommandException:   \n",
       "\n",
       "                                          DESCRIPTION  \n",
       "0   1. ElementNotVisibleException: This type of Se...  \n",
       "1   2. ElementNotSelectableException: This Seleniu...  \n",
       "2   3. NoSuchElementException: This Exception occu...  \n",
       "3   4. NoSuchFrameException: This Exception occurs...  \n",
       "4   5. NoAlertPresentException: This Exception occ...  \n",
       "5   6. NoSuchWindowException: This Exception occur...  \n",
       "6   7. StaleElementReferenceException: This Seleni...  \n",
       "7   8. SessionNotFoundException: The WebDriver is ...  \n",
       "8   9. TimeoutException: Thrown when there is not ...  \n",
       "9   10. WebDriverException: This Exception takes p...  \n",
       "10  11. ConnectionClosedException: This type of Ex...  \n",
       "11  12. ElementClickInterceptedException: The comm...  \n",
       "12  13. ElementNotInteractableException: This Sele...  \n",
       "13  14. ErrorInResponseException: This happens whi...  \n",
       "14  15. ErrorHandler.UnknownServerException: Excep...  \n",
       "15  16. ImeActivationFailedException: This expecta...  \n",
       "16  17. ImeNotAvailableException: It takes place w...  \n",
       "17  18. InsecureCertificateException: Navigation m...  \n",
       "18  19. InvalidArgumentException: It occurs when a...  \n",
       "19  20. InvalidCookieDomainException: This happens...  \n",
       "20  21. InvalidCoordinatesException: This type of ...  \n",
       "21  22. InvalidElementStateException: It occurs wh...  \n",
       "22  23. InvalidSessionIdException: This Exception ...  \n",
       "23  24. InvalidSwitchToTargetException: This occur...  \n",
       "24  25. JavascriptException: This issue occurs whi...  \n",
       "25  26. JsonException: It occurs when you afford t...  \n",
       "26  27. NoSuchAttributeException: This kind of Exc...  \n",
       "27  28. MoveTargetOutOfBoundsException: It takes p...  \n",
       "28  29. NoSuchContextException: ContextAware does ...  \n",
       "29  30. NoSuchCookieException: This Exception occu...  \n",
       "30  31. NotFoundException: This Exception is a sub...  \n",
       "31  32. RemoteDriverServerException: This Selenium...  \n",
       "32  33. ScreenshotException: It is not possible to...  \n",
       "33  34. SessionNotCreatedException: It happens whe...  \n",
       "34  35. UnableToSetCookieException: This occurs if...  \n",
       "35  36. UnexpectedTagNameException: Happens if a s...  \n",
       "36  37. UnhandledAlertException: This expectation ...  \n",
       "37  38. UnexpectedAlertPresentException: It occurs...  \n",
       "38  39. UnknownMethodException: This Exception hap...  \n",
       "39  40. UnreachableBrowserException: This Exceptio...  \n",
       "40  41. UnsupportedCommandException: This occurs w...  "
      ]
     },
     "execution_count": 229,
     "metadata": {},
     "output_type": "execute_result"
    }
   ],
   "source": [
    "newex=pd.read_csv('TYPES_OF_EXCEPTION_HANDLING.csv')\n",
    "newex"
   ]
  },
  {
   "cell_type": "code",
   "execution_count": 230,
   "id": "3f234b6e",
   "metadata": {},
   "outputs": [],
   "source": [
    "driver.close()"
   ]
  },
  {
   "cell_type": "markdown",
   "id": "1196b237",
   "metadata": {},
   "source": [
    "# 2. Scrape the details team India’s international fixtures from bcci.tv.\n",
    "Url = https://www.bcci.tv/.\n",
    "    \n",
    "You need to find following details:\n",
    "    \n",
    "A) Match title (I.e. 1st ODI)\n",
    "\n",
    "B) Series\n",
    "\n",
    "C) Place\n",
    "\n",
    "D) Date\n",
    "\n",
    "E) Time\n",
    "\n",
    "Note: - From bcci.tv home page you have reach to the international fixture page through code."
   ]
  },
  {
   "cell_type": "code",
   "execution_count": 231,
   "id": "d624b99a",
   "metadata": {},
   "outputs": [],
   "source": [
    "driver=webdriver.Chrome(r'C:\\Users\\S.Ramaa Devi\\Downloads\\chromedriver_win32 (7)\\chromedriver.exe')\n",
    "driver.get('https://www.bcci.tv/')"
   ]
  },
  {
   "cell_type": "code",
   "execution_count": 236,
   "id": "14ca2b85",
   "metadata": {},
   "outputs": [],
   "source": [
    "try:\n",
    "    search=driver.find_element(By.CLASS_NAME,\"navbar-toggler menu-btn menu-icon\")\n",
    "    search.click()\n",
    "except NoSuchElementException as e:\n",
    "    search=driver.find_element(By.XPATH,'//*[@id=\"nav-main\"]/div[1]/button')\n",
    "    search.click()"
   ]
  },
  {
   "cell_type": "code",
   "execution_count": 237,
   "id": "50908118",
   "metadata": {},
   "outputs": [],
   "source": [
    "search=driver.find_element(By.XPATH,'//*[@id=\"navigation\"]/ul[1]/li[2]/a')\n",
    "search.click()"
   ]
  },
  {
   "cell_type": "code",
   "execution_count": 238,
   "id": "cbbd5f85",
   "metadata": {},
   "outputs": [],
   "source": [
    "search=driver.find_element(By.XPATH,'//*[@id=\"fixtures\"]/div[2]/div/div[3]/div/div[2]/div[3]')\n",
    "search.click()"
   ]
  },
  {
   "cell_type": "code",
   "execution_count": 239,
   "id": "950ad22c",
   "metadata": {},
   "outputs": [],
   "source": [
    "more_fixtures=driver.find_element(By.XPATH,'//*[@id=\"fixtures\"]/div[3]/div[2]/div/button')\n",
    "more_fixtures.click()"
   ]
  },
  {
   "cell_type": "code",
   "execution_count": 240,
   "id": "ce6bdf71",
   "metadata": {},
   "outputs": [],
   "source": [
    "title=[]\n",
    "series=[]\n",
    "place=[]\n",
    "date=[]\n",
    "time=[]"
   ]
  },
  {
   "cell_type": "code",
   "execution_count": 241,
   "id": "6b5b0f4e",
   "metadata": {},
   "outputs": [
    {
     "data": {
      "text/plain": [
       "9"
      ]
     },
     "execution_count": 241,
     "metadata": {},
     "output_type": "execute_result"
    }
   ],
   "source": [
    "t_tag=driver.find_elements(By.XPATH,'//div[@class=\"fixture-card-mid d-flex align-items-center justify-content-between\"]')\n",
    "for i in t_tag:\n",
    "    title.append(i.text)\n",
    "    \n",
    "len(title)    "
   ]
  },
  {
   "cell_type": "code",
   "execution_count": 242,
   "id": "ea4371fe",
   "metadata": {},
   "outputs": [
    {
     "data": {
      "text/plain": [
       "9"
      ]
     },
     "execution_count": 242,
     "metadata": {},
     "output_type": "execute_result"
    }
   ],
   "source": [
    "s_tag=driver.find_elements(By.XPATH,'//span[@class=\"ng-binding\"]')\n",
    "for i in s_tag:\n",
    "    series.append(i.text)\n",
    "    \n",
    "len(series)    "
   ]
  },
  {
   "cell_type": "code",
   "execution_count": 243,
   "id": "04d3459b",
   "metadata": {},
   "outputs": [
    {
     "data": {
      "text/plain": [
       "9"
      ]
     },
     "execution_count": 243,
     "metadata": {},
     "output_type": "execute_result"
    }
   ],
   "source": [
    "p_tag=driver.find_elements(By.XPATH,'//div[@class=\"fix-place ng-binding ng-scope\"]')\n",
    "for i in p_tag:\n",
    "    place.append(i.text)\n",
    "    \n",
    "len(place)    "
   ]
  },
  {
   "cell_type": "code",
   "execution_count": 244,
   "id": "0dcd745e",
   "metadata": {},
   "outputs": [
    {
     "data": {
      "text/plain": [
       "9"
      ]
     },
     "execution_count": 244,
     "metadata": {},
     "output_type": "execute_result"
    }
   ],
   "source": [
    "d_tag=driver.find_elements(By.XPATH,'//h5[@class=\"ng-binding\"]')\n",
    "for i in d_tag:\n",
    "    date.append(i.text)\n",
    "    \n",
    "len(date)    "
   ]
  },
  {
   "cell_type": "code",
   "execution_count": 245,
   "id": "380279bb",
   "metadata": {},
   "outputs": [
    {
     "data": {
      "text/plain": [
       "9"
      ]
     },
     "execution_count": 245,
     "metadata": {},
     "output_type": "execute_result"
    }
   ],
   "source": [
    "t_tag=driver.find_elements(By.XPATH,'//div[@class=\"match-card-right match-schedule \"]')\n",
    "for i in t_tag:\n",
    "    time.append(i.text)\n",
    "    \n",
    "len(time)    "
   ]
  },
  {
   "cell_type": "code",
   "execution_count": 246,
   "id": "479ae3ed",
   "metadata": {},
   "outputs": [
    {
     "name": "stdout",
     "output_type": "stream",
     "text": [
      "9 9 9 9 9\n"
     ]
    }
   ],
   "source": [
    "print(len(title),len(series),len(place),len(date),len(time))"
   ]
  },
  {
   "cell_type": "code",
   "execution_count": 248,
   "id": "4b8bd4aa",
   "metadata": {},
   "outputs": [
    {
     "data": {
      "text/html": [
       "<div>\n",
       "<style scoped>\n",
       "    .dataframe tbody tr th:only-of-type {\n",
       "        vertical-align: middle;\n",
       "    }\n",
       "\n",
       "    .dataframe tbody tr th {\n",
       "        vertical-align: top;\n",
       "    }\n",
       "\n",
       "    .dataframe thead th {\n",
       "        text-align: right;\n",
       "    }\n",
       "</style>\n",
       "<table border=\"1\" class=\"dataframe\">\n",
       "  <thead>\n",
       "    <tr style=\"text-align: right;\">\n",
       "      <th></th>\n",
       "      <th>MATCH TITLE</th>\n",
       "      <th>SERIES</th>\n",
       "      <th>VENUE</th>\n",
       "      <th>DATE</th>\n",
       "      <th>TIME</th>\n",
       "    </tr>\n",
       "  </thead>\n",
       "  <tbody>\n",
       "    <tr>\n",
       "      <th>1</th>\n",
       "      <td>India\\nvs\\nSri Lanka</td>\n",
       "      <td>SRI LANKA TOUR OF INDIA ODI SERIES 2022-23</td>\n",
       "      <td>1st ODI - Barsapara Cricket Stadium, Guwahati</td>\n",
       "      <td>10 JAN 2023</td>\n",
       "      <td>1:30 PM IST</td>\n",
       "    </tr>\n",
       "    <tr>\n",
       "      <th>2</th>\n",
       "      <td>India\\nvs\\nSri Lanka</td>\n",
       "      <td>SRI LANKA TOUR OF INDIA ODI SERIES 2022-23</td>\n",
       "      <td>2nd ODI - Eden Gardens, Kolkata</td>\n",
       "      <td>12 JAN 2023</td>\n",
       "      <td>1:30 PM IST</td>\n",
       "    </tr>\n",
       "    <tr>\n",
       "      <th>3</th>\n",
       "      <td>India\\nvs\\nSri Lanka</td>\n",
       "      <td>SRI LANKA TOUR OF INDIA ODI SERIES 2022-23</td>\n",
       "      <td>3rd ODI - Greenfield International Stadium, Th...</td>\n",
       "      <td>15 JAN 2023</td>\n",
       "      <td>1:30 PM IST</td>\n",
       "    </tr>\n",
       "    <tr>\n",
       "      <th>4</th>\n",
       "      <td>India\\nvs\\nNew Zealand</td>\n",
       "      <td>NEW ZEALAND TOUR OF INDIA ODI SERIES 2022-23</td>\n",
       "      <td>1st ODI - Rajiv Gandhi International Stadium, ...</td>\n",
       "      <td>18 JAN 2023</td>\n",
       "      <td>1:30 PM IST</td>\n",
       "    </tr>\n",
       "    <tr>\n",
       "      <th>5</th>\n",
       "      <td>India\\nvs\\nNew Zealand</td>\n",
       "      <td>NEW ZEALAND TOUR OF INDIA ODI SERIES 2022-23</td>\n",
       "      <td>2nd ODI - Shaheed Veer Narayan Singh Internati...</td>\n",
       "      <td>21 JAN 2023</td>\n",
       "      <td>1:30 PM IST</td>\n",
       "    </tr>\n",
       "    <tr>\n",
       "      <th>6</th>\n",
       "      <td>India\\nvs\\nNew Zealand</td>\n",
       "      <td>NEW ZEALAND TOUR OF INDIA ODI SERIES 2022-23</td>\n",
       "      <td>3rd ODI - Holkar Cricket Stadium, Indore</td>\n",
       "      <td>24 JAN 2023</td>\n",
       "      <td>1:30 PM IST</td>\n",
       "    </tr>\n",
       "    <tr>\n",
       "      <th>7</th>\n",
       "      <td>India\\nvs\\nAustralia</td>\n",
       "      <td>AUSTRALIA TOUR OF INDIA ODI SERIES 2022-23</td>\n",
       "      <td>1st ODI - Wankhede Stadium, Mumbai</td>\n",
       "      <td>17 MAR 2023</td>\n",
       "      <td>1:30 PM IST</td>\n",
       "    </tr>\n",
       "    <tr>\n",
       "      <th>8</th>\n",
       "      <td>India\\nvs\\nAustralia</td>\n",
       "      <td>AUSTRALIA TOUR OF INDIA ODI SERIES 2022-23</td>\n",
       "      <td>2nd ODI - Dr YS Rajasekhara Reddy ACA-VDCA Cri...</td>\n",
       "      <td>19 MAR 2023</td>\n",
       "      <td>1:30 PM IST</td>\n",
       "    </tr>\n",
       "    <tr>\n",
       "      <th>9</th>\n",
       "      <td>India\\nvs\\nAustralia</td>\n",
       "      <td>AUSTRALIA TOUR OF INDIA ODI SERIES 2022-23</td>\n",
       "      <td>3rd ODI - MA Chidambaram Stadium, Chennai</td>\n",
       "      <td>22 MAR 2023</td>\n",
       "      <td>1:30 PM IST</td>\n",
       "    </tr>\n",
       "  </tbody>\n",
       "</table>\n",
       "</div>"
      ],
      "text/plain": [
       "              MATCH TITLE                                        SERIES  \\\n",
       "1    India\\nvs\\nSri Lanka    SRI LANKA TOUR OF INDIA ODI SERIES 2022-23   \n",
       "2    India\\nvs\\nSri Lanka    SRI LANKA TOUR OF INDIA ODI SERIES 2022-23   \n",
       "3    India\\nvs\\nSri Lanka    SRI LANKA TOUR OF INDIA ODI SERIES 2022-23   \n",
       "4  India\\nvs\\nNew Zealand  NEW ZEALAND TOUR OF INDIA ODI SERIES 2022-23   \n",
       "5  India\\nvs\\nNew Zealand  NEW ZEALAND TOUR OF INDIA ODI SERIES 2022-23   \n",
       "6  India\\nvs\\nNew Zealand  NEW ZEALAND TOUR OF INDIA ODI SERIES 2022-23   \n",
       "7    India\\nvs\\nAustralia    AUSTRALIA TOUR OF INDIA ODI SERIES 2022-23   \n",
       "8    India\\nvs\\nAustralia    AUSTRALIA TOUR OF INDIA ODI SERIES 2022-23   \n",
       "9    India\\nvs\\nAustralia    AUSTRALIA TOUR OF INDIA ODI SERIES 2022-23   \n",
       "\n",
       "                                               VENUE         DATE         TIME  \n",
       "1      1st ODI - Barsapara Cricket Stadium, Guwahati  10 JAN 2023  1:30 PM IST  \n",
       "2                    2nd ODI - Eden Gardens, Kolkata  12 JAN 2023  1:30 PM IST  \n",
       "3  3rd ODI - Greenfield International Stadium, Th...  15 JAN 2023  1:30 PM IST  \n",
       "4  1st ODI - Rajiv Gandhi International Stadium, ...  18 JAN 2023  1:30 PM IST  \n",
       "5  2nd ODI - Shaheed Veer Narayan Singh Internati...  21 JAN 2023  1:30 PM IST  \n",
       "6           3rd ODI - Holkar Cricket Stadium, Indore  24 JAN 2023  1:30 PM IST  \n",
       "7                 1st ODI - Wankhede Stadium, Mumbai  17 MAR 2023  1:30 PM IST  \n",
       "8  2nd ODI - Dr YS Rajasekhara Reddy ACA-VDCA Cri...  19 MAR 2023  1:30 PM IST  \n",
       "9          3rd ODI - MA Chidambaram Stadium, Chennai  22 MAR 2023  1:30 PM IST  "
      ]
     },
     "execution_count": 248,
     "metadata": {},
     "output_type": "execute_result"
    }
   ],
   "source": [
    "df=pd.DataFrame(data={'MATCH TITLE':title,'SERIES':series,'VENUE':place,'DATE':date,'TIME':time},index=range(1,10))\n",
    "df"
   ]
  },
  {
   "cell_type": "code",
   "execution_count": 249,
   "id": "91389bba",
   "metadata": {},
   "outputs": [],
   "source": [
    "df.to_csv('International_Fixtures_Odi_2023.csv')"
   ]
  },
  {
   "cell_type": "code",
   "execution_count": 250,
   "id": "57fd5f7c",
   "metadata": {},
   "outputs": [
    {
     "data": {
      "text/html": [
       "<div>\n",
       "<style scoped>\n",
       "    .dataframe tbody tr th:only-of-type {\n",
       "        vertical-align: middle;\n",
       "    }\n",
       "\n",
       "    .dataframe tbody tr th {\n",
       "        vertical-align: top;\n",
       "    }\n",
       "\n",
       "    .dataframe thead th {\n",
       "        text-align: right;\n",
       "    }\n",
       "</style>\n",
       "<table border=\"1\" class=\"dataframe\">\n",
       "  <thead>\n",
       "    <tr style=\"text-align: right;\">\n",
       "      <th></th>\n",
       "      <th>Unnamed: 0</th>\n",
       "      <th>MATCH TITLE</th>\n",
       "      <th>SERIES</th>\n",
       "      <th>VENUE</th>\n",
       "      <th>DATE</th>\n",
       "      <th>TIME</th>\n",
       "    </tr>\n",
       "  </thead>\n",
       "  <tbody>\n",
       "    <tr>\n",
       "      <th>0</th>\n",
       "      <td>1</td>\n",
       "      <td>India\\nvs\\nSri Lanka</td>\n",
       "      <td>SRI LANKA TOUR OF INDIA ODI SERIES 2022-23</td>\n",
       "      <td>1st ODI - Barsapara Cricket Stadium, Guwahati</td>\n",
       "      <td>10 JAN 2023</td>\n",
       "      <td>1:30 PM IST</td>\n",
       "    </tr>\n",
       "    <tr>\n",
       "      <th>1</th>\n",
       "      <td>2</td>\n",
       "      <td>India\\nvs\\nSri Lanka</td>\n",
       "      <td>SRI LANKA TOUR OF INDIA ODI SERIES 2022-23</td>\n",
       "      <td>2nd ODI - Eden Gardens, Kolkata</td>\n",
       "      <td>12 JAN 2023</td>\n",
       "      <td>1:30 PM IST</td>\n",
       "    </tr>\n",
       "    <tr>\n",
       "      <th>2</th>\n",
       "      <td>3</td>\n",
       "      <td>India\\nvs\\nSri Lanka</td>\n",
       "      <td>SRI LANKA TOUR OF INDIA ODI SERIES 2022-23</td>\n",
       "      <td>3rd ODI - Greenfield International Stadium, Th...</td>\n",
       "      <td>15 JAN 2023</td>\n",
       "      <td>1:30 PM IST</td>\n",
       "    </tr>\n",
       "    <tr>\n",
       "      <th>3</th>\n",
       "      <td>4</td>\n",
       "      <td>India\\nvs\\nNew Zealand</td>\n",
       "      <td>NEW ZEALAND TOUR OF INDIA ODI SERIES 2022-23</td>\n",
       "      <td>1st ODI - Rajiv Gandhi International Stadium, ...</td>\n",
       "      <td>18 JAN 2023</td>\n",
       "      <td>1:30 PM IST</td>\n",
       "    </tr>\n",
       "    <tr>\n",
       "      <th>4</th>\n",
       "      <td>5</td>\n",
       "      <td>India\\nvs\\nNew Zealand</td>\n",
       "      <td>NEW ZEALAND TOUR OF INDIA ODI SERIES 2022-23</td>\n",
       "      <td>2nd ODI - Shaheed Veer Narayan Singh Internati...</td>\n",
       "      <td>21 JAN 2023</td>\n",
       "      <td>1:30 PM IST</td>\n",
       "    </tr>\n",
       "    <tr>\n",
       "      <th>5</th>\n",
       "      <td>6</td>\n",
       "      <td>India\\nvs\\nNew Zealand</td>\n",
       "      <td>NEW ZEALAND TOUR OF INDIA ODI SERIES 2022-23</td>\n",
       "      <td>3rd ODI - Holkar Cricket Stadium, Indore</td>\n",
       "      <td>24 JAN 2023</td>\n",
       "      <td>1:30 PM IST</td>\n",
       "    </tr>\n",
       "    <tr>\n",
       "      <th>6</th>\n",
       "      <td>7</td>\n",
       "      <td>India\\nvs\\nAustralia</td>\n",
       "      <td>AUSTRALIA TOUR OF INDIA ODI SERIES 2022-23</td>\n",
       "      <td>1st ODI - Wankhede Stadium, Mumbai</td>\n",
       "      <td>17 MAR 2023</td>\n",
       "      <td>1:30 PM IST</td>\n",
       "    </tr>\n",
       "    <tr>\n",
       "      <th>7</th>\n",
       "      <td>8</td>\n",
       "      <td>India\\nvs\\nAustralia</td>\n",
       "      <td>AUSTRALIA TOUR OF INDIA ODI SERIES 2022-23</td>\n",
       "      <td>2nd ODI - Dr YS Rajasekhara Reddy ACA-VDCA Cri...</td>\n",
       "      <td>19 MAR 2023</td>\n",
       "      <td>1:30 PM IST</td>\n",
       "    </tr>\n",
       "    <tr>\n",
       "      <th>8</th>\n",
       "      <td>9</td>\n",
       "      <td>India\\nvs\\nAustralia</td>\n",
       "      <td>AUSTRALIA TOUR OF INDIA ODI SERIES 2022-23</td>\n",
       "      <td>3rd ODI - MA Chidambaram Stadium, Chennai</td>\n",
       "      <td>22 MAR 2023</td>\n",
       "      <td>1:30 PM IST</td>\n",
       "    </tr>\n",
       "  </tbody>\n",
       "</table>\n",
       "</div>"
      ],
      "text/plain": [
       "   Unnamed: 0             MATCH TITLE  \\\n",
       "0           1    India\\nvs\\nSri Lanka   \n",
       "1           2    India\\nvs\\nSri Lanka   \n",
       "2           3    India\\nvs\\nSri Lanka   \n",
       "3           4  India\\nvs\\nNew Zealand   \n",
       "4           5  India\\nvs\\nNew Zealand   \n",
       "5           6  India\\nvs\\nNew Zealand   \n",
       "6           7    India\\nvs\\nAustralia   \n",
       "7           8    India\\nvs\\nAustralia   \n",
       "8           9    India\\nvs\\nAustralia   \n",
       "\n",
       "                                         SERIES  \\\n",
       "0    SRI LANKA TOUR OF INDIA ODI SERIES 2022-23   \n",
       "1    SRI LANKA TOUR OF INDIA ODI SERIES 2022-23   \n",
       "2    SRI LANKA TOUR OF INDIA ODI SERIES 2022-23   \n",
       "3  NEW ZEALAND TOUR OF INDIA ODI SERIES 2022-23   \n",
       "4  NEW ZEALAND TOUR OF INDIA ODI SERIES 2022-23   \n",
       "5  NEW ZEALAND TOUR OF INDIA ODI SERIES 2022-23   \n",
       "6    AUSTRALIA TOUR OF INDIA ODI SERIES 2022-23   \n",
       "7    AUSTRALIA TOUR OF INDIA ODI SERIES 2022-23   \n",
       "8    AUSTRALIA TOUR OF INDIA ODI SERIES 2022-23   \n",
       "\n",
       "                                               VENUE         DATE         TIME  \n",
       "0      1st ODI - Barsapara Cricket Stadium, Guwahati  10 JAN 2023  1:30 PM IST  \n",
       "1                    2nd ODI - Eden Gardens, Kolkata  12 JAN 2023  1:30 PM IST  \n",
       "2  3rd ODI - Greenfield International Stadium, Th...  15 JAN 2023  1:30 PM IST  \n",
       "3  1st ODI - Rajiv Gandhi International Stadium, ...  18 JAN 2023  1:30 PM IST  \n",
       "4  2nd ODI - Shaheed Veer Narayan Singh Internati...  21 JAN 2023  1:30 PM IST  \n",
       "5           3rd ODI - Holkar Cricket Stadium, Indore  24 JAN 2023  1:30 PM IST  \n",
       "6                 1st ODI - Wankhede Stadium, Mumbai  17 MAR 2023  1:30 PM IST  \n",
       "7  2nd ODI - Dr YS Rajasekhara Reddy ACA-VDCA Cri...  19 MAR 2023  1:30 PM IST  \n",
       "8          3rd ODI - MA Chidambaram Stadium, Chennai  22 MAR 2023  1:30 PM IST  "
      ]
     },
     "execution_count": 250,
     "metadata": {},
     "output_type": "execute_result"
    }
   ],
   "source": [
    "newodi=pd.read_csv('International_Fixtures_Odi_2023.csv')\n",
    "newodi"
   ]
  },
  {
   "cell_type": "code",
   "execution_count": 251,
   "id": "9f91af11",
   "metadata": {},
   "outputs": [],
   "source": [
    "driver.close()"
   ]
  },
  {
   "cell_type": "markdown",
   "id": "51979be2",
   "metadata": {},
   "source": [
    "# 1. Scrape the details of most viewed videos on YouTube from Wikipedia.\n",
    "Url = https://en.wikipedia.org/wiki/List_of_most-viewed_YouTube_videos\n",
    "    \n",
    "You need to find following details:\n",
    "    \n",
    "A) Rank\n",
    "\n",
    "B) Name\n",
    "\n",
    "C) Artist\n",
    "\n",
    "D) Upload date\n",
    "\n",
    "E) Views"
   ]
  },
  {
   "cell_type": "code",
   "execution_count": 259,
   "id": "beedb79a",
   "metadata": {},
   "outputs": [],
   "source": [
    "driver=webdriver.Chrome(r'C:\\Users\\S.Ramaa Devi\\Downloads\\chromedriver_win32 (7)\\chromedriver.exe')\n",
    "driver.get('https://en.wikipedia.org/wiki/List_of_most-viewed_YouTube_videos')"
   ]
  },
  {
   "cell_type": "code",
   "execution_count": 260,
   "id": "12ac7941",
   "metadata": {},
   "outputs": [],
   "source": [
    "rank=[]\n",
    "name=[]\n",
    "artist=[]\n",
    "upload_date=[]\n",
    "views=[]"
   ]
  },
  {
   "cell_type": "code",
   "execution_count": 261,
   "id": "6b8e6a15",
   "metadata": {},
   "outputs": [
    {
     "name": "stdout",
     "output_type": "stream",
     "text": [
      "1\n",
      "['1.']\n"
     ]
    }
   ],
   "source": [
    "r_tag1=driver.find_element(By.XPATH,'//*[@id=\"mw-content-text\"]/div[1]/table[2]/tbody/tr[1]/td[1]')\n",
    "rank.append(r_tag1.text)\n",
    "print(len(rank))\n",
    "print(rank)"
   ]
  },
  {
   "cell_type": "code",
   "execution_count": 262,
   "id": "5c4a6a43",
   "metadata": {},
   "outputs": [
    {
     "name": "stdout",
     "output_type": "stream",
     "text": [
      "2\n",
      "['1.', '2.']\n"
     ]
    }
   ],
   "source": [
    "r_tag2=driver.find_element(By.XPATH,'//*[@id=\"mw-content-text\"]/div[1]/table[2]/tbody/tr[2]/td[1]')\n",
    "rank.append(r_tag2.text)\n",
    "print(len(rank))\n",
    "print(rank)"
   ]
  },
  {
   "cell_type": "code",
   "execution_count": 263,
   "id": "1396e809",
   "metadata": {},
   "outputs": [
    {
     "name": "stdout",
     "output_type": "stream",
     "text": [
      "3\n",
      "['1.', '2.', '3.']\n"
     ]
    }
   ],
   "source": [
    "r_tag3=driver.find_element(By.XPATH,'//*[@id=\"mw-content-text\"]/div[1]/table[2]/tbody/tr[3]/td[1]')\n",
    "rank.append(r_tag3.text)\n",
    "print(len(rank))\n",
    "print(rank)"
   ]
  },
  {
   "cell_type": "code",
   "execution_count": 264,
   "id": "a03a9ce1",
   "metadata": {},
   "outputs": [
    {
     "name": "stdout",
     "output_type": "stream",
     "text": [
      "4\n",
      "['1.', '2.', '3.', '4.']\n"
     ]
    }
   ],
   "source": [
    "r_tag4=driver.find_element(By.XPATH,'//*[@id=\"mw-content-text\"]/div[1]/table[2]/tbody/tr[4]/td[1]')\n",
    "rank.append(r_tag4.text)\n",
    "print(len(rank))\n",
    "print(rank)"
   ]
  },
  {
   "cell_type": "code",
   "execution_count": 265,
   "id": "3704bdd7",
   "metadata": {},
   "outputs": [
    {
     "name": "stdout",
     "output_type": "stream",
     "text": [
      "5\n",
      "['1.', '2.', '3.', '4.', '5.']\n"
     ]
    }
   ],
   "source": [
    "r_tag5=driver.find_element(By.XPATH,'//*[@id=\"mw-content-text\"]/div[1]/table[2]/tbody/tr[5]/td[1]')\n",
    "rank.append(r_tag5.text)\n",
    "print(len(rank))\n",
    "print(rank)"
   ]
  },
  {
   "cell_type": "code",
   "execution_count": 266,
   "id": "d254c6e6",
   "metadata": {},
   "outputs": [
    {
     "name": "stdout",
     "output_type": "stream",
     "text": [
      "6\n",
      "['1.', '2.', '3.', '4.', '5.', '6.']\n"
     ]
    }
   ],
   "source": [
    "r_tag6=driver.find_element(By.XPATH,'//*[@id=\"mw-content-text\"]/div[1]/table[2]/tbody/tr[6]/td[1]')\n",
    "rank.append(r_tag6.text)\n",
    "print(len(rank))\n",
    "print(rank)"
   ]
  },
  {
   "cell_type": "code",
   "execution_count": 267,
   "id": "5085c9dc",
   "metadata": {},
   "outputs": [
    {
     "name": "stdout",
     "output_type": "stream",
     "text": [
      "7\n",
      "['1.', '2.', '3.', '4.', '5.', '6.', '7.']\n"
     ]
    }
   ],
   "source": [
    "r_tag7=driver.find_element(By.XPATH,'//*[@id=\"mw-content-text\"]/div[1]/table[2]/tbody/tr[7]/td[1]')\n",
    "rank.append(r_tag7.text)\n",
    "print(len(rank))\n",
    "print(rank)"
   ]
  },
  {
   "cell_type": "code",
   "execution_count": 268,
   "id": "cc8ebed2",
   "metadata": {},
   "outputs": [
    {
     "name": "stdout",
     "output_type": "stream",
     "text": [
      "8\n",
      "['1.', '2.', '3.', '4.', '5.', '6.', '7.', '8.']\n"
     ]
    }
   ],
   "source": [
    "r_tag8=driver.find_element(By.XPATH,'//*[@id=\"mw-content-text\"]/div[1]/table[2]/tbody/tr[8]/td[1]')\n",
    "rank.append(r_tag8.text)\n",
    "print(len(rank))\n",
    "print(rank)"
   ]
  },
  {
   "cell_type": "code",
   "execution_count": 269,
   "id": "c10824fe",
   "metadata": {},
   "outputs": [
    {
     "name": "stdout",
     "output_type": "stream",
     "text": [
      "9\n",
      "['1.', '2.', '3.', '4.', '5.', '6.', '7.', '8.', '9.']\n"
     ]
    }
   ],
   "source": [
    "r_tag9=driver.find_element(By.XPATH,'//*[@id=\"mw-content-text\"]/div[1]/table[2]/tbody/tr[9]/td[1]')\n",
    "rank.append(r_tag9.text)\n",
    "print(len(rank))\n",
    "print(rank)"
   ]
  },
  {
   "cell_type": "code",
   "execution_count": 270,
   "id": "a3da2024",
   "metadata": {},
   "outputs": [
    {
     "name": "stdout",
     "output_type": "stream",
     "text": [
      "10\n",
      "['1.', '2.', '3.', '4.', '5.', '6.', '7.', '8.', '9.', '10.']\n"
     ]
    }
   ],
   "source": [
    "r_tag10=driver.find_element(By.XPATH,'//*[@id=\"mw-content-text\"]/div[1]/table[2]/tbody/tr[10]/td[1]')\n",
    "rank.append(r_tag10.text)\n",
    "print(len(rank))\n",
    "print(rank)"
   ]
  },
  {
   "cell_type": "code",
   "execution_count": 271,
   "id": "522dac08",
   "metadata": {},
   "outputs": [
    {
     "name": "stdout",
     "output_type": "stream",
     "text": [
      "11\n",
      "['1.', '2.', '3.', '4.', '5.', '6.', '7.', '8.', '9.', '10.', '11.']\n"
     ]
    }
   ],
   "source": [
    "r_tag11=driver.find_element(By.XPATH,'//*[@id=\"mw-content-text\"]/div[1]/table[2]/tbody/tr[11]/td[1]')\n",
    "rank.append(r_tag11.text)\n",
    "print(len(rank))\n",
    "print(rank)"
   ]
  },
  {
   "cell_type": "code",
   "execution_count": 272,
   "id": "536c088c",
   "metadata": {},
   "outputs": [
    {
     "name": "stdout",
     "output_type": "stream",
     "text": [
      "12\n",
      "['1.', '2.', '3.', '4.', '5.', '6.', '7.', '8.', '9.', '10.', '11.', '12.']\n"
     ]
    }
   ],
   "source": [
    "r_tag12=driver.find_element(By.XPATH,'//*[@id=\"mw-content-text\"]/div[1]/table[2]/tbody/tr[12]/td[1]')\n",
    "rank.append(r_tag12.text)\n",
    "print(len(rank))\n",
    "print(rank)"
   ]
  },
  {
   "cell_type": "code",
   "execution_count": 273,
   "id": "82fc5725",
   "metadata": {},
   "outputs": [
    {
     "name": "stdout",
     "output_type": "stream",
     "text": [
      "13\n",
      "['1.', '2.', '3.', '4.', '5.', '6.', '7.', '8.', '9.', '10.', '11.', '12.', '13.']\n"
     ]
    }
   ],
   "source": [
    "r_tag13=driver.find_element(By.XPATH,'//*[@id=\"mw-content-text\"]/div[1]/table[2]/tbody/tr[13]/td[1]')\n",
    "rank.append(r_tag13.text)\n",
    "print(len(rank))\n",
    "print(rank)"
   ]
  },
  {
   "cell_type": "code",
   "execution_count": 274,
   "id": "62640d12",
   "metadata": {},
   "outputs": [
    {
     "name": "stdout",
     "output_type": "stream",
     "text": [
      "14\n",
      "['1.', '2.', '3.', '4.', '5.', '6.', '7.', '8.', '9.', '10.', '11.', '12.', '13.', '14.']\n"
     ]
    }
   ],
   "source": [
    "r_tag14=driver.find_element(By.XPATH,'//*[@id=\"mw-content-text\"]/div[1]/table[2]/tbody/tr[14]/td[1]')\n",
    "rank.append(r_tag14.text)\n",
    "print(len(rank))\n",
    "print(rank)"
   ]
  },
  {
   "cell_type": "code",
   "execution_count": 275,
   "id": "c0628a07",
   "metadata": {},
   "outputs": [
    {
     "name": "stdout",
     "output_type": "stream",
     "text": [
      "15\n",
      "['1.', '2.', '3.', '4.', '5.', '6.', '7.', '8.', '9.', '10.', '11.', '12.', '13.', '14.', '15.']\n"
     ]
    }
   ],
   "source": [
    "r_tag15=driver.find_element(By.XPATH,'//*[@id=\"mw-content-text\"]/div[1]/table[2]/tbody/tr[15]/td[1]')\n",
    "rank.append(r_tag15.text)\n",
    "print(len(rank))\n",
    "print(rank)"
   ]
  },
  {
   "cell_type": "code",
   "execution_count": 276,
   "id": "ee7dae18",
   "metadata": {},
   "outputs": [
    {
     "name": "stdout",
     "output_type": "stream",
     "text": [
      "16\n",
      "['1.', '2.', '3.', '4.', '5.', '6.', '7.', '8.', '9.', '10.', '11.', '12.', '13.', '14.', '15.', '16.']\n"
     ]
    }
   ],
   "source": [
    "r_tag16=driver.find_element(By.XPATH,'//*[@id=\"mw-content-text\"]/div[1]/table[2]/tbody/tr[16]/td[1]')\n",
    "rank.append(r_tag16.text)\n",
    "print(len(rank))\n",
    "print(rank)"
   ]
  },
  {
   "cell_type": "code",
   "execution_count": 277,
   "id": "9ef6093e",
   "metadata": {},
   "outputs": [
    {
     "name": "stdout",
     "output_type": "stream",
     "text": [
      "17\n",
      "['1.', '2.', '3.', '4.', '5.', '6.', '7.', '8.', '9.', '10.', '11.', '12.', '13.', '14.', '15.', '16.', '17.']\n"
     ]
    }
   ],
   "source": [
    "r_tag17=driver.find_element(By.XPATH,'//*[@id=\"mw-content-text\"]/div[1]/table[2]/tbody/tr[17]/td[1]')\n",
    "rank.append(r_tag17.text)\n",
    "print(len(rank))\n",
    "print(rank)"
   ]
  },
  {
   "cell_type": "code",
   "execution_count": 278,
   "id": "581c5e26",
   "metadata": {},
   "outputs": [
    {
     "name": "stdout",
     "output_type": "stream",
     "text": [
      "18\n",
      "['1.', '2.', '3.', '4.', '5.', '6.', '7.', '8.', '9.', '10.', '11.', '12.', '13.', '14.', '15.', '16.', '17.', '18.']\n"
     ]
    }
   ],
   "source": [
    "r_tag18=driver.find_element(By.XPATH,'//*[@id=\"mw-content-text\"]/div[1]/table[2]/tbody/tr[18]/td[1]')\n",
    "rank.append(r_tag18.text)\n",
    "print(len(rank))\n",
    "print(rank)"
   ]
  },
  {
   "cell_type": "code",
   "execution_count": 279,
   "id": "3e2fd290",
   "metadata": {},
   "outputs": [
    {
     "name": "stdout",
     "output_type": "stream",
     "text": [
      "19\n",
      "['1.', '2.', '3.', '4.', '5.', '6.', '7.', '8.', '9.', '10.', '11.', '12.', '13.', '14.', '15.', '16.', '17.', '18.', '19.']\n"
     ]
    }
   ],
   "source": [
    "r_tag19=driver.find_element(By.XPATH,'//*[@id=\"mw-content-text\"]/div[1]/table[2]/tbody/tr[19]/td[1]')\n",
    "rank.append(r_tag19.text)\n",
    "print(len(rank))\n",
    "print(rank)"
   ]
  },
  {
   "cell_type": "code",
   "execution_count": 280,
   "id": "9f0257f2",
   "metadata": {},
   "outputs": [
    {
     "name": "stdout",
     "output_type": "stream",
     "text": [
      "20\n",
      "['1.', '2.', '3.', '4.', '5.', '6.', '7.', '8.', '9.', '10.', '11.', '12.', '13.', '14.', '15.', '16.', '17.', '18.', '19.', '20.']\n"
     ]
    }
   ],
   "source": [
    "r_tag20=driver.find_element(By.XPATH,'//*[@id=\"mw-content-text\"]/div[1]/table[2]/tbody/tr[20]/td[1]')\n",
    "rank.append(r_tag20.text)\n",
    "print(len(rank))\n",
    "print(rank)"
   ]
  },
  {
   "cell_type": "code",
   "execution_count": 281,
   "id": "1a9f4278",
   "metadata": {},
   "outputs": [
    {
     "name": "stdout",
     "output_type": "stream",
     "text": [
      "21\n",
      "['1.', '2.', '3.', '4.', '5.', '6.', '7.', '8.', '9.', '10.', '11.', '12.', '13.', '14.', '15.', '16.', '17.', '18.', '19.', '20.', '21.']\n"
     ]
    }
   ],
   "source": [
    "r_tag21=driver.find_element(By.XPATH,'//*[@id=\"mw-content-text\"]/div[1]/table[2]/tbody/tr[21]/td[1]')\n",
    "rank.append(r_tag21.text)\n",
    "print(len(rank))\n",
    "print(rank)"
   ]
  },
  {
   "cell_type": "code",
   "execution_count": 282,
   "id": "7445698d",
   "metadata": {},
   "outputs": [
    {
     "name": "stdout",
     "output_type": "stream",
     "text": [
      "22\n",
      "['1.', '2.', '3.', '4.', '5.', '6.', '7.', '8.', '9.', '10.', '11.', '12.', '13.', '14.', '15.', '16.', '17.', '18.', '19.', '20.', '21.', '22.']\n"
     ]
    }
   ],
   "source": [
    "r_tag22=driver.find_element(By.XPATH,'//*[@id=\"mw-content-text\"]/div[1]/table[2]/tbody/tr[22]/td[1]')\n",
    "rank.append(r_tag22.text)\n",
    "print(len(rank))\n",
    "print(rank)"
   ]
  },
  {
   "cell_type": "code",
   "execution_count": 283,
   "id": "f3ff73e6",
   "metadata": {},
   "outputs": [
    {
     "name": "stdout",
     "output_type": "stream",
     "text": [
      "23\n",
      "['1.', '2.', '3.', '4.', '5.', '6.', '7.', '8.', '9.', '10.', '11.', '12.', '13.', '14.', '15.', '16.', '17.', '18.', '19.', '20.', '21.', '22.', '23.']\n"
     ]
    }
   ],
   "source": [
    "r_tag23=driver.find_element(By.XPATH,'//*[@id=\"mw-content-text\"]/div[1]/table[2]/tbody/tr[23]/td[1]')\n",
    "rank.append(r_tag23.text)\n",
    "print(len(rank))\n",
    "print(rank)"
   ]
  },
  {
   "cell_type": "code",
   "execution_count": 284,
   "id": "078a6e08",
   "metadata": {},
   "outputs": [
    {
     "name": "stdout",
     "output_type": "stream",
     "text": [
      "24\n",
      "['1.', '2.', '3.', '4.', '5.', '6.', '7.', '8.', '9.', '10.', '11.', '12.', '13.', '14.', '15.', '16.', '17.', '18.', '19.', '20.', '21.', '22.', '23.', '24.']\n"
     ]
    }
   ],
   "source": [
    "r_tag24=driver.find_element(By.XPATH,'//*[@id=\"mw-content-text\"]/div[1]/table[2]/tbody/tr[24]/td[1]')\n",
    "rank.append(r_tag24.text)\n",
    "print(len(rank))\n",
    "print(rank)"
   ]
  },
  {
   "cell_type": "code",
   "execution_count": 285,
   "id": "7588b929",
   "metadata": {},
   "outputs": [
    {
     "name": "stdout",
     "output_type": "stream",
     "text": [
      "25\n",
      "['1.', '2.', '3.', '4.', '5.', '6.', '7.', '8.', '9.', '10.', '11.', '12.', '13.', '14.', '15.', '16.', '17.', '18.', '19.', '20.', '21.', '22.', '23.', '24.', '25.']\n"
     ]
    }
   ],
   "source": [
    "r_tag25=driver.find_element(By.XPATH,'//*[@id=\"mw-content-text\"]/div[1]/table[2]/tbody/tr[25]/td[1]')\n",
    "rank.append(r_tag25.text)\n",
    "print(len(rank))\n",
    "print(rank)"
   ]
  },
  {
   "cell_type": "code",
   "execution_count": 286,
   "id": "650c2cc5",
   "metadata": {},
   "outputs": [
    {
     "name": "stdout",
     "output_type": "stream",
     "text": [
      "26\n",
      "['1.', '2.', '3.', '4.', '5.', '6.', '7.', '8.', '9.', '10.', '11.', '12.', '13.', '14.', '15.', '16.', '17.', '18.', '19.', '20.', '21.', '22.', '23.', '24.', '25.', '26.']\n"
     ]
    }
   ],
   "source": [
    "r_tag26=driver.find_element(By.XPATH,'//*[@id=\"mw-content-text\"]/div[1]/table[2]/tbody/tr[26]/td[1]')\n",
    "rank.append(r_tag26.text)\n",
    "print(len(rank))\n",
    "print(rank)"
   ]
  },
  {
   "cell_type": "code",
   "execution_count": 287,
   "id": "7800f665",
   "metadata": {},
   "outputs": [
    {
     "name": "stdout",
     "output_type": "stream",
     "text": [
      "27\n",
      "['1.', '2.', '3.', '4.', '5.', '6.', '7.', '8.', '9.', '10.', '11.', '12.', '13.', '14.', '15.', '16.', '17.', '18.', '19.', '20.', '21.', '22.', '23.', '24.', '25.', '26.', '27.']\n"
     ]
    }
   ],
   "source": [
    "r_tag27=driver.find_element(By.XPATH,'//*[@id=\"mw-content-text\"]/div[1]/table[2]/tbody/tr[27]/td[1]')\n",
    "rank.append(r_tag27.text)\n",
    "print(len(rank))\n",
    "print(rank)"
   ]
  },
  {
   "cell_type": "code",
   "execution_count": 288,
   "id": "e79b2b51",
   "metadata": {},
   "outputs": [
    {
     "name": "stdout",
     "output_type": "stream",
     "text": [
      "28\n",
      "['1.', '2.', '3.', '4.', '5.', '6.', '7.', '8.', '9.', '10.', '11.', '12.', '13.', '14.', '15.', '16.', '17.', '18.', '19.', '20.', '21.', '22.', '23.', '24.', '25.', '26.', '27.', '28.']\n"
     ]
    }
   ],
   "source": [
    "r_tag28=driver.find_element(By.XPATH,'//*[@id=\"mw-content-text\"]/div[1]/table[2]/tbody/tr[28]/td[1]')\n",
    "rank.append(r_tag28.text)\n",
    "print(len(rank))\n",
    "print(rank)"
   ]
  },
  {
   "cell_type": "code",
   "execution_count": 289,
   "id": "903393d6",
   "metadata": {},
   "outputs": [
    {
     "name": "stdout",
     "output_type": "stream",
     "text": [
      "29\n",
      "['1.', '2.', '3.', '4.', '5.', '6.', '7.', '8.', '9.', '10.', '11.', '12.', '13.', '14.', '15.', '16.', '17.', '18.', '19.', '20.', '21.', '22.', '23.', '24.', '25.', '26.', '27.', '28.', '29.']\n"
     ]
    }
   ],
   "source": [
    "r_tag29=driver.find_element(By.XPATH,'//*[@id=\"mw-content-text\"]/div[1]/table[2]/tbody/tr[29]/td[1]')\n",
    "rank.append(r_tag29.text)\n",
    "print(len(rank))\n",
    "print(rank)"
   ]
  },
  {
   "cell_type": "code",
   "execution_count": 290,
   "id": "7d34234e",
   "metadata": {},
   "outputs": [
    {
     "name": "stdout",
     "output_type": "stream",
     "text": [
      "30\n",
      "['1.', '2.', '3.', '4.', '5.', '6.', '7.', '8.', '9.', '10.', '11.', '12.', '13.', '14.', '15.', '16.', '17.', '18.', '19.', '20.', '21.', '22.', '23.', '24.', '25.', '26.', '27.', '28.', '29.', '30.']\n"
     ]
    }
   ],
   "source": [
    "r_tag30=driver.find_element(By.XPATH,'//*[@id=\"mw-content-text\"]/div[1]/table[2]/tbody/tr[30]/td[1]')\n",
    "rank.append(r_tag30.text)\n",
    "print(len(rank))\n",
    "print(rank)"
   ]
  },
  {
   "cell_type": "code",
   "execution_count": 291,
   "id": "b9963a7f",
   "metadata": {},
   "outputs": [
    {
     "name": "stdout",
     "output_type": "stream",
     "text": [
      "1\n",
      "['\"Baby Shark Dance\"[4]']\n"
     ]
    }
   ],
   "source": [
    "name=[]\n",
    "n_tag=driver.find_element(By.XPATH,'//*[@id=\"mw-content-text\"]/div[1]/table[2]/tbody/tr[1]/td[2]')\n",
    "name.append(n_tag.text)\n",
    "print(len(name))\n",
    "print(name)"
   ]
  },
  {
   "cell_type": "code",
   "execution_count": 292,
   "id": "9bec0cd2",
   "metadata": {},
   "outputs": [
    {
     "name": "stdout",
     "output_type": "stream",
     "text": [
      "2\n",
      "['\"Baby Shark Dance\"[4]', '\"Despacito\"[7]']\n"
     ]
    }
   ],
   "source": [
    "n_tag2=driver.find_element(By.XPATH,'//*[@id=\"mw-content-text\"]/div[1]/table[2]/tbody/tr[2]/td[2]')\n",
    "name.append(n_tag2.text)\n",
    "print(len(name))\n",
    "print(name)"
   ]
  },
  {
   "cell_type": "code",
   "execution_count": 293,
   "id": "f44a9ecb",
   "metadata": {},
   "outputs": [
    {
     "name": "stdout",
     "output_type": "stream",
     "text": [
      "3\n",
      "['\"Baby Shark Dance\"[4]', '\"Despacito\"[7]', '\"Johny Johny Yes Papa\"[14]']\n"
     ]
    }
   ],
   "source": [
    "n_tag3=driver.find_element(By.XPATH,'//*[@id=\"mw-content-text\"]/div[1]/table[2]/tbody/tr[3]/td[2]')\n",
    "name.append(n_tag3.text)\n",
    "print(len(name))\n",
    "print(name)"
   ]
  },
  {
   "cell_type": "code",
   "execution_count": 294,
   "id": "837d121e",
   "metadata": {},
   "outputs": [
    {
     "name": "stdout",
     "output_type": "stream",
     "text": [
      "4\n",
      "['\"Baby Shark Dance\"[4]', '\"Despacito\"[7]', '\"Johny Johny Yes Papa\"[14]', '\"Bath Song\"[15]']\n"
     ]
    }
   ],
   "source": [
    "n_tag4=driver.find_element(By.XPATH,'//*[@id=\"mw-content-text\"]/div[1]/table[2]/tbody/tr[4]/td[2]')\n",
    "name.append(n_tag4.text)\n",
    "print(len(name))\n",
    "print(name)"
   ]
  },
  {
   "cell_type": "code",
   "execution_count": 295,
   "id": "0c84cdbe",
   "metadata": {},
   "outputs": [
    {
     "name": "stdout",
     "output_type": "stream",
     "text": [
      "5\n",
      "['\"Baby Shark Dance\"[4]', '\"Despacito\"[7]', '\"Johny Johny Yes Papa\"[14]', '\"Bath Song\"[15]', '\"Shape of You\"[16]']\n"
     ]
    }
   ],
   "source": [
    "n_tag5=driver.find_element(By.XPATH,'//*[@id=\"mw-content-text\"]/div[1]/table[2]/tbody/tr[5]/td[2]')\n",
    "name.append(n_tag5.text)\n",
    "print(len(name))\n",
    "print(name)"
   ]
  },
  {
   "cell_type": "code",
   "execution_count": 296,
   "id": "912c37a8",
   "metadata": {},
   "outputs": [
    {
     "name": "stdout",
     "output_type": "stream",
     "text": [
      "6\n",
      "['\"Baby Shark Dance\"[4]', '\"Despacito\"[7]', '\"Johny Johny Yes Papa\"[14]', '\"Bath Song\"[15]', '\"Shape of You\"[16]', '\"See You Again\"[18]']\n"
     ]
    }
   ],
   "source": [
    "n_tag6=driver.find_element(By.XPATH,'//*[@id=\"mw-content-text\"]/div[1]/table[2]/tbody/tr[6]/td[2]')\n",
    "name.append(n_tag6.text)\n",
    "print(len(name))\n",
    "print(name)"
   ]
  },
  {
   "cell_type": "code",
   "execution_count": 297,
   "id": "aa352016",
   "metadata": {},
   "outputs": [
    {
     "name": "stdout",
     "output_type": "stream",
     "text": [
      "7\n",
      "['\"Baby Shark Dance\"[4]', '\"Despacito\"[7]', '\"Johny Johny Yes Papa\"[14]', '\"Bath Song\"[15]', '\"Shape of You\"[16]', '\"See You Again\"[18]', '\"Phonics Song with Two Words\"[23]']\n"
     ]
    }
   ],
   "source": [
    "n_tag7=driver.find_element(By.XPATH,'//*[@id=\"mw-content-text\"]/div[1]/table[2]/tbody/tr[7]/td[2]')\n",
    "name.append(n_tag7.text)\n",
    "print(len(name))\n",
    "print(name)"
   ]
  },
  {
   "cell_type": "code",
   "execution_count": 298,
   "id": "582621b0",
   "metadata": {},
   "outputs": [
    {
     "name": "stdout",
     "output_type": "stream",
     "text": [
      "8\n",
      "['\"Baby Shark Dance\"[4]', '\"Despacito\"[7]', '\"Johny Johny Yes Papa\"[14]', '\"Bath Song\"[15]', '\"Shape of You\"[16]', '\"See You Again\"[18]', '\"Phonics Song with Two Words\"[23]', '\"Uptown Funk\"[24]']\n"
     ]
    }
   ],
   "source": [
    "n_tag8=driver.find_element(By.XPATH,'//*[@id=\"mw-content-text\"]/div[1]/table[2]/tbody/tr[8]/td[2]')\n",
    "name.append(n_tag8.text)\n",
    "print(len(name))\n",
    "print(name)"
   ]
  },
  {
   "cell_type": "code",
   "execution_count": 299,
   "id": "495457bc",
   "metadata": {},
   "outputs": [
    {
     "name": "stdout",
     "output_type": "stream",
     "text": [
      "9\n",
      "['\"Baby Shark Dance\"[4]', '\"Despacito\"[7]', '\"Johny Johny Yes Papa\"[14]', '\"Bath Song\"[15]', '\"Shape of You\"[16]', '\"See You Again\"[18]', '\"Phonics Song with Two Words\"[23]', '\"Uptown Funk\"[24]', '\"Wheels on the Bus\"[25]']\n"
     ]
    }
   ],
   "source": [
    "n_tag9=driver.find_element(By.XPATH,'//*[@id=\"mw-content-text\"]/div[1]/table[2]/tbody/tr[9]/td[2]')\n",
    "name.append(n_tag9.text)\n",
    "print(len(name))\n",
    "print(name)"
   ]
  },
  {
   "cell_type": "code",
   "execution_count": 300,
   "id": "c21f2bc8",
   "metadata": {},
   "outputs": [
    {
     "name": "stdout",
     "output_type": "stream",
     "text": [
      "10\n",
      "['\"Baby Shark Dance\"[4]', '\"Despacito\"[7]', '\"Johny Johny Yes Papa\"[14]', '\"Bath Song\"[15]', '\"Shape of You\"[16]', '\"See You Again\"[18]', '\"Phonics Song with Two Words\"[23]', '\"Uptown Funk\"[24]', '\"Wheels on the Bus\"[25]', '\"Learning Colors – Colorful Eggs on a Farm\"[26]']\n"
     ]
    }
   ],
   "source": [
    "n_tag10=driver.find_element(By.XPATH,'//*[@id=\"mw-content-text\"]/div[1]/table[2]/tbody/tr[10]/td[2]')\n",
    "name.append(n_tag10.text)\n",
    "print(len(name))\n",
    "print(name)"
   ]
  },
  {
   "cell_type": "code",
   "execution_count": 301,
   "id": "e6c7a42a",
   "metadata": {},
   "outputs": [
    {
     "name": "stdout",
     "output_type": "stream",
     "text": [
      "11\n",
      "['\"Baby Shark Dance\"[4]', '\"Despacito\"[7]', '\"Johny Johny Yes Papa\"[14]', '\"Bath Song\"[15]', '\"Shape of You\"[16]', '\"See You Again\"[18]', '\"Phonics Song with Two Words\"[23]', '\"Uptown Funk\"[24]', '\"Wheels on the Bus\"[25]', '\"Learning Colors – Colorful Eggs on a Farm\"[26]', '\"Gangnam Style\"[27]']\n"
     ]
    }
   ],
   "source": [
    "n_tag11=driver.find_element(By.XPATH,'//*[@id=\"mw-content-text\"]/div[1]/table[2]/tbody/tr[11]/td[2]')\n",
    "name.append(n_tag11.text)\n",
    "print(len(name))\n",
    "print(name)"
   ]
  },
  {
   "cell_type": "code",
   "execution_count": 302,
   "id": "9da09d1f",
   "metadata": {},
   "outputs": [
    {
     "name": "stdout",
     "output_type": "stream",
     "text": [
      "12\n",
      "['\"Baby Shark Dance\"[4]', '\"Despacito\"[7]', '\"Johny Johny Yes Papa\"[14]', '\"Bath Song\"[15]', '\"Shape of You\"[16]', '\"See You Again\"[18]', '\"Phonics Song with Two Words\"[23]', '\"Uptown Funk\"[24]', '\"Wheels on the Bus\"[25]', '\"Learning Colors – Colorful Eggs on a Farm\"[26]', '\"Gangnam Style\"[27]', '\"Masha and the Bear – Recipe for Disaster\"[32]']\n"
     ]
    }
   ],
   "source": [
    "n_tag12=driver.find_element(By.XPATH,'//*[@id=\"mw-content-text\"]/div[1]/table[2]/tbody/tr[12]/td[2]')\n",
    "name.append(n_tag12.text)\n",
    "print(len(name))\n",
    "print(name)"
   ]
  },
  {
   "cell_type": "code",
   "execution_count": 303,
   "id": "096bc768",
   "metadata": {},
   "outputs": [
    {
     "name": "stdout",
     "output_type": "stream",
     "text": [
      "13\n",
      "['\"Baby Shark Dance\"[4]', '\"Despacito\"[7]', '\"Johny Johny Yes Papa\"[14]', '\"Bath Song\"[15]', '\"Shape of You\"[16]', '\"See You Again\"[18]', '\"Phonics Song with Two Words\"[23]', '\"Uptown Funk\"[24]', '\"Wheels on the Bus\"[25]', '\"Learning Colors – Colorful Eggs on a Farm\"[26]', '\"Gangnam Style\"[27]', '\"Masha and the Bear – Recipe for Disaster\"[32]', '\"Dame Tu Cosita\"[33]']\n"
     ]
    }
   ],
   "source": [
    "n_tag13=driver.find_element(By.XPATH,'//*[@id=\"mw-content-text\"]/div[1]/table[2]/tbody/tr[13]/td[2]')\n",
    "name.append(n_tag13.text)\n",
    "print(len(name))\n",
    "print(name)"
   ]
  },
  {
   "cell_type": "code",
   "execution_count": 304,
   "id": "21c09424",
   "metadata": {},
   "outputs": [
    {
     "name": "stdout",
     "output_type": "stream",
     "text": [
      "14\n",
      "['\"Baby Shark Dance\"[4]', '\"Despacito\"[7]', '\"Johny Johny Yes Papa\"[14]', '\"Bath Song\"[15]', '\"Shape of You\"[16]', '\"See You Again\"[18]', '\"Phonics Song with Two Words\"[23]', '\"Uptown Funk\"[24]', '\"Wheels on the Bus\"[25]', '\"Learning Colors – Colorful Eggs on a Farm\"[26]', '\"Gangnam Style\"[27]', '\"Masha and the Bear – Recipe for Disaster\"[32]', '\"Dame Tu Cosita\"[33]', '\"Sugar\"[34]']\n"
     ]
    }
   ],
   "source": [
    "n_tag14=driver.find_element(By.XPATH,'//*[@id=\"mw-content-text\"]/div[1]/table[2]/tbody/tr[14]/td[2]')\n",
    "name.append(n_tag14.text)\n",
    "print(len(name))\n",
    "print(name)"
   ]
  },
  {
   "cell_type": "code",
   "execution_count": 305,
   "id": "64c46975",
   "metadata": {},
   "outputs": [
    {
     "name": "stdout",
     "output_type": "stream",
     "text": [
      "15\n",
      "['\"Baby Shark Dance\"[4]', '\"Despacito\"[7]', '\"Johny Johny Yes Papa\"[14]', '\"Bath Song\"[15]', '\"Shape of You\"[16]', '\"See You Again\"[18]', '\"Phonics Song with Two Words\"[23]', '\"Uptown Funk\"[24]', '\"Wheels on the Bus\"[25]', '\"Learning Colors – Colorful Eggs on a Farm\"[26]', '\"Gangnam Style\"[27]', '\"Masha and the Bear – Recipe for Disaster\"[32]', '\"Dame Tu Cosita\"[33]', '\"Sugar\"[34]', '\"Roar\"[35]']\n"
     ]
    }
   ],
   "source": [
    "n_tag15=driver.find_element(By.XPATH,'//*[@id=\"mw-content-text\"]/div[1]/table[2]/tbody/tr[15]/td[2]')\n",
    "name.append(n_tag15.text)\n",
    "print(len(name))\n",
    "print(name)"
   ]
  },
  {
   "cell_type": "code",
   "execution_count": 306,
   "id": "45da28c8",
   "metadata": {},
   "outputs": [
    {
     "name": "stdout",
     "output_type": "stream",
     "text": [
      "16\n",
      "['\"Baby Shark Dance\"[4]', '\"Despacito\"[7]', '\"Johny Johny Yes Papa\"[14]', '\"Bath Song\"[15]', '\"Shape of You\"[16]', '\"See You Again\"[18]', '\"Phonics Song with Two Words\"[23]', '\"Uptown Funk\"[24]', '\"Wheels on the Bus\"[25]', '\"Learning Colors – Colorful Eggs on a Farm\"[26]', '\"Gangnam Style\"[27]', '\"Masha and the Bear – Recipe for Disaster\"[32]', '\"Dame Tu Cosita\"[33]', '\"Sugar\"[34]', '\"Roar\"[35]', '\"Counting Stars\"[36]']\n"
     ]
    }
   ],
   "source": [
    "n_tag16=driver.find_element(By.XPATH,'//*[@id=\"mw-content-text\"]/div[1]/table[2]/tbody/tr[16]/td[2]')\n",
    "name.append(n_tag16.text)\n",
    "print(len(name))\n",
    "print(name)"
   ]
  },
  {
   "cell_type": "code",
   "execution_count": 307,
   "id": "a606d0d1",
   "metadata": {},
   "outputs": [
    {
     "name": "stdout",
     "output_type": "stream",
     "text": [
      "17\n",
      "['\"Baby Shark Dance\"[4]', '\"Despacito\"[7]', '\"Johny Johny Yes Papa\"[14]', '\"Bath Song\"[15]', '\"Shape of You\"[16]', '\"See You Again\"[18]', '\"Phonics Song with Two Words\"[23]', '\"Uptown Funk\"[24]', '\"Wheels on the Bus\"[25]', '\"Learning Colors – Colorful Eggs on a Farm\"[26]', '\"Gangnam Style\"[27]', '\"Masha and the Bear – Recipe for Disaster\"[32]', '\"Dame Tu Cosita\"[33]', '\"Sugar\"[34]', '\"Roar\"[35]', '\"Counting Stars\"[36]', '\"Axel F\"[37]']\n"
     ]
    }
   ],
   "source": [
    "n_tag17=driver.find_element(By.XPATH,'//*[@id=\"mw-content-text\"]/div[1]/table[2]/tbody/tr[17]/td[2]')\n",
    "name.append(n_tag17.text)\n",
    "print(len(name))\n",
    "print(name)"
   ]
  },
  {
   "cell_type": "code",
   "execution_count": 308,
   "id": "729f53ac",
   "metadata": {},
   "outputs": [
    {
     "name": "stdout",
     "output_type": "stream",
     "text": [
      "18\n",
      "['\"Baby Shark Dance\"[4]', '\"Despacito\"[7]', '\"Johny Johny Yes Papa\"[14]', '\"Bath Song\"[15]', '\"Shape of You\"[16]', '\"See You Again\"[18]', '\"Phonics Song with Two Words\"[23]', '\"Uptown Funk\"[24]', '\"Wheels on the Bus\"[25]', '\"Learning Colors – Colorful Eggs on a Farm\"[26]', '\"Gangnam Style\"[27]', '\"Masha and the Bear – Recipe for Disaster\"[32]', '\"Dame Tu Cosita\"[33]', '\"Sugar\"[34]', '\"Roar\"[35]', '\"Counting Stars\"[36]', '\"Axel F\"[37]', '\"Sorry\"[38]']\n"
     ]
    }
   ],
   "source": [
    "n_tag18=driver.find_element(By.XPATH,'//*[@id=\"mw-content-text\"]/div[1]/table[2]/tbody/tr[18]/td[2]')\n",
    "name.append(n_tag18.text)\n",
    "print(len(name))\n",
    "print(name)"
   ]
  },
  {
   "cell_type": "code",
   "execution_count": 309,
   "id": "55a3e124",
   "metadata": {},
   "outputs": [
    {
     "name": "stdout",
     "output_type": "stream",
     "text": [
      "19\n",
      "['\"Baby Shark Dance\"[4]', '\"Despacito\"[7]', '\"Johny Johny Yes Papa\"[14]', '\"Bath Song\"[15]', '\"Shape of You\"[16]', '\"See You Again\"[18]', '\"Phonics Song with Two Words\"[23]', '\"Uptown Funk\"[24]', '\"Wheels on the Bus\"[25]', '\"Learning Colors – Colorful Eggs on a Farm\"[26]', '\"Gangnam Style\"[27]', '\"Masha and the Bear – Recipe for Disaster\"[32]', '\"Dame Tu Cosita\"[33]', '\"Sugar\"[34]', '\"Roar\"[35]', '\"Counting Stars\"[36]', '\"Axel F\"[37]', '\"Sorry\"[38]', '\"Thinking Out Loud\"[39]']\n"
     ]
    }
   ],
   "source": [
    "n_tag19=driver.find_element(By.XPATH,'//*[@id=\"mw-content-text\"]/div[1]/table[2]/tbody/tr[19]/td[2]')\n",
    "name.append(n_tag19.text)\n",
    "print(len(name))\n",
    "print(name)"
   ]
  },
  {
   "cell_type": "code",
   "execution_count": 310,
   "id": "a8661695",
   "metadata": {},
   "outputs": [
    {
     "name": "stdout",
     "output_type": "stream",
     "text": [
      "20\n",
      "['\"Baby Shark Dance\"[4]', '\"Despacito\"[7]', '\"Johny Johny Yes Papa\"[14]', '\"Bath Song\"[15]', '\"Shape of You\"[16]', '\"See You Again\"[18]', '\"Phonics Song with Two Words\"[23]', '\"Uptown Funk\"[24]', '\"Wheels on the Bus\"[25]', '\"Learning Colors – Colorful Eggs on a Farm\"[26]', '\"Gangnam Style\"[27]', '\"Masha and the Bear – Recipe for Disaster\"[32]', '\"Dame Tu Cosita\"[33]', '\"Sugar\"[34]', '\"Roar\"[35]', '\"Counting Stars\"[36]', '\"Axel F\"[37]', '\"Sorry\"[38]', '\"Thinking Out Loud\"[39]', '\"Baa Baa Black Sheep\"[40]']\n"
     ]
    }
   ],
   "source": [
    "n_tag20=driver.find_element(By.XPATH,'//*[@id=\"mw-content-text\"]/div[1]/table[2]/tbody/tr[20]/td[2]')\n",
    "name.append(n_tag20.text)\n",
    "print(len(name))\n",
    "print(name)"
   ]
  },
  {
   "cell_type": "code",
   "execution_count": 311,
   "id": "404ed1c5",
   "metadata": {},
   "outputs": [
    {
     "name": "stdout",
     "output_type": "stream",
     "text": [
      "21\n",
      "['\"Baby Shark Dance\"[4]', '\"Despacito\"[7]', '\"Johny Johny Yes Papa\"[14]', '\"Bath Song\"[15]', '\"Shape of You\"[16]', '\"See You Again\"[18]', '\"Phonics Song with Two Words\"[23]', '\"Uptown Funk\"[24]', '\"Wheels on the Bus\"[25]', '\"Learning Colors – Colorful Eggs on a Farm\"[26]', '\"Gangnam Style\"[27]', '\"Masha and the Bear – Recipe for Disaster\"[32]', '\"Dame Tu Cosita\"[33]', '\"Sugar\"[34]', '\"Roar\"[35]', '\"Counting Stars\"[36]', '\"Axel F\"[37]', '\"Sorry\"[38]', '\"Thinking Out Loud\"[39]', '\"Baa Baa Black Sheep\"[40]', '\"Dark Horse\"[41]']\n"
     ]
    }
   ],
   "source": [
    "n_tag21=driver.find_element(By.XPATH,'//*[@id=\"mw-content-text\"]/div[1]/table[2]/tbody/tr[21]/td[2]')\n",
    "name.append(n_tag21.text)\n",
    "print(len(name))\n",
    "print(name)"
   ]
  },
  {
   "cell_type": "code",
   "execution_count": 312,
   "id": "cadf94c8",
   "metadata": {},
   "outputs": [
    {
     "name": "stdout",
     "output_type": "stream",
     "text": [
      "22\n",
      "['\"Baby Shark Dance\"[4]', '\"Despacito\"[7]', '\"Johny Johny Yes Papa\"[14]', '\"Bath Song\"[15]', '\"Shape of You\"[16]', '\"See You Again\"[18]', '\"Phonics Song with Two Words\"[23]', '\"Uptown Funk\"[24]', '\"Wheels on the Bus\"[25]', '\"Learning Colors – Colorful Eggs on a Farm\"[26]', '\"Gangnam Style\"[27]', '\"Masha and the Bear – Recipe for Disaster\"[32]', '\"Dame Tu Cosita\"[33]', '\"Sugar\"[34]', '\"Roar\"[35]', '\"Counting Stars\"[36]', '\"Axel F\"[37]', '\"Sorry\"[38]', '\"Thinking Out Loud\"[39]', '\"Baa Baa Black Sheep\"[40]', '\"Dark Horse\"[41]', '\"Waka Waka (This Time for Africa)\"[42]']\n"
     ]
    }
   ],
   "source": [
    "n_tag22=driver.find_element(By.XPATH,'//*[@id=\"mw-content-text\"]/div[1]/table[2]/tbody/tr[22]/td[2]')\n",
    "name.append(n_tag22.text)\n",
    "print(len(name))\n",
    "print(name)"
   ]
  },
  {
   "cell_type": "code",
   "execution_count": 313,
   "id": "9dba4d4b",
   "metadata": {},
   "outputs": [
    {
     "name": "stdout",
     "output_type": "stream",
     "text": [
      "23\n",
      "['\"Baby Shark Dance\"[4]', '\"Despacito\"[7]', '\"Johny Johny Yes Papa\"[14]', '\"Bath Song\"[15]', '\"Shape of You\"[16]', '\"See You Again\"[18]', '\"Phonics Song with Two Words\"[23]', '\"Uptown Funk\"[24]', '\"Wheels on the Bus\"[25]', '\"Learning Colors – Colorful Eggs on a Farm\"[26]', '\"Gangnam Style\"[27]', '\"Masha and the Bear – Recipe for Disaster\"[32]', '\"Dame Tu Cosita\"[33]', '\"Sugar\"[34]', '\"Roar\"[35]', '\"Counting Stars\"[36]', '\"Axel F\"[37]', '\"Sorry\"[38]', '\"Thinking Out Loud\"[39]', '\"Baa Baa Black Sheep\"[40]', '\"Dark Horse\"[41]', '\"Waka Waka (This Time for Africa)\"[42]', '\"Faded\"[43]']\n"
     ]
    }
   ],
   "source": [
    "n_tag23=driver.find_element(By.XPATH,'//*[@id=\"mw-content-text\"]/div[1]/table[2]/tbody/tr[23]/td[2]')\n",
    "name.append(n_tag23.text)\n",
    "print(len(name))\n",
    "print(name)"
   ]
  },
  {
   "cell_type": "code",
   "execution_count": 314,
   "id": "1ef33611",
   "metadata": {},
   "outputs": [
    {
     "name": "stdout",
     "output_type": "stream",
     "text": [
      "24\n",
      "['\"Baby Shark Dance\"[4]', '\"Despacito\"[7]', '\"Johny Johny Yes Papa\"[14]', '\"Bath Song\"[15]', '\"Shape of You\"[16]', '\"See You Again\"[18]', '\"Phonics Song with Two Words\"[23]', '\"Uptown Funk\"[24]', '\"Wheels on the Bus\"[25]', '\"Learning Colors – Colorful Eggs on a Farm\"[26]', '\"Gangnam Style\"[27]', '\"Masha and the Bear – Recipe for Disaster\"[32]', '\"Dame Tu Cosita\"[33]', '\"Sugar\"[34]', '\"Roar\"[35]', '\"Counting Stars\"[36]', '\"Axel F\"[37]', '\"Sorry\"[38]', '\"Thinking Out Loud\"[39]', '\"Baa Baa Black Sheep\"[40]', '\"Dark Horse\"[41]', '\"Waka Waka (This Time for Africa)\"[42]', '\"Faded\"[43]', '\"Let Her Go\"[44]']\n"
     ]
    }
   ],
   "source": [
    "n_tag24=driver.find_element(By.XPATH,'//*[@id=\"mw-content-text\"]/div[1]/table[2]/tbody/tr[24]/td[2]')\n",
    "name.append(n_tag24.text)\n",
    "print(len(name))\n",
    "print(name)"
   ]
  },
  {
   "cell_type": "code",
   "execution_count": 315,
   "id": "1894c798",
   "metadata": {},
   "outputs": [
    {
     "name": "stdout",
     "output_type": "stream",
     "text": [
      "25\n",
      "['\"Baby Shark Dance\"[4]', '\"Despacito\"[7]', '\"Johny Johny Yes Papa\"[14]', '\"Bath Song\"[15]', '\"Shape of You\"[16]', '\"See You Again\"[18]', '\"Phonics Song with Two Words\"[23]', '\"Uptown Funk\"[24]', '\"Wheels on the Bus\"[25]', '\"Learning Colors – Colorful Eggs on a Farm\"[26]', '\"Gangnam Style\"[27]', '\"Masha and the Bear – Recipe for Disaster\"[32]', '\"Dame Tu Cosita\"[33]', '\"Sugar\"[34]', '\"Roar\"[35]', '\"Counting Stars\"[36]', '\"Axel F\"[37]', '\"Sorry\"[38]', '\"Thinking Out Loud\"[39]', '\"Baa Baa Black Sheep\"[40]', '\"Dark Horse\"[41]', '\"Waka Waka (This Time for Africa)\"[42]', '\"Faded\"[43]', '\"Let Her Go\"[44]', '\"Girls Like You\"[45]']\n"
     ]
    }
   ],
   "source": [
    "n_tag25=driver.find_element(By.XPATH,'//*[@id=\"mw-content-text\"]/div[1]/table[2]/tbody/tr[25]/td[2]')\n",
    "name.append(n_tag25.text)\n",
    "print(len(name))\n",
    "print(name)"
   ]
  },
  {
   "cell_type": "code",
   "execution_count": 316,
   "id": "f682b425",
   "metadata": {},
   "outputs": [
    {
     "name": "stdout",
     "output_type": "stream",
     "text": [
      "26\n",
      "['\"Baby Shark Dance\"[4]', '\"Despacito\"[7]', '\"Johny Johny Yes Papa\"[14]', '\"Bath Song\"[15]', '\"Shape of You\"[16]', '\"See You Again\"[18]', '\"Phonics Song with Two Words\"[23]', '\"Uptown Funk\"[24]', '\"Wheels on the Bus\"[25]', '\"Learning Colors – Colorful Eggs on a Farm\"[26]', '\"Gangnam Style\"[27]', '\"Masha and the Bear – Recipe for Disaster\"[32]', '\"Dame Tu Cosita\"[33]', '\"Sugar\"[34]', '\"Roar\"[35]', '\"Counting Stars\"[36]', '\"Axel F\"[37]', '\"Sorry\"[38]', '\"Thinking Out Loud\"[39]', '\"Baa Baa Black Sheep\"[40]', '\"Dark Horse\"[41]', '\"Waka Waka (This Time for Africa)\"[42]', '\"Faded\"[43]', '\"Let Her Go\"[44]', '\"Girls Like You\"[45]', '\"Perfect\"[46]']\n"
     ]
    }
   ],
   "source": [
    "n_tag26=driver.find_element(By.XPATH,'//*[@id=\"mw-content-text\"]/div[1]/table[2]/tbody/tr[26]/td[2]')\n",
    "name.append(n_tag26.text)\n",
    "print(len(name))\n",
    "print(name)"
   ]
  },
  {
   "cell_type": "code",
   "execution_count": 317,
   "id": "5c3d35a8",
   "metadata": {},
   "outputs": [
    {
     "name": "stdout",
     "output_type": "stream",
     "text": [
      "27\n",
      "['\"Baby Shark Dance\"[4]', '\"Despacito\"[7]', '\"Johny Johny Yes Papa\"[14]', '\"Bath Song\"[15]', '\"Shape of You\"[16]', '\"See You Again\"[18]', '\"Phonics Song with Two Words\"[23]', '\"Uptown Funk\"[24]', '\"Wheels on the Bus\"[25]', '\"Learning Colors – Colorful Eggs on a Farm\"[26]', '\"Gangnam Style\"[27]', '\"Masha and the Bear – Recipe for Disaster\"[32]', '\"Dame Tu Cosita\"[33]', '\"Sugar\"[34]', '\"Roar\"[35]', '\"Counting Stars\"[36]', '\"Axel F\"[37]', '\"Sorry\"[38]', '\"Thinking Out Loud\"[39]', '\"Baa Baa Black Sheep\"[40]', '\"Dark Horse\"[41]', '\"Waka Waka (This Time for Africa)\"[42]', '\"Faded\"[43]', '\"Let Her Go\"[44]', '\"Girls Like You\"[45]', '\"Perfect\"[46]', '\"Bailando\"[47]']\n"
     ]
    }
   ],
   "source": [
    "n_tag27=driver.find_element(By.XPATH,'//*[@id=\"mw-content-text\"]/div[1]/table[2]/tbody/tr[27]/td[2]')\n",
    "name.append(n_tag27.text)\n",
    "print(len(name))\n",
    "print(name)"
   ]
  },
  {
   "cell_type": "code",
   "execution_count": 318,
   "id": "5a1748f0",
   "metadata": {},
   "outputs": [
    {
     "name": "stdout",
     "output_type": "stream",
     "text": [
      "28\n",
      "['\"Baby Shark Dance\"[4]', '\"Despacito\"[7]', '\"Johny Johny Yes Papa\"[14]', '\"Bath Song\"[15]', '\"Shape of You\"[16]', '\"See You Again\"[18]', '\"Phonics Song with Two Words\"[23]', '\"Uptown Funk\"[24]', '\"Wheels on the Bus\"[25]', '\"Learning Colors – Colorful Eggs on a Farm\"[26]', '\"Gangnam Style\"[27]', '\"Masha and the Bear – Recipe for Disaster\"[32]', '\"Dame Tu Cosita\"[33]', '\"Sugar\"[34]', '\"Roar\"[35]', '\"Counting Stars\"[36]', '\"Axel F\"[37]', '\"Sorry\"[38]', '\"Thinking Out Loud\"[39]', '\"Baa Baa Black Sheep\"[40]', '\"Dark Horse\"[41]', '\"Waka Waka (This Time for Africa)\"[42]', '\"Faded\"[43]', '\"Let Her Go\"[44]', '\"Girls Like You\"[45]', '\"Perfect\"[46]', '\"Bailando\"[47]', '\"Lean On\"[48]']\n"
     ]
    }
   ],
   "source": [
    "n_tag28=driver.find_element(By.XPATH,'//*[@id=\"mw-content-text\"]/div[1]/table[2]/tbody/tr[28]/td[2]')\n",
    "name.append(n_tag28.text)\n",
    "print(len(name))\n",
    "print(name)"
   ]
  },
  {
   "cell_type": "code",
   "execution_count": 319,
   "id": "38686496",
   "metadata": {},
   "outputs": [
    {
     "name": "stdout",
     "output_type": "stream",
     "text": [
      "29\n",
      "['\"Baby Shark Dance\"[4]', '\"Despacito\"[7]', '\"Johny Johny Yes Papa\"[14]', '\"Bath Song\"[15]', '\"Shape of You\"[16]', '\"See You Again\"[18]', '\"Phonics Song with Two Words\"[23]', '\"Uptown Funk\"[24]', '\"Wheels on the Bus\"[25]', '\"Learning Colors – Colorful Eggs on a Farm\"[26]', '\"Gangnam Style\"[27]', '\"Masha and the Bear – Recipe for Disaster\"[32]', '\"Dame Tu Cosita\"[33]', '\"Sugar\"[34]', '\"Roar\"[35]', '\"Counting Stars\"[36]', '\"Axel F\"[37]', '\"Sorry\"[38]', '\"Thinking Out Loud\"[39]', '\"Baa Baa Black Sheep\"[40]', '\"Dark Horse\"[41]', '\"Waka Waka (This Time for Africa)\"[42]', '\"Faded\"[43]', '\"Let Her Go\"[44]', '\"Girls Like You\"[45]', '\"Perfect\"[46]', '\"Bailando\"[47]', '\"Lean On\"[48]', '\"Humpty the train on a fruits ride\"[49]']\n"
     ]
    }
   ],
   "source": [
    "n_tag29=driver.find_element(By.XPATH,'//*[@id=\"mw-content-text\"]/div[1]/table[2]/tbody/tr[29]/td[2]')\n",
    "name.append(n_tag29.text)\n",
    "print(len(name))\n",
    "print(name)"
   ]
  },
  {
   "cell_type": "code",
   "execution_count": 320,
   "id": "faa64bf9",
   "metadata": {},
   "outputs": [
    {
     "name": "stdout",
     "output_type": "stream",
     "text": [
      "30\n",
      "['\"Baby Shark Dance\"[4]', '\"Despacito\"[7]', '\"Johny Johny Yes Papa\"[14]', '\"Bath Song\"[15]', '\"Shape of You\"[16]', '\"See You Again\"[18]', '\"Phonics Song with Two Words\"[23]', '\"Uptown Funk\"[24]', '\"Wheels on the Bus\"[25]', '\"Learning Colors – Colorful Eggs on a Farm\"[26]', '\"Gangnam Style\"[27]', '\"Masha and the Bear – Recipe for Disaster\"[32]', '\"Dame Tu Cosita\"[33]', '\"Sugar\"[34]', '\"Roar\"[35]', '\"Counting Stars\"[36]', '\"Axel F\"[37]', '\"Sorry\"[38]', '\"Thinking Out Loud\"[39]', '\"Baa Baa Black Sheep\"[40]', '\"Dark Horse\"[41]', '\"Waka Waka (This Time for Africa)\"[42]', '\"Faded\"[43]', '\"Let Her Go\"[44]', '\"Girls Like You\"[45]', '\"Perfect\"[46]', '\"Bailando\"[47]', '\"Lean On\"[48]', '\"Humpty the train on a fruits ride\"[49]', '\"Lakdi Ki Kathi\"[50]']\n"
     ]
    }
   ],
   "source": [
    "n_tag30=driver.find_element(By.XPATH,'//*[@id=\"mw-content-text\"]/div[1]/table[2]/tbody/tr[30]/td[2]')\n",
    "name.append(n_tag30.text)\n",
    "print(len(name))\n",
    "print(name)"
   ]
  },
  {
   "cell_type": "code",
   "execution_count": 321,
   "id": "64cf6a2b",
   "metadata": {},
   "outputs": [
    {
     "name": "stdout",
     "output_type": "stream",
     "text": [
      "1\n",
      "[\"Pinkfong Baby Shark - Kids' Songs & Stories\"]\n"
     ]
    }
   ],
   "source": [
    "a_tag1=driver.find_element(By.XPATH,'//*[@id=\"mw-content-text\"]/div[1]/table[2]/tbody/tr[1]/td[3]')\n",
    "artist.append(a_tag1.text)\n",
    "print(len(artist))\n",
    "print(artist)"
   ]
  },
  {
   "cell_type": "code",
   "execution_count": 322,
   "id": "a8109a37",
   "metadata": {},
   "outputs": [
    {
     "name": "stdout",
     "output_type": "stream",
     "text": [
      "2\n",
      "[\"Pinkfong Baby Shark - Kids' Songs & Stories\", 'Luis Fonsi']\n"
     ]
    }
   ],
   "source": [
    "a_tag2=driver.find_element(By.XPATH,'//*[@id=\"mw-content-text\"]/div[1]/table[2]/tbody/tr[2]/td[3]')\n",
    "artist.append(a_tag2.text)\n",
    "print(len(artist))\n",
    "print(artist)"
   ]
  },
  {
   "cell_type": "code",
   "execution_count": 323,
   "id": "902057c8",
   "metadata": {},
   "outputs": [
    {
     "name": "stdout",
     "output_type": "stream",
     "text": [
      "3\n",
      "[\"Pinkfong Baby Shark - Kids' Songs & Stories\", 'Luis Fonsi', 'LooLoo Kids']\n"
     ]
    }
   ],
   "source": [
    "a_tag3=driver.find_element(By.XPATH,'//*[@id=\"mw-content-text\"]/div[1]/table[2]/tbody/tr[3]/td[3]')\n",
    "artist.append(a_tag3.text)\n",
    "print(len(artist))\n",
    "print(artist)"
   ]
  },
  {
   "cell_type": "code",
   "execution_count": 324,
   "id": "cf90626f",
   "metadata": {},
   "outputs": [
    {
     "name": "stdout",
     "output_type": "stream",
     "text": [
      "4\n",
      "[\"Pinkfong Baby Shark - Kids' Songs & Stories\", 'Luis Fonsi', 'LooLoo Kids', 'Cocomelon – Nursery Rhymes']\n"
     ]
    }
   ],
   "source": [
    "a_tag4=driver.find_element(By.XPATH,'//*[@id=\"mw-content-text\"]/div[1]/table[2]/tbody/tr[4]/td[3]')\n",
    "artist.append(a_tag4.text)\n",
    "print(len(artist))\n",
    "print(artist)"
   ]
  },
  {
   "cell_type": "code",
   "execution_count": 325,
   "id": "bebdac14",
   "metadata": {},
   "outputs": [
    {
     "name": "stdout",
     "output_type": "stream",
     "text": [
      "5\n",
      "[\"Pinkfong Baby Shark - Kids' Songs & Stories\", 'Luis Fonsi', 'LooLoo Kids', 'Cocomelon – Nursery Rhymes', 'Ed Sheeran']\n"
     ]
    }
   ],
   "source": [
    "a_tag5=driver.find_element(By.XPATH,'//*[@id=\"mw-content-text\"]/div[1]/table[2]/tbody/tr[5]/td[3]')\n",
    "artist.append(a_tag5.text)\n",
    "print(len(artist))\n",
    "print(artist)"
   ]
  },
  {
   "cell_type": "code",
   "execution_count": 326,
   "id": "02537c63",
   "metadata": {},
   "outputs": [
    {
     "name": "stdout",
     "output_type": "stream",
     "text": [
      "6\n",
      "[\"Pinkfong Baby Shark - Kids' Songs & Stories\", 'Luis Fonsi', 'LooLoo Kids', 'Cocomelon – Nursery Rhymes', 'Ed Sheeran', 'Wiz Khalifa']\n"
     ]
    }
   ],
   "source": [
    "a_tag6=driver.find_element(By.XPATH,'//*[@id=\"mw-content-text\"]/div[1]/table[2]/tbody/tr[6]/td[3]')\n",
    "artist.append(a_tag6.text)\n",
    "print(len(artist))\n",
    "print(artist)"
   ]
  },
  {
   "cell_type": "code",
   "execution_count": 327,
   "id": "ab79850a",
   "metadata": {},
   "outputs": [
    {
     "name": "stdout",
     "output_type": "stream",
     "text": [
      "7\n",
      "[\"Pinkfong Baby Shark - Kids' Songs & Stories\", 'Luis Fonsi', 'LooLoo Kids', 'Cocomelon – Nursery Rhymes', 'Ed Sheeran', 'Wiz Khalifa', 'ChuChu TV']\n"
     ]
    }
   ],
   "source": [
    "a_tag7=driver.find_element(By.XPATH,'//*[@id=\"mw-content-text\"]/div[1]/table[2]/tbody/tr[7]/td[3]')\n",
    "artist.append(a_tag7.text)\n",
    "print(len(artist))\n",
    "print(artist)"
   ]
  },
  {
   "cell_type": "code",
   "execution_count": 328,
   "id": "1babd365",
   "metadata": {},
   "outputs": [
    {
     "name": "stdout",
     "output_type": "stream",
     "text": [
      "8\n",
      "[\"Pinkfong Baby Shark - Kids' Songs & Stories\", 'Luis Fonsi', 'LooLoo Kids', 'Cocomelon – Nursery Rhymes', 'Ed Sheeran', 'Wiz Khalifa', 'ChuChu TV', 'Mark Ronson']\n"
     ]
    }
   ],
   "source": [
    "a_tag8=driver.find_element(By.XPATH,'//*[@id=\"mw-content-text\"]/div[1]/table[2]/tbody/tr[8]/td[3]')\n",
    "artist.append(a_tag8.text)\n",
    "print(len(artist))\n",
    "print(artist)"
   ]
  },
  {
   "cell_type": "code",
   "execution_count": 329,
   "id": "506c73ab",
   "metadata": {},
   "outputs": [
    {
     "name": "stdout",
     "output_type": "stream",
     "text": [
      "9\n",
      "[\"Pinkfong Baby Shark - Kids' Songs & Stories\", 'Luis Fonsi', 'LooLoo Kids', 'Cocomelon – Nursery Rhymes', 'Ed Sheeran', 'Wiz Khalifa', 'ChuChu TV', 'Mark Ronson', 'Cocomelon – Nursery Rhymes']\n"
     ]
    }
   ],
   "source": [
    "a_tag9=driver.find_element(By.XPATH,'//*[@id=\"mw-content-text\"]/div[1]/table[2]/tbody/tr[9]/td[3]')\n",
    "artist.append(a_tag9.text)\n",
    "print(len(artist))\n",
    "print(artist)"
   ]
  },
  {
   "cell_type": "code",
   "execution_count": 330,
   "id": "3cde5888",
   "metadata": {},
   "outputs": [
    {
     "name": "stdout",
     "output_type": "stream",
     "text": [
      "10\n",
      "[\"Pinkfong Baby Shark - Kids' Songs & Stories\", 'Luis Fonsi', 'LooLoo Kids', 'Cocomelon – Nursery Rhymes', 'Ed Sheeran', 'Wiz Khalifa', 'ChuChu TV', 'Mark Ronson', 'Cocomelon – Nursery Rhymes', 'Miroshka TV']\n"
     ]
    }
   ],
   "source": [
    "a_tag10=driver.find_element(By.XPATH,'//*[@id=\"mw-content-text\"]/div[1]/table[2]/tbody/tr[10]/td[3]')\n",
    "artist.append(a_tag10.text)\n",
    "print(len(artist))\n",
    "print(artist)"
   ]
  },
  {
   "cell_type": "code",
   "execution_count": 331,
   "id": "f956ab0a",
   "metadata": {},
   "outputs": [
    {
     "name": "stdout",
     "output_type": "stream",
     "text": [
      "11\n",
      "[\"Pinkfong Baby Shark - Kids' Songs & Stories\", 'Luis Fonsi', 'LooLoo Kids', 'Cocomelon – Nursery Rhymes', 'Ed Sheeran', 'Wiz Khalifa', 'ChuChu TV', 'Mark Ronson', 'Cocomelon – Nursery Rhymes', 'Miroshka TV', 'Psy']\n"
     ]
    }
   ],
   "source": [
    "a_tag11=driver.find_element(By.XPATH,'//*[@id=\"mw-content-text\"]/div[1]/table[2]/tbody/tr[11]/td[3]')\n",
    "artist.append(a_tag11.text)\n",
    "print(len(artist))\n",
    "print(artist)"
   ]
  },
  {
   "cell_type": "code",
   "execution_count": 332,
   "id": "d9ef22bf",
   "metadata": {},
   "outputs": [
    {
     "name": "stdout",
     "output_type": "stream",
     "text": [
      "12\n",
      "[\"Pinkfong Baby Shark - Kids' Songs & Stories\", 'Luis Fonsi', 'LooLoo Kids', 'Cocomelon – Nursery Rhymes', 'Ed Sheeran', 'Wiz Khalifa', 'ChuChu TV', 'Mark Ronson', 'Cocomelon – Nursery Rhymes', 'Miroshka TV', 'Psy', 'Get Movies']\n"
     ]
    }
   ],
   "source": [
    "a_tag12=driver.find_element(By.XPATH,'//*[@id=\"mw-content-text\"]/div[1]/table[2]/tbody/tr[12]/td[3]')\n",
    "artist.append(a_tag12.text)\n",
    "print(len(artist))\n",
    "print(artist)"
   ]
  },
  {
   "cell_type": "code",
   "execution_count": 333,
   "id": "42e55475",
   "metadata": {},
   "outputs": [
    {
     "name": "stdout",
     "output_type": "stream",
     "text": [
      "13\n",
      "[\"Pinkfong Baby Shark - Kids' Songs & Stories\", 'Luis Fonsi', 'LooLoo Kids', 'Cocomelon – Nursery Rhymes', 'Ed Sheeran', 'Wiz Khalifa', 'ChuChu TV', 'Mark Ronson', 'Cocomelon – Nursery Rhymes', 'Miroshka TV', 'Psy', 'Get Movies', 'El Chombo']\n"
     ]
    }
   ],
   "source": [
    "a_tag13=driver.find_element(By.XPATH,'//*[@id=\"mw-content-text\"]/div[1]/table[2]/tbody/tr[13]/td[3]')\n",
    "artist.append(a_tag13.text)\n",
    "print(len(artist))\n",
    "print(artist)"
   ]
  },
  {
   "cell_type": "code",
   "execution_count": 334,
   "id": "cc00ea9c",
   "metadata": {},
   "outputs": [
    {
     "name": "stdout",
     "output_type": "stream",
     "text": [
      "14\n",
      "[\"Pinkfong Baby Shark - Kids' Songs & Stories\", 'Luis Fonsi', 'LooLoo Kids', 'Cocomelon – Nursery Rhymes', 'Ed Sheeran', 'Wiz Khalifa', 'ChuChu TV', 'Mark Ronson', 'Cocomelon – Nursery Rhymes', 'Miroshka TV', 'Psy', 'Get Movies', 'El Chombo', 'Maroon 5']\n"
     ]
    }
   ],
   "source": [
    "a_tag14=driver.find_element(By.XPATH,'//*[@id=\"mw-content-text\"]/div[1]/table[2]/tbody/tr[14]/td[3]')\n",
    "artist.append(a_tag14.text)\n",
    "print(len(artist))\n",
    "print(artist)"
   ]
  },
  {
   "cell_type": "code",
   "execution_count": 335,
   "id": "98ed0bf9",
   "metadata": {},
   "outputs": [
    {
     "name": "stdout",
     "output_type": "stream",
     "text": [
      "15\n",
      "[\"Pinkfong Baby Shark - Kids' Songs & Stories\", 'Luis Fonsi', 'LooLoo Kids', 'Cocomelon – Nursery Rhymes', 'Ed Sheeran', 'Wiz Khalifa', 'ChuChu TV', 'Mark Ronson', 'Cocomelon – Nursery Rhymes', 'Miroshka TV', 'Psy', 'Get Movies', 'El Chombo', 'Maroon 5', 'Katy Perry']\n"
     ]
    }
   ],
   "source": [
    "a_tag15=driver.find_element(By.XPATH,'//*[@id=\"mw-content-text\"]/div[1]/table[2]/tbody/tr[15]/td[3]')\n",
    "artist.append(a_tag15.text)\n",
    "print(len(artist))\n",
    "print(artist)"
   ]
  },
  {
   "cell_type": "code",
   "execution_count": 336,
   "id": "6c0bde8a",
   "metadata": {},
   "outputs": [
    {
     "name": "stdout",
     "output_type": "stream",
     "text": [
      "16\n",
      "[\"Pinkfong Baby Shark - Kids' Songs & Stories\", 'Luis Fonsi', 'LooLoo Kids', 'Cocomelon – Nursery Rhymes', 'Ed Sheeran', 'Wiz Khalifa', 'ChuChu TV', 'Mark Ronson', 'Cocomelon – Nursery Rhymes', 'Miroshka TV', 'Psy', 'Get Movies', 'El Chombo', 'Maroon 5', 'Katy Perry', 'OneRepublic']\n"
     ]
    }
   ],
   "source": [
    "a_tag16=driver.find_element(By.XPATH,'//*[@id=\"mw-content-text\"]/div[1]/table[2]/tbody/tr[16]/td[3]')\n",
    "artist.append(a_tag16.text)\n",
    "print(len(artist))\n",
    "print(artist)"
   ]
  },
  {
   "cell_type": "code",
   "execution_count": 337,
   "id": "e0fd5b31",
   "metadata": {},
   "outputs": [
    {
     "name": "stdout",
     "output_type": "stream",
     "text": [
      "17\n",
      "[\"Pinkfong Baby Shark - Kids' Songs & Stories\", 'Luis Fonsi', 'LooLoo Kids', 'Cocomelon – Nursery Rhymes', 'Ed Sheeran', 'Wiz Khalifa', 'ChuChu TV', 'Mark Ronson', 'Cocomelon – Nursery Rhymes', 'Miroshka TV', 'Psy', 'Get Movies', 'El Chombo', 'Maroon 5', 'Katy Perry', 'OneRepublic', 'Crazy Frog']\n"
     ]
    }
   ],
   "source": [
    "a_tag17=driver.find_element(By.XPATH,'//*[@id=\"mw-content-text\"]/div[1]/table[2]/tbody/tr[17]/td[3]')\n",
    "artist.append(a_tag17.text)\n",
    "print(len(artist))\n",
    "print(artist)"
   ]
  },
  {
   "cell_type": "code",
   "execution_count": 338,
   "id": "7ebf42fe",
   "metadata": {},
   "outputs": [
    {
     "name": "stdout",
     "output_type": "stream",
     "text": [
      "18\n",
      "[\"Pinkfong Baby Shark - Kids' Songs & Stories\", 'Luis Fonsi', 'LooLoo Kids', 'Cocomelon – Nursery Rhymes', 'Ed Sheeran', 'Wiz Khalifa', 'ChuChu TV', 'Mark Ronson', 'Cocomelon – Nursery Rhymes', 'Miroshka TV', 'Psy', 'Get Movies', 'El Chombo', 'Maroon 5', 'Katy Perry', 'OneRepublic', 'Crazy Frog', 'Justin Bieber']\n"
     ]
    }
   ],
   "source": [
    "a_tag18=driver.find_element(By.XPATH,'//*[@id=\"mw-content-text\"]/div[1]/table[2]/tbody/tr[18]/td[3]')\n",
    "artist.append(a_tag18.text)\n",
    "print(len(artist))\n",
    "print(artist)"
   ]
  },
  {
   "cell_type": "code",
   "execution_count": 339,
   "id": "b0d49d0d",
   "metadata": {},
   "outputs": [
    {
     "name": "stdout",
     "output_type": "stream",
     "text": [
      "19\n",
      "[\"Pinkfong Baby Shark - Kids' Songs & Stories\", 'Luis Fonsi', 'LooLoo Kids', 'Cocomelon – Nursery Rhymes', 'Ed Sheeran', 'Wiz Khalifa', 'ChuChu TV', 'Mark Ronson', 'Cocomelon – Nursery Rhymes', 'Miroshka TV', 'Psy', 'Get Movies', 'El Chombo', 'Maroon 5', 'Katy Perry', 'OneRepublic', 'Crazy Frog', 'Justin Bieber', 'Ed Sheeran']\n"
     ]
    }
   ],
   "source": [
    "a_tag19=driver.find_element(By.XPATH,'//*[@id=\"mw-content-text\"]/div[1]/table[2]/tbody/tr[19]/td[3]')\n",
    "artist.append(a_tag19.text)\n",
    "print(len(artist))\n",
    "print(artist)"
   ]
  },
  {
   "cell_type": "code",
   "execution_count": 340,
   "id": "9d40425d",
   "metadata": {},
   "outputs": [
    {
     "name": "stdout",
     "output_type": "stream",
     "text": [
      "20\n",
      "[\"Pinkfong Baby Shark - Kids' Songs & Stories\", 'Luis Fonsi', 'LooLoo Kids', 'Cocomelon – Nursery Rhymes', 'Ed Sheeran', 'Wiz Khalifa', 'ChuChu TV', 'Mark Ronson', 'Cocomelon – Nursery Rhymes', 'Miroshka TV', 'Psy', 'Get Movies', 'El Chombo', 'Maroon 5', 'Katy Perry', 'OneRepublic', 'Crazy Frog', 'Justin Bieber', 'Ed Sheeran', 'Cocomelon – Nursery Rhymes']\n"
     ]
    }
   ],
   "source": [
    "a_tag20=driver.find_element(By.XPATH,'//*[@id=\"mw-content-text\"]/div[1]/table[2]/tbody/tr[20]/td[3]')\n",
    "artist.append(a_tag20.text)\n",
    "print(len(artist))\n",
    "print(artist)"
   ]
  },
  {
   "cell_type": "code",
   "execution_count": 341,
   "id": "a1fe134a",
   "metadata": {},
   "outputs": [
    {
     "name": "stdout",
     "output_type": "stream",
     "text": [
      "21\n",
      "[\"Pinkfong Baby Shark - Kids' Songs & Stories\", 'Luis Fonsi', 'LooLoo Kids', 'Cocomelon – Nursery Rhymes', 'Ed Sheeran', 'Wiz Khalifa', 'ChuChu TV', 'Mark Ronson', 'Cocomelon – Nursery Rhymes', 'Miroshka TV', 'Psy', 'Get Movies', 'El Chombo', 'Maroon 5', 'Katy Perry', 'OneRepublic', 'Crazy Frog', 'Justin Bieber', 'Ed Sheeran', 'Cocomelon – Nursery Rhymes', 'Katy Perry']\n"
     ]
    }
   ],
   "source": [
    "a_tag21=driver.find_element(By.XPATH,'//*[@id=\"mw-content-text\"]/div[1]/table[2]/tbody/tr[21]/td[3]')\n",
    "artist.append(a_tag21.text)\n",
    "print(len(artist))\n",
    "print(artist)"
   ]
  },
  {
   "cell_type": "code",
   "execution_count": 342,
   "id": "f7ca7a57",
   "metadata": {},
   "outputs": [
    {
     "name": "stdout",
     "output_type": "stream",
     "text": [
      "22\n",
      "[\"Pinkfong Baby Shark - Kids' Songs & Stories\", 'Luis Fonsi', 'LooLoo Kids', 'Cocomelon – Nursery Rhymes', 'Ed Sheeran', 'Wiz Khalifa', 'ChuChu TV', 'Mark Ronson', 'Cocomelon – Nursery Rhymes', 'Miroshka TV', 'Psy', 'Get Movies', 'El Chombo', 'Maroon 5', 'Katy Perry', 'OneRepublic', 'Crazy Frog', 'Justin Bieber', 'Ed Sheeran', 'Cocomelon – Nursery Rhymes', 'Katy Perry', 'Shakira']\n"
     ]
    }
   ],
   "source": [
    "a_tag22=driver.find_element(By.XPATH,'//*[@id=\"mw-content-text\"]/div[1]/table[2]/tbody/tr[22]/td[3]')\n",
    "artist.append(a_tag22.text)\n",
    "print(len(artist))\n",
    "print(artist)"
   ]
  },
  {
   "cell_type": "code",
   "execution_count": 343,
   "id": "0dac1283",
   "metadata": {},
   "outputs": [
    {
     "name": "stdout",
     "output_type": "stream",
     "text": [
      "23\n",
      "[\"Pinkfong Baby Shark - Kids' Songs & Stories\", 'Luis Fonsi', 'LooLoo Kids', 'Cocomelon – Nursery Rhymes', 'Ed Sheeran', 'Wiz Khalifa', 'ChuChu TV', 'Mark Ronson', 'Cocomelon – Nursery Rhymes', 'Miroshka TV', 'Psy', 'Get Movies', 'El Chombo', 'Maroon 5', 'Katy Perry', 'OneRepublic', 'Crazy Frog', 'Justin Bieber', 'Ed Sheeran', 'Cocomelon – Nursery Rhymes', 'Katy Perry', 'Shakira', 'Alan Walker']\n"
     ]
    }
   ],
   "source": [
    "a_tag23=driver.find_element(By.XPATH,'//*[@id=\"mw-content-text\"]/div[1]/table[2]/tbody/tr[23]/td[3]')\n",
    "artist.append(a_tag23.text)\n",
    "print(len(artist))\n",
    "print(artist)"
   ]
  },
  {
   "cell_type": "code",
   "execution_count": 344,
   "id": "1e8511eb",
   "metadata": {},
   "outputs": [
    {
     "name": "stdout",
     "output_type": "stream",
     "text": [
      "24\n",
      "[\"Pinkfong Baby Shark - Kids' Songs & Stories\", 'Luis Fonsi', 'LooLoo Kids', 'Cocomelon – Nursery Rhymes', 'Ed Sheeran', 'Wiz Khalifa', 'ChuChu TV', 'Mark Ronson', 'Cocomelon – Nursery Rhymes', 'Miroshka TV', 'Psy', 'Get Movies', 'El Chombo', 'Maroon 5', 'Katy Perry', 'OneRepublic', 'Crazy Frog', 'Justin Bieber', 'Ed Sheeran', 'Cocomelon – Nursery Rhymes', 'Katy Perry', 'Shakira', 'Alan Walker', 'Passenger']\n"
     ]
    }
   ],
   "source": [
    "a_tag24=driver.find_element(By.XPATH,'//*[@id=\"mw-content-text\"]/div[1]/table[2]/tbody/tr[24]/td[3]')\n",
    "artist.append(a_tag24.text)\n",
    "print(len(artist))\n",
    "print(artist)"
   ]
  },
  {
   "cell_type": "code",
   "execution_count": 345,
   "id": "fad882f0",
   "metadata": {},
   "outputs": [
    {
     "name": "stdout",
     "output_type": "stream",
     "text": [
      "25\n",
      "[\"Pinkfong Baby Shark - Kids' Songs & Stories\", 'Luis Fonsi', 'LooLoo Kids', 'Cocomelon – Nursery Rhymes', 'Ed Sheeran', 'Wiz Khalifa', 'ChuChu TV', 'Mark Ronson', 'Cocomelon – Nursery Rhymes', 'Miroshka TV', 'Psy', 'Get Movies', 'El Chombo', 'Maroon 5', 'Katy Perry', 'OneRepublic', 'Crazy Frog', 'Justin Bieber', 'Ed Sheeran', 'Cocomelon – Nursery Rhymes', 'Katy Perry', 'Shakira', 'Alan Walker', 'Passenger', 'Maroon 5']\n"
     ]
    }
   ],
   "source": [
    "a_tag25=driver.find_element(By.XPATH,'//*[@id=\"mw-content-text\"]/div[1]/table[2]/tbody/tr[25]/td[3]')\n",
    "artist.append(a_tag25.text)\n",
    "print(len(artist))\n",
    "print(artist)"
   ]
  },
  {
   "cell_type": "code",
   "execution_count": 346,
   "id": "91836a75",
   "metadata": {},
   "outputs": [
    {
     "name": "stdout",
     "output_type": "stream",
     "text": [
      "26\n",
      "[\"Pinkfong Baby Shark - Kids' Songs & Stories\", 'Luis Fonsi', 'LooLoo Kids', 'Cocomelon – Nursery Rhymes', 'Ed Sheeran', 'Wiz Khalifa', 'ChuChu TV', 'Mark Ronson', 'Cocomelon – Nursery Rhymes', 'Miroshka TV', 'Psy', 'Get Movies', 'El Chombo', 'Maroon 5', 'Katy Perry', 'OneRepublic', 'Crazy Frog', 'Justin Bieber', 'Ed Sheeran', 'Cocomelon – Nursery Rhymes', 'Katy Perry', 'Shakira', 'Alan Walker', 'Passenger', 'Maroon 5', 'Ed Sheeran']\n"
     ]
    }
   ],
   "source": [
    "a_tag26=driver.find_element(By.XPATH,'//*[@id=\"mw-content-text\"]/div[1]/table[2]/tbody/tr[26]/td[3]')\n",
    "artist.append(a_tag26.text)\n",
    "print(len(artist))\n",
    "print(artist)"
   ]
  },
  {
   "cell_type": "code",
   "execution_count": 347,
   "id": "a1a97215",
   "metadata": {},
   "outputs": [
    {
     "name": "stdout",
     "output_type": "stream",
     "text": [
      "27\n",
      "[\"Pinkfong Baby Shark - Kids' Songs & Stories\", 'Luis Fonsi', 'LooLoo Kids', 'Cocomelon – Nursery Rhymes', 'Ed Sheeran', 'Wiz Khalifa', 'ChuChu TV', 'Mark Ronson', 'Cocomelon – Nursery Rhymes', 'Miroshka TV', 'Psy', 'Get Movies', 'El Chombo', 'Maroon 5', 'Katy Perry', 'OneRepublic', 'Crazy Frog', 'Justin Bieber', 'Ed Sheeran', 'Cocomelon – Nursery Rhymes', 'Katy Perry', 'Shakira', 'Alan Walker', 'Passenger', 'Maroon 5', 'Ed Sheeran', 'Enrique Iglesias']\n"
     ]
    }
   ],
   "source": [
    "a_tag27=driver.find_element(By.XPATH,'//*[@id=\"mw-content-text\"]/div[1]/table[2]/tbody/tr[27]/td[3]')\n",
    "artist.append(a_tag27.text)\n",
    "print(len(artist))\n",
    "print(artist)"
   ]
  },
  {
   "cell_type": "code",
   "execution_count": 348,
   "id": "cec87011",
   "metadata": {},
   "outputs": [
    {
     "name": "stdout",
     "output_type": "stream",
     "text": [
      "28\n",
      "[\"Pinkfong Baby Shark - Kids' Songs & Stories\", 'Luis Fonsi', 'LooLoo Kids', 'Cocomelon – Nursery Rhymes', 'Ed Sheeran', 'Wiz Khalifa', 'ChuChu TV', 'Mark Ronson', 'Cocomelon – Nursery Rhymes', 'Miroshka TV', 'Psy', 'Get Movies', 'El Chombo', 'Maroon 5', 'Katy Perry', 'OneRepublic', 'Crazy Frog', 'Justin Bieber', 'Ed Sheeran', 'Cocomelon – Nursery Rhymes', 'Katy Perry', 'Shakira', 'Alan Walker', 'Passenger', 'Maroon 5', 'Ed Sheeran', 'Enrique Iglesias', 'Major Lazer']\n"
     ]
    }
   ],
   "source": [
    "a_tag28=driver.find_element(By.XPATH,'//*[@id=\"mw-content-text\"]/div[1]/table[2]/tbody/tr[28]/td[3]')\n",
    "artist.append(a_tag28.text)\n",
    "print(len(artist))\n",
    "print(artist)"
   ]
  },
  {
   "cell_type": "code",
   "execution_count": 349,
   "id": "7ea5da1b",
   "metadata": {},
   "outputs": [
    {
     "name": "stdout",
     "output_type": "stream",
     "text": [
      "29\n",
      "[\"Pinkfong Baby Shark - Kids' Songs & Stories\", 'Luis Fonsi', 'LooLoo Kids', 'Cocomelon – Nursery Rhymes', 'Ed Sheeran', 'Wiz Khalifa', 'ChuChu TV', 'Mark Ronson', 'Cocomelon – Nursery Rhymes', 'Miroshka TV', 'Psy', 'Get Movies', 'El Chombo', 'Maroon 5', 'Katy Perry', 'OneRepublic', 'Crazy Frog', 'Justin Bieber', 'Ed Sheeran', 'Cocomelon – Nursery Rhymes', 'Katy Perry', 'Shakira', 'Alan Walker', 'Passenger', 'Maroon 5', 'Ed Sheeran', 'Enrique Iglesias', 'Major Lazer', 'Kiddiestv Hindi – Nursery Rhymes & Kids Songs']\n"
     ]
    }
   ],
   "source": [
    "a_tag29=driver.find_element(By.XPATH,'//*[@id=\"mw-content-text\"]/div[1]/table[2]/tbody/tr[29]/td[3]')\n",
    "artist.append(a_tag29.text)\n",
    "print(len(artist))\n",
    "print(artist)"
   ]
  },
  {
   "cell_type": "code",
   "execution_count": 350,
   "id": "341b7341",
   "metadata": {},
   "outputs": [
    {
     "name": "stdout",
     "output_type": "stream",
     "text": [
      "30\n",
      "[\"Pinkfong Baby Shark - Kids' Songs & Stories\", 'Luis Fonsi', 'LooLoo Kids', 'Cocomelon – Nursery Rhymes', 'Ed Sheeran', 'Wiz Khalifa', 'ChuChu TV', 'Mark Ronson', 'Cocomelon – Nursery Rhymes', 'Miroshka TV', 'Psy', 'Get Movies', 'El Chombo', 'Maroon 5', 'Katy Perry', 'OneRepublic', 'Crazy Frog', 'Justin Bieber', 'Ed Sheeran', 'Cocomelon – Nursery Rhymes', 'Katy Perry', 'Shakira', 'Alan Walker', 'Passenger', 'Maroon 5', 'Ed Sheeran', 'Enrique Iglesias', 'Major Lazer', 'Kiddiestv Hindi – Nursery Rhymes & Kids Songs', 'Jingle Toons']\n"
     ]
    }
   ],
   "source": [
    "a_tag30=driver.find_element(By.XPATH,'//*[@id=\"mw-content-text\"]/div[1]/table[2]/tbody/tr[30]/td[3]')\n",
    "artist.append(a_tag30.text)\n",
    "print(len(artist))\n",
    "print(artist)"
   ]
  },
  {
   "cell_type": "code",
   "execution_count": 351,
   "id": "efcf414a",
   "metadata": {},
   "outputs": [
    {
     "name": "stdout",
     "output_type": "stream",
     "text": [
      "1\n",
      "['June 17, 2016']\n"
     ]
    }
   ],
   "source": [
    "u_tag1=driver.find_element(By.XPATH,' //*[@id=\"mw-content-text\"]/div[1]/table[2]/tbody/tr[1]/td[5]')\n",
    "upload_date.append(u_tag1.text)\n",
    "print(len(upload_date))\n",
    "print(upload_date)"
   ]
  },
  {
   "cell_type": "code",
   "execution_count": 352,
   "id": "763fdcff",
   "metadata": {},
   "outputs": [
    {
     "name": "stdout",
     "output_type": "stream",
     "text": [
      "2\n",
      "['June 17, 2016', 'January 12, 2017']\n"
     ]
    }
   ],
   "source": [
    "u_tag2=driver.find_element(By.XPATH,' //*[@id=\"mw-content-text\"]/div[1]/table[2]/tbody/tr[2]/td[5]')\n",
    "upload_date.append(u_tag2.text)\n",
    "print(len(upload_date))\n",
    "print(upload_date)"
   ]
  },
  {
   "cell_type": "code",
   "execution_count": 353,
   "id": "ba32a98f",
   "metadata": {},
   "outputs": [
    {
     "name": "stdout",
     "output_type": "stream",
     "text": [
      "3\n",
      "['June 17, 2016', 'January 12, 2017', 'October 8, 2016']\n"
     ]
    }
   ],
   "source": [
    "u_tag3=driver.find_element(By.XPATH,' //*[@id=\"mw-content-text\"]/div[1]/table[2]/tbody/tr[3]/td[5]')\n",
    "upload_date.append(u_tag3.text)\n",
    "print(len(upload_date))\n",
    "print(upload_date)"
   ]
  },
  {
   "cell_type": "code",
   "execution_count": 354,
   "id": "22ed3714",
   "metadata": {},
   "outputs": [
    {
     "name": "stdout",
     "output_type": "stream",
     "text": [
      "4\n",
      "['June 17, 2016', 'January 12, 2017', 'October 8, 2016', 'May 2, 2018']\n"
     ]
    }
   ],
   "source": [
    "u_tag4=driver.find_element(By.XPATH,' //*[@id=\"mw-content-text\"]/div[1]/table[2]/tbody/tr[4]/td[5]')\n",
    "upload_date.append(u_tag4.text)\n",
    "print(len(upload_date))\n",
    "print(upload_date)"
   ]
  },
  {
   "cell_type": "code",
   "execution_count": 355,
   "id": "fda25f90",
   "metadata": {},
   "outputs": [
    {
     "name": "stdout",
     "output_type": "stream",
     "text": [
      "5\n",
      "['June 17, 2016', 'January 12, 2017', 'October 8, 2016', 'May 2, 2018', 'January 30, 2017']\n"
     ]
    }
   ],
   "source": [
    "u_tag5=driver.find_element(By.XPATH,' //*[@id=\"mw-content-text\"]/div[1]/table[2]/tbody/tr[5]/td[5]')\n",
    "upload_date.append(u_tag5.text)\n",
    "print(len(upload_date))\n",
    "print(upload_date)"
   ]
  },
  {
   "cell_type": "code",
   "execution_count": 356,
   "id": "01978b5a",
   "metadata": {},
   "outputs": [
    {
     "name": "stdout",
     "output_type": "stream",
     "text": [
      "6\n",
      "['June 17, 2016', 'January 12, 2017', 'October 8, 2016', 'May 2, 2018', 'January 30, 2017', 'April 6, 2015']\n"
     ]
    }
   ],
   "source": [
    "u_tag6=driver.find_element(By.XPATH,' //*[@id=\"mw-content-text\"]/div[1]/table[2]/tbody/tr[6]/td[5]')\n",
    "upload_date.append(u_tag6.text)\n",
    "print(len(upload_date))\n",
    "print(upload_date)"
   ]
  },
  {
   "cell_type": "code",
   "execution_count": 357,
   "id": "5764a9ae",
   "metadata": {},
   "outputs": [
    {
     "name": "stdout",
     "output_type": "stream",
     "text": [
      "7\n",
      "['June 17, 2016', 'January 12, 2017', 'October 8, 2016', 'May 2, 2018', 'January 30, 2017', 'April 6, 2015', 'March 6, 2014']\n"
     ]
    }
   ],
   "source": [
    "u_tag7=driver.find_element(By.XPATH,' //*[@id=\"mw-content-text\"]/div[1]/table[2]/tbody/tr[7]/td[5]')\n",
    "upload_date.append(u_tag7.text)\n",
    "print(len(upload_date))\n",
    "print(upload_date)"
   ]
  },
  {
   "cell_type": "code",
   "execution_count": 358,
   "id": "09dee3a3",
   "metadata": {},
   "outputs": [
    {
     "name": "stdout",
     "output_type": "stream",
     "text": [
      "8\n",
      "['June 17, 2016', 'January 12, 2017', 'October 8, 2016', 'May 2, 2018', 'January 30, 2017', 'April 6, 2015', 'March 6, 2014', 'November 19, 2014']\n"
     ]
    }
   ],
   "source": [
    "u_tag8=driver.find_element(By.XPATH,' //*[@id=\"mw-content-text\"]/div[1]/table[2]/tbody/tr[8]/td[5]')\n",
    "upload_date.append(u_tag8.text)\n",
    "print(len(upload_date))\n",
    "print(upload_date)"
   ]
  },
  {
   "cell_type": "code",
   "execution_count": 359,
   "id": "07d03939",
   "metadata": {},
   "outputs": [
    {
     "name": "stdout",
     "output_type": "stream",
     "text": [
      "9\n",
      "['June 17, 2016', 'January 12, 2017', 'October 8, 2016', 'May 2, 2018', 'January 30, 2017', 'April 6, 2015', 'March 6, 2014', 'November 19, 2014', 'May 24, 2018']\n"
     ]
    }
   ],
   "source": [
    "u_tag9=driver.find_element(By.XPATH,' //*[@id=\"mw-content-text\"]/div[1]/table[2]/tbody/tr[9]/td[5]')\n",
    "upload_date.append(u_tag9.text)\n",
    "print(len(upload_date))\n",
    "print(upload_date)"
   ]
  },
  {
   "cell_type": "code",
   "execution_count": 360,
   "id": "5bcc7577",
   "metadata": {},
   "outputs": [
    {
     "name": "stdout",
     "output_type": "stream",
     "text": [
      "10\n",
      "['June 17, 2016', 'January 12, 2017', 'October 8, 2016', 'May 2, 2018', 'January 30, 2017', 'April 6, 2015', 'March 6, 2014', 'November 19, 2014', 'May 24, 2018', 'February 27, 2018']\n"
     ]
    }
   ],
   "source": [
    "u_tag10=driver.find_element(By.XPATH,' //*[@id=\"mw-content-text\"]/div[1]/table[2]/tbody/tr[10]/td[5]')\n",
    "upload_date.append(u_tag10.text)\n",
    "print(len(upload_date))\n",
    "print(upload_date)"
   ]
  },
  {
   "cell_type": "code",
   "execution_count": 361,
   "id": "2f767dba",
   "metadata": {},
   "outputs": [
    {
     "name": "stdout",
     "output_type": "stream",
     "text": [
      "11\n",
      "['June 17, 2016', 'January 12, 2017', 'October 8, 2016', 'May 2, 2018', 'January 30, 2017', 'April 6, 2015', 'March 6, 2014', 'November 19, 2014', 'May 24, 2018', 'February 27, 2018', 'July 15, 2012']\n"
     ]
    }
   ],
   "source": [
    "u_tag11=driver.find_element(By.XPATH,' //*[@id=\"mw-content-text\"]/div[1]/table[2]/tbody/tr[11]/td[5]')\n",
    "upload_date.append(u_tag11.text)\n",
    "print(len(upload_date))\n",
    "print(upload_date)"
   ]
  },
  {
   "cell_type": "code",
   "execution_count": 362,
   "id": "2c974a84",
   "metadata": {},
   "outputs": [
    {
     "name": "stdout",
     "output_type": "stream",
     "text": [
      "12\n",
      "['June 17, 2016', 'January 12, 2017', 'October 8, 2016', 'May 2, 2018', 'January 30, 2017', 'April 6, 2015', 'March 6, 2014', 'November 19, 2014', 'May 24, 2018', 'February 27, 2018', 'July 15, 2012', 'January 31, 2012']\n"
     ]
    }
   ],
   "source": [
    "u_tag12=driver.find_element(By.XPATH,' //*[@id=\"mw-content-text\"]/div[1]/table[2]/tbody/tr[12]/td[5]')\n",
    "upload_date.append(u_tag12.text)\n",
    "print(len(upload_date))\n",
    "print(upload_date)"
   ]
  },
  {
   "cell_type": "code",
   "execution_count": 363,
   "id": "eeef260a",
   "metadata": {},
   "outputs": [
    {
     "name": "stdout",
     "output_type": "stream",
     "text": [
      "13\n",
      "['June 17, 2016', 'January 12, 2017', 'October 8, 2016', 'May 2, 2018', 'January 30, 2017', 'April 6, 2015', 'March 6, 2014', 'November 19, 2014', 'May 24, 2018', 'February 27, 2018', 'July 15, 2012', 'January 31, 2012', 'April 5, 2018']\n"
     ]
    }
   ],
   "source": [
    "u_tag13=driver.find_element(By.XPATH,' //*[@id=\"mw-content-text\"]/div[1]/table[2]/tbody/tr[13]/td[5]')\n",
    "upload_date.append(u_tag13.text)\n",
    "print(len(upload_date))\n",
    "print(upload_date)"
   ]
  },
  {
   "cell_type": "code",
   "execution_count": 364,
   "id": "f20cdf2f",
   "metadata": {},
   "outputs": [
    {
     "name": "stdout",
     "output_type": "stream",
     "text": [
      "14\n",
      "['June 17, 2016', 'January 12, 2017', 'October 8, 2016', 'May 2, 2018', 'January 30, 2017', 'April 6, 2015', 'March 6, 2014', 'November 19, 2014', 'May 24, 2018', 'February 27, 2018', 'July 15, 2012', 'January 31, 2012', 'April 5, 2018', 'January 14, 2015']\n"
     ]
    }
   ],
   "source": [
    "u_tag14=driver.find_element(By.XPATH,' //*[@id=\"mw-content-text\"]/div[1]/table[2]/tbody/tr[14]/td[5]')\n",
    "upload_date.append(u_tag14.text)\n",
    "print(len(upload_date))\n",
    "print(upload_date)"
   ]
  },
  {
   "cell_type": "code",
   "execution_count": 365,
   "id": "46be8925",
   "metadata": {},
   "outputs": [
    {
     "name": "stdout",
     "output_type": "stream",
     "text": [
      "15\n",
      "['June 17, 2016', 'January 12, 2017', 'October 8, 2016', 'May 2, 2018', 'January 30, 2017', 'April 6, 2015', 'March 6, 2014', 'November 19, 2014', 'May 24, 2018', 'February 27, 2018', 'July 15, 2012', 'January 31, 2012', 'April 5, 2018', 'January 14, 2015', 'September 5, 2013']\n"
     ]
    }
   ],
   "source": [
    "u_tag15=driver.find_element(By.XPATH,' //*[@id=\"mw-content-text\"]/div[1]/table[2]/tbody/tr[15]/td[5]')\n",
    "upload_date.append(u_tag15.text)\n",
    "print(len(upload_date))\n",
    "print(upload_date)"
   ]
  },
  {
   "cell_type": "code",
   "execution_count": 366,
   "id": "3101663d",
   "metadata": {},
   "outputs": [
    {
     "name": "stdout",
     "output_type": "stream",
     "text": [
      "16\n",
      "['June 17, 2016', 'January 12, 2017', 'October 8, 2016', 'May 2, 2018', 'January 30, 2017', 'April 6, 2015', 'March 6, 2014', 'November 19, 2014', 'May 24, 2018', 'February 27, 2018', 'July 15, 2012', 'January 31, 2012', 'April 5, 2018', 'January 14, 2015', 'September 5, 2013', 'May 31, 2013']\n"
     ]
    }
   ],
   "source": [
    "u_tag16=driver.find_element(By.XPATH,' //*[@id=\"mw-content-text\"]/div[1]/table[2]/tbody/tr[16]/td[5]')\n",
    "upload_date.append(u_tag16.text)\n",
    "print(len(upload_date))\n",
    "print(upload_date)"
   ]
  },
  {
   "cell_type": "code",
   "execution_count": 367,
   "id": "1b5035ef",
   "metadata": {},
   "outputs": [
    {
     "name": "stdout",
     "output_type": "stream",
     "text": [
      "17\n",
      "['June 17, 2016', 'January 12, 2017', 'October 8, 2016', 'May 2, 2018', 'January 30, 2017', 'April 6, 2015', 'March 6, 2014', 'November 19, 2014', 'May 24, 2018', 'February 27, 2018', 'July 15, 2012', 'January 31, 2012', 'April 5, 2018', 'January 14, 2015', 'September 5, 2013', 'May 31, 2013', 'June 16, 2009']\n"
     ]
    }
   ],
   "source": [
    "u_tag17=driver.find_element(By.XPATH,' //*[@id=\"mw-content-text\"]/div[1]/table[2]/tbody/tr[17]/td[5]')\n",
    "upload_date.append(u_tag17.text)\n",
    "print(len(upload_date))\n",
    "print(upload_date)"
   ]
  },
  {
   "cell_type": "code",
   "execution_count": 368,
   "id": "b6145479",
   "metadata": {},
   "outputs": [
    {
     "name": "stdout",
     "output_type": "stream",
     "text": [
      "18\n",
      "['June 17, 2016', 'January 12, 2017', 'October 8, 2016', 'May 2, 2018', 'January 30, 2017', 'April 6, 2015', 'March 6, 2014', 'November 19, 2014', 'May 24, 2018', 'February 27, 2018', 'July 15, 2012', 'January 31, 2012', 'April 5, 2018', 'January 14, 2015', 'September 5, 2013', 'May 31, 2013', 'June 16, 2009', 'October 22, 2015']\n"
     ]
    }
   ],
   "source": [
    "u_tag18=driver.find_element(By.XPATH,' //*[@id=\"mw-content-text\"]/div[1]/table[2]/tbody/tr[18]/td[5]')\n",
    "upload_date.append(u_tag18.text)\n",
    "print(len(upload_date))\n",
    "print(upload_date)"
   ]
  },
  {
   "cell_type": "code",
   "execution_count": 369,
   "id": "f6175fad",
   "metadata": {},
   "outputs": [
    {
     "name": "stdout",
     "output_type": "stream",
     "text": [
      "19\n",
      "['June 17, 2016', 'January 12, 2017', 'October 8, 2016', 'May 2, 2018', 'January 30, 2017', 'April 6, 2015', 'March 6, 2014', 'November 19, 2014', 'May 24, 2018', 'February 27, 2018', 'July 15, 2012', 'January 31, 2012', 'April 5, 2018', 'January 14, 2015', 'September 5, 2013', 'May 31, 2013', 'June 16, 2009', 'October 22, 2015', 'October 7, 2014']\n"
     ]
    }
   ],
   "source": [
    "u_tag19=driver.find_element(By.XPATH,' //*[@id=\"mw-content-text\"]/div[1]/table[2]/tbody/tr[19]/td[5]')\n",
    "upload_date.append(u_tag19.text)\n",
    "print(len(upload_date))\n",
    "print(upload_date)"
   ]
  },
  {
   "cell_type": "code",
   "execution_count": 370,
   "id": "dbf54c53",
   "metadata": {},
   "outputs": [
    {
     "name": "stdout",
     "output_type": "stream",
     "text": [
      "20\n",
      "['June 17, 2016', 'January 12, 2017', 'October 8, 2016', 'May 2, 2018', 'January 30, 2017', 'April 6, 2015', 'March 6, 2014', 'November 19, 2014', 'May 24, 2018', 'February 27, 2018', 'July 15, 2012', 'January 31, 2012', 'April 5, 2018', 'January 14, 2015', 'September 5, 2013', 'May 31, 2013', 'June 16, 2009', 'October 22, 2015', 'October 7, 2014', 'June 25, 2018']\n"
     ]
    }
   ],
   "source": [
    "u_tag20=driver.find_element(By.XPATH,' //*[@id=\"mw-content-text\"]/div[1]/table[2]/tbody/tr[20]/td[5]')\n",
    "upload_date.append(u_tag20.text)\n",
    "print(len(upload_date))\n",
    "print(upload_date)"
   ]
  },
  {
   "cell_type": "code",
   "execution_count": 371,
   "id": "8f21b560",
   "metadata": {},
   "outputs": [
    {
     "name": "stdout",
     "output_type": "stream",
     "text": [
      "21\n",
      "['June 17, 2016', 'January 12, 2017', 'October 8, 2016', 'May 2, 2018', 'January 30, 2017', 'April 6, 2015', 'March 6, 2014', 'November 19, 2014', 'May 24, 2018', 'February 27, 2018', 'July 15, 2012', 'January 31, 2012', 'April 5, 2018', 'January 14, 2015', 'September 5, 2013', 'May 31, 2013', 'June 16, 2009', 'October 22, 2015', 'October 7, 2014', 'June 25, 2018', 'February 20, 2014']\n"
     ]
    }
   ],
   "source": [
    "u_tag21=driver.find_element(By.XPATH,' //*[@id=\"mw-content-text\"]/div[1]/table[2]/tbody/tr[21]/td[5]')\n",
    "upload_date.append(u_tag21.text)\n",
    "print(len(upload_date))\n",
    "print(upload_date)"
   ]
  },
  {
   "cell_type": "code",
   "execution_count": 372,
   "id": "de63cb3b",
   "metadata": {},
   "outputs": [
    {
     "name": "stdout",
     "output_type": "stream",
     "text": [
      "22\n",
      "['June 17, 2016', 'January 12, 2017', 'October 8, 2016', 'May 2, 2018', 'January 30, 2017', 'April 6, 2015', 'March 6, 2014', 'November 19, 2014', 'May 24, 2018', 'February 27, 2018', 'July 15, 2012', 'January 31, 2012', 'April 5, 2018', 'January 14, 2015', 'September 5, 2013', 'May 31, 2013', 'June 16, 2009', 'October 22, 2015', 'October 7, 2014', 'June 25, 2018', 'February 20, 2014', 'June 4, 2010']\n"
     ]
    }
   ],
   "source": [
    "u_tag22=driver.find_element(By.XPATH,' //*[@id=\"mw-content-text\"]/div[1]/table[2]/tbody/tr[22]/td[5]')\n",
    "upload_date.append(u_tag22.text)\n",
    "print(len(upload_date))\n",
    "print(upload_date)"
   ]
  },
  {
   "cell_type": "code",
   "execution_count": 373,
   "id": "86f876f0",
   "metadata": {},
   "outputs": [
    {
     "name": "stdout",
     "output_type": "stream",
     "text": [
      "23\n",
      "['June 17, 2016', 'January 12, 2017', 'October 8, 2016', 'May 2, 2018', 'January 30, 2017', 'April 6, 2015', 'March 6, 2014', 'November 19, 2014', 'May 24, 2018', 'February 27, 2018', 'July 15, 2012', 'January 31, 2012', 'April 5, 2018', 'January 14, 2015', 'September 5, 2013', 'May 31, 2013', 'June 16, 2009', 'October 22, 2015', 'October 7, 2014', 'June 25, 2018', 'February 20, 2014', 'June 4, 2010', 'December 3, 2015']\n"
     ]
    }
   ],
   "source": [
    "u_tag23=driver.find_element(By.XPATH,' //*[@id=\"mw-content-text\"]/div[1]/table[2]/tbody/tr[23]/td[5]')\n",
    "upload_date.append(u_tag23.text)\n",
    "print(len(upload_date))\n",
    "print(upload_date)"
   ]
  },
  {
   "cell_type": "code",
   "execution_count": 374,
   "id": "fb20a48e",
   "metadata": {},
   "outputs": [
    {
     "name": "stdout",
     "output_type": "stream",
     "text": [
      "24\n",
      "['June 17, 2016', 'January 12, 2017', 'October 8, 2016', 'May 2, 2018', 'January 30, 2017', 'April 6, 2015', 'March 6, 2014', 'November 19, 2014', 'May 24, 2018', 'February 27, 2018', 'July 15, 2012', 'January 31, 2012', 'April 5, 2018', 'January 14, 2015', 'September 5, 2013', 'May 31, 2013', 'June 16, 2009', 'October 22, 2015', 'October 7, 2014', 'June 25, 2018', 'February 20, 2014', 'June 4, 2010', 'December 3, 2015', 'July 25, 2012']\n"
     ]
    }
   ],
   "source": [
    "u_tag24=driver.find_element(By.XPATH,' //*[@id=\"mw-content-text\"]/div[1]/table[2]/tbody/tr[24]/td[5]')\n",
    "upload_date.append(u_tag24.text)\n",
    "print(len(upload_date))\n",
    "print(upload_date)"
   ]
  },
  {
   "cell_type": "code",
   "execution_count": 375,
   "id": "f3c4773d",
   "metadata": {},
   "outputs": [
    {
     "name": "stdout",
     "output_type": "stream",
     "text": [
      "25\n",
      "['June 17, 2016', 'January 12, 2017', 'October 8, 2016', 'May 2, 2018', 'January 30, 2017', 'April 6, 2015', 'March 6, 2014', 'November 19, 2014', 'May 24, 2018', 'February 27, 2018', 'July 15, 2012', 'January 31, 2012', 'April 5, 2018', 'January 14, 2015', 'September 5, 2013', 'May 31, 2013', 'June 16, 2009', 'October 22, 2015', 'October 7, 2014', 'June 25, 2018', 'February 20, 2014', 'June 4, 2010', 'December 3, 2015', 'July 25, 2012', 'May 31, 2018']\n"
     ]
    }
   ],
   "source": [
    "u_tag25=driver.find_element(By.XPATH,' //*[@id=\"mw-content-text\"]/div[1]/table[2]/tbody/tr[25]/td[5]')\n",
    "upload_date.append(u_tag25.text)\n",
    "print(len(upload_date))\n",
    "print(upload_date)"
   ]
  },
  {
   "cell_type": "code",
   "execution_count": 376,
   "id": "d953d1c2",
   "metadata": {},
   "outputs": [
    {
     "name": "stdout",
     "output_type": "stream",
     "text": [
      "26\n",
      "['June 17, 2016', 'January 12, 2017', 'October 8, 2016', 'May 2, 2018', 'January 30, 2017', 'April 6, 2015', 'March 6, 2014', 'November 19, 2014', 'May 24, 2018', 'February 27, 2018', 'July 15, 2012', 'January 31, 2012', 'April 5, 2018', 'January 14, 2015', 'September 5, 2013', 'May 31, 2013', 'June 16, 2009', 'October 22, 2015', 'October 7, 2014', 'June 25, 2018', 'February 20, 2014', 'June 4, 2010', 'December 3, 2015', 'July 25, 2012', 'May 31, 2018', 'November 9, 2017']\n"
     ]
    }
   ],
   "source": [
    "u_tag26=driver.find_element(By.XPATH,' //*[@id=\"mw-content-text\"]/div[1]/table[2]/tbody/tr[26]/td[5]')\n",
    "upload_date.append(u_tag26.text)\n",
    "print(len(upload_date))\n",
    "print(upload_date)"
   ]
  },
  {
   "cell_type": "code",
   "execution_count": 377,
   "id": "bf74c416",
   "metadata": {},
   "outputs": [
    {
     "name": "stdout",
     "output_type": "stream",
     "text": [
      "27\n",
      "['June 17, 2016', 'January 12, 2017', 'October 8, 2016', 'May 2, 2018', 'January 30, 2017', 'April 6, 2015', 'March 6, 2014', 'November 19, 2014', 'May 24, 2018', 'February 27, 2018', 'July 15, 2012', 'January 31, 2012', 'April 5, 2018', 'January 14, 2015', 'September 5, 2013', 'May 31, 2013', 'June 16, 2009', 'October 22, 2015', 'October 7, 2014', 'June 25, 2018', 'February 20, 2014', 'June 4, 2010', 'December 3, 2015', 'July 25, 2012', 'May 31, 2018', 'November 9, 2017', 'April 11, 2014']\n"
     ]
    }
   ],
   "source": [
    "u_tag27=driver.find_element(By.XPATH,' //*[@id=\"mw-content-text\"]/div[1]/table[2]/tbody/tr[27]/td[5]')\n",
    "upload_date.append(u_tag27.text)\n",
    "print(len(upload_date))\n",
    "print(upload_date)"
   ]
  },
  {
   "cell_type": "code",
   "execution_count": 378,
   "id": "433bcaac",
   "metadata": {},
   "outputs": [
    {
     "name": "stdout",
     "output_type": "stream",
     "text": [
      "28\n",
      "['June 17, 2016', 'January 12, 2017', 'October 8, 2016', 'May 2, 2018', 'January 30, 2017', 'April 6, 2015', 'March 6, 2014', 'November 19, 2014', 'May 24, 2018', 'February 27, 2018', 'July 15, 2012', 'January 31, 2012', 'April 5, 2018', 'January 14, 2015', 'September 5, 2013', 'May 31, 2013', 'June 16, 2009', 'October 22, 2015', 'October 7, 2014', 'June 25, 2018', 'February 20, 2014', 'June 4, 2010', 'December 3, 2015', 'July 25, 2012', 'May 31, 2018', 'November 9, 2017', 'April 11, 2014', 'March 22, 2015']\n"
     ]
    }
   ],
   "source": [
    "u_tag28=driver.find_element(By.XPATH,' //*[@id=\"mw-content-text\"]/div[1]/table[2]/tbody/tr[28]/td[5]')\n",
    "upload_date.append(u_tag28.text)\n",
    "print(len(upload_date))\n",
    "print(upload_date)"
   ]
  },
  {
   "cell_type": "code",
   "execution_count": 379,
   "id": "af9c87f0",
   "metadata": {},
   "outputs": [
    {
     "name": "stdout",
     "output_type": "stream",
     "text": [
      "29\n",
      "['June 17, 2016', 'January 12, 2017', 'October 8, 2016', 'May 2, 2018', 'January 30, 2017', 'April 6, 2015', 'March 6, 2014', 'November 19, 2014', 'May 24, 2018', 'February 27, 2018', 'July 15, 2012', 'January 31, 2012', 'April 5, 2018', 'January 14, 2015', 'September 5, 2013', 'May 31, 2013', 'June 16, 2009', 'October 22, 2015', 'October 7, 2014', 'June 25, 2018', 'February 20, 2014', 'June 4, 2010', 'December 3, 2015', 'July 25, 2012', 'May 31, 2018', 'November 9, 2017', 'April 11, 2014', 'March 22, 2015', 'January 26, 2018']\n"
     ]
    }
   ],
   "source": [
    "u_tag29=driver.find_element(By.XPATH,' //*[@id=\"mw-content-text\"]/div[1]/table[2]/tbody/tr[29]/td[5]')\n",
    "upload_date.append(u_tag29.text)\n",
    "print(len(upload_date))\n",
    "print(upload_date)"
   ]
  },
  {
   "cell_type": "code",
   "execution_count": 380,
   "id": "d9047edd",
   "metadata": {},
   "outputs": [
    {
     "name": "stdout",
     "output_type": "stream",
     "text": [
      "30\n",
      "['June 17, 2016', 'January 12, 2017', 'October 8, 2016', 'May 2, 2018', 'January 30, 2017', 'April 6, 2015', 'March 6, 2014', 'November 19, 2014', 'May 24, 2018', 'February 27, 2018', 'July 15, 2012', 'January 31, 2012', 'April 5, 2018', 'January 14, 2015', 'September 5, 2013', 'May 31, 2013', 'June 16, 2009', 'October 22, 2015', 'October 7, 2014', 'June 25, 2018', 'February 20, 2014', 'June 4, 2010', 'December 3, 2015', 'July 25, 2012', 'May 31, 2018', 'November 9, 2017', 'April 11, 2014', 'March 22, 2015', 'January 26, 2018', 'June 14, 2018']\n"
     ]
    }
   ],
   "source": [
    "u_tag30=driver.find_element(By.XPATH,' //*[@id=\"mw-content-text\"]/div[1]/table[2]/tbody/tr[30]/td[5]')\n",
    "upload_date.append(u_tag30.text)\n",
    "print(len(upload_date))\n",
    "print(upload_date)"
   ]
  },
  {
   "cell_type": "code",
   "execution_count": 381,
   "id": "eb11ded1",
   "metadata": {},
   "outputs": [
    {
     "name": "stdout",
     "output_type": "stream",
     "text": [
      "1\n",
      "['12.00']\n"
     ]
    }
   ],
   "source": [
    "v_tag1=driver.find_element(By.XPATH,'//*[@id=\"mw-content-text\"]/div[1]/table[2]/tbody/tr[1]/td[4]')\n",
    "views.append(v_tag1.text)\n",
    "print(len(views))\n",
    "print(views)"
   ]
  },
  {
   "cell_type": "code",
   "execution_count": 382,
   "id": "2c8b99b7",
   "metadata": {},
   "outputs": [
    {
     "name": "stdout",
     "output_type": "stream",
     "text": [
      "2\n",
      "['12.00', '8.05']\n"
     ]
    }
   ],
   "source": [
    "v_tag2=driver.find_element(By.XPATH,'//*[@id=\"mw-content-text\"]/div[1]/table[2]/tbody/tr[2]/td[4]')\n",
    "views.append(v_tag2.text)\n",
    "print(len(views))\n",
    "print(views)"
   ]
  },
  {
   "cell_type": "code",
   "execution_count": 383,
   "id": "763c85df",
   "metadata": {},
   "outputs": [
    {
     "name": "stdout",
     "output_type": "stream",
     "text": [
      "3\n",
      "['12.00', '8.05', '6.57']\n"
     ]
    }
   ],
   "source": [
    "v_tag3=driver.find_element(By.XPATH,'//*[@id=\"mw-content-text\"]/div[1]/table[2]/tbody/tr[3]/td[4]')\n",
    "views.append(v_tag3.text)\n",
    "print(len(views))\n",
    "print(views)"
   ]
  },
  {
   "cell_type": "code",
   "execution_count": 384,
   "id": "e0c2388d",
   "metadata": {},
   "outputs": [
    {
     "name": "stdout",
     "output_type": "stream",
     "text": [
      "4\n",
      "['12.00', '8.05', '6.57', '5.89']\n"
     ]
    }
   ],
   "source": [
    "v_tag4=driver.find_element(By.XPATH,'//*[@id=\"mw-content-text\"]/div[1]/table[2]/tbody/tr[4]/td[4]')\n",
    "views.append(v_tag4.text)\n",
    "print(len(views))\n",
    "print(views)"
   ]
  },
  {
   "cell_type": "code",
   "execution_count": 385,
   "id": "bc494265",
   "metadata": {},
   "outputs": [
    {
     "name": "stdout",
     "output_type": "stream",
     "text": [
      "5\n",
      "['12.00', '8.05', '6.57', '5.89', '5.88']\n"
     ]
    }
   ],
   "source": [
    "v_tag5=driver.find_element(By.XPATH,'//*[@id=\"mw-content-text\"]/div[1]/table[2]/tbody/tr[5]/td[4]')\n",
    "views.append(v_tag5.text)\n",
    "print(len(views))\n",
    "print(views)"
   ]
  },
  {
   "cell_type": "code",
   "execution_count": 386,
   "id": "6bde067d",
   "metadata": {},
   "outputs": [
    {
     "name": "stdout",
     "output_type": "stream",
     "text": [
      "6\n",
      "['12.00', '8.05', '6.57', '5.89', '5.88', '5.74']\n"
     ]
    }
   ],
   "source": [
    "v_tag6=driver.find_element(By.XPATH,'//*[@id=\"mw-content-text\"]/div[1]/table[2]/tbody/tr[6]/td[4]')\n",
    "views.append(v_tag6.text)\n",
    "print(len(views))\n",
    "print(views)"
   ]
  },
  {
   "cell_type": "code",
   "execution_count": 387,
   "id": "6786f1a3",
   "metadata": {},
   "outputs": [
    {
     "name": "stdout",
     "output_type": "stream",
     "text": [
      "7\n",
      "['12.00', '8.05', '6.57', '5.89', '5.88', '5.74', '5.08']\n"
     ]
    }
   ],
   "source": [
    "v_tag7=driver.find_element(By.XPATH,'//*[@id=\"mw-content-text\"]/div[1]/table[2]/tbody/tr[7]/td[4]')\n",
    "views.append(v_tag7.text)\n",
    "print(len(views))\n",
    "print(views)"
   ]
  },
  {
   "cell_type": "code",
   "execution_count": 388,
   "id": "a7b5977f",
   "metadata": {},
   "outputs": [
    {
     "name": "stdout",
     "output_type": "stream",
     "text": [
      "8\n",
      "['12.00', '8.05', '6.57', '5.89', '5.88', '5.74', '5.08', '4.79']\n"
     ]
    }
   ],
   "source": [
    "v_tag8=driver.find_element(By.XPATH,'//*[@id=\"mw-content-text\"]/div[1]/table[2]/tbody/tr[8]/td[4]')\n",
    "views.append(v_tag8.text)\n",
    "print(len(views))\n",
    "print(views)"
   ]
  },
  {
   "cell_type": "code",
   "execution_count": 389,
   "id": "1dd89a3a",
   "metadata": {},
   "outputs": [
    {
     "name": "stdout",
     "output_type": "stream",
     "text": [
      "9\n",
      "['12.00', '8.05', '6.57', '5.89', '5.88', '5.74', '5.08', '4.79', '4.77']\n"
     ]
    }
   ],
   "source": [
    "v_tag9=driver.find_element(By.XPATH,'//*[@id=\"mw-content-text\"]/div[1]/table[2]/tbody/tr[9]/td[4]')\n",
    "views.append(v_tag9.text)\n",
    "print(len(views))\n",
    "print(views)"
   ]
  },
  {
   "cell_type": "code",
   "execution_count": 390,
   "id": "45c0e5bc",
   "metadata": {},
   "outputs": [
    {
     "name": "stdout",
     "output_type": "stream",
     "text": [
      "10\n",
      "['12.00', '8.05', '6.57', '5.89', '5.88', '5.74', '5.08', '4.79', '4.77', '4.76']\n"
     ]
    }
   ],
   "source": [
    "v_tag10=driver.find_element(By.XPATH,'//*[@id=\"mw-content-text\"]/div[1]/table[2]/tbody/tr[10]/td[4]')\n",
    "views.append(v_tag10.text)\n",
    "print(len(views))\n",
    "print(views)"
   ]
  },
  {
   "cell_type": "code",
   "execution_count": 391,
   "id": "b909a914",
   "metadata": {},
   "outputs": [
    {
     "name": "stdout",
     "output_type": "stream",
     "text": [
      "11\n",
      "['12.00', '8.05', '6.57', '5.89', '5.88', '5.74', '5.08', '4.79', '4.77', '4.76', '4.64']\n"
     ]
    }
   ],
   "source": [
    "v_tag11=driver.find_element(By.XPATH,'//*[@id=\"mw-content-text\"]/div[1]/table[2]/tbody/tr[11]/td[4]')\n",
    "views.append(v_tag11.text)\n",
    "print(len(views))\n",
    "print(views)"
   ]
  },
  {
   "cell_type": "code",
   "execution_count": 392,
   "id": "dc1a5005",
   "metadata": {},
   "outputs": [
    {
     "name": "stdout",
     "output_type": "stream",
     "text": [
      "12\n",
      "['12.00', '8.05', '6.57', '5.89', '5.88', '5.74', '5.08', '4.79', '4.77', '4.76', '4.64', '4.52']\n"
     ]
    }
   ],
   "source": [
    "v_tag12=driver.find_element(By.XPATH,'//*[@id=\"mw-content-text\"]/div[1]/table[2]/tbody/tr[12]/td[4]')\n",
    "views.append(v_tag12.text)\n",
    "print(len(views))\n",
    "print(views)"
   ]
  },
  {
   "cell_type": "code",
   "execution_count": 393,
   "id": "7a8db23c",
   "metadata": {},
   "outputs": [
    {
     "name": "stdout",
     "output_type": "stream",
     "text": [
      "13\n",
      "['12.00', '8.05', '6.57', '5.89', '5.88', '5.74', '5.08', '4.79', '4.77', '4.76', '4.64', '4.52', '4.18']\n"
     ]
    }
   ],
   "source": [
    "v_tag13=driver.find_element(By.XPATH,'//*[@id=\"mw-content-text\"]/div[1]/table[2]/tbody/tr[13]/td[4]')\n",
    "views.append(v_tag13.text)\n",
    "print(len(views))\n",
    "print(views)"
   ]
  },
  {
   "cell_type": "code",
   "execution_count": 394,
   "id": "2ef52dc7",
   "metadata": {},
   "outputs": [
    {
     "name": "stdout",
     "output_type": "stream",
     "text": [
      "14\n",
      "['12.00', '8.05', '6.57', '5.89', '5.88', '5.74', '5.08', '4.79', '4.77', '4.76', '4.64', '4.52', '4.18', '3.80']\n"
     ]
    }
   ],
   "source": [
    "v_tag14=driver.find_element(By.XPATH,'//*[@id=\"mw-content-text\"]/div[1]/table[2]/tbody/tr[14]/td[4]')\n",
    "views.append(v_tag14.text)\n",
    "print(len(views))\n",
    "print(views)"
   ]
  },
  {
   "cell_type": "code",
   "execution_count": 395,
   "id": "990fa7a8",
   "metadata": {},
   "outputs": [
    {
     "name": "stdout",
     "output_type": "stream",
     "text": [
      "15\n",
      "['12.00', '8.05', '6.57', '5.89', '5.88', '5.74', '5.08', '4.79', '4.77', '4.76', '4.64', '4.52', '4.18', '3.80', '3.70']\n"
     ]
    }
   ],
   "source": [
    "v_tag15=driver.find_element(By.XPATH,'//*[@id=\"mw-content-text\"]/div[1]/table[2]/tbody/tr[15]/td[4]')\n",
    "views.append(v_tag15.text)\n",
    "print(len(views))\n",
    "print(views)"
   ]
  },
  {
   "cell_type": "code",
   "execution_count": 396,
   "id": "f636be50",
   "metadata": {},
   "outputs": [
    {
     "name": "stdout",
     "output_type": "stream",
     "text": [
      "16\n",
      "['12.00', '8.05', '6.57', '5.89', '5.88', '5.74', '5.08', '4.79', '4.77', '4.76', '4.64', '4.52', '4.18', '3.80', '3.70', '3.70']\n"
     ]
    }
   ],
   "source": [
    "v_tag16=driver.find_element(By.XPATH,'//*[@id=\"mw-content-text\"]/div[1]/table[2]/tbody/tr[16]/td[4]')\n",
    "views.append(v_tag16.text)\n",
    "print(len(views))\n",
    "print(views)"
   ]
  },
  {
   "cell_type": "code",
   "execution_count": 397,
   "id": "94ded5e6",
   "metadata": {},
   "outputs": [
    {
     "name": "stdout",
     "output_type": "stream",
     "text": [
      "17\n",
      "['12.00', '8.05', '6.57', '5.89', '5.88', '5.74', '5.08', '4.79', '4.77', '4.76', '4.64', '4.52', '4.18', '3.80', '3.70', '3.70', '3.67']\n"
     ]
    }
   ],
   "source": [
    "v_tag17=driver.find_element(By.XPATH,'//*[@id=\"mw-content-text\"]/div[1]/table[2]/tbody/tr[17]/td[4]')\n",
    "views.append(v_tag17.text)\n",
    "print(len(views))\n",
    "print(views)"
   ]
  },
  {
   "cell_type": "code",
   "execution_count": 398,
   "id": "5619a1bb",
   "metadata": {},
   "outputs": [
    {
     "name": "stdout",
     "output_type": "stream",
     "text": [
      "18\n",
      "['12.00', '8.05', '6.57', '5.89', '5.88', '5.74', '5.08', '4.79', '4.77', '4.76', '4.64', '4.52', '4.18', '3.80', '3.70', '3.70', '3.67', '3.62']\n"
     ]
    }
   ],
   "source": [
    "v_tag18=driver.find_element(By.XPATH,'//*[@id=\"mw-content-text\"]/div[1]/table[2]/tbody/tr[18]/td[4]')\n",
    "views.append(v_tag18.text)\n",
    "print(len(views))\n",
    "print(views)"
   ]
  },
  {
   "cell_type": "code",
   "execution_count": 399,
   "id": "658975ed",
   "metadata": {},
   "outputs": [
    {
     "name": "stdout",
     "output_type": "stream",
     "text": [
      "19\n",
      "['12.00', '8.05', '6.57', '5.89', '5.88', '5.74', '5.08', '4.79', '4.77', '4.76', '4.64', '4.52', '4.18', '3.80', '3.70', '3.70', '3.67', '3.62', '3.53']\n"
     ]
    }
   ],
   "source": [
    "v_tag19=driver.find_element(By.XPATH,'//*[@id=\"mw-content-text\"]/div[1]/table[2]/tbody/tr[19]/td[4]')\n",
    "views.append(v_tag19.text)\n",
    "print(len(views))\n",
    "print(views)"
   ]
  },
  {
   "cell_type": "code",
   "execution_count": 400,
   "id": "fe1f9993",
   "metadata": {},
   "outputs": [
    {
     "name": "stdout",
     "output_type": "stream",
     "text": [
      "20\n",
      "['12.00', '8.05', '6.57', '5.89', '5.88', '5.74', '5.08', '4.79', '4.77', '4.76', '4.64', '4.52', '4.18', '3.80', '3.70', '3.70', '3.67', '3.62', '3.53', '3.46']\n"
     ]
    }
   ],
   "source": [
    "v_tag20=driver.find_element(By.XPATH,'//*[@id=\"mw-content-text\"]/div[1]/table[2]/tbody/tr[20]/td[4]')\n",
    "views.append(v_tag20.text)\n",
    "print(len(views))\n",
    "print(views)"
   ]
  },
  {
   "cell_type": "code",
   "execution_count": 401,
   "id": "4c466bec",
   "metadata": {},
   "outputs": [
    {
     "name": "stdout",
     "output_type": "stream",
     "text": [
      "21\n",
      "['12.00', '8.05', '6.57', '5.89', '5.88', '5.74', '5.08', '4.79', '4.77', '4.76', '4.64', '4.52', '4.18', '3.80', '3.70', '3.70', '3.67', '3.62', '3.53', '3.46', '3.42']\n"
     ]
    }
   ],
   "source": [
    "v_tag21=driver.find_element(By.XPATH,'//*[@id=\"mw-content-text\"]/div[1]/table[2]/tbody/tr[21]/td[4]')\n",
    "views.append(v_tag21.text)\n",
    "print(len(views))\n",
    "print(views)"
   ]
  },
  {
   "cell_type": "code",
   "execution_count": 402,
   "id": "21b85cf6",
   "metadata": {},
   "outputs": [
    {
     "name": "stdout",
     "output_type": "stream",
     "text": [
      "22\n",
      "['12.00', '8.05', '6.57', '5.89', '5.88', '5.74', '5.08', '4.79', '4.77', '4.76', '4.64', '4.52', '4.18', '3.80', '3.70', '3.70', '3.67', '3.62', '3.53', '3.46', '3.42', '3.40']\n"
     ]
    }
   ],
   "source": [
    "v_tag22=driver.find_element(By.XPATH,'//*[@id=\"mw-content-text\"]/div[1]/table[2]/tbody/tr[22]/td[4]')\n",
    "views.append(v_tag22.text)\n",
    "print(len(views))\n",
    "print(views)"
   ]
  },
  {
   "cell_type": "code",
   "execution_count": 403,
   "id": "b75e09e2",
   "metadata": {},
   "outputs": [
    {
     "name": "stdout",
     "output_type": "stream",
     "text": [
      "23\n",
      "['12.00', '8.05', '6.57', '5.89', '5.88', '5.74', '5.08', '4.79', '4.77', '4.76', '4.64', '4.52', '4.18', '3.80', '3.70', '3.70', '3.67', '3.62', '3.53', '3.46', '3.42', '3.40', '3.38']\n"
     ]
    }
   ],
   "source": [
    "v_tag23=driver.find_element(By.XPATH,'//*[@id=\"mw-content-text\"]/div[1]/table[2]/tbody/tr[23]/td[4]')\n",
    "views.append(v_tag23.text)\n",
    "print(len(views))\n",
    "print(views)"
   ]
  },
  {
   "cell_type": "code",
   "execution_count": 404,
   "id": "6f024804",
   "metadata": {},
   "outputs": [
    {
     "name": "stdout",
     "output_type": "stream",
     "text": [
      "24\n",
      "['12.00', '8.05', '6.57', '5.89', '5.88', '5.74', '5.08', '4.79', '4.77', '4.76', '4.64', '4.52', '4.18', '3.80', '3.70', '3.70', '3.67', '3.62', '3.53', '3.46', '3.42', '3.40', '3.38', '3.36']\n"
     ]
    }
   ],
   "source": [
    "v_tag24=driver.find_element(By.XPATH,'//*[@id=\"mw-content-text\"]/div[1]/table[2]/tbody/tr[24]/td[4]')\n",
    "views.append(v_tag24.text)\n",
    "print(len(views))\n",
    "print(views)"
   ]
  },
  {
   "cell_type": "code",
   "execution_count": 405,
   "id": "e73b1411",
   "metadata": {},
   "outputs": [
    {
     "name": "stdout",
     "output_type": "stream",
     "text": [
      "25\n",
      "['12.00', '8.05', '6.57', '5.89', '5.88', '5.74', '5.08', '4.79', '4.77', '4.76', '4.64', '4.52', '4.18', '3.80', '3.70', '3.70', '3.67', '3.62', '3.53', '3.46', '3.42', '3.40', '3.38', '3.36', '3.35']\n"
     ]
    }
   ],
   "source": [
    "v_tag25=driver.find_element(By.XPATH,'//*[@id=\"mw-content-text\"]/div[1]/table[2]/tbody/tr[25]/td[4]')\n",
    "views.append(v_tag25.text)\n",
    "print(len(views))\n",
    "print(views)"
   ]
  },
  {
   "cell_type": "code",
   "execution_count": 406,
   "id": "125fc8d4",
   "metadata": {},
   "outputs": [
    {
     "name": "stdout",
     "output_type": "stream",
     "text": [
      "26\n",
      "['12.00', '8.05', '6.57', '5.89', '5.88', '5.74', '5.08', '4.79', '4.77', '4.76', '4.64', '4.52', '4.18', '3.80', '3.70', '3.70', '3.67', '3.62', '3.53', '3.46', '3.42', '3.40', '3.38', '3.36', '3.35', '3.33']\n"
     ]
    }
   ],
   "source": [
    "v_tag26=driver.find_element(By.XPATH,'//*[@id=\"mw-content-text\"]/div[1]/table[2]/tbody/tr[26]/td[4]')\n",
    "views.append(v_tag26.text)\n",
    "print(len(views))\n",
    "print(views)"
   ]
  },
  {
   "cell_type": "code",
   "execution_count": 407,
   "id": "67ba468b",
   "metadata": {},
   "outputs": [
    {
     "name": "stdout",
     "output_type": "stream",
     "text": [
      "27\n",
      "['12.00', '8.05', '6.57', '5.89', '5.88', '5.74', '5.08', '4.79', '4.77', '4.76', '4.64', '4.52', '4.18', '3.80', '3.70', '3.70', '3.67', '3.62', '3.53', '3.46', '3.42', '3.40', '3.38', '3.36', '3.35', '3.33', '3.31']\n"
     ]
    }
   ],
   "source": [
    "v_tag27=driver.find_element(By.XPATH,'//*[@id=\"mw-content-text\"]/div[1]/table[2]/tbody/tr[27]/td[4]')\n",
    "views.append(v_tag27.text)\n",
    "print(len(views))\n",
    "print(views)"
   ]
  },
  {
   "cell_type": "code",
   "execution_count": 408,
   "id": "64f12b23",
   "metadata": {},
   "outputs": [
    {
     "name": "stdout",
     "output_type": "stream",
     "text": [
      "28\n",
      "['12.00', '8.05', '6.57', '5.89', '5.88', '5.74', '5.08', '4.79', '4.77', '4.76', '4.64', '4.52', '4.18', '3.80', '3.70', '3.70', '3.67', '3.62', '3.53', '3.46', '3.42', '3.40', '3.38', '3.36', '3.35', '3.33', '3.31', '3.31']\n"
     ]
    }
   ],
   "source": [
    "v_tag28=driver.find_element(By.XPATH,'//*[@id=\"mw-content-text\"]/div[1]/table[2]/tbody/tr[28]/td[4]')\n",
    "views.append(v_tag28.text)\n",
    "print(len(views))\n",
    "print(views)"
   ]
  },
  {
   "cell_type": "code",
   "execution_count": 409,
   "id": "9da293f6",
   "metadata": {},
   "outputs": [
    {
     "name": "stdout",
     "output_type": "stream",
     "text": [
      "29\n",
      "['12.00', '8.05', '6.57', '5.89', '5.88', '5.74', '5.08', '4.79', '4.77', '4.76', '4.64', '4.52', '4.18', '3.80', '3.70', '3.70', '3.67', '3.62', '3.53', '3.46', '3.42', '3.40', '3.38', '3.36', '3.35', '3.33', '3.31', '3.31', '3.26']\n"
     ]
    }
   ],
   "source": [
    "v_tag29=driver.find_element(By.XPATH,'//*[@id=\"mw-content-text\"]/div[1]/table[2]/tbody/tr[29]/td[4]')\n",
    "views.append(v_tag29.text)\n",
    "print(len(views))\n",
    "print(views)"
   ]
  },
  {
   "cell_type": "code",
   "execution_count": 410,
   "id": "9da11af5",
   "metadata": {},
   "outputs": [
    {
     "name": "stdout",
     "output_type": "stream",
     "text": [
      "30\n",
      "['12.00', '8.05', '6.57', '5.89', '5.88', '5.74', '5.08', '4.79', '4.77', '4.76', '4.64', '4.52', '4.18', '3.80', '3.70', '3.70', '3.67', '3.62', '3.53', '3.46', '3.42', '3.40', '3.38', '3.36', '3.35', '3.33', '3.31', '3.31', '3.26', '3.24']\n"
     ]
    }
   ],
   "source": [
    "v_tag30=driver.find_element(By.XPATH,'//*[@id=\"mw-content-text\"]/div[1]/table[2]/tbody/tr[30]/td[4]')\n",
    "views.append(v_tag30.text)\n",
    "print(len(views))\n",
    "print(views)"
   ]
  },
  {
   "cell_type": "code",
   "execution_count": 260,
   "id": "4894b3ba",
   "metadata": {},
   "outputs": [],
   "source": [
    "rank=[]\n",
    "name=[]\n",
    "artist=[]\n",
    "upload_date=[]\n",
    "views=[]"
   ]
  },
  {
   "cell_type": "code",
   "execution_count": 411,
   "id": "5e50efda",
   "metadata": {},
   "outputs": [
    {
     "name": "stdout",
     "output_type": "stream",
     "text": [
      "30 30 30 30 30\n"
     ]
    }
   ],
   "source": [
    "print(len(rank),len(name),len(artist),len(upload_date),len(views))"
   ]
  },
  {
   "cell_type": "code",
   "execution_count": 413,
   "id": "a922b579",
   "metadata": {},
   "outputs": [
    {
     "data": {
      "text/html": [
       "<div>\n",
       "<style scoped>\n",
       "    .dataframe tbody tr th:only-of-type {\n",
       "        vertical-align: middle;\n",
       "    }\n",
       "\n",
       "    .dataframe tbody tr th {\n",
       "        vertical-align: top;\n",
       "    }\n",
       "\n",
       "    .dataframe thead th {\n",
       "        text-align: right;\n",
       "    }\n",
       "</style>\n",
       "<table border=\"1\" class=\"dataframe\">\n",
       "  <thead>\n",
       "    <tr style=\"text-align: right;\">\n",
       "      <th></th>\n",
       "      <th>RANK</th>\n",
       "      <th>VIDEO NAME</th>\n",
       "      <th>UPLOADER</th>\n",
       "      <th>UPLOADED DATE</th>\n",
       "      <th>VIEWS</th>\n",
       "    </tr>\n",
       "  </thead>\n",
       "  <tbody>\n",
       "    <tr>\n",
       "      <th>1</th>\n",
       "      <td>1.</td>\n",
       "      <td>\"Baby Shark Dance\"[4]</td>\n",
       "      <td>Pinkfong Baby Shark - Kids' Songs &amp; Stories</td>\n",
       "      <td>June 17, 2016</td>\n",
       "      <td>12.00</td>\n",
       "    </tr>\n",
       "    <tr>\n",
       "      <th>2</th>\n",
       "      <td>2.</td>\n",
       "      <td>\"Despacito\"[7]</td>\n",
       "      <td>Luis Fonsi</td>\n",
       "      <td>January 12, 2017</td>\n",
       "      <td>8.05</td>\n",
       "    </tr>\n",
       "    <tr>\n",
       "      <th>3</th>\n",
       "      <td>3.</td>\n",
       "      <td>\"Johny Johny Yes Papa\"[14]</td>\n",
       "      <td>LooLoo Kids</td>\n",
       "      <td>October 8, 2016</td>\n",
       "      <td>6.57</td>\n",
       "    </tr>\n",
       "    <tr>\n",
       "      <th>4</th>\n",
       "      <td>4.</td>\n",
       "      <td>\"Bath Song\"[15]</td>\n",
       "      <td>Cocomelon – Nursery Rhymes</td>\n",
       "      <td>May 2, 2018</td>\n",
       "      <td>5.89</td>\n",
       "    </tr>\n",
       "    <tr>\n",
       "      <th>5</th>\n",
       "      <td>5.</td>\n",
       "      <td>\"Shape of You\"[16]</td>\n",
       "      <td>Ed Sheeran</td>\n",
       "      <td>January 30, 2017</td>\n",
       "      <td>5.88</td>\n",
       "    </tr>\n",
       "    <tr>\n",
       "      <th>6</th>\n",
       "      <td>6.</td>\n",
       "      <td>\"See You Again\"[18]</td>\n",
       "      <td>Wiz Khalifa</td>\n",
       "      <td>April 6, 2015</td>\n",
       "      <td>5.74</td>\n",
       "    </tr>\n",
       "    <tr>\n",
       "      <th>7</th>\n",
       "      <td>7.</td>\n",
       "      <td>\"Phonics Song with Two Words\"[23]</td>\n",
       "      <td>ChuChu TV</td>\n",
       "      <td>March 6, 2014</td>\n",
       "      <td>5.08</td>\n",
       "    </tr>\n",
       "    <tr>\n",
       "      <th>8</th>\n",
       "      <td>8.</td>\n",
       "      <td>\"Uptown Funk\"[24]</td>\n",
       "      <td>Mark Ronson</td>\n",
       "      <td>November 19, 2014</td>\n",
       "      <td>4.79</td>\n",
       "    </tr>\n",
       "    <tr>\n",
       "      <th>9</th>\n",
       "      <td>9.</td>\n",
       "      <td>\"Wheels on the Bus\"[25]</td>\n",
       "      <td>Cocomelon – Nursery Rhymes</td>\n",
       "      <td>May 24, 2018</td>\n",
       "      <td>4.77</td>\n",
       "    </tr>\n",
       "    <tr>\n",
       "      <th>10</th>\n",
       "      <td>10.</td>\n",
       "      <td>\"Learning Colors – Colorful Eggs on a Farm\"[26]</td>\n",
       "      <td>Miroshka TV</td>\n",
       "      <td>February 27, 2018</td>\n",
       "      <td>4.76</td>\n",
       "    </tr>\n",
       "    <tr>\n",
       "      <th>11</th>\n",
       "      <td>11.</td>\n",
       "      <td>\"Gangnam Style\"[27]</td>\n",
       "      <td>Psy</td>\n",
       "      <td>July 15, 2012</td>\n",
       "      <td>4.64</td>\n",
       "    </tr>\n",
       "    <tr>\n",
       "      <th>12</th>\n",
       "      <td>12.</td>\n",
       "      <td>\"Masha and the Bear – Recipe for Disaster\"[32]</td>\n",
       "      <td>Get Movies</td>\n",
       "      <td>January 31, 2012</td>\n",
       "      <td>4.52</td>\n",
       "    </tr>\n",
       "    <tr>\n",
       "      <th>13</th>\n",
       "      <td>13.</td>\n",
       "      <td>\"Dame Tu Cosita\"[33]</td>\n",
       "      <td>El Chombo</td>\n",
       "      <td>April 5, 2018</td>\n",
       "      <td>4.18</td>\n",
       "    </tr>\n",
       "    <tr>\n",
       "      <th>14</th>\n",
       "      <td>14.</td>\n",
       "      <td>\"Sugar\"[34]</td>\n",
       "      <td>Maroon 5</td>\n",
       "      <td>January 14, 2015</td>\n",
       "      <td>3.80</td>\n",
       "    </tr>\n",
       "    <tr>\n",
       "      <th>15</th>\n",
       "      <td>15.</td>\n",
       "      <td>\"Roar\"[35]</td>\n",
       "      <td>Katy Perry</td>\n",
       "      <td>September 5, 2013</td>\n",
       "      <td>3.70</td>\n",
       "    </tr>\n",
       "    <tr>\n",
       "      <th>16</th>\n",
       "      <td>16.</td>\n",
       "      <td>\"Counting Stars\"[36]</td>\n",
       "      <td>OneRepublic</td>\n",
       "      <td>May 31, 2013</td>\n",
       "      <td>3.70</td>\n",
       "    </tr>\n",
       "    <tr>\n",
       "      <th>17</th>\n",
       "      <td>17.</td>\n",
       "      <td>\"Axel F\"[37]</td>\n",
       "      <td>Crazy Frog</td>\n",
       "      <td>June 16, 2009</td>\n",
       "      <td>3.67</td>\n",
       "    </tr>\n",
       "    <tr>\n",
       "      <th>18</th>\n",
       "      <td>18.</td>\n",
       "      <td>\"Sorry\"[38]</td>\n",
       "      <td>Justin Bieber</td>\n",
       "      <td>October 22, 2015</td>\n",
       "      <td>3.62</td>\n",
       "    </tr>\n",
       "    <tr>\n",
       "      <th>19</th>\n",
       "      <td>19.</td>\n",
       "      <td>\"Thinking Out Loud\"[39]</td>\n",
       "      <td>Ed Sheeran</td>\n",
       "      <td>October 7, 2014</td>\n",
       "      <td>3.53</td>\n",
       "    </tr>\n",
       "    <tr>\n",
       "      <th>20</th>\n",
       "      <td>20.</td>\n",
       "      <td>\"Baa Baa Black Sheep\"[40]</td>\n",
       "      <td>Cocomelon – Nursery Rhymes</td>\n",
       "      <td>June 25, 2018</td>\n",
       "      <td>3.46</td>\n",
       "    </tr>\n",
       "    <tr>\n",
       "      <th>21</th>\n",
       "      <td>21.</td>\n",
       "      <td>\"Dark Horse\"[41]</td>\n",
       "      <td>Katy Perry</td>\n",
       "      <td>February 20, 2014</td>\n",
       "      <td>3.42</td>\n",
       "    </tr>\n",
       "    <tr>\n",
       "      <th>22</th>\n",
       "      <td>22.</td>\n",
       "      <td>\"Waka Waka (This Time for Africa)\"[42]</td>\n",
       "      <td>Shakira</td>\n",
       "      <td>June 4, 2010</td>\n",
       "      <td>3.40</td>\n",
       "    </tr>\n",
       "    <tr>\n",
       "      <th>23</th>\n",
       "      <td>23.</td>\n",
       "      <td>\"Faded\"[43]</td>\n",
       "      <td>Alan Walker</td>\n",
       "      <td>December 3, 2015</td>\n",
       "      <td>3.38</td>\n",
       "    </tr>\n",
       "    <tr>\n",
       "      <th>24</th>\n",
       "      <td>24.</td>\n",
       "      <td>\"Let Her Go\"[44]</td>\n",
       "      <td>Passenger</td>\n",
       "      <td>July 25, 2012</td>\n",
       "      <td>3.36</td>\n",
       "    </tr>\n",
       "    <tr>\n",
       "      <th>25</th>\n",
       "      <td>25.</td>\n",
       "      <td>\"Girls Like You\"[45]</td>\n",
       "      <td>Maroon 5</td>\n",
       "      <td>May 31, 2018</td>\n",
       "      <td>3.35</td>\n",
       "    </tr>\n",
       "    <tr>\n",
       "      <th>26</th>\n",
       "      <td>26.</td>\n",
       "      <td>\"Perfect\"[46]</td>\n",
       "      <td>Ed Sheeran</td>\n",
       "      <td>November 9, 2017</td>\n",
       "      <td>3.33</td>\n",
       "    </tr>\n",
       "    <tr>\n",
       "      <th>27</th>\n",
       "      <td>27.</td>\n",
       "      <td>\"Bailando\"[47]</td>\n",
       "      <td>Enrique Iglesias</td>\n",
       "      <td>April 11, 2014</td>\n",
       "      <td>3.31</td>\n",
       "    </tr>\n",
       "    <tr>\n",
       "      <th>28</th>\n",
       "      <td>28.</td>\n",
       "      <td>\"Lean On\"[48]</td>\n",
       "      <td>Major Lazer</td>\n",
       "      <td>March 22, 2015</td>\n",
       "      <td>3.31</td>\n",
       "    </tr>\n",
       "    <tr>\n",
       "      <th>29</th>\n",
       "      <td>29.</td>\n",
       "      <td>\"Humpty the train on a fruits ride\"[49]</td>\n",
       "      <td>Kiddiestv Hindi – Nursery Rhymes &amp; Kids Songs</td>\n",
       "      <td>January 26, 2018</td>\n",
       "      <td>3.26</td>\n",
       "    </tr>\n",
       "    <tr>\n",
       "      <th>30</th>\n",
       "      <td>30.</td>\n",
       "      <td>\"Lakdi Ki Kathi\"[50]</td>\n",
       "      <td>Jingle Toons</td>\n",
       "      <td>June 14, 2018</td>\n",
       "      <td>3.24</td>\n",
       "    </tr>\n",
       "  </tbody>\n",
       "</table>\n",
       "</div>"
      ],
      "text/plain": [
       "   RANK                                       VIDEO NAME  \\\n",
       "1    1.                            \"Baby Shark Dance\"[4]   \n",
       "2    2.                                   \"Despacito\"[7]   \n",
       "3    3.                       \"Johny Johny Yes Papa\"[14]   \n",
       "4    4.                                  \"Bath Song\"[15]   \n",
       "5    5.                               \"Shape of You\"[16]   \n",
       "6    6.                              \"See You Again\"[18]   \n",
       "7    7.                \"Phonics Song with Two Words\"[23]   \n",
       "8    8.                                \"Uptown Funk\"[24]   \n",
       "9    9.                          \"Wheels on the Bus\"[25]   \n",
       "10  10.  \"Learning Colors – Colorful Eggs on a Farm\"[26]   \n",
       "11  11.                              \"Gangnam Style\"[27]   \n",
       "12  12.   \"Masha and the Bear – Recipe for Disaster\"[32]   \n",
       "13  13.                             \"Dame Tu Cosita\"[33]   \n",
       "14  14.                                      \"Sugar\"[34]   \n",
       "15  15.                                       \"Roar\"[35]   \n",
       "16  16.                             \"Counting Stars\"[36]   \n",
       "17  17.                                     \"Axel F\"[37]   \n",
       "18  18.                                      \"Sorry\"[38]   \n",
       "19  19.                          \"Thinking Out Loud\"[39]   \n",
       "20  20.                        \"Baa Baa Black Sheep\"[40]   \n",
       "21  21.                                 \"Dark Horse\"[41]   \n",
       "22  22.           \"Waka Waka (This Time for Africa)\"[42]   \n",
       "23  23.                                      \"Faded\"[43]   \n",
       "24  24.                                 \"Let Her Go\"[44]   \n",
       "25  25.                             \"Girls Like You\"[45]   \n",
       "26  26.                                    \"Perfect\"[46]   \n",
       "27  27.                                   \"Bailando\"[47]   \n",
       "28  28.                                    \"Lean On\"[48]   \n",
       "29  29.          \"Humpty the train on a fruits ride\"[49]   \n",
       "30  30.                             \"Lakdi Ki Kathi\"[50]   \n",
       "\n",
       "                                         UPLOADER      UPLOADED DATE  VIEWS  \n",
       "1     Pinkfong Baby Shark - Kids' Songs & Stories      June 17, 2016  12.00  \n",
       "2                                      Luis Fonsi   January 12, 2017   8.05  \n",
       "3                                     LooLoo Kids    October 8, 2016   6.57  \n",
       "4                      Cocomelon – Nursery Rhymes        May 2, 2018   5.89  \n",
       "5                                      Ed Sheeran   January 30, 2017   5.88  \n",
       "6                                     Wiz Khalifa      April 6, 2015   5.74  \n",
       "7                                       ChuChu TV      March 6, 2014   5.08  \n",
       "8                                     Mark Ronson  November 19, 2014   4.79  \n",
       "9                      Cocomelon – Nursery Rhymes       May 24, 2018   4.77  \n",
       "10                                    Miroshka TV  February 27, 2018   4.76  \n",
       "11                                            Psy      July 15, 2012   4.64  \n",
       "12                                     Get Movies   January 31, 2012   4.52  \n",
       "13                                      El Chombo      April 5, 2018   4.18  \n",
       "14                                       Maroon 5   January 14, 2015   3.80  \n",
       "15                                     Katy Perry  September 5, 2013   3.70  \n",
       "16                                    OneRepublic       May 31, 2013   3.70  \n",
       "17                                     Crazy Frog      June 16, 2009   3.67  \n",
       "18                                  Justin Bieber   October 22, 2015   3.62  \n",
       "19                                     Ed Sheeran    October 7, 2014   3.53  \n",
       "20                     Cocomelon – Nursery Rhymes      June 25, 2018   3.46  \n",
       "21                                     Katy Perry  February 20, 2014   3.42  \n",
       "22                                        Shakira       June 4, 2010   3.40  \n",
       "23                                    Alan Walker   December 3, 2015   3.38  \n",
       "24                                      Passenger      July 25, 2012   3.36  \n",
       "25                                       Maroon 5       May 31, 2018   3.35  \n",
       "26                                     Ed Sheeran   November 9, 2017   3.33  \n",
       "27                               Enrique Iglesias     April 11, 2014   3.31  \n",
       "28                                    Major Lazer     March 22, 2015   3.31  \n",
       "29  Kiddiestv Hindi – Nursery Rhymes & Kids Songs   January 26, 2018   3.26  \n",
       "30                                   Jingle Toons      June 14, 2018   3.24  "
      ]
     },
     "execution_count": 413,
     "metadata": {},
     "output_type": "execute_result"
    }
   ],
   "source": [
    "df=pd.DataFrame(data={'RANK':rank,'VIDEO NAME':name,'UPLOADER':artist,'UPLOADED DATE':upload_date,'VIEWS':views},index=range(1,31))\n",
    "df"
   ]
  },
  {
   "cell_type": "code",
   "execution_count": 414,
   "id": "8cfe8079",
   "metadata": {},
   "outputs": [],
   "source": [
    "driver.close()"
   ]
  },
  {
   "cell_type": "markdown",
   "id": "4ec0797f",
   "metadata": {},
   "source": [
    "# 5. Scrape the details of trending repositories on Github.com.\n",
    "Url = https://github.com/\n",
    "    \n",
    "You have to find the following details:\n",
    "    \n",
    "A) Repository title\n",
    "\n",
    "B) Repository description\n",
    "\n",
    "C) Contributors count\n",
    "\n",
    "D) Language used\n",
    "\n",
    "\n",
    "ASSIGNMENT\n",
    "\n",
    "Note: - From the home page you have to click on the trending option from Explore menu through code."
   ]
  },
  {
   "cell_type": "code",
   "execution_count": 505,
   "id": "7d32c644",
   "metadata": {},
   "outputs": [],
   "source": [
    "driver=webdriver.Chrome(r'C:\\Users\\S.Ramaa Devi\\Downloads\\chromedriver_win32 (7)\\chromedriver.exe')\n",
    "driver.get('https://github.com/')"
   ]
  },
  {
   "cell_type": "code",
   "execution_count": 417,
   "id": "deab2f49",
   "metadata": {},
   "outputs": [],
   "source": [
    "search=driver.find_element(By.XPATH,'//span[@class=\"Button-content\"]')\n",
    "search.click()"
   ]
  },
  {
   "cell_type": "code",
   "execution_count": 471,
   "id": "22fa5ed2",
   "metadata": {},
   "outputs": [],
   "source": [
    "title=[]\n",
    "desc=[]\n",
    "cont_count=[]\n",
    "language=[]"
   ]
  },
  {
   "cell_type": "code",
   "execution_count": 473,
   "id": "0a56aeae",
   "metadata": {},
   "outputs": [
    {
     "name": "stdout",
     "output_type": "stream",
     "text": [
      "25\n",
      "['LAION-AI / Open-Assistant', 'karpathy / nanoGPT', 'sczhou / CodeFormer', 'DarkFlippers / unleashed-firmware', 'ytdl-org / youtube-dl', 'google / osv-scanner', 'pola-rs / polars', 'neonbjb / tortoise-tts', 'Developer-Y / cs-video-courses', 'dair-ai / Prompt-Engineering-Guide', 'Ebazhanov / linkedin-skill-assessments-quizzes', 'ocornut / imgui', 'AmruthPillai / Reactive-Resume', 'PRQL / prql', 'A-poc / RedTeam-Tools', 'jerryjliu / gpt_index', 'imDazui / Tvlist-awesome-m3u-m3u8', 'aurae-runtime / aurae', 'zlib-searcher / zlib-searcher', 'BrunoLevy / learn-fpga', 'alist-org / alist', 'freeCodeCamp / freeCodeCamp', 'Atlas-OS / Atlas', 'SheerSt / pokewilds', 'jwasham / coding-interview-university']\n"
     ]
    }
   ],
   "source": [
    "t_tag=driver.find_elements(By.XPATH,'//h1[@class=\"h3 lh-condensed\"]')\n",
    "for i in t_tag:\n",
    "    title.append(i.text)\n",
    "    \n",
    "print(len(title))\n",
    "print(title)"
   ]
  },
  {
   "cell_type": "code",
   "execution_count": 474,
   "id": "ac6e1a78",
   "metadata": {},
   "outputs": [
    {
     "name": "stdout",
     "output_type": "stream",
     "text": [
      "25\n",
      "['OpenAssistant is a chat-based assistant that understands tasks, can interact with third-party systems, and retrieve information dynamically to do so.', 'The simplest, fastest repository for training/finetuning medium-sized GPTs.', '[NeurIPS 2022] Towards Robust Blind Face Restoration with Codebook Lookup Transformer', 'Flipper Zero Unleashed Firmware', 'Command-line program to download videos from YouTube.com and other video sites', 'Vulnerability scanner written in Go which uses the data provided by https://osv.dev', 'Fast multi-threaded, hybrid-streaming DataFrame library in Rust | Python | Node.js', 'A multi-voice TTS system trained with an emphasis on quality', 'List of Computer Science courses with video lectures.', '🐙 Guide and resources for prompt engineering', 'Full reference of LinkedIn answers 2022 for skill assessments (aws-lambda, rest-api, javascript, react, git, html, jquery, mongodb, java, Go, python, machine-learning, power-point) linkedin excel test lösungen, linkedin machine learning test LinkedIn test questions and answers', 'Dear ImGui: Bloat-free Graphical User interface for C++ with minimal dependencies', 'A one-of-a-kind resume builder that keeps your privacy in mind. Completely secure, customizable, portable, open-source and free forever. Try it out today!', 'PRQL is a modern language for transforming data — a simple, powerful, pipelined SQL replacement', 'Tools and Techniques for Red Team / Penetration Testing', 'An index created by GPT to organize external information and answer queries!', '直播源相关资源汇总 📺 💯 IPTV、M3U —— 勤洗手、戴口罩，祝愿所有人百毒不侵', 'Distributed systems runtime daemon written in Rust.', 'search zlib/libgen index to get ipfs_cid.', 'Learning FPGA, yosys, nextpnr, and RISC-V', '🗂️A file list program that supports multiple storage, powered by Gin and Solidjs. / 一个支持多存储的文件列表程序，使用 Gin 和 Solidjs。', \"freeCodeCamp.org's open-source codebase and curriculum. Learn to code for free.\", '🚀 An open-source modification of Windows 10, designed to optimize performance, and latency.', 'PokeWilds - A Gen 2 Game/Engine using libGDX', 'A complete computer science study plan to become a software engineer.']\n"
     ]
    }
   ],
   "source": [
    "desc=[]\n",
    "d_tag=driver.find_elements(By.XPATH,'//p[@class=\"col-9 color-fg-muted my-1 pr-4\"]')\n",
    "for i in d_tag:\n",
    "    desc.append(i.text)\n",
    "    \n",
    "print(len(desc))\n",
    "print(desc)"
   ]
  },
  {
   "cell_type": "code",
   "execution_count": 475,
   "id": "b3040cb1",
   "metadata": {},
   "outputs": [],
   "source": [
    "l_tag=driver.find_elements(By.XPATH,'//span[@itemprop=\"programmingLanguage\"]')\n",
    "try:\n",
    "    for i in l_tag[0:25]:\n",
    "        language.append(i.text)\n",
    "except NoSuchElementException as e:\n",
    "    print('Exception raised' ,e)\n",
    "    language.append('-')"
   ]
  },
  {
   "cell_type": "code",
   "execution_count": 476,
   "id": "31cb0e64",
   "metadata": {},
   "outputs": [
    {
     "data": {
      "text/plain": [
       "20"
      ]
     },
     "execution_count": 476,
     "metadata": {},
     "output_type": "execute_result"
    }
   ],
   "source": [
    "len(language)"
   ]
  },
  {
   "cell_type": "code",
   "execution_count": 483,
   "id": "e45b39b9",
   "metadata": {},
   "outputs": [
    {
     "data": {
      "text/plain": [
       "['Jupyter Notebook',\n",
       " 'Python',\n",
       " 'Python',\n",
       " 'C',\n",
       " 'Python',\n",
       " 'Go',\n",
       " 'Rust',\n",
       " 'Python',\n",
       " 'Python',\n",
       " 'C++',\n",
       " 'TypeScript',\n",
       " 'Rust',\n",
       " 'Python',\n",
       " 'Rust',\n",
       " 'TypeScript',\n",
       " 'C++',\n",
       " 'Go',\n",
       " 'TypeScript',\n",
       " 'Batchfile',\n",
       " 'Assembly']"
      ]
     },
     "execution_count": 483,
     "metadata": {},
     "output_type": "execute_result"
    }
   ],
   "source": [
    "language"
   ]
  },
  {
   "cell_type": "code",
   "execution_count": 484,
   "id": "a1014913",
   "metadata": {},
   "outputs": [],
   "source": [
    "search=driver.find_element(By.XPATH,'/html/body/div[1]/div[4]/main/div[3]/div/div[2]/article[1]/h1/a')\n",
    "search.click()"
   ]
  },
  {
   "cell_type": "code",
   "execution_count": 485,
   "id": "8a599f5d",
   "metadata": {},
   "outputs": [],
   "source": [
    "search=driver.find_element(By.XPATH,'//*[@id=\"repo-content-pjax-container\"]/div/div/div[3]/div[2]/div/div[4]/div/div/a')\n",
    "search.click()"
   ]
  },
  {
   "cell_type": "code",
   "execution_count": 487,
   "id": "57889314",
   "metadata": {},
   "outputs": [],
   "source": [
    "c1=[]"
   ]
  },
  {
   "cell_type": "code",
   "execution_count": 488,
   "id": "b2231c52",
   "metadata": {},
   "outputs": [
    {
     "name": "stdout",
     "output_type": "stream",
     "text": [
      "35\n",
      "['yk', 'andreaskoepf', 'fozziethebeat', 'AlexanderHOtt', 'martinnormark', 'BirgerMoell', 'mjagkow', 'AbdBarho', 'rsandb', 'LucianPetri', 'k-nearest-neighbor', 'i-like-apis', 'palp', 'othrayte', 'alexandrelefourner', 'sryu1', 'jojopirker', 'croumegous', 'kiritowu', 'Jac-Zac', 'seyfeddinenecib', 'ss18', 'poipiii', 'TwoDukes', 'SzymonOzog', 'GraemeHarris', 'MohamedAliRashad', 'AAYUSH-droid', 'villelahdenvuo', 'Vechtomov', 'Graverman-dev', 'kostiak', 'koustubhavachat', 'billray0259', 'christophschuhmann']\n"
     ]
    }
   ],
   "source": [
    "c_tag1=driver.find_elements(By.XPATH,'//a[@class=\"text-normal\"]')\n",
    "for i in c_tag1:\n",
    "    c1.append(i.text)\n",
    "    \n",
    "print(len(c1))\n",
    "print(c1)"
   ]
  },
  {
   "cell_type": "code",
   "execution_count": 489,
   "id": "631f9030",
   "metadata": {},
   "outputs": [],
   "source": [
    "search=driver.find_element(By.XPATH,'/html/body/div[1]/div[4]/main/div[3]/div/div[2]/article[2]/h1/a')\n",
    "search.click()"
   ]
  },
  {
   "cell_type": "code",
   "execution_count": 490,
   "id": "9493a57a",
   "metadata": {},
   "outputs": [
    {
     "name": "stdout",
     "output_type": "stream",
     "text": [
      "2\n",
      "['karpathy Andrej', 'ankandrew']\n"
     ]
    }
   ],
   "source": [
    "c2=[]\n",
    "c_tag2=driver.find_elements(By.XPATH,'//a[@class=\"Link--primary no-underline flex-self-center\"]')\n",
    "for i in c_tag2:\n",
    "    c2.append(i.text)\n",
    "    \n",
    "print(len(c2))\n",
    "print(c2)\n"
   ]
  },
  {
   "cell_type": "code",
   "execution_count": 491,
   "id": "1e976ceb",
   "metadata": {},
   "outputs": [],
   "source": [
    "search=driver.find_element(By.XPATH,'/html/body/div[1]/div[4]/main/div[3]/div/div[2]/article[3]/h1/a')\n",
    "search.click()"
   ]
  },
  {
   "cell_type": "code",
   "execution_count": 492,
   "id": "b547ffef",
   "metadata": {},
   "outputs": [
    {
     "name": "stdout",
     "output_type": "stream",
     "text": [
      "3\n",
      "['sczhou Shangchen Zhou', 'JohanAR Johan', 'chenxwh Chenxi']\n"
     ]
    }
   ],
   "source": [
    "c3=[]\n",
    "c_tag3=driver.find_elements(By.XPATH,'//li[@class=\"mb-2 d-flex\"]')\n",
    "for i in c_tag3:\n",
    "    c3.append(i.text)\n",
    "    \n",
    "print(len(c3))\n",
    "print(c3)"
   ]
  },
  {
   "cell_type": "code",
   "execution_count": 493,
   "id": "dd7a3d7b",
   "metadata": {},
   "outputs": [],
   "source": [
    "search=driver.find_element(By.XPATH,'/html/body/div[1]/div[4]/main/div[3]/div/div[2]/article[4]/h1/a')\n",
    "search.click()"
   ]
  },
  {
   "cell_type": "code",
   "execution_count": 494,
   "id": "01ae9913",
   "metadata": {},
   "outputs": [],
   "source": [
    "search=driver.find_element(By.XPATH,'//*[@id=\"repo-content-pjax-container\"]/div/div/div[3]/div[2]/div/div[5]/div/div/a')\n",
    "search.click()"
   ]
  },
  {
   "cell_type": "code",
   "execution_count": 495,
   "id": "11d9a062",
   "metadata": {},
   "outputs": [
    {
     "name": "stdout",
     "output_type": "stream",
     "text": [
      "100\n",
      "['skotopes', 'xMasterX', 'Eng1n33r', 'glitchcore', 'DrZlo13', 'gornekich', 'Skorpionm', 'nminaylov', 'hedger', 'derskythe', 'itsyourbedtime', 'aprosvetova', 'gsurkov', 'aku-plooks', 'zhovner', 'rusdacent', 'albkharisov', 'darmiel', 'TQMatvey', 'Astrrra', 'drunkbatya', 'Disasm', 'bettse', 'UberGuidoZ', 'GMMan', 'mvanzanten', 'Karator', 'amec0e', 'doomwastaken', 'mauimauer', 'lomalkin', 'jaroslavmraz', 'Shmuma', 'LionZXY', 'djsime1', 'kevinwallace', 'okalachev', 'aquam1ne', 'hp197', 'quen0n', 'RogueMaster', 'SamuelYvon', 'tonyfreeman', 'gid9798', 'kowalski7cc', 'digitalcircuit', 'krolchonok', 'msvsergey', 'an4tur0r', 'askoriy', 'ESurge', 'enovella', 'wdoekes', 'SnowLeopard71', 'MuddledBox', 'shevv', 'alexanderkulagin', 'Kavitate', 'ZoeMeetAgain', 'huuck', 'airs0urce', 'valentinegb', 'Tobirg', 'skelq', 'lucemans', 'rf-bandit', 'samuel', 'br0ziliy', 'wh00hw', 'ahumeniy', 'antimatter15', 'ankris812', 'pcunning', 'spherebread', 'DrEverr', 'ghettorce', 'dva', 'OlegSchwann', 'DanielSolmann', 'nikita-b', 'ktemkin', 'stash', 'fmarier', '1mckenna', 'leeroywking', 'JackDoan', 'agathakazar', 'otanim', 'jogloran', 'v0s', 'fominykhandrei', 'improving-rigmarole', 'DanyaE', 'DF-wu', 'pkulev', 'youlovesaturn', 'nemanjan00', 'mcheshkov', 'yiiii777', 'neshkeev']\n"
     ]
    }
   ],
   "source": [
    "c4=[]\n",
    "c_tag4=driver.find_elements(By.XPATH,'//a[@class=\"text-normal\"]')\n",
    "for i in c_tag4:\n",
    "    c4.append(i.text)\n",
    "    \n",
    "print(len(c4))\n",
    "print(c4)"
   ]
  },
  {
   "cell_type": "code",
   "execution_count": 496,
   "id": "c02f2207",
   "metadata": {},
   "outputs": [],
   "source": [
    "search=driver.find_element(By.XPATH,'/html/body/div[1]/div[4]/main/div[3]/div/div[2]/article[5]/h1/a')\n",
    "search.click()"
   ]
  },
  {
   "cell_type": "code",
   "execution_count": 497,
   "id": "a1e938b8",
   "metadata": {},
   "outputs": [],
   "source": [
    "search=driver.find_element(By.XPATH,'//*[@id=\"repo-content-pjax-container\"]/div/div/div[3]/div[2]/div/div[5]/div/div/a')\n",
    "search.click() "
   ]
  },
  {
   "cell_type": "code",
   "execution_count": 498,
   "id": "fa4e2904",
   "metadata": {},
   "outputs": [
    {
     "name": "stdout",
     "output_type": "stream",
     "text": [
      "99\n",
      "['dstftw', 'phihag', 'remitamine', 'jaimeMF', 'rg3', 'FiloSottile', 'dirkf', 'pulpe', 'Tithen-Firion', 'gcmalloc', 'yasoob', 'atomicdryad', 'TRox1972', 'iemejia', 'goggle', 'rrooij', 'johnhawkinson', 'rzhxeo', 'Rudloff', 'parmjitv', 'lalinsky', 'MikeCol', 'gebn', 'jwilk', 'jeffcrouse', 'Dineshs91', 'pmrowla', 'sprhawk', 'slava-sh', 'blissland', 'gfabiano', 'adrianheine', 'WillSewell', 'fstirlitz', 'sudovijay', 'PeterDing', 'bastik', 'patrickslin', 'ealgase', 'aajanki', 'kasper93', 'JChris246', 'Boris-de', 'nixxo', 'timendum', 'xanadu', 'gvalkov', 'pukkandan', 'tobidope', 'arkamar', 'sahutd', 't0mm0', 'Tatsh', 'steebchen', 'ping', 'Celthi', 'Phaeilo', 'wader', 'ngld', 'chrisjrn', 'einstein95', 'jbuchbinder', 'AGSPhoenix', 'oskar456', 'ThomasChr', 'reiv', 'adammw', 'georgjaehnig', 'pishposhmcgee', 'snipem', '0xallie', 'misterhat', 'akretz', 'mc2avr', 'Huarong', 'bit', 'kikuyan', 'olebowle', 'thesues', 'mrfade', 'michael-k', 'mnem', 'AndroKev', 'jtwaleson', 'mtp1376', 'hojel', 'smed79', 'Kagami', 'heyitsxavier', 'che0', 'windom', 'kayb94', 'terminalmage', 'imrehg', 'xyb', 'iamleot', 'Lesmiscore', 'B0pol', 'renalid']\n"
     ]
    }
   ],
   "source": [
    "c5=[]\n",
    "c_tag5=driver.find_elements(By.XPATH,'//a[@class=\"text-normal\"]')\n",
    "for i in c_tag5:\n",
    "    c5.append(i.text)\n",
    "    \n",
    "print(len(c5))\n",
    "print(c5)"
   ]
  },
  {
   "cell_type": "code",
   "execution_count": 499,
   "id": "b5270691",
   "metadata": {},
   "outputs": [],
   "source": [
    "search=driver.find_element(By.XPATH,'/html/body/div[1]/div[4]/main/div[3]/div/div[2]/article[6]/h1/a')\n",
    "search.click()"
   ]
  },
  {
   "cell_type": "code",
   "execution_count": 500,
   "id": "67222816",
   "metadata": {},
   "outputs": [],
   "source": [
    "search=driver.find_element(By.XPATH,'//*[@id=\"repo-content-pjax-container\"]/div/div/div[3]/div[2]/div/div[5]/div/div/a')\n",
    "search.click()"
   ]
  },
  {
   "cell_type": "code",
   "execution_count": 501,
   "id": "b1304bd0",
   "metadata": {},
   "outputs": [
    {
     "name": "stdout",
     "output_type": "stream",
     "text": [
      "15\n",
      "['another-rex', 'oliverchang', 'G-Rath', 'iurisilvio', 'renovate-bot', 'myersg86', 'chenrui333', 'stevehipwell', 'hi-artem', 'helmutkemper', 'abhisek', 'cpanato', 'jwillker', 'kevin-vargas', 'OliverNocon']\n"
     ]
    }
   ],
   "source": [
    "c6=[]\n",
    "c_tag6=driver.find_elements(By.XPATH,'//a[@class=\"text-normal\"]')\n",
    "for i in c_tag6:\n",
    "    c6.append(i.text)\n",
    "    \n",
    "print(len(c6))\n",
    "print(c6)"
   ]
  },
  {
   "cell_type": "code",
   "execution_count": 506,
   "id": "7a33741d",
   "metadata": {},
   "outputs": [],
   "source": [
    "search=driver.find_element(By.XPATH,'/html/body/div[1]/div[4]/main/div[3]/div/div[2]/article[7]/h1/a')\n",
    "search.click()"
   ]
  },
  {
   "cell_type": "code",
   "execution_count": 507,
   "id": "48ebac8b",
   "metadata": {},
   "outputs": [],
   "source": [
    "search=driver.find_element(By.XPATH,'//*[@id=\"repo-content-pjax-container\"]/div/div/div[3]/div[2]/div/div[6]/div/div/a')\n",
    "search.click()"
   ]
  },
  {
   "cell_type": "code",
   "execution_count": 508,
   "id": "2a7918bd",
   "metadata": {},
   "outputs": [
    {
     "name": "stdout",
     "output_type": "stream",
     "text": [
      "100\n",
      "['ritchie46', 'stinodego', 'zundertj', 'alexander-beedie', 'ghuls', 'universalmind303', 'matteosantama', 'Dandandan', 'ibENPC', 'jorgecarleitao', 'cjermain', 'marcvanheerden', 'ryanrussell', 'cnpryer', 'thatlittleboy', 'illumination-k', 'marioloko', 'moritzwilksch', 'mhconradt', 'braaannigan', 'YuRiTan', 'elbaro', 'nickray', 'adamgreg', 'paq', 'dandxy89', 'olivier-lacroix', 'chitralverma', 'dannyvankooten', 'slonik-az', 'owrior', 'nmandery', 'rkarp', 'OneRaynyDay', 'messense', 'sorhawell', 'fsimkovic', 'joshuataylor', 'CloseChoice', 'romanovacca', 'MarcoGorelli', 'jjerphan', 'thomasaarholt', 'hpux735', 'physinet', 'gaoxinge', 'TheDan64', 'Maxyme', 'elferherrera', 'potter420', 'JakobGM', 'markfairbanks', 'wseaton', 'AnatolyBuga', 'winding-lines', 'cannero', 'ozgrakkurt', 'andrewpollack', 'CalOmnie', 'isaacthefallenapple', 'gyscos', 'glennpierce', 'ishmandoo', 'atouchet', 'zirconium-n', 'FlorianWilhelm', 'ErikDeSmedt', 'Spirans', 'mariushelf', 'khamutov', 'LuisCardosoOliveira', 'tamasfe', 'qiemem', 'sephiron99', 'ilsley', 'aneeshnema', 'Brooooooklyn', 'dbr', 'jay-johnson', 'veinkr', 'simonw', 'XeCycle', 'pradkrish', '1aguna', 'bluss', 'Tiramisu27', 'carnarez', 'tiphaineruy', 'mahadeveaswar', 'mark-a', 'fwani', 'jmrgibson', 'thanhtm1', 'H-M-H', 'muyixi315', 'dsaxton', 'paauw', 'Posnet', 'Niederb', 'lwiklendt']\n"
     ]
    }
   ],
   "source": [
    "c7=[]\n",
    "c_tag7=driver.find_elements(By.XPATH,'//a[@class=\"text-normal\"]')\n",
    "for i in c_tag7:\n",
    "    c7.append(i.text)\n",
    "    \n",
    "print(len(c7))\n",
    "print(c7)"
   ]
  },
  {
   "cell_type": "code",
   "execution_count": 509,
   "id": "6af4bfd3",
   "metadata": {},
   "outputs": [],
   "source": [
    "search=driver.find_element(By.XPATH,'/html/body/div[1]/div[4]/main/div[3]/div/div[2]/article[8]/h1/a')\n",
    "search.click()"
   ]
  },
  {
   "cell_type": "code",
   "execution_count": 510,
   "id": "7c0327e2",
   "metadata": {},
   "outputs": [],
   "source": [
    "search=driver.find_element(By.XPATH,'//*[@id=\"repo-content-pjax-container\"]/div/div/div[3]/div[2]/div/div[5]/div/h2/a')\n",
    "search.click()"
   ]
  },
  {
   "cell_type": "code",
   "execution_count": 511,
   "id": "f06900ba",
   "metadata": {},
   "outputs": [
    {
     "name": "stdout",
     "output_type": "stream",
     "text": [
      "11\n",
      "['neonbjb', 'jnordberg', 'osanseviero', 'MarcusLlewellyn', 'casonclagg', 'mogwai', 'space-pope', 'jaimu97', 'wavymulder', 'faad3', 'e0xextazy']\n"
     ]
    }
   ],
   "source": [
    "c8=[]\n",
    "c_tag8=driver.find_elements(By.XPATH,'//a[@class=\"text-normal\"]')\n",
    "for i in c_tag8:\n",
    "    c8.append(i.text)\n",
    "    \n",
    "print(len(c8))\n",
    "print(c8)"
   ]
  },
  {
   "cell_type": "code",
   "execution_count": 512,
   "id": "a819c9d5",
   "metadata": {},
   "outputs": [],
   "source": [
    "search=driver.find_element(By.XPATH,'/html/body/div[1]/div[4]/main/div[3]/div/div[2]/article[9]/h1/a')\n",
    "search.click()"
   ]
  },
  {
   "cell_type": "code",
   "execution_count": 513,
   "id": "57a716df",
   "metadata": {},
   "outputs": [],
   "source": [
    "search=driver.find_element(By.XPATH,'//*[@id=\"repo-content-pjax-container\"]/div/div/div[3]/div[2]/div/div[5]/div/div/a')\n",
    "search.click()"
   ]
  },
  {
   "cell_type": "code",
   "execution_count": 514,
   "id": "9112f280",
   "metadata": {},
   "outputs": [
    {
     "name": "stdout",
     "output_type": "stream",
     "text": [
      "74\n",
      "['Developer-Y', 'DateBro', 'LameLemon', 'Alaharon123', 'inf3cti0n95', 'mundher', 'bivashpandey', 'bhuthesh', 'solomonbstoner', 'Suraj7879', 'tentena', 'spekulatius', 'FabienTregan', 'Sushants-Git', 'm4salah', 'BemwaMalak', 'ayushpandey830', 'richwill28', 'ei-blue', 'soum-c', 'BikramHalder', 'JVKdouk', 'trisolaris233', 'jeffheaton', 'sashedher', 'aleichtm', 'Atcold', 'IureRosa', 'ProgrammingPete', '0xsomnus', 'paulosalvatore', 'awxiaoxian2020', 'jeffin07', 'norswap', 'Chirag-Bansal', 'tejasurya', 'elarabyelaidy19', 'hrithik254', 'rishabhb-git', 'GianAndreaSechi', 'hxt365', 'floe', 'tientaidev', 'JZZQuant', 'sootysec', 'shreyasdeotare', 'XeroHero', 'cage433', 'wcrasta', 'hridaydutta123', 'laithshadeed', 'domsupamoe', 'eternalfool', 'wp-lai', 'taylorty', 'xtangle', 'lamberta', 'ShashankP19', 'miangraham', 'Ghost93', 'naeemshaikh90', 'gusnaughton', 'danielrbradley', 'asivokon', 'mterwill', 'bbhart', 'guybrush', 'alebcay', 'pvcraven', 'emperor-jimmu', 'nishanths', 'krnets', 'mperreux', 'P7h']\n"
     ]
    }
   ],
   "source": [
    "c9=[]\n",
    "c_tag9=driver.find_elements(By.XPATH,'//a[@class=\"text-normal\"]')\n",
    "for i in c_tag9:\n",
    "    c9.append(i.text)\n",
    "    \n",
    "print(len(c9))\n",
    "print(c9)"
   ]
  },
  {
   "cell_type": "code",
   "execution_count": 515,
   "id": "9e9241e7",
   "metadata": {},
   "outputs": [],
   "source": [
    "search=driver.find_element(By.XPATH,'/html/body/div[1]/div[4]/main/div[3]/div/div[2]/article[10]/h1/a')\n",
    "search.click()"
   ]
  },
  {
   "cell_type": "code",
   "execution_count": 516,
   "id": "4805a37f",
   "metadata": {},
   "outputs": [],
   "source": [
    "search=driver.find_element(By.XPATH,'//*[@id=\"repo-content-pjax-container\"]/div/div/div[3]/div[2]/div/div[5]/div/h2/a')\n",
    "search.click()"
   ]
  },
  {
   "cell_type": "code",
   "execution_count": 518,
   "id": "01ae008f",
   "metadata": {},
   "outputs": [
    {
     "name": "stdout",
     "output_type": "stream",
     "text": [
      "3\n",
      "['omarsar', 'mihail911', 'dominiksipowicz']\n"
     ]
    }
   ],
   "source": [
    "c10=[]\n",
    "c_tag10=driver.find_elements(By.XPATH,'//a[@class=\"text-normal\"]')\n",
    "for i in c_tag10:\n",
    "    c10.append(i.text)\n",
    "    \n",
    "print(len(c10))\n",
    "print(c10)"
   ]
  },
  {
   "cell_type": "code",
   "execution_count": 519,
   "id": "e14896be",
   "metadata": {},
   "outputs": [],
   "source": [
    "search=driver.find_element(By.XPATH,'/html/body/div[1]/div[4]/main/div[3]/div/div[2]/article[11]/h1/a')\n",
    "search.click()"
   ]
  },
  {
   "cell_type": "code",
   "execution_count": 520,
   "id": "e7cf1589",
   "metadata": {},
   "outputs": [],
   "source": [
    "search=driver.find_element(By.XPATH,'//*[@id=\"readme\"]/div[2]/article/h2[4]')\n",
    "search.click()"
   ]
  },
  {
   "cell_type": "code",
   "execution_count": 522,
   "id": "8f7f85db",
   "metadata": {},
   "outputs": [
    {
     "name": "stdout",
     "output_type": "stream",
     "text": [
      "2\n",
      "['AllContributors', '']\n"
     ]
    }
   ],
   "source": [
    "c11=[]\n",
    "c_tag11=driver.find_elements(By.XPATH,'//h1[@class=\"f1 text-normal\"]')\n",
    "for i in c_tag11:\n",
    "    c11.append(i.text)\n",
    "    \n",
    "print(len(c11))\n",
    "print(c11)"
   ]
  },
  {
   "cell_type": "code",
   "execution_count": 523,
   "id": "dd1b6350",
   "metadata": {},
   "outputs": [],
   "source": [
    "search=driver.find_element(By.XPATH,'/html/body/div[1]/div[4]/main/div[3]/div/div[2]/article[12]/h1/a')\n",
    "search.click()"
   ]
  },
  {
   "cell_type": "code",
   "execution_count": 524,
   "id": "543b22d9",
   "metadata": {},
   "outputs": [],
   "source": [
    "search=driver.find_element(By.XPATH,'//*[@id=\"repo-content-pjax-container\"]/div/div/div[3]/div[2]/div/div[5]/div/div/a')\n",
    "search.click()"
   ]
  },
  {
   "cell_type": "code",
   "execution_count": 525,
   "id": "33cf6322",
   "metadata": {},
   "outputs": [
    {
     "name": "stdout",
     "output_type": "stream",
     "text": [
      "100\n",
      "['ocornut', 'rokups', 'thedmd', 'bkaradzic', 'ShironekoBen', 'Xipiryon', 'septag', 'podsvirov', 'waywardmonkeys', 'ParticlePeter', 'Loftilus', 'martty', 'eliasdaler', 'samhocevar', 'Clownacy', 'bfierz', 'bear24rw', 'andrewwillmott', 'elect86', 'jtilander', 'PathogenDavid', 'warrenm', 'stuartcarnie', 'fr500', 'nlguillemot', 'emoon', 'memononen', 'ybunyak', 'Espyo', 'tocic', 'iboB', 'xndcn', 'kudaba', 'nicolasnoble', 'wolfpld', 'dougbinks', 'DomGries', 'luk1337', 'dos1', 'haldean', 'ice1000', 'ndandoulakis', 'jawilkins', 'jdm3', 'nem0', 'kylawl', 'gzito', 'DanielGibson', 'joeld42', 'adamdmoss', 'NeilBickford-NV', 'TheMostDiligent', 'Teselka', 'cfillion', 'luigifcruz', 'JJCUBER', 'rsousacode', 'sergeyn', 'liuliu', 'actboy168', 'cdwfs', 'funchal', 'duddel', 'lethal-guitar', 'FunMiles', 'CookiePLMonster', 'DonKult', 'NeroBurner', 'matt77hias', 'cranflavin', 'franciscod', 'codecat', 'nProtect', 'Gargaj', 'benvanik', 'thevaber', 'jadwallis', 'TinyTinni', 'SaschaWillems', 'jslee02', 'madeso', 'michaelbartnett', 'sergof', 'kellygravelyn', 'DMartinek', 'JuJuBoSc', 'tpoechtrager', 'twoscomplement', 'paperManu', 'mmozeiko', 'olivierchatry', 'orbitcowboy', 'mhristov', 'jsimmons', 'biller23', 'usagi', 'JarrettBillingsley', 'FL1NE', 'xythobuz', 'corpsmoderne']\n"
     ]
    }
   ],
   "source": [
    "c12=[]\n",
    "c_tag12=driver.find_elements(By.XPATH,'//a[@class=\"text-normal\"]')\n",
    "for i in c_tag12:\n",
    "    c12.append(i.text)\n",
    "    \n",
    "print(len(c12))\n",
    "print(c12)"
   ]
  },
  {
   "cell_type": "code",
   "execution_count": 526,
   "id": "8ab70490",
   "metadata": {},
   "outputs": [],
   "source": [
    "search=driver.find_element(By.XPATH,'/html/body/div[1]/div[4]/main/div[3]/div/div[2]/article[13]/h1/a')\n",
    "search.click()"
   ]
  },
  {
   "cell_type": "code",
   "execution_count": 527,
   "id": "7822b170",
   "metadata": {},
   "outputs": [
    {
     "name": "stdout",
     "output_type": "stream",
     "text": [
      "83\n",
      "['AmruthPillai', 'gianantoniopini', 'dependabot[bot]', 'opchaves', 'chandiwalaaadhar', 'tryallthethings', 'GovindKrishnan', 'dependabot-preview[bot]', 'driesvandamme', 'ravindra3003', 'MeisterLLD', 'modem7', 'lpmi-13', 'SHENG-X', 'PhuNH', 'klejejs', 'faturachmanyusup', 'ImgBotApp', 'rpolley', 'hwang381', 'stonespheres', 'kmkhant', 'arefathi', 'zzarc', 'adamantike', 'HristovCodes', 'mberlinger3', 'm4rcs', 'NatProView', 'yonihod', 'Jack-Kingdom', 'GETandSELECT', 'RobbeVanslambrouck', 'sashokbg', 'dnltsk', 'SSHSRN', 'Rohanfizz', 'AymaneBoukrouh', 'kgotso', 'm-GDEV', 'Leopere', 'Mhnramin', 'Tomiiwa', 'augustocardoso07', 'schklom', 'apat183', 'mupsys', 'hpierre74', 'preetamm', 'kescherCode', 'theoctober19th', 'ntotao', 'ceoshikhar', 'p-8-z', 'majumin', 'lordkyuusei', 'mlow', 'ConorSheehan1', '4O4', 'bddvlpr', 'pmsoltani', 'mrjelveh', 'enzo-g', 'PostIt59', 'robert-w-gries', 'thjiang', 'kbravh', 'RijulGulati', 'crazyuploader', 'a-thug', 'RiderExMachina', 'iyo-bemoore', 'prateek-parashar', 'felcg', 'bryannsi', 'kafiln', 'anajuliabit', 'SuperSandro2000', 'hatemhosny', 'darcien', 'pmop', 'Panzki', 'viktorrudi']\n"
     ]
    }
   ],
   "source": [
    "c13=[]\n",
    "c_tag13=driver.find_elements(By.XPATH,'//a[@class=\"text-normal\"]')\n",
    "for i in c_tag13:\n",
    "    c13.append(i.text)\n",
    "    \n",
    "print(len(c13))\n",
    "print(c13)"
   ]
  },
  {
   "cell_type": "code",
   "execution_count": 528,
   "id": "721a3703",
   "metadata": {},
   "outputs": [],
   "source": [
    "search=driver.find_element(By.XPATH,'/html/body/div[1]/div[4]/main/div[3]/div/div[2]/article[14]/h1/a')\n",
    "search.click()"
   ]
  },
  {
   "cell_type": "code",
   "execution_count": 530,
   "id": "dd92031d",
   "metadata": {},
   "outputs": [
    {
     "name": "stdout",
     "output_type": "stream",
     "text": [
      "35\n",
      "['max-sixty', 'aljazerzen', 'pre-commit-ci[bot]', 'dependabot[bot]', 'mklopets', 'richb-hanover', 'charlie-sanders', 'kiibo382', 'roG0d', 'kwigley', 'arrizalamin', 'github-actions[bot]', 'MarinPostma', 'doki23', 'iafisher', 'Shuozeli', 'eitsupi', 'snth', 'bcho', 'allurefx', 'boramalper', 'EArazli', 'aj-bagwell', 'kianmeng', 'sigxcpu76', 'sebastiantoh', 'roldugin', 'Jaspooky', 'ryanrussell', 'StevenMaude', 'rbpatt2019', 'danjones1618', 'pbsds', 'andreypopp', 'gasi']\n"
     ]
    }
   ],
   "source": [
    "c14=[]\n",
    "c_tag14=driver.find_elements(By.XPATH,'//a[@class=\"text-normal\"]')\n",
    "for i in c_tag14:\n",
    "    c14.append(i.text)\n",
    "    \n",
    "print(len(c14))\n",
    "print(c14)"
   ]
  },
  {
   "cell_type": "code",
   "execution_count": 531,
   "id": "6cc0f12e",
   "metadata": {},
   "outputs": [],
   "source": [
    "search=driver.find_element(By.XPATH,'/html/body/div[1]/div[4]/main/div[3]/div/div[2]/article[15]/h1/a')\n",
    "search.click()"
   ]
  },
  {
   "cell_type": "code",
   "execution_count": 532,
   "id": "00972a36",
   "metadata": {},
   "outputs": [
    {
     "name": "stdout",
     "output_type": "stream",
     "text": [
      "1\n",
      "['RedTeam-Tools']\n"
     ]
    }
   ],
   "source": [
    "c15=[]\n",
    "c_tag15=driver.find_elements(By.XPATH,'//*[@id=\"readme\"]/div[2]/article/h1[1]')\n",
    "for i in c_tag15:\n",
    "    c15.append(i.text)\n",
    "    \n",
    "print(len(c15))\n",
    "print(c15)"
   ]
  },
  {
   "cell_type": "code",
   "execution_count": 533,
   "id": "700e6b22",
   "metadata": {},
   "outputs": [],
   "source": [
    "search=driver.find_element(By.XPATH,'/html/body/div[1]/div[4]/main/div[3]/div/div[2]/article[16]/h1/a')\n",
    "search.click()"
   ]
  },
  {
   "cell_type": "code",
   "execution_count": 534,
   "id": "d9cb1cee",
   "metadata": {},
   "outputs": [],
   "source": [
    "search=driver.find_element(By.XPATH,'//*[@id=\"repo-content-pjax-container\"]/div/div/div[3]/div[2]/div/div[5]/div/h2/a')\n",
    "search.click()"
   ]
  },
  {
   "cell_type": "code",
   "execution_count": 536,
   "id": "f208669e",
   "metadata": {},
   "outputs": [
    {
     "name": "stdout",
     "output_type": "stream",
     "text": [
      "6\n",
      "['jerryjliu', 'teoh', 'gwpx', 'cnrpman', 'pavanyellow', 'hongyishi']\n"
     ]
    }
   ],
   "source": [
    "c16=[]\n",
    "c_tag16=driver.find_elements(By.XPATH,'//a[@class=\"text-normal\"]')\n",
    "for i in c_tag16:\n",
    "    c16.append(i.text)\n",
    "    \n",
    "print(len(c16))\n",
    "print(c16)"
   ]
  },
  {
   "cell_type": "code",
   "execution_count": 539,
   "id": "2afa8abb",
   "metadata": {},
   "outputs": [],
   "source": [
    "search=driver.find_element(By.XPATH,'/html/body/div[1]/div[4]/main/div[3]/div/div[2]/article[17]/h1/a')\n",
    "search.click()"
   ]
  },
  {
   "cell_type": "code",
   "execution_count": 540,
   "id": "7703def1",
   "metadata": {},
   "outputs": [
    {
     "name": "stdout",
     "output_type": "stream",
     "text": [
      "1\n",
      "['']\n"
     ]
    }
   ],
   "source": [
    "c17=[]\n",
    "c_tag17=driver.find_elements(By.XPATH,'//*[@id=\"readme\"]/div[2]/article/p[13]')\n",
    "for i in c_tag17:\n",
    "    c17.append(i.text)\n",
    "    \n",
    "print(len(c17))\n",
    "print(c17)"
   ]
  },
  {
   "cell_type": "code",
   "execution_count": 542,
   "id": "71896946",
   "metadata": {},
   "outputs": [],
   "source": [
    "search=driver.find_element(By.XPATH,'/html/body/div[1]/div[4]/main/div[3]/div/div[2]/article[18]/h1/a')\n",
    "search.click()"
   ]
  },
  {
   "cell_type": "code",
   "execution_count": 543,
   "id": "ab077783",
   "metadata": {},
   "outputs": [],
   "source": [
    "search=driver.find_element(By.XPATH,'//*[@id=\"repo-content-pjax-container\"]/div/div/div[3]/div[2]/div/div[5]/div/div/a')\n",
    "search.click()"
   ]
  },
  {
   "cell_type": "code",
   "execution_count": 544,
   "id": "70d0a7da",
   "metadata": {},
   "outputs": [
    {
     "name": "stdout",
     "output_type": "stream",
     "text": [
      "24\n",
      "['krisnova', 'future-highway', 'dmah42', 'taniwha3', 'megamorf', 'neoeinstein', 'fdr10', 'arjunrbery', 'BrianSakhai', 'coopernetes', 'matthiask', 'prattmic', 'theaeonsolution', 'flostadler', 'matttproud', 'bitbonk', 'edude03', 'taliamax', 'andreek', 'RECturtle', 'halorgium', 'MalteJ', 'Vincinator', 'tylerauerbeck']\n"
     ]
    }
   ],
   "source": [
    "c18=[]\n",
    "c_tag18=driver.find_elements(By.XPATH,'//a[@class=\"text-normal\"]')\n",
    "for i in c_tag18:\n",
    "    c18.append(i.text)\n",
    "    \n",
    "print(len(c18))\n",
    "print(c18)"
   ]
  },
  {
   "cell_type": "code",
   "execution_count": 545,
   "id": "bd9371df",
   "metadata": {},
   "outputs": [],
   "source": [
    "search=driver.find_element(By.XPATH,'/html/body/div[1]/div[4]/main/div[3]/div/div[2]/article[19]/h1/a')\n",
    "search.click()"
   ]
  },
  {
   "cell_type": "code",
   "execution_count": 546,
   "id": "fd803b6f",
   "metadata": {},
   "outputs": [],
   "source": [
    "search=driver.find_element(By.XPATH,'//*[@id=\"repo-content-pjax-container\"]/div/div/div[3]/div[2]/div/div[5]/div/h2/a')\n",
    "search.click()"
   ]
  },
  {
   "cell_type": "code",
   "execution_count": 547,
   "id": "14fe3946",
   "metadata": {},
   "outputs": [
    {
     "name": "stdout",
     "output_type": "stream",
     "text": [
      "9\n",
      "['zu1k', 'Wybxc', 'yihong0618', 'xxchan', 'mscaruf', 'baptiste313', 'dp0d', 'LufsX', 'n0vad3v']\n"
     ]
    }
   ],
   "source": [
    "c19=[]\n",
    "c_tag19=driver.find_elements(By.XPATH,'//a[@class=\"text-normal\"]')\n",
    "for i in c_tag19:\n",
    "    c19.append(i.text)\n",
    "    \n",
    "print(len(c19))\n",
    "print(c19)"
   ]
  },
  {
   "cell_type": "code",
   "execution_count": 549,
   "id": "fa44b60e",
   "metadata": {},
   "outputs": [],
   "source": [
    "search=driver.find_element(By.XPATH,'/html/body/div[1]/div[4]/main/div[3]/div/div[2]/article[20]/h1/a')\n",
    "search.click()"
   ]
  },
  {
   "cell_type": "code",
   "execution_count": 550,
   "id": "04fe2b8c",
   "metadata": {},
   "outputs": [],
   "source": [
    "search=driver.find_element(By.XPATH,'//*[@id=\"repo-content-pjax-container\"]/div/div/div[3]/div[2]/div/div[5]/div/h2/a')\n",
    "search.click()"
   ]
  },
  {
   "cell_type": "code",
   "execution_count": 551,
   "id": "2cba047b",
   "metadata": {},
   "outputs": [
    {
     "name": "stdout",
     "output_type": "stream",
     "text": [
      "11\n",
      "['BrunoLevy', 'whatnick', 'Mecrisp', 'bjepson', 'Grazfather', 'vazhnov', 'yathAg', 'trabucayre', 'lnussbaum', 'wuxx', 'badlydrawnrod']\n"
     ]
    }
   ],
   "source": [
    "c20=[]\n",
    "c_tag20=driver.find_elements(By.XPATH,'//a[@class=\"text-normal\"]')\n",
    "for i in c_tag20:\n",
    "    c20.append(i.text)\n",
    "    \n",
    "print(len(c20))\n",
    "print(c20)"
   ]
  },
  {
   "cell_type": "code",
   "execution_count": 552,
   "id": "3b4d007e",
   "metadata": {},
   "outputs": [],
   "source": [
    "search=driver.find_element(By.XPATH,'/html/body/div[1]/div[4]/main/div[3]/div/div[2]/article[21]/h1/a')\n",
    "search.click()"
   ]
  },
  {
   "cell_type": "code",
   "execution_count": 553,
   "id": "cfb66700",
   "metadata": {},
   "outputs": [],
   "source": [
    "search=driver.find_element(By.XPATH,'//*[@id=\"readme\"]/div[2]/article/p[7]/a')\n",
    "search.click()"
   ]
  },
  {
   "cell_type": "code",
   "execution_count": 554,
   "id": "5f754f5c",
   "metadata": {},
   "outputs": [
    {
     "name": "stdout",
     "output_type": "stream",
     "text": [
      "29\n",
      "['Xhofe', 'foxxorcat', 'BoYanZh', 'allcontributors[bot]', 'renovate[bot]', 'Code2qing', 'naicfeng', 'SheltonZhu', 'itsHenry35', 'ovear', 'user1121114685', 'LittleJake', 'DDS-ALL', 'DDSRem', 'EzraRT', 'cloudswave', 'baysonfox', 'AkashiCoin', 'CN-traveler', 'sihuan', 'simon-ding', 'koho', 'xfoxfu', 'itswcg', 'ysicing', 'hdm9527', 'XZB-1248', 'WntFlm', 'Windman1320']\n"
     ]
    }
   ],
   "source": [
    "c21=[]\n",
    "c_tag21=driver.find_elements(By.XPATH,'//a[@class=\"text-normal\"]')\n",
    "for i in c_tag21:\n",
    "    c21.append(i.text)\n",
    "    \n",
    "print(len(c21))\n",
    "print(c21)"
   ]
  },
  {
   "cell_type": "code",
   "execution_count": 556,
   "id": "8246525a",
   "metadata": {},
   "outputs": [],
   "source": [
    "search=driver.find_element(By.XPATH,'/html/body/div[1]/div[4]/main/div[3]/div/div[2]/article[22]/h1/a')\n",
    "search.click()"
   ]
  },
  {
   "cell_type": "code",
   "execution_count": 557,
   "id": "bd0c68b6",
   "metadata": {},
   "outputs": [],
   "source": [
    "search=driver.find_element(By.XPATH,'//*[@id=\"repo-content-pjax-container\"]/div/div/div[3]/div[2]/div/div[4]/div/div/a')\n",
    "search.click()"
   ]
  },
  {
   "cell_type": "code",
   "execution_count": 558,
   "id": "bcb6eed4",
   "metadata": {},
   "outputs": [
    {
     "name": "stdout",
     "output_type": "stream",
     "text": [
      "100\n",
      "['sahat', 'raisedadead', 'renovate-bot', 'camperbot', 'ojeytonwilliams', 'renovate[bot]', 'Bouncey', 'terakilobyte', 'naomi-lgbt', 'dependabot[bot]', 'RandellDawson', 'ahmadabdolsaheb', 'moT01', 'benmcmahon100', 'erictleung', 'abhisekp', 'scissorsneedfoodtoo', 'ValeraS', 'SaintPeter', 'Sboonny', 'ltegman', 'BerkeleyTrue', 'ShaunSHamilton', 'Manish-Giri', 'thecodingaviator', 'bugron', 'gikf', 'dhcodes', 'greenkeeperio-bot', 'ieahleen', 'Greenheart', 'Sembauke', 'AryanJ-NYC', 'vtamara', 'huyenltnguyen', 'greggubarev', 'BKinahan', 'QuincyLarson', 'Nirajn2311', 'sidemt', 'lasjorg', 'justinian336', 'beaucarnes', 'no-stack-dub-sack', 'systimotic', 'jonathan-grah', 'alvinkl', 'bbsmooth', 'iamrajiv', 'CleoAguiar', 'natac13', 'alistermada', 'ZhichengChen', 'darthmeme', 'BTmathic', 'dokkillo', 'jeremylt', 'NitronR', 'patsul12', 'ezioda004', 'arku', 'HKuz', 'DDaems', 'JoolsMcFly', 'AshNaz87', 'issyl0', 'TyMick', 'jbmartinez', 'cmccormack', 'elcodex', 'joel-bentley', 'alanbares', 'vkWeb', 'JosephLivengood', 'awu43', 'lipis', 'sahilkhurana19', 'MGenteluci', 'MiloATH', 'hassaanp', 'joseteIIo', 'brandenbyers', 'Vimal-Raghubir', 'nayabatir1', 'Twaha-Rahman', 'thecaffeinedev', 'Em-Ant', 'SudhakarKuma', 'alexch', 'aditijoshi14', 'joshalling', 'gforce2k5', 'aldraco', 'miyaliu666', 'brenoxav', 'GeneralZero', 'raditotev', 'z0x0936', 'aulisius', 'Dario-DC']\n"
     ]
    }
   ],
   "source": [
    "c22=[]\n",
    "c_tag22=driver.find_elements(By.XPATH,'//a[@class=\"text-normal\"]')\n",
    "for i in c_tag22:\n",
    "    c22.append(i.text)\n",
    "    \n",
    "print(len(c22))\n",
    "print(c22)"
   ]
  },
  {
   "cell_type": "code",
   "execution_count": 560,
   "id": "a43cb288",
   "metadata": {},
   "outputs": [],
   "source": [
    "search=driver.find_element(By.XPATH,'/html/body/div[1]/div[4]/main/div[3]/div/div[2]/article[23]/h1/a')\n",
    "search.click()"
   ]
  },
  {
   "cell_type": "code",
   "execution_count": 561,
   "id": "3b64e093",
   "metadata": {},
   "outputs": [],
   "source": [
    "search=driver.find_element(By.XPATH,'//*[@id=\"repo-content-pjax-container\"]/div/div/div[3]/div[2]/div/div[4]/div/div/a')\n",
    "search.click()"
   ]
  },
  {
   "cell_type": "code",
   "execution_count": 562,
   "id": "1c44bbba",
   "metadata": {},
   "outputs": [
    {
     "name": "stdout",
     "output_type": "stream",
     "text": [
      "17\n",
      "['Zusier', 'Xyueta', 'SyrmGIT', 'he3als', 'PencilNavigator', 'JayXTQ', 'uncognic', 'CYNAR2k', 'magisk317', 'spddl', 'arl1nef', 'amitxv', 'Zxce3', 'peasoft', 'tomgrice', 'InfamouslyJaded', 'AnhNguyenlost13']\n"
     ]
    }
   ],
   "source": [
    "c23=[]\n",
    "c_tag23=driver.find_elements(By.XPATH,'//a[@class=\"text-normal\"]')\n",
    "for i in c_tag23:\n",
    "    c23.append(i.text)\n",
    "    \n",
    "print(len(c23))\n",
    "print(c23)"
   ]
  },
  {
   "cell_type": "code",
   "execution_count": 563,
   "id": "8c7aeec9",
   "metadata": {},
   "outputs": [],
   "source": [
    "search=driver.find_element(By.XPATH,'/html/body/div[1]/div[4]/main/div[3]/div/div[2]/article[24]/h1/a')\n",
    "search.click()"
   ]
  },
  {
   "cell_type": "code",
   "execution_count": 564,
   "id": "a0e098b5",
   "metadata": {},
   "outputs": [],
   "source": [
    "search=driver.find_element(By.XPATH,'//*[@id=\"repo-content-pjax-container\"]/div/div/div[3]/div[2]/div/div[5]/div/h2/a')\n",
    "search.click()"
   ]
  },
  {
   "cell_type": "code",
   "execution_count": 565,
   "id": "d38dde21",
   "metadata": {},
   "outputs": [
    {
     "name": "stdout",
     "output_type": "stream",
     "text": [
      "8\n",
      "['SheerSt', 'Liminalia', 'leCharade', 'MayaSeii', 'Nick-McKay', 'ITWinVis', 'ForeverBurning', 'Mixone-FinallyHere']\n"
     ]
    }
   ],
   "source": [
    "c24=[]\n",
    "c_tag24=driver.find_elements(By.XPATH,'//a[@class=\"text-normal\"]')\n",
    "for i in c_tag24:\n",
    "    c24.append(i.text)\n",
    "    \n",
    "print(len(c24))\n",
    "print(c24)"
   ]
  },
  {
   "cell_type": "code",
   "execution_count": 567,
   "id": "6474126e",
   "metadata": {},
   "outputs": [],
   "source": [
    "search=driver.find_element(By.XPATH,'/html/body/div[1]/div[4]/main/div[3]/div/div[2]/article[25]/h1/a')\n",
    "search.click()"
   ]
  },
  {
   "cell_type": "code",
   "execution_count": 568,
   "id": "72caf48a",
   "metadata": {},
   "outputs": [],
   "source": [
    "search=driver.find_element(By.XPATH,'//*[@id=\"repo-content-pjax-container\"]/div/div/div[3]/div[2]/div/div[6]/div/div/a')\n",
    "search.click()"
   ]
  },
  {
   "cell_type": "code",
   "execution_count": 569,
   "id": "cdc4a102",
   "metadata": {},
   "outputs": [
    {
     "name": "stdout",
     "output_type": "stream",
     "text": [
      "100\n",
      "['jwasham', 'Anri-Lombard', 'esaucedof', 'avizmarlon', 'aleen42', 'hexatester', 'DimoDimchev', 'Ilyushin', 'volpoh', 'vsay01', 'joonas-yoon', 'letientai299', 'saurabh-mhaisekar', 'dossorio', 'imran110219', 'kiwib0y', 'sqrthree', 'mbiesiad', 'askeroff', 'marceloogeda', 'Carmezim', 'kgnblg', 'PandaJules', 'wilkoklak', 'santosomichael', 'rvlewerissa', 'SaptarshiSarkar12', 'dangkhoasdc', 'gjzim', 'amoraitis', 'Hanney-Ryu', 'zaienaji', 'Kapil-chn7', 'ali-tamim', 'YangFong', 'IvanReznikov', 'flyotlin', 'hezhizhen', 'mikhailusov', 'd1mnewz', 'daveleee', 'aporiadin', 'colin-mccormack', 'dsachin', 'Chehaco', 'AungMyoKyaw', 'moonik', 'kindraywind', 'dikiaap', 'amoulkaf', 'kapyshin', 'dapp1990', 'ladrift', 'msambol', 'sharmaachintya08', 'mohitchakraverty', 'michelececcacci', 'ibrahimhasnat', 'develhopper', 'luciferchase', 'HicaroD', 'SRX9', 'Kamalc', 'Himanshu-77', 'anchung333', 'toneloc', 'kathu', 'OhIAmFine', 'AyaAzzam', 'brunoguic', 'armandfardeau', 'donnemartin', 'jarvisluong', 'laris151', 'duytruong', 'IanBoyanZhang', 'albertux', 'Glowin', 'Newt0n', 'akashgiricse', 'rimonmostafiz', 'phondanai', 'tahsinrahman', 'BBloggsbott', 'hienvd', 'atultherajput', 'redmou', 'yakupad', 'iphayao', 'varunu28', 'thovo', 'spartzames', 'daegwang', 'fahminlb33', 'vulcoes', 'embdur', 'sjaramillo10', 'antonkapyshin', 'YanaBe', 'Kiricon']\n"
     ]
    }
   ],
   "source": [
    "c25=[]\n",
    "c_tag25=driver.find_elements(By.XPATH,'//a[@class=\"text-normal\"]')\n",
    "for i in c_tag25:\n",
    "    c25.append(i.text)\n",
    "    \n",
    "print(len(c25))\n",
    "print(c25)"
   ]
  },
  {
   "cell_type": "code",
   "execution_count": 571,
   "id": "ad69f378",
   "metadata": {},
   "outputs": [
    {
     "name": "stdout",
     "output_type": "stream",
     "text": [
      "25\n",
      "[['yk', 'andreaskoepf', 'fozziethebeat', 'AlexanderHOtt', 'martinnormark', 'BirgerMoell', 'mjagkow', 'AbdBarho', 'rsandb', 'LucianPetri', 'k-nearest-neighbor', 'i-like-apis', 'palp', 'othrayte', 'alexandrelefourner', 'sryu1', 'jojopirker', 'croumegous', 'kiritowu', 'Jac-Zac', 'seyfeddinenecib', 'ss18', 'poipiii', 'TwoDukes', 'SzymonOzog', 'GraemeHarris', 'MohamedAliRashad', 'AAYUSH-droid', 'villelahdenvuo', 'Vechtomov', 'Graverman-dev', 'kostiak', 'koustubhavachat', 'billray0259', 'christophschuhmann'], ['karpathy Andrej', 'ankandrew'], ['sczhou Shangchen Zhou', 'JohanAR Johan', 'chenxwh Chenxi'], ['skotopes', 'xMasterX', 'Eng1n33r', 'glitchcore', 'DrZlo13', 'gornekich', 'Skorpionm', 'nminaylov', 'hedger', 'derskythe', 'itsyourbedtime', 'aprosvetova', 'gsurkov', 'aku-plooks', 'zhovner', 'rusdacent', 'albkharisov', 'darmiel', 'TQMatvey', 'Astrrra', 'drunkbatya', 'Disasm', 'bettse', 'UberGuidoZ', 'GMMan', 'mvanzanten', 'Karator', 'amec0e', 'doomwastaken', 'mauimauer', 'lomalkin', 'jaroslavmraz', 'Shmuma', 'LionZXY', 'djsime1', 'kevinwallace', 'okalachev', 'aquam1ne', 'hp197', 'quen0n', 'RogueMaster', 'SamuelYvon', 'tonyfreeman', 'gid9798', 'kowalski7cc', 'digitalcircuit', 'krolchonok', 'msvsergey', 'an4tur0r', 'askoriy', 'ESurge', 'enovella', 'wdoekes', 'SnowLeopard71', 'MuddledBox', 'shevv', 'alexanderkulagin', 'Kavitate', 'ZoeMeetAgain', 'huuck', 'airs0urce', 'valentinegb', 'Tobirg', 'skelq', 'lucemans', 'rf-bandit', 'samuel', 'br0ziliy', 'wh00hw', 'ahumeniy', 'antimatter15', 'ankris812', 'pcunning', 'spherebread', 'DrEverr', 'ghettorce', 'dva', 'OlegSchwann', 'DanielSolmann', 'nikita-b', 'ktemkin', 'stash', 'fmarier', '1mckenna', 'leeroywking', 'JackDoan', 'agathakazar', 'otanim', 'jogloran', 'v0s', 'fominykhandrei', 'improving-rigmarole', 'DanyaE', 'DF-wu', 'pkulev', 'youlovesaturn', 'nemanjan00', 'mcheshkov', 'yiiii777', 'neshkeev'], ['dstftw', 'phihag', 'remitamine', 'jaimeMF', 'rg3', 'FiloSottile', 'dirkf', 'pulpe', 'Tithen-Firion', 'gcmalloc', 'yasoob', 'atomicdryad', 'TRox1972', 'iemejia', 'goggle', 'rrooij', 'johnhawkinson', 'rzhxeo', 'Rudloff', 'parmjitv', 'lalinsky', 'MikeCol', 'gebn', 'jwilk', 'jeffcrouse', 'Dineshs91', 'pmrowla', 'sprhawk', 'slava-sh', 'blissland', 'gfabiano', 'adrianheine', 'WillSewell', 'fstirlitz', 'sudovijay', 'PeterDing', 'bastik', 'patrickslin', 'ealgase', 'aajanki', 'kasper93', 'JChris246', 'Boris-de', 'nixxo', 'timendum', 'xanadu', 'gvalkov', 'pukkandan', 'tobidope', 'arkamar', 'sahutd', 't0mm0', 'Tatsh', 'steebchen', 'ping', 'Celthi', 'Phaeilo', 'wader', 'ngld', 'chrisjrn', 'einstein95', 'jbuchbinder', 'AGSPhoenix', 'oskar456', 'ThomasChr', 'reiv', 'adammw', 'georgjaehnig', 'pishposhmcgee', 'snipem', '0xallie', 'misterhat', 'akretz', 'mc2avr', 'Huarong', 'bit', 'kikuyan', 'olebowle', 'thesues', 'mrfade', 'michael-k', 'mnem', 'AndroKev', 'jtwaleson', 'mtp1376', 'hojel', 'smed79', 'Kagami', 'heyitsxavier', 'che0', 'windom', 'kayb94', 'terminalmage', 'imrehg', 'xyb', 'iamleot', 'Lesmiscore', 'B0pol', 'renalid'], ['another-rex', 'oliverchang', 'G-Rath', 'iurisilvio', 'renovate-bot', 'myersg86', 'chenrui333', 'stevehipwell', 'hi-artem', 'helmutkemper', 'abhisek', 'cpanato', 'jwillker', 'kevin-vargas', 'OliverNocon'], ['ritchie46', 'stinodego', 'zundertj', 'alexander-beedie', 'ghuls', 'universalmind303', 'matteosantama', 'Dandandan', 'ibENPC', 'jorgecarleitao', 'cjermain', 'marcvanheerden', 'ryanrussell', 'cnpryer', 'thatlittleboy', 'illumination-k', 'marioloko', 'moritzwilksch', 'mhconradt', 'braaannigan', 'YuRiTan', 'elbaro', 'nickray', 'adamgreg', 'paq', 'dandxy89', 'olivier-lacroix', 'chitralverma', 'dannyvankooten', 'slonik-az', 'owrior', 'nmandery', 'rkarp', 'OneRaynyDay', 'messense', 'sorhawell', 'fsimkovic', 'joshuataylor', 'CloseChoice', 'romanovacca', 'MarcoGorelli', 'jjerphan', 'thomasaarholt', 'hpux735', 'physinet', 'gaoxinge', 'TheDan64', 'Maxyme', 'elferherrera', 'potter420', 'JakobGM', 'markfairbanks', 'wseaton', 'AnatolyBuga', 'winding-lines', 'cannero', 'ozgrakkurt', 'andrewpollack', 'CalOmnie', 'isaacthefallenapple', 'gyscos', 'glennpierce', 'ishmandoo', 'atouchet', 'zirconium-n', 'FlorianWilhelm', 'ErikDeSmedt', 'Spirans', 'mariushelf', 'khamutov', 'LuisCardosoOliveira', 'tamasfe', 'qiemem', 'sephiron99', 'ilsley', 'aneeshnema', 'Brooooooklyn', 'dbr', 'jay-johnson', 'veinkr', 'simonw', 'XeCycle', 'pradkrish', '1aguna', 'bluss', 'Tiramisu27', 'carnarez', 'tiphaineruy', 'mahadeveaswar', 'mark-a', 'fwani', 'jmrgibson', 'thanhtm1', 'H-M-H', 'muyixi315', 'dsaxton', 'paauw', 'Posnet', 'Niederb', 'lwiklendt'], ['neonbjb', 'jnordberg', 'osanseviero', 'MarcusLlewellyn', 'casonclagg', 'mogwai', 'space-pope', 'jaimu97', 'wavymulder', 'faad3', 'e0xextazy'], ['Developer-Y', 'DateBro', 'LameLemon', 'Alaharon123', 'inf3cti0n95', 'mundher', 'bivashpandey', 'bhuthesh', 'solomonbstoner', 'Suraj7879', 'tentena', 'spekulatius', 'FabienTregan', 'Sushants-Git', 'm4salah', 'BemwaMalak', 'ayushpandey830', 'richwill28', 'ei-blue', 'soum-c', 'BikramHalder', 'JVKdouk', 'trisolaris233', 'jeffheaton', 'sashedher', 'aleichtm', 'Atcold', 'IureRosa', 'ProgrammingPete', '0xsomnus', 'paulosalvatore', 'awxiaoxian2020', 'jeffin07', 'norswap', 'Chirag-Bansal', 'tejasurya', 'elarabyelaidy19', 'hrithik254', 'rishabhb-git', 'GianAndreaSechi', 'hxt365', 'floe', 'tientaidev', 'JZZQuant', 'sootysec', 'shreyasdeotare', 'XeroHero', 'cage433', 'wcrasta', 'hridaydutta123', 'laithshadeed', 'domsupamoe', 'eternalfool', 'wp-lai', 'taylorty', 'xtangle', 'lamberta', 'ShashankP19', 'miangraham', 'Ghost93', 'naeemshaikh90', 'gusnaughton', 'danielrbradley', 'asivokon', 'mterwill', 'bbhart', 'guybrush', 'alebcay', 'pvcraven', 'emperor-jimmu', 'nishanths', 'krnets', 'mperreux', 'P7h'], ['omarsar', 'mihail911', 'dominiksipowicz'], ['AllContributors', ''], ['ocornut', 'rokups', 'thedmd', 'bkaradzic', 'ShironekoBen', 'Xipiryon', 'septag', 'podsvirov', 'waywardmonkeys', 'ParticlePeter', 'Loftilus', 'martty', 'eliasdaler', 'samhocevar', 'Clownacy', 'bfierz', 'bear24rw', 'andrewwillmott', 'elect86', 'jtilander', 'PathogenDavid', 'warrenm', 'stuartcarnie', 'fr500', 'nlguillemot', 'emoon', 'memononen', 'ybunyak', 'Espyo', 'tocic', 'iboB', 'xndcn', 'kudaba', 'nicolasnoble', 'wolfpld', 'dougbinks', 'DomGries', 'luk1337', 'dos1', 'haldean', 'ice1000', 'ndandoulakis', 'jawilkins', 'jdm3', 'nem0', 'kylawl', 'gzito', 'DanielGibson', 'joeld42', 'adamdmoss', 'NeilBickford-NV', 'TheMostDiligent', 'Teselka', 'cfillion', 'luigifcruz', 'JJCUBER', 'rsousacode', 'sergeyn', 'liuliu', 'actboy168', 'cdwfs', 'funchal', 'duddel', 'lethal-guitar', 'FunMiles', 'CookiePLMonster', 'DonKult', 'NeroBurner', 'matt77hias', 'cranflavin', 'franciscod', 'codecat', 'nProtect', 'Gargaj', 'benvanik', 'thevaber', 'jadwallis', 'TinyTinni', 'SaschaWillems', 'jslee02', 'madeso', 'michaelbartnett', 'sergof', 'kellygravelyn', 'DMartinek', 'JuJuBoSc', 'tpoechtrager', 'twoscomplement', 'paperManu', 'mmozeiko', 'olivierchatry', 'orbitcowboy', 'mhristov', 'jsimmons', 'biller23', 'usagi', 'JarrettBillingsley', 'FL1NE', 'xythobuz', 'corpsmoderne'], ['AmruthPillai', 'gianantoniopini', 'dependabot[bot]', 'opchaves', 'chandiwalaaadhar', 'tryallthethings', 'GovindKrishnan', 'dependabot-preview[bot]', 'driesvandamme', 'ravindra3003', 'MeisterLLD', 'modem7', 'lpmi-13', 'SHENG-X', 'PhuNH', 'klejejs', 'faturachmanyusup', 'ImgBotApp', 'rpolley', 'hwang381', 'stonespheres', 'kmkhant', 'arefathi', 'zzarc', 'adamantike', 'HristovCodes', 'mberlinger3', 'm4rcs', 'NatProView', 'yonihod', 'Jack-Kingdom', 'GETandSELECT', 'RobbeVanslambrouck', 'sashokbg', 'dnltsk', 'SSHSRN', 'Rohanfizz', 'AymaneBoukrouh', 'kgotso', 'm-GDEV', 'Leopere', 'Mhnramin', 'Tomiiwa', 'augustocardoso07', 'schklom', 'apat183', 'mupsys', 'hpierre74', 'preetamm', 'kescherCode', 'theoctober19th', 'ntotao', 'ceoshikhar', 'p-8-z', 'majumin', 'lordkyuusei', 'mlow', 'ConorSheehan1', '4O4', 'bddvlpr', 'pmsoltani', 'mrjelveh', 'enzo-g', 'PostIt59', 'robert-w-gries', 'thjiang', 'kbravh', 'RijulGulati', 'crazyuploader', 'a-thug', 'RiderExMachina', 'iyo-bemoore', 'prateek-parashar', 'felcg', 'bryannsi', 'kafiln', 'anajuliabit', 'SuperSandro2000', 'hatemhosny', 'darcien', 'pmop', 'Panzki', 'viktorrudi'], ['max-sixty', 'aljazerzen', 'pre-commit-ci[bot]', 'dependabot[bot]', 'mklopets', 'richb-hanover', 'charlie-sanders', 'kiibo382', 'roG0d', 'kwigley', 'arrizalamin', 'github-actions[bot]', 'MarinPostma', 'doki23', 'iafisher', 'Shuozeli', 'eitsupi', 'snth', 'bcho', 'allurefx', 'boramalper', 'EArazli', 'aj-bagwell', 'kianmeng', 'sigxcpu76', 'sebastiantoh', 'roldugin', 'Jaspooky', 'ryanrussell', 'StevenMaude', 'rbpatt2019', 'danjones1618', 'pbsds', 'andreypopp', 'gasi'], ['RedTeam-Tools'], ['jerryjliu', 'teoh', 'gwpx', 'cnrpman', 'pavanyellow', 'hongyishi'], [''], ['krisnova', 'future-highway', 'dmah42', 'taniwha3', 'megamorf', 'neoeinstein', 'fdr10', 'arjunrbery', 'BrianSakhai', 'coopernetes', 'matthiask', 'prattmic', 'theaeonsolution', 'flostadler', 'matttproud', 'bitbonk', 'edude03', 'taliamax', 'andreek', 'RECturtle', 'halorgium', 'MalteJ', 'Vincinator', 'tylerauerbeck'], ['zu1k', 'Wybxc', 'yihong0618', 'xxchan', 'mscaruf', 'baptiste313', 'dp0d', 'LufsX', 'n0vad3v'], ['BrunoLevy', 'whatnick', 'Mecrisp', 'bjepson', 'Grazfather', 'vazhnov', 'yathAg', 'trabucayre', 'lnussbaum', 'wuxx', 'badlydrawnrod'], ['Xhofe', 'foxxorcat', 'BoYanZh', 'allcontributors[bot]', 'renovate[bot]', 'Code2qing', 'naicfeng', 'SheltonZhu', 'itsHenry35', 'ovear', 'user1121114685', 'LittleJake', 'DDS-ALL', 'DDSRem', 'EzraRT', 'cloudswave', 'baysonfox', 'AkashiCoin', 'CN-traveler', 'sihuan', 'simon-ding', 'koho', 'xfoxfu', 'itswcg', 'ysicing', 'hdm9527', 'XZB-1248', 'WntFlm', 'Windman1320'], ['sahat', 'raisedadead', 'renovate-bot', 'camperbot', 'ojeytonwilliams', 'renovate[bot]', 'Bouncey', 'terakilobyte', 'naomi-lgbt', 'dependabot[bot]', 'RandellDawson', 'ahmadabdolsaheb', 'moT01', 'benmcmahon100', 'erictleung', 'abhisekp', 'scissorsneedfoodtoo', 'ValeraS', 'SaintPeter', 'Sboonny', 'ltegman', 'BerkeleyTrue', 'ShaunSHamilton', 'Manish-Giri', 'thecodingaviator', 'bugron', 'gikf', 'dhcodes', 'greenkeeperio-bot', 'ieahleen', 'Greenheart', 'Sembauke', 'AryanJ-NYC', 'vtamara', 'huyenltnguyen', 'greggubarev', 'BKinahan', 'QuincyLarson', 'Nirajn2311', 'sidemt', 'lasjorg', 'justinian336', 'beaucarnes', 'no-stack-dub-sack', 'systimotic', 'jonathan-grah', 'alvinkl', 'bbsmooth', 'iamrajiv', 'CleoAguiar', 'natac13', 'alistermada', 'ZhichengChen', 'darthmeme', 'BTmathic', 'dokkillo', 'jeremylt', 'NitronR', 'patsul12', 'ezioda004', 'arku', 'HKuz', 'DDaems', 'JoolsMcFly', 'AshNaz87', 'issyl0', 'TyMick', 'jbmartinez', 'cmccormack', 'elcodex', 'joel-bentley', 'alanbares', 'vkWeb', 'JosephLivengood', 'awu43', 'lipis', 'sahilkhurana19', 'MGenteluci', 'MiloATH', 'hassaanp', 'joseteIIo', 'brandenbyers', 'Vimal-Raghubir', 'nayabatir1', 'Twaha-Rahman', 'thecaffeinedev', 'Em-Ant', 'SudhakarKuma', 'alexch', 'aditijoshi14', 'joshalling', 'gforce2k5', 'aldraco', 'miyaliu666', 'brenoxav', 'GeneralZero', 'raditotev', 'z0x0936', 'aulisius', 'Dario-DC'], ['Zusier', 'Xyueta', 'SyrmGIT', 'he3als', 'PencilNavigator', 'JayXTQ', 'uncognic', 'CYNAR2k', 'magisk317', 'spddl', 'arl1nef', 'amitxv', 'Zxce3', 'peasoft', 'tomgrice', 'InfamouslyJaded', 'AnhNguyenlost13'], ['SheerSt', 'Liminalia', 'leCharade', 'MayaSeii', 'Nick-McKay', 'ITWinVis', 'ForeverBurning', 'Mixone-FinallyHere'], ['jwasham', 'Anri-Lombard', 'esaucedof', 'avizmarlon', 'aleen42', 'hexatester', 'DimoDimchev', 'Ilyushin', 'volpoh', 'vsay01', 'joonas-yoon', 'letientai299', 'saurabh-mhaisekar', 'dossorio', 'imran110219', 'kiwib0y', 'sqrthree', 'mbiesiad', 'askeroff', 'marceloogeda', 'Carmezim', 'kgnblg', 'PandaJules', 'wilkoklak', 'santosomichael', 'rvlewerissa', 'SaptarshiSarkar12', 'dangkhoasdc', 'gjzim', 'amoraitis', 'Hanney-Ryu', 'zaienaji', 'Kapil-chn7', 'ali-tamim', 'YangFong', 'IvanReznikov', 'flyotlin', 'hezhizhen', 'mikhailusov', 'd1mnewz', 'daveleee', 'aporiadin', 'colin-mccormack', 'dsachin', 'Chehaco', 'AungMyoKyaw', 'moonik', 'kindraywind', 'dikiaap', 'amoulkaf', 'kapyshin', 'dapp1990', 'ladrift', 'msambol', 'sharmaachintya08', 'mohitchakraverty', 'michelececcacci', 'ibrahimhasnat', 'develhopper', 'luciferchase', 'HicaroD', 'SRX9', 'Kamalc', 'Himanshu-77', 'anchung333', 'toneloc', 'kathu', 'OhIAmFine', 'AyaAzzam', 'brunoguic', 'armandfardeau', 'donnemartin', 'jarvisluong', 'laris151', 'duytruong', 'IanBoyanZhang', 'albertux', 'Glowin', 'Newt0n', 'akashgiricse', 'rimonmostafiz', 'phondanai', 'tahsinrahman', 'BBloggsbott', 'hienvd', 'atultherajput', 'redmou', 'yakupad', 'iphayao', 'varunu28', 'thovo', 'spartzames', 'daegwang', 'fahminlb33', 'vulcoes', 'embdur', 'sjaramillo10', 'antonkapyshin', 'YanaBe', 'Kiricon']]\n"
     ]
    }
   ],
   "source": [
    "c=[c1,c2,c3,c4,c5,c6,c7,c8,c9,c10,c11,c12,c13,c14,c15,c16,c17,c18,c19,c20,c21,c22,c23,c24,c25]\n",
    "for i in c:\n",
    "    cont_count.append(i)\n",
    "    \n",
    "print(len(cont_count))\n",
    "print(cont_count)"
   ]
  },
  {
   "cell_type": "code",
   "execution_count": 471,
   "id": "fb4cfc9f",
   "metadata": {},
   "outputs": [],
   "source": [
    "title=[]\n",
    "desc=[]\n",
    "cont_count=[]\n",
    "language=[]"
   ]
  },
  {
   "cell_type": "code",
   "execution_count": 572,
   "id": "04ad49c2",
   "metadata": {},
   "outputs": [
    {
     "name": "stdout",
     "output_type": "stream",
     "text": [
      "25 25 25 20\n"
     ]
    }
   ],
   "source": [
    "print(len(title),len(desc),len(cont_count),len(language))"
   ]
  },
  {
   "cell_type": "code",
   "execution_count": 573,
   "id": "03bc4acc",
   "metadata": {},
   "outputs": [
    {
     "data": {
      "text/html": [
       "<div>\n",
       "<style scoped>\n",
       "    .dataframe tbody tr th:only-of-type {\n",
       "        vertical-align: middle;\n",
       "    }\n",
       "\n",
       "    .dataframe tbody tr th {\n",
       "        vertical-align: top;\n",
       "    }\n",
       "\n",
       "    .dataframe thead th {\n",
       "        text-align: right;\n",
       "    }\n",
       "</style>\n",
       "<table border=\"1\" class=\"dataframe\">\n",
       "  <thead>\n",
       "    <tr style=\"text-align: right;\">\n",
       "      <th></th>\n",
       "      <th>REPOSITORY TITLE</th>\n",
       "      <th>REPOSITORY DESCRIPTION</th>\n",
       "      <th>CONTRIBUTORS COUNT</th>\n",
       "      <th>LANGUAGES USED</th>\n",
       "    </tr>\n",
       "  </thead>\n",
       "  <tbody>\n",
       "    <tr>\n",
       "      <th>1</th>\n",
       "      <td>LAION-AI / Open-Assistant</td>\n",
       "      <td>OpenAssistant is a chat-based assistant that u...</td>\n",
       "      <td>[yk, andreaskoepf, fozziethebeat, AlexanderHOt...</td>\n",
       "      <td>Jupyter Notebook</td>\n",
       "    </tr>\n",
       "    <tr>\n",
       "      <th>2</th>\n",
       "      <td>karpathy / nanoGPT</td>\n",
       "      <td>The simplest, fastest repository for training/...</td>\n",
       "      <td>[karpathy Andrej, ankandrew]</td>\n",
       "      <td>Python</td>\n",
       "    </tr>\n",
       "    <tr>\n",
       "      <th>3</th>\n",
       "      <td>sczhou / CodeFormer</td>\n",
       "      <td>[NeurIPS 2022] Towards Robust Blind Face Resto...</td>\n",
       "      <td>[sczhou Shangchen Zhou, JohanAR Johan, chenxwh...</td>\n",
       "      <td>Python</td>\n",
       "    </tr>\n",
       "    <tr>\n",
       "      <th>4</th>\n",
       "      <td>DarkFlippers / unleashed-firmware</td>\n",
       "      <td>Flipper Zero Unleashed Firmware</td>\n",
       "      <td>[skotopes, xMasterX, Eng1n33r, glitchcore, DrZ...</td>\n",
       "      <td>C</td>\n",
       "    </tr>\n",
       "    <tr>\n",
       "      <th>5</th>\n",
       "      <td>ytdl-org / youtube-dl</td>\n",
       "      <td>Command-line program to download videos from Y...</td>\n",
       "      <td>[dstftw, phihag, remitamine, jaimeMF, rg3, Fil...</td>\n",
       "      <td>Python</td>\n",
       "    </tr>\n",
       "    <tr>\n",
       "      <th>6</th>\n",
       "      <td>google / osv-scanner</td>\n",
       "      <td>Vulnerability scanner written in Go which uses...</td>\n",
       "      <td>[another-rex, oliverchang, G-Rath, iurisilvio,...</td>\n",
       "      <td>Go</td>\n",
       "    </tr>\n",
       "    <tr>\n",
       "      <th>7</th>\n",
       "      <td>pola-rs / polars</td>\n",
       "      <td>Fast multi-threaded, hybrid-streaming DataFram...</td>\n",
       "      <td>[ritchie46, stinodego, zundertj, alexander-bee...</td>\n",
       "      <td>Rust</td>\n",
       "    </tr>\n",
       "    <tr>\n",
       "      <th>8</th>\n",
       "      <td>neonbjb / tortoise-tts</td>\n",
       "      <td>A multi-voice TTS system trained with an empha...</td>\n",
       "      <td>[neonbjb, jnordberg, osanseviero, MarcusLlewel...</td>\n",
       "      <td>Python</td>\n",
       "    </tr>\n",
       "    <tr>\n",
       "      <th>9</th>\n",
       "      <td>Developer-Y / cs-video-courses</td>\n",
       "      <td>List of Computer Science courses with video le...</td>\n",
       "      <td>[Developer-Y, DateBro, LameLemon, Alaharon123,...</td>\n",
       "      <td>Python</td>\n",
       "    </tr>\n",
       "    <tr>\n",
       "      <th>10</th>\n",
       "      <td>dair-ai / Prompt-Engineering-Guide</td>\n",
       "      <td>🐙 Guide and resources for prompt engineering</td>\n",
       "      <td>[omarsar, mihail911, dominiksipowicz]</td>\n",
       "      <td>C++</td>\n",
       "    </tr>\n",
       "    <tr>\n",
       "      <th>11</th>\n",
       "      <td>Ebazhanov / linkedin-skill-assessments-quizzes</td>\n",
       "      <td>Full reference of LinkedIn answers 2022 for sk...</td>\n",
       "      <td>[AllContributors, ]</td>\n",
       "      <td>TypeScript</td>\n",
       "    </tr>\n",
       "    <tr>\n",
       "      <th>12</th>\n",
       "      <td>ocornut / imgui</td>\n",
       "      <td>Dear ImGui: Bloat-free Graphical User interfac...</td>\n",
       "      <td>[ocornut, rokups, thedmd, bkaradzic, Shironeko...</td>\n",
       "      <td>Rust</td>\n",
       "    </tr>\n",
       "    <tr>\n",
       "      <th>13</th>\n",
       "      <td>AmruthPillai / Reactive-Resume</td>\n",
       "      <td>A one-of-a-kind resume builder that keeps your...</td>\n",
       "      <td>[AmruthPillai, gianantoniopini, dependabot[bot...</td>\n",
       "      <td>Python</td>\n",
       "    </tr>\n",
       "    <tr>\n",
       "      <th>14</th>\n",
       "      <td>PRQL / prql</td>\n",
       "      <td>PRQL is a modern language for transforming dat...</td>\n",
       "      <td>[max-sixty, aljazerzen, pre-commit-ci[bot], de...</td>\n",
       "      <td>Rust</td>\n",
       "    </tr>\n",
       "    <tr>\n",
       "      <th>15</th>\n",
       "      <td>A-poc / RedTeam-Tools</td>\n",
       "      <td>Tools and Techniques for Red Team / Penetratio...</td>\n",
       "      <td>[RedTeam-Tools]</td>\n",
       "      <td>TypeScript</td>\n",
       "    </tr>\n",
       "    <tr>\n",
       "      <th>16</th>\n",
       "      <td>jerryjliu / gpt_index</td>\n",
       "      <td>An index created by GPT to organize external i...</td>\n",
       "      <td>[jerryjliu, teoh, gwpx, cnrpman, pavanyellow, ...</td>\n",
       "      <td>C++</td>\n",
       "    </tr>\n",
       "    <tr>\n",
       "      <th>17</th>\n",
       "      <td>imDazui / Tvlist-awesome-m3u-m3u8</td>\n",
       "      <td>直播源相关资源汇总 📺 💯 IPTV、M3U —— 勤洗手、戴口罩，祝愿所有人百毒不侵</td>\n",
       "      <td>[]</td>\n",
       "      <td>Go</td>\n",
       "    </tr>\n",
       "    <tr>\n",
       "      <th>18</th>\n",
       "      <td>aurae-runtime / aurae</td>\n",
       "      <td>Distributed systems runtime daemon written in ...</td>\n",
       "      <td>[krisnova, future-highway, dmah42, taniwha3, m...</td>\n",
       "      <td>TypeScript</td>\n",
       "    </tr>\n",
       "    <tr>\n",
       "      <th>19</th>\n",
       "      <td>zlib-searcher / zlib-searcher</td>\n",
       "      <td>search zlib/libgen index to get ipfs_cid.</td>\n",
       "      <td>[zu1k, Wybxc, yihong0618, xxchan, mscaruf, bap...</td>\n",
       "      <td>Batchfile</td>\n",
       "    </tr>\n",
       "    <tr>\n",
       "      <th>20</th>\n",
       "      <td>BrunoLevy / learn-fpga</td>\n",
       "      <td>Learning FPGA, yosys, nextpnr, and RISC-V</td>\n",
       "      <td>[BrunoLevy, whatnick, Mecrisp, bjepson, Grazfa...</td>\n",
       "      <td>Assembly</td>\n",
       "    </tr>\n",
       "  </tbody>\n",
       "</table>\n",
       "</div>"
      ],
      "text/plain": [
       "                                  REPOSITORY TITLE  \\\n",
       "1                        LAION-AI / Open-Assistant   \n",
       "2                               karpathy / nanoGPT   \n",
       "3                              sczhou / CodeFormer   \n",
       "4                DarkFlippers / unleashed-firmware   \n",
       "5                            ytdl-org / youtube-dl   \n",
       "6                             google / osv-scanner   \n",
       "7                                 pola-rs / polars   \n",
       "8                           neonbjb / tortoise-tts   \n",
       "9                   Developer-Y / cs-video-courses   \n",
       "10              dair-ai / Prompt-Engineering-Guide   \n",
       "11  Ebazhanov / linkedin-skill-assessments-quizzes   \n",
       "12                                 ocornut / imgui   \n",
       "13                  AmruthPillai / Reactive-Resume   \n",
       "14                                     PRQL / prql   \n",
       "15                           A-poc / RedTeam-Tools   \n",
       "16                           jerryjliu / gpt_index   \n",
       "17               imDazui / Tvlist-awesome-m3u-m3u8   \n",
       "18                           aurae-runtime / aurae   \n",
       "19                   zlib-searcher / zlib-searcher   \n",
       "20                          BrunoLevy / learn-fpga   \n",
       "\n",
       "                               REPOSITORY DESCRIPTION  \\\n",
       "1   OpenAssistant is a chat-based assistant that u...   \n",
       "2   The simplest, fastest repository for training/...   \n",
       "3   [NeurIPS 2022] Towards Robust Blind Face Resto...   \n",
       "4                     Flipper Zero Unleashed Firmware   \n",
       "5   Command-line program to download videos from Y...   \n",
       "6   Vulnerability scanner written in Go which uses...   \n",
       "7   Fast multi-threaded, hybrid-streaming DataFram...   \n",
       "8   A multi-voice TTS system trained with an empha...   \n",
       "9   List of Computer Science courses with video le...   \n",
       "10       🐙 Guide and resources for prompt engineering   \n",
       "11  Full reference of LinkedIn answers 2022 for sk...   \n",
       "12  Dear ImGui: Bloat-free Graphical User interfac...   \n",
       "13  A one-of-a-kind resume builder that keeps your...   \n",
       "14  PRQL is a modern language for transforming dat...   \n",
       "15  Tools and Techniques for Red Team / Penetratio...   \n",
       "16  An index created by GPT to organize external i...   \n",
       "17        直播源相关资源汇总 📺 💯 IPTV、M3U —— 勤洗手、戴口罩，祝愿所有人百毒不侵   \n",
       "18  Distributed systems runtime daemon written in ...   \n",
       "19          search zlib/libgen index to get ipfs_cid.   \n",
       "20          Learning FPGA, yosys, nextpnr, and RISC-V   \n",
       "\n",
       "                                   CONTRIBUTORS COUNT    LANGUAGES USED  \n",
       "1   [yk, andreaskoepf, fozziethebeat, AlexanderHOt...  Jupyter Notebook  \n",
       "2                        [karpathy Andrej, ankandrew]            Python  \n",
       "3   [sczhou Shangchen Zhou, JohanAR Johan, chenxwh...            Python  \n",
       "4   [skotopes, xMasterX, Eng1n33r, glitchcore, DrZ...                 C  \n",
       "5   [dstftw, phihag, remitamine, jaimeMF, rg3, Fil...            Python  \n",
       "6   [another-rex, oliverchang, G-Rath, iurisilvio,...                Go  \n",
       "7   [ritchie46, stinodego, zundertj, alexander-bee...              Rust  \n",
       "8   [neonbjb, jnordberg, osanseviero, MarcusLlewel...            Python  \n",
       "9   [Developer-Y, DateBro, LameLemon, Alaharon123,...            Python  \n",
       "10              [omarsar, mihail911, dominiksipowicz]               C++  \n",
       "11                                [AllContributors, ]        TypeScript  \n",
       "12  [ocornut, rokups, thedmd, bkaradzic, Shironeko...              Rust  \n",
       "13  [AmruthPillai, gianantoniopini, dependabot[bot...            Python  \n",
       "14  [max-sixty, aljazerzen, pre-commit-ci[bot], de...              Rust  \n",
       "15                                    [RedTeam-Tools]        TypeScript  \n",
       "16  [jerryjliu, teoh, gwpx, cnrpman, pavanyellow, ...               C++  \n",
       "17                                                 []                Go  \n",
       "18  [krisnova, future-highway, dmah42, taniwha3, m...        TypeScript  \n",
       "19  [zu1k, Wybxc, yihong0618, xxchan, mscaruf, bap...         Batchfile  \n",
       "20  [BrunoLevy, whatnick, Mecrisp, bjepson, Grazfa...          Assembly  "
      ]
     },
     "execution_count": 573,
     "metadata": {},
     "output_type": "execute_result"
    }
   ],
   "source": [
    "df=pd.DataFrame(data={'REPOSITORY TITLE':title[0:20],'REPOSITORY DESCRIPTION':desc[0:20],'CONTRIBUTORS COUNT':cont_count[0:20],'LANGUAGES USED':language},index=range(1,21))\n",
    "df"
   ]
  },
  {
   "cell_type": "code",
   "execution_count": 574,
   "id": "401ffeae",
   "metadata": {},
   "outputs": [],
   "source": [
    "driver.close()"
   ]
  },
  {
   "cell_type": "code",
   "execution_count": null,
   "id": "e6943255",
   "metadata": {},
   "outputs": [],
   "source": []
  }
 ],
 "metadata": {
  "kernelspec": {
   "display_name": "Python 3 (ipykernel)",
   "language": "python",
   "name": "python3"
  },
  "language_info": {
   "codemirror_mode": {
    "name": "ipython",
    "version": 3
   },
   "file_extension": ".py",
   "mimetype": "text/x-python",
   "name": "python",
   "nbconvert_exporter": "python",
   "pygments_lexer": "ipython3",
   "version": "3.9.12"
  }
 },
 "nbformat": 4,
 "nbformat_minor": 5
}
